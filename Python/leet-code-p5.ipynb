{
 "cells": [
  {
   "cell_type": "code",
   "execution_count": 67,
   "metadata": {},
   "outputs": [],
   "source": [
    "import numpy as np\n",
    "from collections import deque, defaultdict"
   ]
  },
  {
   "cell_type": "code",
   "execution_count": 68,
   "metadata": {},
   "outputs": [
    {
     "name": "stdout",
     "output_type": "stream",
     "text": [
      "vdadu\n"
     ]
    }
   ],
   "source": [
    "x = \"      Xin chào các bạn, tên tôi là     Đạt     \"\n",
    "# return x without any comma or dot\n",
    "# Create random text\n",
    "list(map(lambda x:x.strip(\",.\"),x.split()))\n",
    "k = lambda x:x.strip(\",.\")\n",
    "print(k(\",vdadu..,\"))"
   ]
  },
  {
   "cell_type": "code",
   "execution_count": 69,
   "metadata": {},
   "outputs": [
    {
     "name": "stdout",
     "output_type": "stream",
     "text": [
      "44\n"
     ]
    }
   ],
   "source": [
    "a = int(input())\n",
    "b = int(input())\n",
    "print(a+b)"
   ]
  },
  {
   "attachments": {},
   "cell_type": "markdown",
   "metadata": {},
   "source": [
    "# Generate text "
   ]
  },
  {
   "cell_type": "code",
   "execution_count": 70,
   "metadata": {},
   "outputs": [],
   "source": [
    "# gerate random text, consisting only of letters, and spaces, and save each test case to a file .txt in Desktop\n",
    "# for i in range(100):\n",
    "#     text = \"\".join(np.random.choice(list(\" abcdefghijklmnopqrstuvwxyz\"),size = 1000,p=[0.5]+[0.5/26]*26))\n",
    "#     with open(fr\"C:\\Users\\nguye\\Downloads\\teststring\\test{i}.txt\",\"w\") as f:\n",
    "#         f.write(text)\n"
   ]
  },
  {
   "cell_type": "code",
   "execution_count": 72,
   "metadata": {},
   "outputs": [
    {
     "name": "stdout",
     "output_type": "stream",
     "text": [
      "0b1100110011000101\n"
     ]
    }
   ],
   "source": [
    "a = 52421\n",
    "# binary = lambda x: bin(x)[2:].zfill(8)\n",
    "# a = binary(a)\n",
    "print(bin(a))\n",
    "s = set()\n",
    "\n",
    "# snippet comment in python"
   ]
  },
  {
   "cell_type": "code",
   "execution_count": 73,
   "metadata": {},
   "outputs": [
    {
     "name": "stdout",
     "output_type": "stream",
     "text": [
      "2627031339008\n",
      "2627031339008\n",
      "2627031339008\n",
      "[1, 2, 3, 'Hello']\n"
     ]
    }
   ],
   "source": [
    "def eggs(someParameter):\n",
    "    print(id(someParameter))\n",
    "    someParameter.append('Hello')\n",
    "\n",
    "spam = [1, 2, 3]\n",
    "print(id(spam))\n",
    "eggs(spam)\n",
    "print(id(spam))\n",
    "print(spam)"
   ]
  },
  {
   "cell_type": "code",
   "execution_count": 74,
   "metadata": {},
   "outputs": [
    {
     "name": "stdout",
     "output_type": "stream",
     "text": [
      "apples, bananas, tofu, and cats\n"
     ]
    }
   ],
   "source": [
    "spam = ['apples', 'bananas', 'tofu', 'cats']\n",
    "st = \", \".join(spam)\n",
    "st = st.replace(spam[-1], \"and \" + spam[-1])\n",
    "print(st)"
   ]
  },
  {
   "cell_type": "code",
   "execution_count": 75,
   "metadata": {},
   "outputs": [],
   "source": [
    "import re\n",
    "s = \"Hello, my name is Dat. I am 20 years old. I am a student. I am living in Hanoi. I am studying at Hanoi University of Science and Technology\"\n",
    "# s = re.search(r\"Hello, my name is (\\w+). I am (\\d+) years old. I am a (\\w+). I am living in (\\w+). I am studying at (\\w+)\",s)\n",
    "# print(s.group())\n",
    "# regex for strong password\n",
    "# 1. at least 8 characters long\n",
    "# 2. contain both uppercase and lowercase characters\n",
    "# 3. have at least one digit\n",
    "# 4. have at least one symbol\n",
    "# 5. have at least one letter\n",
    "passRegex = re.compile(r'''(\n",
    "    ^(?=.*[A-Z].*[A-Z])                # at least two capital letters\n",
    "    (?=.*[!@#$&*])                     # at least one of these special characters\n",
    "    (?=.*[0-9].*[0-9])                 # at least two numeric digits\n",
    "    (?=.*[a-z].*[a-z].*[a-z])          # at least three lower case letters\n",
    "    .{8,}                              # at least 8 total digits\n",
    "    $\n",
    "    )''', re.VERBOSE)\n",
    "s = passRegex.search(\"Dat1234@\")"
   ]
  },
  {
   "cell_type": "code",
   "execution_count": 76,
   "metadata": {},
   "outputs": [
    {
     "name": "stdout",
     "output_type": "stream",
     "text": [
      "['442-555-1234', '123-555-1234', '123-555-8888', '123-555-5678']\n"
     ]
    }
   ],
   "source": [
    "s = '''\n",
    "Danh sách các số điện thoại của các bạn trong lớp:\n",
    "1. 442-555-1234\n",
    "2. 123-555-1234\n",
    "3. 123-555-8888\n",
    "4. 123-555-5678\n",
    "'''\n",
    "# regex for phone number\n",
    "phoneRegex = re.compile(r'''(\n",
    "    \\d{3}-        # area code          \n",
    "    \\d{3}-        # first 3 digits      \n",
    "    \\d{4}         # last 4 digits\n",
    "    )''', re.VERBOSE)\n",
    "s = phoneRegex.findall(s)\n",
    "print(s)"
   ]
  },
  {
   "cell_type": "code",
   "execution_count": 77,
   "metadata": {},
   "outputs": [
    {
     "name": "stdout",
     "output_type": "stream",
     "text": [
      "312\n"
     ]
    }
   ],
   "source": [
    "n =3\n",
    "k =5\n",
    "class Solution:\n",
    "    def kthPermutation(self, n : int, k : int) -> str:\n",
    "        self.l = []\n",
    "        self.choose = [0]*(n+1)\n",
    "        self.count = 0\n",
    "        self.ans = []\n",
    "        self.permutation(n)\n",
    "        return ''.join(map(str,self.ans))\n",
    "    def permutation(self,n):\n",
    "        for i in range(1,n+1):\n",
    "            if self.choose[i] == 0:\n",
    "                self.choose[i] = 1\n",
    "                self.l.append(i)\n",
    "                self.permutation(n)\n",
    "                self.choose[i] = 0\n",
    "                self.l.pop()\n",
    "        if len(self.l) == n:\n",
    "            self.count += 1\n",
    "            if self.count == k:\n",
    "                self.ans = self.l.copy()\n",
    "                return\n",
    "\n",
    "sol = Solution()\n",
    "print(sol.kthPermutation(n,k))"
   ]
  },
  {
   "cell_type": "code",
   "execution_count": 9,
   "metadata": {},
   "outputs": [
    {
     "name": "stdout",
     "output_type": "stream",
     "text": [
      "4\n"
     ]
    }
   ],
   "source": [
    "import bisect\n",
    "a =[\"x\",\"x\",\"y\",\"y\"]\n",
    "pos =bisect.bisect_right(a,\"z\")\n",
    "print(pos)"
   ]
  },
  {
   "cell_type": "code",
   "execution_count": null,
   "metadata": {},
   "outputs": [],
   "source": [
    "from sklearn.linear_model import HuberRegressor\n",
    "model = HuberRegressor(epsilon=1.32, max_iter=700, alpha=0.00001, warm_start=True)\n"
   ]
  },
  {
   "cell_type": "code",
   "execution_count": 9,
   "metadata": {},
   "outputs": [
    {
     "name": "stdout",
     "output_type": "stream",
     "text": [
      "(1, 0, 1)\n"
     ]
    }
   ],
   "source": [
    "class Solution:\n",
    "    def maxValue(self, n: int, idx: int, maxSum: int) -> int:\n",
    "        left=0\n",
    "        right=maxSum\n",
    "        while left+1<right:\n",
    "            mid = (left+right)//2\n",
    "            idx_left = min(mid,idx)\n",
    "            idx_right = min(mid-1,n-idx-1)\n",
    "            if mid + idx_left*(2*mid-1-idx_left)//2+ max(idx-mid+1,0) + idx_right*(2*mid-1-idx_right)//2+ max(n-idx-mid,0)<=maxSum:\n",
    "                left=mid\n",
    "            else:\n",
    "                right=mid\n",
    "        idx_left = min(right,idx)\n",
    "        idx_right = min(right-1,n-idx-1)\n",
    "        if right + idx_left*(2*right-1-idx_left)//2+ max(idx-right+1,0) + idx_right*(2*right-1-idx_right)//2+ max(n-idx-right,0)<=maxSum:\n",
    "            return right,idx_left,idx_right\n",
    "        return left,idx_left,idx_right\n",
    "x = Solution()\n",
    "print(x.maxValue(4,0,4))"
   ]
  },
  {
   "attachments": {},
   "cell_type": "markdown",
   "metadata": {},
   "source": [
    "# String to Integer (atoi)"
   ]
  },
  {
   "cell_type": "code",
   "execution_count": 127,
   "metadata": {},
   "outputs": [
    {
     "name": "stdout",
     "output_type": "stream",
     "text": [
      "0\n"
     ]
    }
   ],
   "source": [
    "import re\n",
    "number = re.compile(r\"(^[-+]*[\\d]+)|^[-+]+\")\n",
    "s = \"lsajd8924wkdahoq923 2312roqiqwh\"\n",
    "num = re.search(number,s)\n",
    "try:\n",
    "    x= int(num.group())\n",
    "    if x>2**31-1:\n",
    "        print(2**31-1)\n",
    "    elif x< -2**31:\n",
    "        print(-2**31)\n",
    "    else:\n",
    "        print(x)\n",
    "except:\n",
    "    print(0)"
   ]
  }
 ],
 "metadata": {
  "kernelspec": {
   "display_name": "date3k2",
   "language": "python",
   "name": "python3"
  },
  "language_info": {
   "codemirror_mode": {
    "name": "ipython",
    "version": 3
   },
   "file_extension": ".py",
   "mimetype": "text/x-python",
   "name": "python",
   "nbconvert_exporter": "python",
   "pygments_lexer": "ipython3",
   "version": "3.11.0"
  },
  "orig_nbformat": 4
 },
 "nbformat": 4,
 "nbformat_minor": 2
}
