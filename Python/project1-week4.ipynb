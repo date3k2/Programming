{
 "cells": [
  {
   "cell_type": "code",
   "execution_count": 9,
   "metadata": {},
   "outputs": [],
   "source": [
    "import sys\n",
    "\n",
    "sys.stdin = open(\n",
    "    r\"C:\\Users\\nguye\\Documents\\Code\\Programming\\C++\\test.inp\", \"r\")\n",
    "sys.stdout = open(\n",
    "    r\"C:\\Users\\nguye\\Documents\\Code\\Programming\\C++\\test.out\", \"w\")\n",
    "input = sys.stdin.readline\n",
    "\n",
    "\n",
    "class Solution:\n",
    "    def __init__(self, m):\n",
    "        self.mod = m\n",
    "        self.hashes = []\n",
    "        hash = 1\n",
    "        for _ in range(200):\n",
    "            self.hashes.append(hash % self.mod)\n",
    "            hash = (hash * 256) % self.mod\n",
    "\n",
    "    def hashStr(self, s: str) -> int:\n",
    "        hash = 0\n",
    "        n = len(s)\n",
    "        for i, ch in enumerate(s):\n",
    "            hash = hash + ord(ch) * self.hashes[n - i - 1] % self.mod\n",
    "        return hash % self.mod\n",
    "\n",
    "\n",
    "n, m = map(int, input().split())\n",
    "s = Solution(m)\n",
    "for _ in range(n):\n",
    "    st = input().rstrip()\n",
    "    print(s.hashStr(st))"
   ]
  },
  {
   "cell_type": "code",
   "execution_count": 2,
   "metadata": {},
   "outputs": [],
   "source": [
    "import sys\n",
    "import os\n",
    "\n",
    "# list all file in specific folder\n",
    "path = (\n",
    "    r\"C:\\Users\\nguye\\Desktop\\20231 - IT3040- 20215343- Nguyễn Duy Đạt - Buoi1 - 732831\"\n",
    ")\n",
    "for file in os.listdir(path):\n",
    "    # append 20215343 to file name\n",
    "    new_name = file.split(\".\")[0] + \"-20215343.\" + file.split(\".\")[1]\n",
    "    os.rename(os.path.join(path, file), os.path.join(path, new_name))\n",
    "    # print(new_name)"
   ]
  },
  {
   "cell_type": "code",
   "execution_count": 6,
   "metadata": {},
   "outputs": [],
   "source": [
    "import sys\n",
    "\n",
    "sys.stdin = open(r\"C:\\Users\\nguye\\Documents\\Code\\Programming\\C++\\test.inp\", \"r\")\n",
    "sys.stdout = open(r\"C:\\Users\\nguye\\Documents\\Code\\Programming\\C++\\test.out\", \"w\")\n",
    "input = sys.stdin.readline\n",
    "ocr = {}\n",
    "n = int(input())\n",
    "a = list(map(int, input().split()))\n",
    "for i in a:\n",
    "    print(1 if i in ocr else 0)\n",
    "    ocr[i] = 1"
   ]
  },
  {
   "cell_type": "code",
   "execution_count": 17,
   "metadata": {},
   "outputs": [],
   "source": [
    "import sys\n",
    "\n",
    "sys.stdin = open(r\"C:\\Users\\nguye\\Documents\\Code\\Programming\\C++\\test.inp\", \"r\")\n",
    "sys.stdout = open(r\"C:\\Users\\nguye\\Documents\\Code\\Programming\\C++\\test.out\", \"w\")\n",
    "input = sys.stdin.readline\n",
    "n, m = map(int, input().split())\n",
    "a = list(map(int, input().split()))\n",
    "ocr = {i: 1 for i in a}\n",
    "count = 0\n",
    "for i in a:\n",
    "    if ocr.get(m - i):\n",
    "        count += 1\n",
    "print(count // 2)"
   ]
  },
  {
   "cell_type": "code",
   "execution_count": 19,
   "metadata": {},
   "outputs": [],
   "source": [
    "import sys\n",
    "\n",
    "sys.stdin = open(r\"C:\\Users\\nguye\\Documents\\Code\\Programming\\C++\\test.inp\", \"r\")\n",
    "sys.stdout = open(r\"C:\\Users\\nguye\\Documents\\Code\\Programming\\C++\\test.out\", \"w\")\n",
    "input = sys.stdin.readline\n",
    "ocr = {}\n",
    "while True:\n",
    "    s = input().rstrip()\n",
    "    if s == \"*\":\n",
    "        break\n",
    "    ocr[s] = 1\n",
    "while True:\n",
    "    try:\n",
    "        q, s = input().split()\n",
    "    except:\n",
    "        break\n",
    "    if q == \"find\":\n",
    "        print(1 if s in ocr else 0)\n",
    "    else:\n",
    "        if s not in ocr:\n",
    "            ocr[s] = 1\n",
    "            print(1)\n",
    "        else:\n",
    "            print(0)"
   ]
  }
 ],
 "metadata": {
  "kernelspec": {
   "display_name": ".venv",
   "language": "python",
   "name": "python3"
  },
  "language_info": {
   "codemirror_mode": {
    "name": "ipython",
    "version": 3
   },
   "file_extension": ".py",
   "mimetype": "text/x-python",
   "name": "python",
   "nbconvert_exporter": "python",
   "pygments_lexer": "ipython3",
   "version": "3.11.0"
  }
 },
 "nbformat": 4,
 "nbformat_minor": 2
}
