{
 "cells": [
  {
   "attachments": {},
   "cell_type": "markdown",
   "metadata": {},
   "source": [
    "## naive Bayes\n"
   ]
  },
  {
   "cell_type": "code",
   "execution_count": 17,
   "metadata": {},
   "outputs": [
    {
     "name": "stdout",
     "output_type": "stream",
     "text": [
      "2 (700, 2500)\n",
      "Accuracy: 98.08%\n"
     ]
    }
   ],
   "source": [
    "import numpy as np\n",
    "from scipy.sparse import coo_matrix\n",
    "from sklearn.metrics import accuracy_score\n",
    "from sklearn.naive_bayes import MultinomialNB\n",
    "\n",
    "\n",
    "def get_data_labels(data_path, labels_path):\n",
    "    with open(data_path, 'r') as f:\n",
    "        s = f.readlines()\n",
    "        s = [i.strip().split() for i in s]\n",
    "        data = np.array([[int(i[0]), int(i[1]), int(i[2])] for i in s])\n",
    "    # data is array of [row, col, value] for sparse matrix, which mean data[row, col] = value, row and col start from 1\n",
    "    # row is index of email, col is index of word, value is number of word in email\n",
    "\n",
    "    with open(labels_path, 'r') as f:\n",
    "        s = f.readlines()\n",
    "        s = [int(i.strip()) for i in s]\n",
    "        labels = np.array(s)\n",
    "\n",
    "    data = coo_matrix((data[:, 2], (data[:, 0]-1, data[:, 1]-1)),\n",
    "                      shape=(len(labels), 2500)).toarray()\n",
    "    return (data, labels)\n",
    "\n",
    "\n",
    "# Path to data\n",
    "path = '../datasets/email-spam-filter/'\n",
    "train_data_path = 'train-features.txt'\n",
    "train_labels_path = 'train-labels.txt'\n",
    "test_data_path = 'test-features.txt'\n",
    "test_labels_path = 'test-labels.txt'\n",
    "\n",
    "# Get matrix data and labels for naive Bayes\n",
    "train_data, train_labels = get_data_labels(\n",
    "    path+train_data_path, path+train_labels_path)\n",
    "\n",
    "test_data, test_labels = get_data_labels(\n",
    "    path+test_data_path, path+test_labels_path)\n",
    "\n",
    "# Train and test\n",
    "model = MultinomialNB().fit(train_data, train_labels)\n",
    "pre = model.predict(test_data)\n",
    "print(f\"Accuracy: {round(accuracy_score(test_labels, pre)*100,2)}%\")\n"
   ]
  }
 ],
 "metadata": {
  "kernelspec": {
   "display_name": "date3k2",
   "language": "python",
   "name": "python3"
  },
  "language_info": {
   "codemirror_mode": {
    "name": "ipython",
    "version": 3
   },
   "file_extension": ".py",
   "mimetype": "text/x-python",
   "name": "python",
   "nbconvert_exporter": "python",
   "pygments_lexer": "ipython3",
   "version": "3.11.0"
  },
  "orig_nbformat": 4
 },
 "nbformat": 4,
 "nbformat_minor": 2
}
