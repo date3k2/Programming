{
 "cells": [
  {
   "cell_type": "code",
   "execution_count": 46,
   "metadata": {},
   "outputs": [],
   "source": [
    "with open(\"000TCS.INP\", \"r\") as fin:\n",
    "    data = fin.read()\n",
    "    a, b, c = map(int, data.split())\n",
    "\n",
    "with open(\"000TCS.OUT\", \"w\") as fout:\n",
    "    if a + b > c and a + c > b and b + c > a:\n",
    "        if a == b == c:\n",
    "            fout.write(\"D\")\n",
    "        elif a * a + b * b == c * c or b * b + c * c == a * a or a * a + c * c == b * b:\n",
    "            fout.write(\"V\")\n",
    "        elif a == b or b == c or c == a:\n",
    "            fout.write(\"C\")\n",
    "        else:\n",
    "            fout.write(\"T\")\n",
    "    else:\n",
    "        fout.write(\"K\")"
   ]
  },
  {
   "cell_type": "code",
   "execution_count": 73,
   "metadata": {},
   "outputs": [
    {
     "data": {
      "text/plain": [
       "'1 2\\n2 3\\n1 5'"
      ]
     },
     "execution_count": 73,
     "metadata": {},
     "output_type": "execute_result"
    }
   ],
   "source": [
    "with open(\"000TCS.INP\", \"r\") as fin:\n",
    "    data = fin.read()\n",
    "    # x = list(map(int,data.split()))\n",
    "\n",
    "with open(\"000TCS.OUT\", \"w\") as fout:\n",
    "    pass\n",
    "    # fout.write(str(x))\n",
    "data"
   ]
  },
  {
   "cell_type": "code",
   "execution_count": 103,
   "metadata": {},
   "outputs": [],
   "source": [
    "from math import sqrt\n",
    "import sys\n",
    "\n",
    "sys.stdin = open(\"000TCS.INP\", \"r\")\n",
    "sys.stdout = open(\"000TCS.OUT\", \"w\")\n",
    "input = sys.stdin.readline\n",
    "out = sys.stdout.write\n",
    "x0, y0 = map(int, input().split())\n",
    "x1, y1 = map(int, input().split())\n",
    "x2, y2 = map(int, input().split())\n",
    "a = sqrt(((x0 - x1) ** 2 + (y0 - y1) ** 2))\n",
    "b = sqrt(((x1 - x2) ** 2 + (y1 - y2) ** 2))\n",
    "c = sqrt(((x2 - x0) ** 2 + (y2 - y0) ** 2))\n",
    "if a + b > c and a + c > b and b + c > a:\n",
    "    p = (a + b + c) / 2\n",
    "    print(f\"{p*2:.3f} \")\n",
    "    s = sqrt(p * (p - a) * (p - b) * (p - c))\n",
    "    print(f\"{s:.3f}\")\n",
    "else:\n",
    "    print(\"K\")"
   ]
  },
  {
   "cell_type": "code",
   "execution_count": 77,
   "metadata": {},
   "outputs": [
    {
     "data": {
      "text/plain": [
       "(1, 2, 2, 3, 1, 5)"
      ]
     },
     "execution_count": 77,
     "metadata": {},
     "output_type": "execute_result"
    }
   ],
   "source": [
    "with open(\"003STG.INP\", \"r\") as fin:\n",
    "    data = fin.readlines()\n",
    "    x1, y1 = list(map(int, data[0].split()))\n",
    "    x2, y2 = list(map(int, data[1].split()))\n",
    "    x3, y3 = list(map(int, data[2].split()))\n",
    "    kq = \"\"\n",
    "    import math\n",
    "\n",
    "    a = math.sqrt((x1 - x2) ** 2 + (y1 - y2) ** 2)\n",
    "    b = math.sqrt((x3 - x2) ** 2 + (y3 - y2) ** 2)\n",
    "    c = math.sqrt((x3 - x1) ** 2 + (y3 - y1) ** 2)\n",
    "    p = (a + b + c) / 2\n",
    "    c = p * 2\n",
    "    area = math.sqrt(p * (p - a) * (p - b) * (p - c))\n",
    "    if a + b <= c or c + b <= a or c + a <= b:\n",
    "        kq = \"K\"\n",
    "    else:\n",
    "        kq = format(area, \".3f\") + \" \" + str(format(c, \".3f\"))\n",
    "with open(\"003STG.OUT\", \"w\") as fout:\n",
    "    fout.writelines(kq)"
   ]
  },
  {
   "cell_type": "code",
   "execution_count": 9,
   "metadata": {},
   "outputs": [
    {
     "data": {
      "text/plain": [
       "[1, 4, 9]"
      ]
     },
     "execution_count": 9,
     "metadata": {},
     "output_type": "execute_result"
    }
   ],
   "source": [
    "from math import sqrt, gcd, lcm\n",
    "\n",
    "5**0.5\n",
    "x = [1,2,3]\n",
    "list(map(lambda x: x**2, x))"
   ]
  },
  {
   "cell_type": "code",
   "execution_count": 14,
   "metadata": {},
   "outputs": [
    {
     "data": {
      "text/plain": [
       "1"
      ]
     },
     "execution_count": 14,
     "metadata": {},
     "output_type": "execute_result"
    }
   ],
   "source": [
    "data= '1'\n",
    "a = int(data)\n",
    "a"
   ]
  },
  {
   "cell_type": "code",
   "execution_count": 15,
   "metadata": {},
   "outputs": [
    {
     "data": {
      "text/plain": [
       "'3.1416'"
      ]
     },
     "execution_count": 15,
     "metadata": {},
     "output_type": "execute_result"
    }
   ],
   "source": [
    "format(3.1415926, '.4f')"
   ]
  },
  {
   "cell_type": "code",
   "execution_count": 32,
   "metadata": {},
   "outputs": [
    {
     "name": "stdout",
     "output_type": "stream",
     "text": [
      "1\n",
      "3\n",
      "6\n",
      "10\n"
     ]
    }
   ],
   "source": [
    "# Tính tổng từ 1 đến n\n",
    "tong = 0\n",
    "n = 5\n",
    "for i in range(1, n + 1):\n",
    "    tong += i\n",
    "    print(tong)\n",
    "    if i == 4:\n",
    "        break\n",
    "else:\n",
    "    print('ok')\n",
    "# print(tong)"
   ]
  },
  {
   "cell_type": "code",
   "execution_count": 36,
   "metadata": {},
   "outputs": [
    {
     "name": "stdout",
     "output_type": "stream",
     "text": [
      "0.17999935150146484\n"
     ]
    }
   ],
   "source": [
    "import time\n",
    "start = time.time()\n",
    "for i in range(1000000):\n",
    "    pass\n",
    "print(str(time.time() - start))"
   ]
  },
  {
   "cell_type": "code",
   "execution_count": 38,
   "metadata": {},
   "outputs": [],
   "source": [
    "from math import gcd\n"
   ]
  }
 ],
 "metadata": {
  "kernelspec": {
   "display_name": ".venv",
   "language": "python",
   "name": "python3"
  },
  "language_info": {
   "codemirror_mode": {
    "name": "ipython",
    "version": 3
   },
   "file_extension": ".py",
   "mimetype": "text/x-python",
   "name": "python",
   "nbconvert_exporter": "python",
   "pygments_lexer": "ipython3",
   "version": "3.11.0"
  }
 },
 "nbformat": 4,
 "nbformat_minor": 2
}
