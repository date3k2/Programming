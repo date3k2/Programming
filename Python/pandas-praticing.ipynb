{
 "cells": [
  {
   "cell_type": "code",
   "execution_count": 29,
   "metadata": {},
   "outputs": [],
   "source": [
    "import pandas as pd\n",
    "import numpy as np\n"
   ]
  },
  {
   "cell_type": "markdown",
   "metadata": {},
   "source": [
    "## Series\n"
   ]
  },
  {
   "cell_type": "code",
   "execution_count": 30,
   "metadata": {},
   "outputs": [
    {
     "name": "stdout",
     "output_type": "stream",
     "text": [
      "a    10\n",
      "b    20\n",
      "c    30\n",
      "dtype: int32\n"
     ]
    },
    {
     "data": {
      "text/html": [
       "<div>\n",
       "<style scoped>\n",
       "    .dataframe tbody tr th:only-of-type {\n",
       "        vertical-align: middle;\n",
       "    }\n",
       "\n",
       "    .dataframe tbody tr th {\n",
       "        vertical-align: top;\n",
       "    }\n",
       "\n",
       "    .dataframe thead th {\n",
       "        text-align: right;\n",
       "    }\n",
       "</style>\n",
       "<table border=\"1\" class=\"dataframe\">\n",
       "  <thead>\n",
       "    <tr style=\"text-align: right;\">\n",
       "      <th></th>\n",
       "      <th>0</th>\n",
       "    </tr>\n",
       "  </thead>\n",
       "  <tbody>\n",
       "    <tr>\n",
       "      <th>a</th>\n",
       "      <td>10</td>\n",
       "    </tr>\n",
       "    <tr>\n",
       "      <th>b</th>\n",
       "      <td>20</td>\n",
       "    </tr>\n",
       "    <tr>\n",
       "      <th>c</th>\n",
       "      <td>30</td>\n",
       "    </tr>\n",
       "  </tbody>\n",
       "</table>\n",
       "</div>"
      ],
      "text/plain": [
       "    0\n",
       "a  10\n",
       "b  20\n",
       "c  30"
      ]
     },
     "execution_count": 30,
     "metadata": {},
     "output_type": "execute_result"
    }
   ],
   "source": [
    "label = ['a', 'b', 'c']\n",
    "my_data = [10, 20, 30]\n",
    "dt = pd.Series(data=my_data, index=label, dtype=np.int32)\n",
    "print(dt)\n",
    "# Print the data as a table\n",
    "dt.to_frame()\n"
   ]
  },
  {
   "attachments": {},
   "cell_type": "markdown",
   "metadata": {},
   "source": [
    "## DataFrame\n"
   ]
  },
  {
   "cell_type": "code",
   "execution_count": 31,
   "metadata": {},
   "outputs": [
    {
     "name": "stdout",
     "output_type": "stream",
     "text": [
      "       age state  score grade\n",
      "John    23    CA     90     A\n",
      "Bob     20    NY     80     B\n",
      "Alice   25    TX     70     C\n",
      "Mary    27    FL     60     D\n",
      "Mike    30    WA     50     F \n",
      "\n",
      "      age state  score grade gender\n",
      "John   23    CA     90     A      M \n",
      "\n",
      "<class 'pandas.core.frame.DataFrame'>\n",
      "Index: 5 entries, John to Mike\n",
      "Data columns (total 5 columns):\n",
      " #   Column  Non-Null Count  Dtype \n",
      "---  ------  --------------  ----- \n",
      " 0   age     5 non-null      int64 \n",
      " 1   state   5 non-null      object\n",
      " 2   score   5 non-null      int64 \n",
      " 3   grade   5 non-null      object\n",
      " 4   gender  5 non-null      object\n",
      "dtypes: int64(2), object(3)\n",
      "memory usage: 412.0+ bytes\n",
      "None \n",
      "\n",
      "             age      score\n",
      "count   5.000000   5.000000\n",
      "mean   25.000000  70.000000\n",
      "std     3.807887  15.811388\n",
      "min    20.000000  50.000000\n",
      "25%    23.000000  60.000000\n",
      "50%    25.000000  70.000000\n",
      "75%    27.000000  80.000000\n",
      "max    30.000000  90.000000\n"
     ]
    }
   ],
   "source": [
    "row = ['John', 'Bob', 'Alice', 'Mary', 'Mike']\n",
    "col = ['age', 'state', 'score', 'grade']\n",
    "data = [[23, 'CA', 90, 'A'], [20, 'NY', 80, 'B'], [\n",
    "    25, 'TX', 70, 'C'], [27, 'FL', 60, 'D'], [30, 'WA', 50, 'F']]\n",
    "df = pd.DataFrame(data=data, index=row, columns=col)\n",
    "print(df, '\\n')\n",
    "df['gender'] = ['M', 'M', 'F', 'F', 'M']\n",
    "print(df.loc[['John']], '\\n')\n",
    "print(df.info(), '\\n')\n",
    "print(df.describe())\n"
   ]
  },
  {
   "attachments": {},
   "cell_type": "markdown",
   "metadata": {},
   "source": [
    "# Handling Missing Data\n"
   ]
  },
  {
   "cell_type": "code",
   "execution_count": 32,
   "metadata": {},
   "outputs": [
    {
     "name": "stdout",
     "output_type": "stream",
     "text": [
      "     A    B  C\n",
      "0  1.0  5.0  1\n",
      "1  2.0  NaN  2\n",
      "2  NaN  NaN  3 \n",
      "\n",
      "     A  C\n",
      "0  1.0  1\n",
      "1  2.0  2\n",
      "2  NaN  3 \n",
      "\n",
      "     A    B  C\n",
      "0  1.0  5.0  1\n",
      "1  2.0  0.0  2\n",
      "2  0.0  0.0  3 \n",
      "\n"
     ]
    }
   ],
   "source": [
    "# Mock dataframe for Nan value\n",
    "df2 = pd.DataFrame({'A': [1, 2, np.nan], 'B': [5, np.nan, np.nan],\n",
    "                    'C': [1, 2, 3]})\n",
    "print(df2, '\\n')\n",
    "\n",
    "# Drop the row with Nan value\n",
    "print(df2.dropna(axis=1, thresh=2), '\\n')\n",
    "\n",
    "# Fill the Nan value with 0\n",
    "print(df2.fillna(value=0), '\\n')\n"
   ]
  },
  {
   "attachments": {},
   "cell_type": "markdown",
   "metadata": {},
   "source": [
    "# Merging data\n"
   ]
  },
  {
   "cell_type": "code",
   "execution_count": 33,
   "metadata": {},
   "outputs": [
    {
     "name": "stdout",
     "output_type": "stream",
     "text": [
      "       Food Cost        Place\n",
      "0       Pho    2       Ha Noi\n",
      "1   Bun Cha    3       Ha Noi\n",
      "2   Banh Mi    1  Ho Chi Minh\n",
      "3  Banh Xeo    2      Da Nang \n",
      "\n",
      "         Place      Scenic Spots\n",
      "0       Ha Noi         West Lake\n",
      "1  Ho Chi Minh  Ben Thanh Market\n",
      "2      Da Nang      My Khe Beach \n",
      "\n",
      "       Food Cost        Place      Scenic Spots\n",
      "0       Pho    2       Ha Noi         West Lake\n",
      "1   Bun Cha    3       Ha Noi         West Lake\n",
      "2   Banh Mi    1  Ho Chi Minh  Ben Thanh Market\n",
      "3  Banh Xeo    2      Da Nang      My Khe Beach \n",
      "\n",
      "<class 'pandas.core.frame.DataFrame'>\n",
      "Int64Index: 4 entries, 0 to 3\n",
      "Data columns (total 4 columns):\n",
      " #   Column        Non-Null Count  Dtype  \n",
      "---  ------        --------------  -----  \n",
      " 0   Food          4 non-null      object \n",
      " 1   Cost          4 non-null      float64\n",
      " 2   Place         4 non-null      object \n",
      " 3   Scenic Spots  4 non-null      object \n",
      "dtypes: float64(1), object(3)\n",
      "memory usage: 160.0+ bytes\n",
      "None \n",
      "\n"
     ]
    }
   ],
   "source": [
    "# Vietnam have many famous food,such as Pho, Bun Cha, Banh Mi, Banh Xeo, etc.\n",
    "# Create a dataframe to store the information of these food, cost, and the place where you can find them.\n",
    "df_food = pd.DataFrame({'Food': ['Pho', 'Bun Cha', 'Banh Mi', 'Banh Xeo'],\n",
    "                        'Cost': [2, 3, 1, 2],\n",
    "                        'Place': ['Ha Noi', 'Ha Noi', 'Ho Chi Minh', 'Da Nang']})\n",
    "# make a unit for cost\n",
    "df_food['Cost'] = df_food['Cost'].apply(lambda x: str(x))\n",
    "# Food is the index\n",
    "# df_food.set_index('Food', inplace=True)\n",
    "print(df_food, '\\n')\n",
    "\n",
    "# Create another dataframe about place and its scenic spots, one place can have many scenic spots.\n",
    "df_place = pd.DataFrame({'Place': ['Ha Noi', 'Ho Chi Minh', 'Da Nang'],\n",
    "                         'Scenic Spots': ['West Lake',\n",
    "                                          'Ben Thanh Market',\n",
    "                                          'My Khe Beach']})\n",
    "\n",
    "# df_place.set_index('Place', inplace=True)\n",
    "print(df_place, '\\n')\n",
    "\n",
    "# Merge two dataframe\n",
    "df_merge = pd.merge(df_food, df_place, on='Place')\n",
    "\n",
    "print(df_merge, '\\n')\n",
    "\n",
    "# df_merge.groupby(['Place','Food']).count().loc[\"Ha Noi\"].loc[\"Bun Cha\"]\n",
    "\n",
    "# Convert column type from object to string\n",
    "df_merge['Cost'] = df_merge['Cost'].astype(float)\n",
    "print(df_merge.info(), '\\n')\n"
   ]
  },
  {
   "attachments": {},
   "cell_type": "markdown",
   "metadata": {},
   "source": [
    "# Pivot Table\n"
   ]
  },
  {
   "cell_type": "code",
   "execution_count": 34,
   "metadata": {},
   "outputs": [
    {
     "name": "stdout",
     "output_type": "stream",
     "text": [
      "  Company   Person  Sales\n",
      "0    GOOG      Sam    200\n",
      "1    GOOG  Charlie    120\n",
      "2    MSFT      Amy    340\n",
      "3    MSFT  Vanessa    124\n",
      "4      FB     Carl    243\n",
      "5      FB    Sarah    350 \n",
      "\n",
      "                 Sales\n",
      "Company Person        \n",
      "FB      Carl       243\n",
      "        Sarah      350\n",
      "GOOG    Charlie    120\n",
      "        Sam        200\n",
      "MSFT    Amy        340\n",
      "        Vanessa    124 \n",
      "\n",
      "     A    B  C  D\n",
      "0  foo  one  x  1\n",
      "1  foo  one  y  3\n",
      "2  foo  two  x  2\n",
      "3  bar  two  y  5\n",
      "4  bar  one  x  4\n",
      "5  bar  one  y  1 \n",
      "\n",
      "C          x    y\n",
      "A   B            \n",
      "bar one  4.0  1.0\n",
      "    two  NaN  5.0\n",
      "foo one  1.0  3.0\n",
      "    two  2.0  NaN \n",
      "\n"
     ]
    }
   ],
   "source": [
    "data = {'Company': ['GOOG', 'GOOG', 'MSFT', 'MSFT', 'FB', 'FB'],\n",
    "        'Person': ['Sam', 'Charlie', 'Amy', 'Vanessa', 'Carl', 'Sarah'],\n",
    "        'Sales': [200, 120, 340, 124, 243, 350]}\n",
    "df = pd.DataFrame(data)\n",
    "print(df, '\\n')\n",
    "# Pivot table\n",
    "print(df.pivot_table(values='Sales', index=['Company', 'Person']), '\\n')\n",
    "\n",
    "# More complex pivot table\n",
    "df = pd.DataFrame({'A': ['foo', 'foo', 'foo', 'bar', 'bar', 'bar'],\n",
    "                   'B': ['one', 'one', 'two', 'two', 'one', 'one'],\n",
    "                   'C': ['x', 'y', 'x', 'y', 'x', 'y'],\n",
    "                   'D': [1, 3, 2, 5, 4, 1]})\n",
    "print(df, '\\n')\n",
    "print(df.pivot_table(values='D', index=['A', 'B'], columns=['C']), '\\n')\n"
   ]
  },
  {
   "cell_type": "code",
   "execution_count": 35,
   "metadata": {},
   "outputs": [
    {
     "name": "stdout",
     "output_type": "stream",
     "text": [
      "    studyName  Sample Number                                    Species  \\\n",
      "0     PAL0708              1        Adelie Penguin (Pygoscelis adeliae)   \n",
      "1     PAL0708              2        Adelie Penguin (Pygoscelis adeliae)   \n",
      "2     PAL0708              3        Adelie Penguin (Pygoscelis adeliae)   \n",
      "3     PAL0708              4        Adelie Penguin (Pygoscelis adeliae)   \n",
      "4     PAL0708              5        Adelie Penguin (Pygoscelis adeliae)   \n",
      "..        ...            ...                                        ...   \n",
      "339   PAL0910             64  Chinstrap penguin (Pygoscelis antarctica)   \n",
      "340   PAL0910             65  Chinstrap penguin (Pygoscelis antarctica)   \n",
      "341   PAL0910             66  Chinstrap penguin (Pygoscelis antarctica)   \n",
      "342   PAL0910             67  Chinstrap penguin (Pygoscelis antarctica)   \n",
      "343   PAL0910             68  Chinstrap penguin (Pygoscelis antarctica)   \n",
      "\n",
      "     Region     Island               Stage Individual ID Clutch Completion  \\\n",
      "0    Anvers  Torgersen  Adult, 1 Egg Stage          N1A1               Yes   \n",
      "1    Anvers  Torgersen  Adult, 1 Egg Stage          N1A2               Yes   \n",
      "2    Anvers  Torgersen  Adult, 1 Egg Stage          N2A1               Yes   \n",
      "3    Anvers  Torgersen  Adult, 1 Egg Stage          N2A2               Yes   \n",
      "4    Anvers  Torgersen  Adult, 1 Egg Stage          N3A1               Yes   \n",
      "..      ...        ...                 ...           ...               ...   \n",
      "339  Anvers      Dream  Adult, 1 Egg Stage         N98A2               Yes   \n",
      "340  Anvers      Dream  Adult, 1 Egg Stage         N99A1                No   \n",
      "341  Anvers      Dream  Adult, 1 Egg Stage         N99A2                No   \n",
      "342  Anvers      Dream  Adult, 1 Egg Stage        N100A1               Yes   \n",
      "343  Anvers      Dream  Adult, 1 Egg Stage        N100A2               Yes   \n",
      "\n",
      "       Date Egg  Culmen Length (mm)  Culmen Depth (mm)  Flipper Length (mm)  \\\n",
      "0    2007-11-11                39.1               18.7                181.0   \n",
      "1    2007-11-11                39.5               17.4                186.0   \n",
      "2    2007-11-16                40.3               18.0                195.0   \n",
      "3    2007-11-16                 NaN                NaN                  NaN   \n",
      "4    2007-11-16                36.7               19.3                193.0   \n",
      "..          ...                 ...                ...                  ...   \n",
      "339  2009-11-19                55.8               19.8                207.0   \n",
      "340  2009-11-21                43.5               18.1                202.0   \n",
      "341  2009-11-21                49.6               18.2                193.0   \n",
      "342  2009-11-21                50.8               19.0                210.0   \n",
      "343  2009-11-21                50.2               18.7                198.0   \n",
      "\n",
      "     Body Mass (g)     Sex  Delta 15 N (o/oo)  Delta 13 C (o/oo)  \\\n",
      "0           3750.0    MALE                NaN                NaN   \n",
      "1           3800.0  FEMALE            8.94956          -24.69454   \n",
      "2           3250.0  FEMALE            8.36821          -25.33302   \n",
      "3              NaN     NaN                NaN                NaN   \n",
      "4           3450.0  FEMALE            8.76651          -25.32426   \n",
      "..             ...     ...                ...                ...   \n",
      "339         4000.0    MALE            9.70465          -24.53494   \n",
      "340         3400.0  FEMALE            9.37608          -24.40753   \n",
      "341         3775.0    MALE            9.46180          -24.70615   \n",
      "342         4100.0    MALE            9.98044          -24.68741   \n",
      "343         3775.0  FEMALE            9.39305          -24.25255   \n",
      "\n",
      "                                  Comments  \n",
      "0           Not enough blood for isotopes.  \n",
      "1                                      NaN  \n",
      "2                                      NaN  \n",
      "3                       Adult not sampled.  \n",
      "4                                      NaN  \n",
      "..                                     ...  \n",
      "339                                    NaN  \n",
      "340  Nest never observed with full clutch.  \n",
      "341  Nest never observed with full clutch.  \n",
      "342                                    NaN  \n",
      "343                                    NaN  \n",
      "\n",
      "[344 rows x 17 columns] \n",
      "\n"
     ]
    },
    {
     "data": {
      "text/plain": [
       "{'MALE': 168, 'FEMALE': 165}"
      ]
     },
     "execution_count": 35,
     "metadata": {},
     "output_type": "execute_result"
    }
   ],
   "source": [
    "df_penguin = pd.read_csv('../datasets/penguins_raw.csv')\n",
    "df_penguin.drop('Unnamed: 0', axis=1, inplace=True)\n",
    "print(df_penguin, '\\n')\n",
    "# count number of male and female penguins\n",
    "df_penguin['Sex'].value_counts().to_dict()\n"
   ]
  }
 ],
 "metadata": {
  "kernelspec": {
   "display_name": "date3k2",
   "language": "python",
   "name": "python3"
  },
  "language_info": {
   "codemirror_mode": {
    "name": "ipython",
    "version": 3
   },
   "file_extension": ".py",
   "mimetype": "text/x-python",
   "name": "python",
   "nbconvert_exporter": "python",
   "pygments_lexer": "ipython3",
   "version": "3.11.0"
  },
  "orig_nbformat": 4
 },
 "nbformat": 4,
 "nbformat_minor": 2
}
