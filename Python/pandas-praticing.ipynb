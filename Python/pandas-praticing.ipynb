{
 "cells": [
  {
   "cell_type": "code",
   "execution_count": 1,
   "metadata": {},
   "outputs": [],
   "source": [
    "import pandas as pd\n",
    "import numpy as np\n"
   ]
  },
  {
   "cell_type": "markdown",
   "metadata": {},
   "source": [
    "## Series\n"
   ]
  },
  {
   "cell_type": "code",
   "execution_count": 2,
   "metadata": {},
   "outputs": [
    {
     "name": "stdout",
     "output_type": "stream",
     "text": [
      "a    10\n",
      "b    20\n",
      "c    30\n",
      "dtype: int32\n"
     ]
    },
    {
     "data": {
      "text/html": [
       "<div>\n",
       "<style scoped>\n",
       "    .dataframe tbody tr th:only-of-type {\n",
       "        vertical-align: middle;\n",
       "    }\n",
       "\n",
       "    .dataframe tbody tr th {\n",
       "        vertical-align: top;\n",
       "    }\n",
       "\n",
       "    .dataframe thead th {\n",
       "        text-align: right;\n",
       "    }\n",
       "</style>\n",
       "<table border=\"1\" class=\"dataframe\">\n",
       "  <thead>\n",
       "    <tr style=\"text-align: right;\">\n",
       "      <th></th>\n",
       "      <th>0</th>\n",
       "    </tr>\n",
       "  </thead>\n",
       "  <tbody>\n",
       "    <tr>\n",
       "      <th>a</th>\n",
       "      <td>10</td>\n",
       "    </tr>\n",
       "    <tr>\n",
       "      <th>b</th>\n",
       "      <td>20</td>\n",
       "    </tr>\n",
       "    <tr>\n",
       "      <th>c</th>\n",
       "      <td>30</td>\n",
       "    </tr>\n",
       "  </tbody>\n",
       "</table>\n",
       "</div>"
      ],
      "text/plain": [
       "    0\n",
       "a  10\n",
       "b  20\n",
       "c  30"
      ]
     },
     "execution_count": 2,
     "metadata": {},
     "output_type": "execute_result"
    }
   ],
   "source": [
    "label = ['a', 'b', 'c']\n",
    "my_data = [10, 20, 30]\n",
    "dt = pd.Series(data=my_data, index=label, dtype=np.int32)\n",
    "print(dt)\n",
    "# Print the data as a table\n",
    "dt.to_frame()\n"
   ]
  },
  {
   "attachments": {},
   "cell_type": "markdown",
   "metadata": {},
   "source": [
    "## DataFrame\n"
   ]
  },
  {
   "cell_type": "code",
   "execution_count": 3,
   "metadata": {},
   "outputs": [
    {
     "name": "stdout",
     "output_type": "stream",
     "text": [
      "       age state  score grade\n",
      "John    23    CA     90     A\n",
      "Bob     20    NY     80     B\n",
      "Alice   25    TX     70     C\n",
      "Mary    27    FL     60     D\n",
      "Mike    30    WA     50     F \n",
      "\n",
      "      age state  score grade gender\n",
      "John   23    CA     90     A      M \n",
      "\n",
      "<class 'pandas.core.frame.DataFrame'>\n",
      "Index: 5 entries, John to Mike\n",
      "Data columns (total 5 columns):\n",
      " #   Column  Non-Null Count  Dtype \n",
      "---  ------  --------------  ----- \n",
      " 0   age     5 non-null      int64 \n",
      " 1   state   5 non-null      object\n",
      " 2   score   5 non-null      int64 \n",
      " 3   grade   5 non-null      object\n",
      " 4   gender  5 non-null      object\n",
      "dtypes: int64(2), object(3)\n",
      "memory usage: 412.0+ bytes\n",
      "None \n",
      "\n",
      "             age      score\n",
      "count   5.000000   5.000000\n",
      "mean   25.000000  70.000000\n",
      "std     3.807887  15.811388\n",
      "min    20.000000  50.000000\n",
      "25%    23.000000  60.000000\n",
      "50%    25.000000  70.000000\n",
      "75%    27.000000  80.000000\n",
      "max    30.000000  90.000000\n"
     ]
    }
   ],
   "source": [
    "row = ['John', 'Bob', 'Alice', 'Mary', 'Mike']\n",
    "col = ['age', 'state', 'score', 'grade']\n",
    "data = [[23, 'CA', 90, 'A'], [20, 'NY', 80, 'B'], [\n",
    "    25, 'TX', 70, 'C'], [27, 'FL', 60, 'D'], [30, 'WA', 50, 'F']]\n",
    "df = pd.DataFrame(data=data, index=row, columns=col)\n",
    "print(df,'\\n')\n",
    "df['gender'] = ['M', 'M', 'F', 'F', 'M']\n",
    "print(df.loc[['John']],'\\n')\n",
    "print(df.info(),'\\n')\n",
    "print(df.describe())\n"
   ]
  }
 ],
 "metadata": {
  "kernelspec": {
   "display_name": "date3k2",
   "language": "python",
   "name": "python3"
  },
  "language_info": {
   "codemirror_mode": {
    "name": "ipython",
    "version": 3
   },
   "file_extension": ".py",
   "mimetype": "text/x-python",
   "name": "python",
   "nbconvert_exporter": "python",
   "pygments_lexer": "ipython3",
   "version": "3.11.0"
  },
  "orig_nbformat": 4
 },
 "nbformat": 4,
 "nbformat_minor": 2
}
