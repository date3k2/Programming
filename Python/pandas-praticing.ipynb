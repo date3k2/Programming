{
 "cells": [
  {
   "cell_type": "code",
   "execution_count": 2,
   "metadata": {},
   "outputs": [],
   "source": [
    "import pandas as pd\n",
    "import numpy as np\n"
   ]
  },
  {
   "cell_type": "markdown",
   "metadata": {},
   "source": [
    "## Series\n"
   ]
  },
  {
   "cell_type": "code",
   "execution_count": 16,
   "metadata": {},
   "outputs": [
    {
     "name": "stdout",
     "output_type": "stream",
     "text": [
      "a    10\n",
      "b    20\n",
      "c    30\n",
      "dtype: int32\n"
     ]
    },
    {
     "data": {
      "text/html": [
       "<div>\n",
       "<style scoped>\n",
       "    .dataframe tbody tr th:only-of-type {\n",
       "        vertical-align: middle;\n",
       "    }\n",
       "\n",
       "    .dataframe tbody tr th {\n",
       "        vertical-align: top;\n",
       "    }\n",
       "\n",
       "    .dataframe thead th {\n",
       "        text-align: right;\n",
       "    }\n",
       "</style>\n",
       "<table border=\"1\" class=\"dataframe\">\n",
       "  <thead>\n",
       "    <tr style=\"text-align: right;\">\n",
       "      <th></th>\n",
       "      <th>0</th>\n",
       "    </tr>\n",
       "  </thead>\n",
       "  <tbody>\n",
       "    <tr>\n",
       "      <th>a</th>\n",
       "      <td>10</td>\n",
       "    </tr>\n",
       "    <tr>\n",
       "      <th>b</th>\n",
       "      <td>20</td>\n",
       "    </tr>\n",
       "    <tr>\n",
       "      <th>c</th>\n",
       "      <td>30</td>\n",
       "    </tr>\n",
       "  </tbody>\n",
       "</table>\n",
       "</div>"
      ],
      "text/plain": [
       "    0\n",
       "a  10\n",
       "b  20\n",
       "c  30"
      ]
     },
     "execution_count": 16,
     "metadata": {},
     "output_type": "execute_result"
    }
   ],
   "source": [
    "label = ['a', 'b', 'c']\n",
    "my_data = [10, 20, 30]\n",
    "dt = pd.Series(data=my_data, index=label, dtype=np.int32)\n",
    "print(dt)\n",
    "# Print the data as a table\n",
    "dt.to_frame()\n"
   ]
  },
  {
   "attachments": {},
   "cell_type": "markdown",
   "metadata": {},
   "source": [
    "## DataFrame\n"
   ]
  },
  {
   "cell_type": "code",
   "execution_count": 4,
   "metadata": {},
   "outputs": [
    {
     "name": "stdout",
     "output_type": "stream",
     "text": [
      "       age state  score grade\n",
      "John    23    CA     90     A\n",
      "Bob     20    NY     80     B\n",
      "Alice   25    TX     70     C\n",
      "Mary    27    FL     60     D\n",
      "Mike    30    WA     50     F \n",
      "\n",
      "      age state  score grade gender\n",
      "John   23    CA     90     A      M \n",
      "\n",
      "<class 'pandas.core.frame.DataFrame'>\n",
      "Index: 5 entries, John to Mike\n",
      "Data columns (total 5 columns):\n",
      " #   Column  Non-Null Count  Dtype \n",
      "---  ------  --------------  ----- \n",
      " 0   age     5 non-null      int64 \n",
      " 1   state   5 non-null      object\n",
      " 2   score   5 non-null      int64 \n",
      " 3   grade   5 non-null      object\n",
      " 4   gender  5 non-null      object\n",
      "dtypes: int64(2), object(3)\n",
      "memory usage: 412.0+ bytes\n",
      "None \n",
      "\n",
      "             age      score\n",
      "count   5.000000   5.000000\n",
      "mean   25.000000  70.000000\n",
      "std     3.807887  15.811388\n",
      "min    20.000000  50.000000\n",
      "25%    23.000000  60.000000\n",
      "50%    25.000000  70.000000\n",
      "75%    27.000000  80.000000\n",
      "max    30.000000  90.000000\n"
     ]
    }
   ],
   "source": [
    "row = ['John', 'Bob', 'Alice', 'Mary', 'Mike']\n",
    "col = ['age', 'state', 'score', 'grade']\n",
    "data = [[23, 'CA', 90, 'A'], [20, 'NY', 80, 'B'], [\n",
    "    25, 'TX', 70, 'C'], [27, 'FL', 60, 'D'], [30, 'WA', 50, 'F']]\n",
    "df = pd.DataFrame(data=data, index=row, columns=col)\n",
    "print(df, '\\n')\n",
    "df['gender'] = ['M', 'M', 'F', 'F', 'M']\n",
    "print(df.loc[['John']], '\\n')\n",
    "print(df.info(), '\\n')\n",
    "print(df.describe())\n"
   ]
  },
  {
   "attachments": {},
   "cell_type": "markdown",
   "metadata": {},
   "source": [
    "# Handling Missing Data\n"
   ]
  },
  {
   "cell_type": "code",
   "execution_count": 5,
   "metadata": {},
   "outputs": [
    {
     "name": "stdout",
     "output_type": "stream",
     "text": [
      "     A    B  C\n",
      "0  1.0  5.0  1\n",
      "1  2.0  NaN  2\n",
      "2  NaN  NaN  3 \n",
      "\n",
      "     A  C\n",
      "0  1.0  1\n",
      "1  2.0  2\n",
      "2  NaN  3 \n",
      "\n",
      "     A    B  C\n",
      "0  1.0  5.0  1\n",
      "1  2.0  0.0  2\n",
      "2  0.0  0.0  3 \n",
      "\n"
     ]
    }
   ],
   "source": [
    "# Mock dataframe for Nan value\n",
    "df2 = pd.DataFrame({'A': [1, 2, np.nan], 'B': [5, np.nan, np.nan],\n",
    "                    'C': [1, 2, 3]})\n",
    "print(df2, '\\n')\n",
    "\n",
    "# Drop the row with Nan value\n",
    "print(df2.dropna(axis=1, thresh=2), '\\n')\n",
    "\n",
    "# Fill the Nan value with 0\n",
    "print(df2.fillna(value=0), '\\n')\n"
   ]
  },
  {
   "attachments": {},
   "cell_type": "markdown",
   "metadata": {},
   "source": [
    "# Merging data\n"
   ]
  },
  {
   "cell_type": "code",
   "execution_count": 89,
   "metadata": {},
   "outputs": [
    {
     "name": "stdout",
     "output_type": "stream",
     "text": [
      "       Food Cost        Place\n",
      "0       Pho    2       Ha Noi\n",
      "1   Bun Cha    3       Ha Noi\n",
      "2   Banh Mi    1  Ho Chi Minh\n",
      "3  Banh Xeo    2      Da Nang \n",
      "\n",
      "         Place      Scenic Spots\n",
      "0       Ha Noi         West Lake\n",
      "1  Ho Chi Minh  Ben Thanh Market\n",
      "2      Da Nang      My Khe Beach \n",
      "\n",
      "       Food Cost        Place      Scenic Spots\n",
      "0       Pho    2       Ha Noi         West Lake\n",
      "1   Bun Cha    3       Ha Noi         West Lake\n",
      "2   Banh Mi    1  Ho Chi Minh  Ben Thanh Market\n",
      "3  Banh Xeo    2      Da Nang      My Khe Beach \n",
      "\n",
      "<class 'pandas.core.frame.DataFrame'>\n",
      "Int64Index: 4 entries, 0 to 3\n",
      "Data columns (total 4 columns):\n",
      " #   Column        Non-Null Count  Dtype  \n",
      "---  ------        --------------  -----  \n",
      " 0   Food          4 non-null      object \n",
      " 1   Cost          4 non-null      float64\n",
      " 2   Place         4 non-null      object \n",
      " 3   Scenic Spots  4 non-null      object \n",
      "dtypes: float64(1), object(3)\n",
      "memory usage: 160.0+ bytes\n",
      "None \n",
      "\n"
     ]
    }
   ],
   "source": [
    "# Vietnam have many famous food,such as Pho, Bun Cha, Banh Mi, Banh Xeo, etc.\n",
    "# Create a dataframe to store the information of these food, cost, and the place where you can find them.\n",
    "df_food = pd.DataFrame({'Food': ['Pho', 'Bun Cha', 'Banh Mi', 'Banh Xeo'],\n",
    "                        'Cost': [2, 3, 1, 2],\n",
    "                        'Place': ['Ha Noi', 'Ha Noi', 'Ho Chi Minh', 'Da Nang']})\n",
    "# make a unit for cost\n",
    "df_food['Cost'] = df_food['Cost'].apply(lambda x: str(x))\n",
    "# Food is the index\n",
    "# df_food.set_index('Food', inplace=True)\n",
    "print(df_food, '\\n')\n",
    "\n",
    "# Create another dataframe about place and its scenic spots, one place can have many scenic spots.\n",
    "df_place = pd.DataFrame({'Place': ['Ha Noi', 'Ho Chi Minh', 'Da Nang'],\n",
    "                         'Scenic Spots': ['West Lake',\n",
    "                                          'Ben Thanh Market',\n",
    "                                          'My Khe Beach']})\n",
    "\n",
    "# df_place.set_index('Place', inplace=True)\n",
    "print(df_place, '\\n')\n",
    "\n",
    "# Merge two dataframe\n",
    "df_merge = pd.merge(df_food, df_place, on='Place')\n",
    "\n",
    "print(df_merge, '\\n')\n",
    "\n",
    "# df_merge.groupby(['Place','Food']).count().loc[\"Ha Noi\"].loc[\"Bun Cha\"]\n",
    "\n",
    "# Convert column type from object to string\n",
    "df_merge['Cost'] = df_merge['Cost'].astype(float)\n",
    "print(df_merge.info(), '\\n')\n"
   ]
  },
  {
   "attachments": {},
   "cell_type": "markdown",
   "metadata": {},
   "source": [
    "# Pivot Table"
   ]
  },
  {
   "cell_type": "code",
   "execution_count": 18,
   "metadata": {},
   "outputs": [
    {
     "name": "stdout",
     "output_type": "stream",
     "text": [
      "  Company   Person  Sales\n",
      "0    GOOG      Sam    200\n",
      "1    GOOG  Charlie    120\n",
      "2    MSFT      Amy    340\n",
      "3    MSFT  Vanessa    124\n",
      "4      FB     Carl    243\n",
      "5      FB    Sarah    350 \n",
      "\n",
      "                 Sales\n",
      "Company Person        \n",
      "FB      Carl       243\n",
      "        Sarah      350\n",
      "GOOG    Charlie    120\n",
      "        Sam        200\n",
      "MSFT    Amy        340\n",
      "        Vanessa    124 \n",
      "\n",
      "     A    B  C  D\n",
      "0  foo  one  x  1\n",
      "1  foo  one  y  3\n",
      "2  foo  two  x  2\n",
      "3  bar  two  y  5\n",
      "4  bar  one  x  4\n",
      "5  bar  one  y  1 \n",
      "\n",
      "C          x    y\n",
      "A   B            \n",
      "bar one  4.0  1.0\n",
      "    two  NaN  5.0\n",
      "foo one  1.0  3.0\n",
      "    two  2.0  NaN \n",
      "\n"
     ]
    }
   ],
   "source": [
    "data = {'Company': ['GOOG', 'GOOG', 'MSFT', 'MSFT', 'FB', 'FB'],\n",
    "        'Person': ['Sam', 'Charlie', 'Amy', 'Vanessa', 'Carl', 'Sarah'],\n",
    "        'Sales': [200, 120, 340, 124, 243, 350]}\n",
    "df = pd.DataFrame(data)\n",
    "print(df, '\\n')\n",
    "# Pivot table\n",
    "print(df.pivot_table(values='Sales', index=['Company', 'Person']), '\\n')\n",
    "\n",
    "# More complex pivot table\n",
    "df = pd.DataFrame({'A': ['foo', 'foo', 'foo', 'bar', 'bar', 'bar'],\n",
    "                         'B': ['one', 'one', 'two', 'two', 'one', 'one'],\n",
    "                                'C': ['x', 'y', 'x', 'y', 'x', 'y'],\n",
    "                                            'D': [1, 3, 2, 5, 4, 1]})\n",
    "print(df, '\\n')\n",
    "print(df.pivot_table(values='D', index=['A', 'B'], columns=['C']), '\\n')\n"
   ]
  }
 ],
 "metadata": {
  "kernelspec": {
   "display_name": "date3k2",
   "language": "python",
   "name": "python3"
  },
  "language_info": {
   "codemirror_mode": {
    "name": "ipython",
    "version": 3
   },
   "file_extension": ".py",
   "mimetype": "text/x-python",
   "name": "python",
   "nbconvert_exporter": "python",
   "pygments_lexer": "ipython3",
   "version": "3.11.0"
  },
  "orig_nbformat": 4
 },
 "nbformat": 4,
 "nbformat_minor": 2
}
