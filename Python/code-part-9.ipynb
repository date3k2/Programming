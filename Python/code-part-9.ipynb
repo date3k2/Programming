{
 "cells": [
  {
   "attachments": {},
   "cell_type": "markdown",
   "metadata": {},
   "source": [
    "# LeetCode"
   ]
  },
  {
   "cell_type": "code",
   "execution_count": 38,
   "metadata": {},
   "outputs": [],
   "source": [
    "cookies = [8,15,10,20,8]\n",
    "k = 2\n"
   ]
  },
  {
   "cell_type": "code",
   "execution_count": null,
   "metadata": {},
   "outputs": [],
   "source": [
    "class Solution:\n",
    "    def distributeCookies(self, cookies: list[int], jars: int) -> int:\n",
    "        # Initialize an array of length jars with all elements set to 0\n",
    "        jar_contents = [0] * jars\n",
    "        # Get the length of the cookies array\n",
    "        num_cookies = len(cookies)\n",
    "\n",
    "        # Define a recursive function to distribute the cookies\n",
    "        def dfs(cookie_index, empty_jars):\n",
    "            # If there are fewer cookies left than the number of empty jars, return infinity\n",
    "            if num_cookies - cookie_index < empty_jars:\n",
    "                return float('inf')\n",
    "            \n",
    "            # If we've gone through all the cookies, return the maximum number of cookies in any jar\n",
    "            if cookie_index == num_cookies:\n",
    "                return max(jar_contents)\n",
    "            \n",
    "            # Initialize the answer to infinity\n",
    "            answer = float('inf')\n",
    "            # Iterate through each jar\n",
    "            for jar_index in range(jars):\n",
    "                # If the jar is empty, increment the empty jar count\n",
    "                empty_jars -= int(jar_contents[jar_index] == 0)\n",
    "                # Add the current cookie to the current jar\n",
    "                jar_contents[jar_index] += cookies[cookie_index]\n",
    "                \n",
    "                # Recursively call the dfs function with the next cookie and the updated empty jar count\n",
    "                # and update the answer with the minimum value returned by the recursive call\n",
    "                answer = min(answer, dfs(cookie_index + 1, empty_jars))\n",
    "                \n",
    "                # Remove the current cookie from the current jar\n",
    "                jar_contents[jar_index] -= cookies[cookie_index]\n",
    "                # If the jar is now empty, increment the empty jar count\n",
    "                empty_jars += int(jar_contents[jar_index] == 0)\n",
    "            \n",
    "            # Return the answer\n",
    "            return answer\n",
    "        \n",
    "        # Call the dfs function with the first cookie and the number of jars\n",
    "        return dfs(0, jars)\n"
   ]
  }
 ],
 "metadata": {
  "kernelspec": {
   "display_name": "date3k2",
   "language": "python",
   "name": "python3"
  },
  "language_info": {
   "codemirror_mode": {
    "name": "ipython",
    "version": 3
   },
   "file_extension": ".py",
   "mimetype": "text/x-python",
   "name": "python",
   "nbconvert_exporter": "python",
   "pygments_lexer": "ipython3",
   "version": "3.11.0"
  },
  "orig_nbformat": 4
 },
 "nbformat": 4,
 "nbformat_minor": 2
}
