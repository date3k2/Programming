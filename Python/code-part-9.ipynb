{
 "cells": [
  {
   "attachments": {},
   "cell_type": "markdown",
   "metadata": {},
   "source": [
    "# LeetCode\n"
   ]
  },
  {
   "cell_type": "code",
   "execution_count": 1,
   "metadata": {},
   "outputs": [],
   "source": [
    "from typing import List\n"
   ]
  },
  {
   "cell_type": "code",
   "execution_count": null,
   "metadata": {},
   "outputs": [],
   "source": [
    "class Solution:\n",
    "    def distributeCookies(self, cookies: list[int], jars: int) -> int:\n",
    "        # Initialize an array of length jars with all elements set to 0\n",
    "        jar_contents = [0] * jars\n",
    "        # Get the length of the cookies array\n",
    "        num_cookies = len(cookies)\n",
    "\n",
    "        # Define a recursive function to distribute the cookies\n",
    "        def dfs(cookie_index, empty_jars):\n",
    "            # If there are fewer cookies left than the number of empty jars, return infinity\n",
    "            if num_cookies - cookie_index < empty_jars:\n",
    "                return float('inf')\n",
    "\n",
    "            # If we've gone through all the cookies, return the maximum number of cookies in any jar\n",
    "            if cookie_index == num_cookies:\n",
    "                return max(jar_contents)\n",
    "\n",
    "            # Initialize the answer to infinity\n",
    "            answer = float('inf')\n",
    "            # Iterate through each jar\n",
    "            for jar_index in range(jars):\n",
    "                # If the jar is empty, increment the empty jar count\n",
    "                empty_jars -= int(jar_contents[jar_index] == 0)\n",
    "                # Add the current cookie to the current jar\n",
    "                jar_contents[jar_index] += cookies[cookie_index]\n",
    "\n",
    "                # Recursively call the dfs function with the next cookie and the updated empty jar count\n",
    "                # and update the answer with the minimum value returned by the recursive call\n",
    "                answer = min(answer, dfs(cookie_index + 1, empty_jars))\n",
    "\n",
    "                # Remove the current cookie from the current jar\n",
    "                jar_contents[jar_index] -= cookies[cookie_index]\n",
    "                # If the jar is now empty, increment the empty jar count\n",
    "                empty_jars += int(jar_contents[jar_index] == 0)\n",
    "\n",
    "            # Return the answer\n",
    "            return answer\n",
    "\n",
    "        # Call the dfs function with the first cookie and the number of jars\n",
    "        return dfs(0, jars)\n"
   ]
  },
  {
   "cell_type": "code",
   "execution_count": null,
   "metadata": {},
   "outputs": [],
   "source": [
    "class Solution:\n",
    "    def __init__(self):\n",
    "        self.max_requests = 0\n",
    "\n",
    "    def helper(self, start, requests, indegrees, n, count):\n",
    "        if start == len(requests):\n",
    "            for i in range(n):\n",
    "                if indegrees[i] != 0:\n",
    "                    return\n",
    "            self.max_requests = max(self.max_requests, count)\n",
    "            return\n",
    "\n",
    "        # Take\n",
    "        indegrees[requests[start][0]] -= 1\n",
    "        indegrees[requests[start][1]] += 1\n",
    "        self.helper(start + 1, requests, indegrees, n, count + 1)\n",
    "\n",
    "        # Not-take\n",
    "        indegrees[requests[start][0]] += 1\n",
    "        indegrees[requests[start][1]] -= 1\n",
    "        self.helper(start + 1, requests, indegrees, n, count)\n",
    "\n",
    "    def maximumRequests(self, n, requests):\n",
    "        indegrees = [0] * n\n",
    "        self.helper(0, requests, indegrees, n, 0)\n",
    "        return self.max_requests\n"
   ]
  },
  {
   "cell_type": "code",
   "execution_count": 18,
   "metadata": {},
   "outputs": [
    {
     "name": "stdout",
     "output_type": "stream",
     "text": [
      "5\n"
     ]
    }
   ],
   "source": [
    "class Solution:\n",
    "    def maximumRequests(self, n: int, requests: List[List[int]]) -> int:\n",
    "        ans = 0\n",
    "        for i in range(1 << len(requests)):\n",
    "            deg_in = {}\n",
    "            deg_out = {}\n",
    "            for u, v in enumerate(requests):\n",
    "                if i & (1 << u):\n",
    "                    deg_out[v[0]] = deg_out.get(v[0], 0) + 1\n",
    "                    deg_in[v[1]] = deg_in.get(v[1], 0) + 1\n",
    "            if deg_in == deg_out:\n",
    "                ans = max(ans, bin(i).count('1'))\n",
    "        return ans\n",
    "\n",
    "\n",
    "n = 6\n",
    "requests = [[5, 1], [1, 3], [5, 1], [1, 0], [4, 2], [3, 5], [0, 2],\n",
    "            [1, 0], [2, 0], [3, 5], [4, 1], [4, 5], [1, 0], [4, 3], [3, 2]]\n",
    "print(Solution().maximumRequests(n, requests))\n",
    "# any( i*j>100 for i,j in requests)\n"
   ]
  },
  {
   "cell_type": "code",
   "execution_count": 2,
   "metadata": {},
   "outputs": [],
   "source": [
    "import sys\n",
    "input = sys.stdin.readline\n",
    "output = sys.stdout.write\n",
    "t = int(input())\n",
    "for _ in range(t):\n",
    "    l1, r1 = map(int, input().split())\n",
    "    l2, r2 = map(int, input().split())\n",
    "    alice = [l1, r1, l1+r1]\n",
    "    bob = [l2, r2, l2+r2]\n",
    "    count = 0\n",
    "    for i in range(3):\n",
    "        for j in range(3):\n",
    "            if alice[i] > bob[j]:\n",
    "                count += 1\n",
    "    output('YES\\n') if count >= 5 else output('NO\\n')\n"
   ]
  },
  {
   "cell_type": "code",
   "execution_count": 12,
   "metadata": {},
   "outputs": [
    {
     "name": "stdout",
     "output_type": "stream",
     "text": [
      "YES\n",
      "NO\n",
      "YES\n",
      "YES\n",
      "NO\n"
     ]
    }
   ],
   "source": [
    "import sys\n",
    "input = sys.stdin.readline\n",
    "output = sys.stdout.write\n",
    "\n",
    "\n",
    "def prime(n):\n",
    "    prime = [True for i in range(n+1)]\n",
    "    p = 2\n",
    "    while p*p <= n:\n",
    "        if prime[p]:\n",
    "            for i in range(p*p, n+1, p):\n",
    "                prime[i] = False\n",
    "        p += 1\n",
    "    return [i for i in range(2, n+1) if prime[i]]\n",
    "\n",
    "\n",
    "t = int(input())\n",
    "for _ in range(t):\n",
    "    n, k = map(int, input().split())\n",
    "    primes = prime(316)\n",
    "    for i in primes:\n",
    "        if n // i >= k:\n",
    "            if n % i == 0:\n",
    "                output('YES\\n')\n",
    "                break\n",
    "        else:\n",
    "            output('NO\\n')\n",
    "            break\n",
    "    else:\n",
    "        output('NO\\n')\n"
   ]
  },
  {
   "cell_type": "code",
   "execution_count": 2,
   "metadata": {},
   "outputs": [
    {
     "name": "stdout",
     "output_type": "stream",
     "text": [
      "2\n"
     ]
    }
   ],
   "source": [
    "n = int(input())\n",
    "a = list(map(int,input().split()))\n",
    "ans = 0\n",
    "for i in range(1,n-1):\n",
    "    if a[i-1]<a[i] and a[i]>a[i+1]:\n",
    "        ans+=1\n",
    "print(ans)"
   ]
  },
  {
   "cell_type": "code",
   "execution_count": 9,
   "metadata": {},
   "outputs": [],
   "source": [
    "import sys\n",
    "sys.stdin = open('test.inp', 'r')\n",
    "sys.stdout = open('test.out', 'w')\n",
    "input = sys.stdin.readline\n",
    "out = sys.stdout.write\n",
    "t = int(input())\n",
    "for _ in range(t):\n",
    "    n,k = map(int,input().split())\n",
    "    a = list(map(int, input().split()))\n",
    "    s = [0] * (n-1)\n",
    "    for i in range(n-1):\n",
    "        s[i] = abs(a[i] - a[i+1])\n",
    "    s.sort()\n",
    "    print(sum(s[:n-k]))\n",
    "\n",
    "        \n"
   ]
  }
 ],
 "metadata": {
  "kernelspec": {
   "display_name": "date3k2",
   "language": "python",
   "name": "python3"
  },
  "language_info": {
   "codemirror_mode": {
    "name": "ipython",
    "version": 3
   },
   "file_extension": ".py",
   "mimetype": "text/x-python",
   "name": "python",
   "nbconvert_exporter": "python",
   "pygments_lexer": "ipython3",
   "version": "3.11.0"
  },
  "orig_nbformat": 4
 },
 "nbformat": 4,
 "nbformat_minor": 2
}
