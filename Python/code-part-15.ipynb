{
 "cells": [
  {
   "cell_type": "code",
   "execution_count": 3,
   "metadata": {},
   "outputs": [
    {
     "data": {
      "text/plain": [
       "1"
      ]
     },
     "execution_count": 3,
     "metadata": {},
     "output_type": "execute_result"
    }
   ],
   "source": [
    "# calculate combination using library\n",
    "from math import perm, comb\n",
    "\n",
    "comb(5, 0)"
   ]
  },
  {
   "cell_type": "code",
   "execution_count": null,
   "metadata": {},
   "outputs": [],
   "source": [
    "class Solution:\n",
    "    def uniquePaths(self, m: int, n: int) -> int:\n",
    "        return comb(m + n - 2, m - 1)"
   ]
  },
  {
   "cell_type": "code",
   "execution_count": 3,
   "metadata": {},
   "outputs": [],
   "source": [
    "import sys\n",
    "\n",
    "sys.stdin = open(r\"C:\\Users\\nguye\\Documents\\Code\\Programming\\C++\\test.inp\", \"r\")\n",
    "sys.stdout = open(r\"C:\\Users\\nguye\\Documents\\Code\\Programming\\C++\\test.out\", \"w\")\n",
    "input = sys.stdin.readline\n",
    "n = int(input())\n",
    "a = list(map(int, input().split()))\n",
    "ans = float(\"inf\")\n",
    "for i in a:\n",
    "    ans = min(abs(i), ans)\n",
    "print(ans)"
   ]
  },
  {
   "cell_type": "code",
   "execution_count": 15,
   "metadata": {},
   "outputs": [],
   "source": [
    "import sys\n",
    "\n",
    "sys.stdin = open(r\"C:\\Users\\nguye\\Documents\\Code\\Programming\\C++\\test.inp\", \"r\")\n",
    "sys.stdout = open(r\"C:\\Users\\nguye\\Documents\\Code\\Programming\\C++\\test.out\", \"w\")\n",
    "input = sys.stdin.readline\n",
    "n = int(input())\n",
    "a = list(map(int, input().split()))\n",
    "b = list(map(int, input().split()))\n",
    "m = int(input())\n",
    "c = list(map(int, input().split()))\n",
    "d = list(map(int, input().split()))\n",
    "d_a = {u: v for u, v in zip(a, b)}\n",
    "d_c = {u: v for u, v in zip(c, d)}\n",
    "ans = 1\n",
    "MOD = 998244353\n",
    "for i in d_a:\n",
    "    if d_a[i] < d_c.get(i, 0):\n",
    "        ans = 0\n",
    "        break\n",
    "    elif d_a[i] > d_c.get(i, 0):\n",
    "        ans = (ans * 2) % MOD\n",
    "for i in d_c:\n",
    "    if d_c[i] > d_a.get(i, 0):\n",
    "        ans = 0\n",
    "        break\n",
    "print(ans)"
   ]
  },
  {
   "cell_type": "code",
   "execution_count": 20,
   "metadata": {},
   "outputs": [],
   "source": []
  },
  {
   "cell_type": "code",
   "execution_count": 29,
   "metadata": {},
   "outputs": [],
   "source": [
    "from collections import defaultdict\n",
    "import sys\n",
    "\n",
    "# sys.stdin = open(r\"C:\\Users\\nguye\\Documents\\Code\\Programming\\C++\\test.inp\", \"r\")\n",
    "# sys.stdout = open(r\"C:\\Users\\nguye\\Documents\\Code\\Programming\\C++\\test.out\", \"w\")\n",
    "input = sys.stdin.readline\n",
    "z = []\n",
    "graph = defaultdict(list)\n",
    "\n",
    "\n",
    "def DFS(v):\n",
    "    for neighbour, w in graph[v]:\n",
    "        z.append(w)\n",
    "        DFS(neighbour)\n",
    "\n",
    "\n",
    "n = int(input())\n",
    "for i in range(1, n + 1):\n",
    "    edge_num = int(input())\n",
    "    for _ in range(edge_num):\n",
    "        u, w = map(int, input().split())\n",
    "        graph[i].append((u, w))\n",
    "\n",
    "DFS(1)\n",
    "size_z = len(z)\n",
    "ones = [0] * size_z\n",
    "zeros = [0] * size_z\n",
    "for i, zs in enumerate(z):\n",
    "    ones[i] = ones[i - 1] + int(zs == 1)\n",
    "    zeros[i] = zeros[i - 1] + int(zs == 0)\n",
    "ans = 0\n",
    "MOD = 998244353\n",
    "for i in range(size_z):\n",
    "    if z[i] == 1:\n",
    "        ans = (ans + zeros[-1] - zeros[i]) % MOD\n",
    "print(ans)"
   ]
  },
  {
   "cell_type": "code",
   "execution_count": null,
   "metadata": {},
   "outputs": [],
   "source": [
    "# Palindrome tree in Python\n",
    "class Node:\n",
    "    def __init__(self, start, end, length, suffix_link):\n",
    "        self.start = start\n",
    "        self.end = end\n",
    "        self.length = length\n",
    "        self.suffix_link = suffix_link\n",
    "        self.next = {}\n",
    "\n",
    "\n",
    "class PalindromeTree:\n",
    "    def __init__(self, string):\n",
    "        self.string = string\n",
    "        self.root = Node(-1, -1, 0, None)\n",
    "        self.root.suffix_link = self.root\n",
    "        self.last = self.root\n",
    "        self.add_node = None\n",
    "\n",
    "    def add(self, index):\n",
    "        while True:\n",
    "            length = self.last.length\n",
    "            if (\n",
    "                index - length - 1 >= 0\n",
    "                and self.string[index] == self.string[index - length - 1]\n",
    "            ):\n",
    "                break\n",
    "            self.last = self.last.suffix_link\n",
    "        if self.string[index] in self.last.next:\n",
    "            self.last = self.last.next[self.string[index]]\n",
    "            return\n",
    "        self.add_node = Node(index - length - 1, index, length + 2, None)\n",
    "        self.last.next[self.string[index]] = self.add_node\n",
    "        if self.add_node.length == 1:\n",
    "            self.add_node.suffix_link = self.root\n",
    "            self.last = self.add_node\n",
    "            return\n",
    "        while True:\n",
    "            self.last = self.last.suffix_link\n",
    "            length = self.last.length\n",
    "            if (\n",
    "                index - length - 1 >= 0\n",
    "                and self.string[index] == self.string[index - length - 1]\n",
    "            ):\n",
    "                self.add_node.suffix_link = self.last.next[self.string[index]]\n",
    "                break\n",
    "\n",
    "    def build(self):\n",
    "        for i in range(len(self.string)):\n",
    "            self.add(i)\n",
    "\n",
    "    def count(self):\n",
    "        ans = 0\n",
    "        queue = [self.root, self.add_node]\n",
    "        while queue:\n",
    "            node = queue.pop()\n",
    "            if node.length > 1:\n",
    "                ans += 1\n",
    "            for child in node.next.values():\n",
    "                queue.append(child)\n",
    "        return ans\n",
    "\n",
    "    def print(self):\n",
    "        queue = [self.root]\n",
    "        while queue:\n",
    "            node = queue.pop()\n",
    "            print(node.start, node.end, node.length)\n",
    "            for child in node.next.values():\n",
    "                queue.append(child)"
   ]
  },
  {
   "cell_type": "code",
   "execution_count": 6,
   "metadata": {},
   "outputs": [
    {
     "ename": "TypeError",
     "evalue": "unsupported operand type(s) for +=: 'dict' and 'dict'",
     "output_type": "error",
     "traceback": [
      "\u001b[1;31m---------------------------------------------------------------------------\u001b[0m",
      "\u001b[1;31mTypeError\u001b[0m                                 Traceback (most recent call last)",
      "Cell \u001b[1;32mIn[6], line 3\u001b[0m\n\u001b[0;32m      1\u001b[0m l \u001b[39m=\u001b[39m {\u001b[39m1\u001b[39m:\u001b[39m\"\u001b[39m\u001b[39mhehe\u001b[39m\u001b[39m\"\u001b[39m, \u001b[39m2\u001b[39m:\u001b[39m\"\u001b[39m\u001b[39mhaha\u001b[39m\u001b[39m\"\u001b[39m}\n\u001b[0;32m      2\u001b[0m l\u001b[39m.\u001b[39mupdate({\u001b[39m3\u001b[39m:\u001b[39m\"\u001b[39m\u001b[39mhoho\u001b[39m\u001b[39m\"\u001b[39m})\n\u001b[1;32m----> 3\u001b[0m l \u001b[39m+\u001b[39;49m\u001b[39m=\u001b[39;49m {\u001b[39m4\u001b[39;49m:\u001b[39m\"\u001b[39;49m\u001b[39mhihi\u001b[39;49m\u001b[39m\"\u001b[39;49m}\n\u001b[0;32m      4\u001b[0m \u001b[39mprint\u001b[39m(l)\n",
      "\u001b[1;31mTypeError\u001b[0m: unsupported operand type(s) for +=: 'dict' and 'dict'"
     ]
    }
   ],
   "source": [
    "l = {1: \"hehe\", 2: \"haha\"}\n",
    "l.update({3: \"hoho\"})\n",
    "l.update({4: \"hihi\"})\n",
    "print(l)\n",
    "\n",
    "# Alternatively, you can use the following code to add a new key-value pair to the dictionary:\n",
    "# l[4] = \"hihi\"\n",
    "\n",
    "# Alternatively, you can use the following code to add a new key-value pair to the dictionary:\n",
    "# l[4] = \"hihi\""
   ]
  },
  {
   "cell_type": "code",
   "execution_count": 5,
   "metadata": {},
   "outputs": [
    {
     "name": "stdout",
     "output_type": "stream",
     "text": [
      "0 1\n",
      "1 2\n",
      "2 3\n"
     ]
    }
   ],
   "source": [
    "for u, i in enumerate(l):\n",
    "    print(u, i)"
   ]
  },
  {
   "cell_type": "code",
   "execution_count": 1,
   "metadata": {},
   "outputs": [],
   "source": [
    "import sys\n",
    "\n",
    "input = sys.stdin.readline\n",
    "t = int(input())\n",
    "for _ in range(t):\n",
    "    n = int(input())\n",
    "    a = list(map(int, input().split()))\n",
    "    if sum(a) % 2:\n",
    "        print(\"NO\")\n",
    "    else:\n",
    "        print(\"YES\")"
   ]
  },
  {
   "cell_type": "code",
   "execution_count": 1,
   "metadata": {},
   "outputs": [],
   "source": [
    "import sys\n",
    "\n",
    "sys.stdin = open(\n",
    "    r\"C:\\Users\\nguye\\Documents\\Code\\Programming\\C++\\test.inp\", \"r\")\n",
    "sys.stdout = open(\n",
    "    r\"C:\\Users\\nguye\\Documents\\Code\\Programming\\C++\\test.out\", \"w\")\n",
    "input = sys.stdin.readline\n",
    "t = int(input())\n",
    "for _ in range(t):\n",
    "    x, h = map(int, input().split())\n",
    "    t = 2 * h // x\n",
    "    if t * x < 2 * h:\n",
    "        t += 1\n",
    "    if t <= 5:\n",
    "        print(t)\n",
    "    else:\n",
    "        print(5 + (h - 5 * x // 2) // x + int((h - 5 * x // 2) % x != 0))"
   ]
  },
  {
   "cell_type": "code",
   "execution_count": 2,
   "metadata": {},
   "outputs": [],
   "source": [
    "import sys\n",
    "\n",
    "sys.stdin = open(\n",
    "    r\"C:\\Users\\nguye\\Documents\\Code\\Programming\\C++\\test.inp\", \"r\")\n",
    "sys.stdout = open(\n",
    "    r\"C:\\Users\\nguye\\Documents\\Code\\Programming\\C++\\test.out\", \"w\")\n",
    "input = sys.stdin.readline\n",
    "t = int(input())\n",
    "for _ in range(t):\n",
    "    n = int(input())\n",
    "    a = list(map(int, input().split()))\n",
    "    ans = 0\n",
    "    for i in range(n - 1):\n",
    "        for j in range(i + 1, n):\n",
    "            ans += a[i] * a[j]\n",
    "    print(ans)"
   ]
  },
  {
   "cell_type": "code",
   "execution_count": 97,
   "metadata": {},
   "outputs": [],
   "source": [
    "import sys\n",
    "from math import gcd\n",
    "\n",
    "sys.stdin = open(r\"C:\\Users\\nguye\\Documents\\Code\\Programming\\C++\\test.inp\", \"r\")\n",
    "sys.stdout = open(r\"C:\\Users\\nguye\\Documents\\Code\\Programming\\C++\\test.out\", \"w\")\n",
    "input = sys.stdin.readline\n",
    "t = int(input())\n",
    "for _ in range(t):\n",
    "    n = int(input())\n",
    "    a = list(map(int, input().split()))\n",
    "    b = list(map(int, input().split()))\n",
    "    gcd_start = [a[0]]\n",
    "    gcd_end = [a[-1]]\n",
    "    for i in range(1, n):\n",
    "        gcd_start.append(gcd(gcd_start[-1], a[i]))\n",
    "    for i in range(n - 2, -1, -1):\n",
    "        gcd_end.append(gcd(gcd_end[-1], a[i]))\n",
    "    gcd_end.reverse()\n",
    "    ans = gcd_start[-1]\n",
    "    for i in range(n):\n",
    "        ans = max(\n",
    "            ans,\n",
    "            gcd(\n",
    "                gcd_start[i - 1] if i > 0 else 0,\n",
    "                gcd_end[i + 1] if i < n - 1 else 0,\n",
    "                b[i],\n",
    "            ),\n",
    "        )\n",
    "    print(ans)"
   ]
  },
  {
   "cell_type": "code",
   "execution_count": 95,
   "metadata": {},
   "outputs": [],
   "source": [
    "import sys\n",
    "from bisect import bisect_left, insort_left\n",
    "from heapq import heapify\n",
    "\n",
    "sys.stdin = open(r\"C:\\Users\\nguye\\Documents\\Code\\Programming\\C++\\test.inp\", \"r\")\n",
    "sys.stdout = open(r\"C:\\Users\\nguye\\Documents\\Code\\Programming\\C++\\test.out\", \"w\")\n",
    "input = sys.stdin.readline\n",
    "t = int(input())\n",
    "for _ in range(t):\n",
    "    n, m = map(int, input().split())\n",
    "    a = list(map(int, input().split()))\n",
    "    posts = [0, m]\n",
    "    distance = [m]\n",
    "    for p in a:\n",
    "        x = bisect_left(posts, p)\n",
    "        insort_left(distance, posts[x] - p)\n",
    "        insort_left(distance, p - posts[x - 1])\n",
    "        pos = bisect_left(distance, posts[x] - posts[x - 1])\n",
    "        distance[pos] = distance[-1]\n",
    "        distance.pop()\n",
    "        heapify(distance)\n",
    "        print(distance[-1], end=\" \")\n",
    "        insort_left(posts, p)\n",
    "    print()"
   ]
  }
 ],
 "metadata": {
  "kernelspec": {
   "display_name": ".venv",
   "language": "python",
   "name": "python3"
  },
  "language_info": {
   "codemirror_mode": {
    "name": "ipython",
    "version": 3
   },
   "file_extension": ".py",
   "mimetype": "text/x-python",
   "name": "python",
   "nbconvert_exporter": "python",
   "pygments_lexer": "ipython3",
   "version": "3.11.0"
  },
  "orig_nbformat": 4
 },
 "nbformat": 4,
 "nbformat_minor": 2
}
