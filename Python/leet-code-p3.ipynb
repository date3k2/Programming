{
 "cells": [
  {
   "cell_type": "code",
   "execution_count": 6,
   "metadata": {},
   "outputs": [],
   "source": [
    "from collections import deque\n",
    "import numpy as np\n",
    "from time import time\n",
    "from typing import List\n"
   ]
  },
  {
   "attachments": {},
   "cell_type": "markdown",
   "metadata": {},
   "source": [
    "# Count Way To Build Good Strings\n"
   ]
  },
  {
   "cell_type": "code",
   "execution_count": 7,
   "metadata": {},
   "outputs": [
    {
     "name": "stdout",
     "output_type": "stream",
     "text": [
      "5\n"
     ]
    }
   ],
   "source": [
    "class Solution:\n",
    "    MOD = 10**9+7\n",
    "\n",
    "    def countGoodStrings(self, low: int, high: int, zero: int, one: int) -> int:\n",
    "        dp = [0]*(high+1)\n",
    "        dp[zero] += 1\n",
    "        dp[one] += 1\n",
    "        for i in range(min(zero, one), high+1):\n",
    "            if i+one <= high:\n",
    "                dp[i+one] = (dp[i] + dp[i+one]) % self.MOD\n",
    "            if i+zero <= high:\n",
    "                dp[i+zero] = (dp[i]+dp[i+zero]) % self.MOD\n",
    "        s = 0\n",
    "        for i in range(low, high+1):\n",
    "            s = (s+dp[i]) % self.MOD\n",
    "        return s\n",
    "\n",
    "\n",
    "x = Solution()\n",
    "print(x.countGoodStrings(2, 3, 1, 2))\n"
   ]
  },
  {
   "cell_type": "code",
   "execution_count": 8,
   "metadata": {},
   "outputs": [
    {
     "name": "stdout",
     "output_type": "stream",
     "text": [
      "6\n",
      "10\n"
     ]
    }
   ],
   "source": [
    "class Solution:\n",
    "    def longestOnes(self, nums: list[int], k: int) -> int:\n",
    "        zero = maxOnes = s = 0\n",
    "        pos = 1\n",
    "        l = [0]\n",
    "        for i, num in enumerate(nums):\n",
    "            if num == 0:\n",
    "                zero += 1\n",
    "                l.append(i)\n",
    "            if zero > k:\n",
    "                zero -= 1\n",
    "                s = i-l[pos]-1\n",
    "                pos += 1\n",
    "            s += 1\n",
    "            maxOnes = max(s, maxOnes)\n",
    "        return maxOnes\n",
    "\n",
    "\n",
    "x = Solution()\n",
    "print(x.longestOnes([1, 1, 1, 0, 0, 0, 1, 1, 1, 1, 0], 2))\n",
    "print(x.longestOnes([0, 0, 1, 1, 0, 0, 1, 1,\n",
    "      1, 0, 1, 1, 0, 0, 0, 1, 1, 1, 1], 3))\n"
   ]
  },
  {
   "cell_type": "code",
   "execution_count": 9,
   "metadata": {},
   "outputs": [
    {
     "name": "stdout",
     "output_type": "stream",
     "text": [
      "True\n",
      "False\n"
     ]
    }
   ],
   "source": [
    "\n",
    "\n",
    "class Solution:\n",
    "    def isBipartite(self, graph: List[List[int]]):\n",
    "        color = {}\n",
    "\n",
    "        def dfs(node, c=0):\n",
    "            if node in color:\n",
    "                return color[node] == c\n",
    "            color[node] = c\n",
    "            return all(dfs(n, c ^ 1) for n in graph[node])\n",
    "        return all(dfs(node) for node in range(len(graph)) if node not in color)\n",
    "\n",
    "\n",
    "x = Solution()\n",
    "print(x.isBipartite([[1, 3], [0, 2], [1, 3], [0, 2]]))\n",
    "l = [1, 2, 3, 4]\n",
    "print(all(i > 6 for i in l))\n",
    "\n",
    "\n",
    "# solve above problem in C++\n",
    "# class Solution {\n",
    "# public:\n",
    "#     bool isBipartite(vector<vector<int>>& graph) {\n",
    "#         vector<int> color(graph.size(),0);\n",
    "#         for(int i=0;i<graph.size();i++){\n",
    "#             if(color[i]==0 && !dfs(graph,color,i,1))\n",
    "#                 return false;\n",
    "#         }\n",
    "#         return true;\n",
    "#     }\n",
    "#     bool dfs(vector<vector<int>>& graph,vector<int>& color,int node,int c){\n",
    "#         if(color[node]!=0)\n",
    "#             return color[node]==c;\n",
    "#         color[node]=c;\n",
    "#         for(int n:graph[node]){\n",
    "#             if(!dfs(graph,color,n,c^1))\n",
    "#                 return false;\n",
    "#         }\n",
    "#         return true;\n",
    "#     }\n",
    "# };\n"
   ]
  },
  {
   "cell_type": "code",
   "execution_count": 10,
   "metadata": {},
   "outputs": [
    {
     "name": "stdout",
     "output_type": "stream",
     "text": [
      "1512\n",
      "0.28324174880981445\n"
     ]
    }
   ],
   "source": [
    "class Solution:\n",
    "    def threeSumClosest(self, nums: List[int], target: int) -> int:\n",
    "        n = len(nums)\n",
    "        nums.sort()\n",
    "        mins = float('inf')\n",
    "        ans = 0\n",
    "        for i in range(n-2):\n",
    "            j, k = i+1, n-1\n",
    "            while j < k:\n",
    "                x = nums[i]+nums[j]+nums[k]\n",
    "                if x == target:\n",
    "                    return x\n",
    "                elif x < target:\n",
    "                    j += 1\n",
    "                else:\n",
    "                    k -= 1\n",
    "                if abs(x-target) < mins:\n",
    "                    mins = abs(x-target)\n",
    "                    ans = x\n",
    "        return ans\n",
    "\n",
    "\n",
    "t = time()\n",
    "l = np.random.randint(-1000, 1000, 1000)\n",
    "x = Solution()\n",
    "print(x.threeSumClosest(l, 1512))\n",
    "print(time()-t)\n"
   ]
  },
  {
   "attachments": {},
   "cell_type": "markdown",
   "metadata": {},
   "source": [
    "# Loang trên ma trận\n"
   ]
  },
  {
   "cell_type": "code",
   "execution_count": 11,
   "metadata": {},
   "outputs": [
    {
     "name": "stdout",
     "output_type": "stream",
     "text": [
      "2\n"
     ]
    }
   ],
   "source": [
    "\n",
    "\n",
    "class Solution:\n",
    "    def shortestBridge(self, grid: List[List[int]]):\n",
    "        n = len(grid)\n",
    "\n",
    "        # DFS in matrix\n",
    "        def dfs(u, v):\n",
    "            queue = deque()\n",
    "            queue.append((u, v))\n",
    "            while queue:\n",
    "                i, j = queue.popleft()\n",
    "                idx = [(i-1, j), (i+1, j), (i, j-1), (i, j+1)]\n",
    "                for i, j in idx:\n",
    "                    if 0 <= i < n and 0 <= j < n:\n",
    "                        if grid[i][j] == 1:\n",
    "                            queue.append((i, j))\n",
    "                            grid[i][j] = 2\n",
    "                            min_queue.append((i, j))\n",
    "        min_queue = []\n",
    "        u, v = 0, 0\n",
    "        check = False\n",
    "        for i in range(n):\n",
    "            for j in range(n):\n",
    "                if grid[i][j] == 1:\n",
    "                    u, v = i, j\n",
    "                    grid[i][j] = 2\n",
    "                    check = True\n",
    "                    break\n",
    "            if check:\n",
    "                break\n",
    "        min_queue.append((u, v))\n",
    "        dfs(u, v)\n",
    "        dis = 0\n",
    "        while min_queue:\n",
    "            new_queue = []\n",
    "            for u, v in min_queue:\n",
    "                idx = [(u-1, v), (u+1, v), (u, v-1), (u, v+1)]\n",
    "                for i, j in idx:\n",
    "                    if 0 <= i < n and 0 <= j < n:\n",
    "                        if grid[i][j] == 1:\n",
    "                            return dis\n",
    "                        elif grid[i][j] == 0:\n",
    "                            new_queue.append((i, j))\n",
    "                            grid[i][j] = 2\n",
    "            min_queue = new_queue\n",
    "            dis += 1\n",
    "        return grid, min_queue\n",
    "\n",
    "\n",
    "x = Solution()\n",
    "# grid = [[1, 0, 0, 0], [1, 1, 1, 0], [0, 0, 0, 0], [1, 1, 1, 1]]\n",
    "# grid = [[0, 1], [1, 0]]\n",
    "grid = [[0, 1, 0], [0, 0, 0], [0, 0, 1]]\n",
    "# grid = [[1, 1, 1, 1, 1], [1, 0, 0, 0, 1], [\n",
    "#     1, 0, 1, 0, 1], [1, 0, 0, 0, 1], [1, 1, 1, 1, 1]]\n",
    "# grid = np.random.choice([0, 1], size=(100, 100), p=[0.8, 0.2])\n",
    "print(x.shortestBridge(grid))\n"
   ]
  },
  {
   "cell_type": "code",
   "execution_count": 12,
   "metadata": {},
   "outputs": [],
   "source": [
    "class Solution:\n",
    "    def numIslands(self, grid: List[List[str]]):\n",
    "        r, c = len(grid), len(grid[0])\n",
    "        count = 0\n",
    "        isl = {}\n",
    "\n",
    "        def dfs(u, v):\n",
    "            queue = deque()\n",
    "            island_id = isl[(u, v)]\n",
    "            queue.append((u, v))\n",
    "            while queue:\n",
    "                i, j = queue.popleft()\n",
    "                idx = [(i-1, j), (i+1, j), (i, j-1), (i, j+1)]\n",
    "                for i, j in idx:\n",
    "                    if 0 <= i < r and 0 <= j < c:\n",
    "                        if grid[i][j] == '1' and isl.get((i, j), 0) == 0:\n",
    "                            queue.append((i, j))\n",
    "                            isl[(i, j)] = island_id\n",
    "        for i in range(r):\n",
    "            for j in range(c):\n",
    "                if grid[i][j] == '1' and isl.get((i, j), 0) == 0:\n",
    "                    count += 1\n",
    "                    isl[(i, j)] = count\n",
    "                    dfs(i, j)\n",
    "        return count\n"
   ]
  },
  {
   "cell_type": "code",
   "execution_count": 13,
   "metadata": {},
   "outputs": [],
   "source": [
    "from collections import Counter\n",
    "nums = [2, 3, 2, 3, 2, 3, 3, 1, 1, 1]\n",
    "c = Counter(nums)\n",
    "k = 2\n",
    "ans = [i[0] for i in c.most_common(k)]\n"
   ]
  },
  {
   "cell_type": "code",
   "execution_count": 27,
   "metadata": {},
   "outputs": [
    {
     "name": "stdout",
     "output_type": "stream",
     "text": [
      "[[1, 6], [8, 10], [15, 18]]\n"
     ]
    },
    {
     "data": {
      "text/plain": [
       "0"
      ]
     },
     "execution_count": 27,
     "metadata": {},
     "output_type": "execute_result"
    }
   ],
   "source": [
    "intervals = [[15, 18], [2, 6], [1, 3], [8, 10], [2, 5]]\n",
    "intervals.sort()\n",
    "ans = []\n",
    "for i in range(len(intervals)-1):\n",
    "    if intervals[i][1] >= intervals[i+1][0]:\n",
    "        intervals[i+1][0] = intervals[i][0]\n",
    "        intervals[i+1][1] = max(intervals[i][1], intervals[i+1][1])\n",
    "    else:\n",
    "        ans.append(intervals[i])\n",
    "ans.append(intervals[-1])\n",
    "print(ans)\n",
    "np.sign(0)"
   ]
  },
  {
   "cell_type": "code",
   "execution_count": 36,
   "metadata": {},
   "outputs": [
    {
     "data": {
      "text/plain": [
       "3"
      ]
     },
     "execution_count": 36,
     "metadata": {},
     "output_type": "execute_result"
    }
   ],
   "source": [
    "nums = [1, 2, 3, 4, 5, 6, 7]\n",
    "s =\"3*(2+4-5)\"\n",
    "eval(s)\n"
   ]
  }
 ],
 "metadata": {
  "kernelspec": {
   "display_name": "date3k2",
   "language": "python",
   "name": "python3"
  },
  "language_info": {
   "codemirror_mode": {
    "name": "ipython",
    "version": 3
   },
   "file_extension": ".py",
   "mimetype": "text/x-python",
   "name": "python",
   "nbconvert_exporter": "python",
   "pygments_lexer": "ipython3",
   "version": "3.11.0"
  },
  "orig_nbformat": 4
 },
 "nbformat": 4,
 "nbformat_minor": 2
}
