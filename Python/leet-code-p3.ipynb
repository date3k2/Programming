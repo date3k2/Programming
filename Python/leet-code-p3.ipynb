{
 "cells": [
  {
   "attachments": {},
   "cell_type": "markdown",
   "metadata": {},
   "source": [
    "# Count Way To Build Good Strings\n"
   ]
  },
  {
   "cell_type": "code",
   "execution_count": 14,
   "metadata": {},
   "outputs": [
    {
     "name": "stdout",
     "output_type": "stream",
     "text": [
      "5\n"
     ]
    }
   ],
   "source": [
    "class Solution:\n",
    "    MOD = 10**9+7\n",
    "\n",
    "    def countGoodStrings(self, low: int, high: int, zero: int, one: int) -> int:\n",
    "        dp = [0]*(high+1)\n",
    "        dp[zero] += 1\n",
    "        dp[one] += 1\n",
    "        for i in range(min(zero, one), high+1):\n",
    "            if i+one <= high:\n",
    "                dp[i+one] = (dp[i] + dp[i+one]) % self.MOD\n",
    "            if i+zero <= high:\n",
    "                dp[i+zero] = (dp[i]+dp[i+zero]) % self.MOD\n",
    "        s = 0\n",
    "        for i in range(low, high+1):\n",
    "            s = (s+dp[i]) % self.MOD\n",
    "        return s\n",
    "\n",
    "\n",
    "x = Solution()\n",
    "print(x.countGoodStrings(2, 3, 1, 2))\n"
   ]
  },
  {
   "cell_type": "code",
   "execution_count": 15,
   "metadata": {},
   "outputs": [
    {
     "name": "stdout",
     "output_type": "stream",
     "text": [
      "6\n",
      "10\n"
     ]
    }
   ],
   "source": [
    "class Solution:\n",
    "    def longestOnes(self, nums: list[int], k: int) -> int:\n",
    "        zero = maxOnes =s = 0\n",
    "        pos=1\n",
    "        l = [0]\n",
    "        for i,num in enumerate(nums):   \n",
    "            if num==0:\n",
    "                zero+=1\n",
    "                l.append(i)\n",
    "            if zero>k:\n",
    "                zero-=1\n",
    "                s= i-l[pos]-1\n",
    "                pos+=1\n",
    "            s+=1\n",
    "            maxOnes= max(s,maxOnes)\n",
    "        return maxOnes\n",
    "\n",
    "x = Solution()\n",
    "print(x.longestOnes([1,1,1,0,0,0,1,1,1,1,0],2))\n",
    "print(x.longestOnes([0,0,1,1,0,0,1,1,1,0\n",
    "                     ,1,1,0,0,0,1,1,1,1],3))"
   ]
  },
  {
   "cell_type": "code",
   "execution_count": 16,
   "metadata": {},
   "outputs": [
    {
     "name": "stdout",
     "output_type": "stream",
     "text": [
      "True\n",
      "False\n"
     ]
    }
   ],
   "source": [
    "from typing import List\n",
    "class Solution:\n",
    "    def isBipartite(self, graph: List[List[int]]):\n",
    "        color = {}\n",
    "        def dfs(node, c=0):\n",
    "            if node in color:\n",
    "                return color[node]==c\n",
    "            color[node]=c\n",
    "            return all(dfs(n,c^1) for n in graph[node])\n",
    "        return all(dfs(node) for node in range(len(graph)) if node not in color)\n",
    "x = Solution()\n",
    "print(x.isBipartite([[1,3],[0,2],[1,3],[0,2]]))\n",
    "l = [1,2,3,4]\n",
    "print(all(i>6 for i in l))\n",
    "\n",
    "\n",
    "# solve above problem in C++\n",
    "# class Solution {\n",
    "# public:\n",
    "#     bool isBipartite(vector<vector<int>>& graph) {\n",
    "#         vector<int> color(graph.size(),0);\n",
    "#         for(int i=0;i<graph.size();i++){\n",
    "#             if(color[i]==0 && !dfs(graph,color,i,1))\n",
    "#                 return false;\n",
    "#         }\n",
    "#         return true;\n",
    "#     }\n",
    "#     bool dfs(vector<vector<int>>& graph,vector<int>& color,int node,int c){\n",
    "#         if(color[node]!=0)\n",
    "#             return color[node]==c;\n",
    "#         color[node]=c;\n",
    "#         for(int n:graph[node]){\n",
    "#             if(!dfs(graph,color,n,c^1))\n",
    "#                 return false;\n",
    "#         }\n",
    "#         return true;\n",
    "#     }\n",
    "# };\n"
   ]
  },
  {
   "cell_type": "code",
   "execution_count": 17,
   "metadata": {},
   "outputs": [
    {
     "name": "stdout",
     "output_type": "stream",
     "text": [
      "1512\n",
      "0.5096361637115479\n"
     ]
    }
   ],
   "source": [
    "import numpy as np\n",
    "from time import time\n",
    "class Solution:\n",
    "    def threeSumClosest(self, nums: List[int], target: int) -> int:\n",
    "        n= len(nums)\n",
    "        nums.sort()\n",
    "        mins = float('inf')\n",
    "        ans =0 \n",
    "        for i in range(n-2):\n",
    "            j,k = i+1,n-1\n",
    "            while j<k:\n",
    "                x = nums[i]+nums[j]+nums[k]\n",
    "                if x==target:\n",
    "                    return x\n",
    "                elif x<target:\n",
    "                    j+=1\n",
    "                else:\n",
    "                    k-=1\n",
    "                if abs(x-target)<mins:\n",
    "                    mins = abs(x-target)\n",
    "                    ans = x\n",
    "        return ans\n",
    "t = time()\n",
    "l = np.random.randint(-1000,1000,1000)\n",
    "x = Solution()\n",
    "print(x.threeSumClosest(l,1512))\n",
    "print(time()-t)\n"
   ]
  }
 ],
 "metadata": {
  "kernelspec": {
   "display_name": "date3k2",
   "language": "python",
   "name": "python3"
  },
  "language_info": {
   "codemirror_mode": {
    "name": "ipython",
    "version": 3
   },
   "file_extension": ".py",
   "mimetype": "text/x-python",
   "name": "python",
   "nbconvert_exporter": "python",
   "pygments_lexer": "ipython3",
   "version": "3.11.0"
  },
  "orig_nbformat": 4
 },
 "nbformat": 4,
 "nbformat_minor": 2
}
