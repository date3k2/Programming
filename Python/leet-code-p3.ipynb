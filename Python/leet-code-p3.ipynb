{
 "cells": [
  {
   "cell_type": "code",
   "execution_count": 72,
   "metadata": {},
   "outputs": [],
   "source": [
    "from collections import deque\n",
    "import numpy as np\n",
    "from time import time\n",
    "from typing import List\n"
   ]
  },
  {
   "attachments": {},
   "cell_type": "markdown",
   "metadata": {},
   "source": [
    "# Count Way To Build Good Strings\n"
   ]
  },
  {
   "cell_type": "code",
   "execution_count": 73,
   "metadata": {},
   "outputs": [
    {
     "name": "stdout",
     "output_type": "stream",
     "text": [
      "5\n"
     ]
    }
   ],
   "source": [
    "class Solution:\n",
    "    MOD = 10**9+7\n",
    "\n",
    "    def countGoodStrings(self, low: int, high: int, zero: int, one: int) -> int:\n",
    "        dp = [0]*(high+1)\n",
    "        dp[zero] += 1\n",
    "        dp[one] += 1\n",
    "        for i in range(min(zero, one), high+1):\n",
    "            if i+one <= high:\n",
    "                dp[i+one] = (dp[i] + dp[i+one]) % self.MOD\n",
    "            if i+zero <= high:\n",
    "                dp[i+zero] = (dp[i]+dp[i+zero]) % self.MOD\n",
    "        s = 0\n",
    "        for i in range(low, high+1):\n",
    "            s = (s+dp[i]) % self.MOD\n",
    "        return s\n",
    "\n",
    "\n",
    "x = Solution()\n",
    "print(x.countGoodStrings(2, 3, 1, 2))\n"
   ]
  },
  {
   "cell_type": "code",
   "execution_count": 74,
   "metadata": {},
   "outputs": [
    {
     "name": "stdout",
     "output_type": "stream",
     "text": [
      "6\n",
      "10\n"
     ]
    }
   ],
   "source": [
    "class Solution:\n",
    "    def longestOnes(self, nums: list[int], k: int) -> int:\n",
    "        zero = maxOnes = s = 0\n",
    "        pos = 1\n",
    "        l = [0]\n",
    "        for i, num in enumerate(nums):\n",
    "            if num == 0:\n",
    "                zero += 1\n",
    "                l.append(i)\n",
    "            if zero > k:\n",
    "                zero -= 1\n",
    "                s = i-l[pos]-1\n",
    "                pos += 1\n",
    "            s += 1\n",
    "            maxOnes = max(s, maxOnes)\n",
    "        return maxOnes\n",
    "\n",
    "\n",
    "x = Solution()\n",
    "print(x.longestOnes([1, 1, 1, 0, 0, 0, 1, 1, 1, 1, 0], 2))\n",
    "print(x.longestOnes([0, 0, 1, 1, 0, 0, 1, 1,\n",
    "      1, 0, 1, 1, 0, 0, 0, 1, 1, 1, 1], 3))\n"
   ]
  },
  {
   "cell_type": "code",
   "execution_count": 75,
   "metadata": {},
   "outputs": [
    {
     "name": "stdout",
     "output_type": "stream",
     "text": [
      "True\n",
      "False\n"
     ]
    }
   ],
   "source": [
    "\n",
    "\n",
    "class Solution:\n",
    "    def isBipartite(self, graph: List[List[int]]):\n",
    "        color = {}\n",
    "\n",
    "        def dfs(node, c=0):\n",
    "            if node in color:\n",
    "                return color[node] == c\n",
    "            color[node] = c\n",
    "            return all(dfs(n, c ^ 1) for n in graph[node])\n",
    "        return all(dfs(node) for node in range(len(graph)) if node not in color)\n",
    "\n",
    "\n",
    "x = Solution()\n",
    "print(x.isBipartite([[1, 3], [0, 2], [1, 3], [0, 2]]))\n",
    "l = [1, 2, 3, 4]\n",
    "print(all(i > 6 for i in l))\n",
    "\n",
    "\n",
    "# solve above problem in C++\n",
    "# class Solution {\n",
    "# public:\n",
    "#     bool isBipartite(vector<vector<int>>& graph) {\n",
    "#         vector<int> color(graph.size(),0);\n",
    "#         for(int i=0;i<graph.size();i++){\n",
    "#             if(color[i]==0 && !dfs(graph,color,i,1))\n",
    "#                 return false;\n",
    "#         }\n",
    "#         return true;\n",
    "#     }\n",
    "#     bool dfs(vector<vector<int>>& graph,vector<int>& color,int node,int c){\n",
    "#         if(color[node]!=0)\n",
    "#             return color[node]==c;\n",
    "#         color[node]=c;\n",
    "#         for(int n:graph[node]){\n",
    "#             if(!dfs(graph,color,n,c^1))\n",
    "#                 return false;\n",
    "#         }\n",
    "#         return true;\n",
    "#     }\n",
    "# };\n"
   ]
  },
  {
   "cell_type": "code",
   "execution_count": 76,
   "metadata": {},
   "outputs": [
    {
     "name": "stdout",
     "output_type": "stream",
     "text": [
      "1512\n",
      "0.19347620010375977\n"
     ]
    }
   ],
   "source": [
    "class Solution:\n",
    "    def threeSumClosest(self, nums: List[int], target: int) -> int:\n",
    "        n = len(nums)\n",
    "        nums.sort()\n",
    "        mins = float('inf')\n",
    "        ans = 0\n",
    "        for i in range(n-2):\n",
    "            j, k = i+1, n-1\n",
    "            while j < k:\n",
    "                x = nums[i]+nums[j]+nums[k]\n",
    "                if x == target:\n",
    "                    return x\n",
    "                elif x < target:\n",
    "                    j += 1\n",
    "                else:\n",
    "                    k -= 1\n",
    "                if abs(x-target) < mins:\n",
    "                    mins = abs(x-target)\n",
    "                    ans = x\n",
    "        return ans\n",
    "\n",
    "\n",
    "t = time()\n",
    "l = np.random.randint(-1000, 1000, 1000)\n",
    "x = Solution()\n",
    "print(x.threeSumClosest(l, 1512))\n",
    "print(time()-t)\n"
   ]
  },
  {
   "attachments": {},
   "cell_type": "markdown",
   "metadata": {},
   "source": [
    "# Loang trên ma trận\n"
   ]
  },
  {
   "cell_type": "code",
   "execution_count": 77,
   "metadata": {},
   "outputs": [
    {
     "name": "stdout",
     "output_type": "stream",
     "text": [
      "2\n"
     ]
    }
   ],
   "source": [
    "\n",
    "\n",
    "class Solution:\n",
    "    def shortestBridge(self, grid: List[List[int]]):\n",
    "        n = len(grid)\n",
    "\n",
    "        # DFS in matrix\n",
    "        def dfs(u, v):\n",
    "            queue = deque()\n",
    "            queue.append((u, v))\n",
    "            while queue:\n",
    "                i, j = queue.popleft()\n",
    "                idx = [(i-1, j), (i+1, j), (i, j-1), (i, j+1)]\n",
    "                for i, j in idx:\n",
    "                    if 0 <= i < n and 0 <= j < n:\n",
    "                        if grid[i][j] == 1:\n",
    "                            queue.append((i, j))\n",
    "                            grid[i][j] = 2\n",
    "                            min_queue.append((i, j))\n",
    "        min_queue = []\n",
    "        u, v = 0, 0\n",
    "        check = False\n",
    "        for i in range(n):\n",
    "            for j in range(n):\n",
    "                if grid[i][j] == 1:\n",
    "                    u, v = i, j\n",
    "                    grid[i][j] = 2\n",
    "                    check = True\n",
    "                    break\n",
    "            if check:\n",
    "                break\n",
    "        min_queue.append((u, v))\n",
    "        dfs(u, v)\n",
    "        dis = 0\n",
    "        while min_queue:\n",
    "            new_queue = []\n",
    "            for u, v in min_queue:\n",
    "                idx = [(u-1, v), (u+1, v), (u, v-1), (u, v+1)]\n",
    "                for i, j in idx:\n",
    "                    if 0 <= i < n and 0 <= j < n:\n",
    "                        if grid[i][j] == 1:\n",
    "                            return dis\n",
    "                        elif grid[i][j] == 0:\n",
    "                            new_queue.append((i, j))\n",
    "                            grid[i][j] = 2\n",
    "            min_queue = new_queue\n",
    "            dis += 1\n",
    "        return grid, min_queue\n",
    "\n",
    "\n",
    "x = Solution()\n",
    "# grid = [[1, 0, 0, 0], [1, 1, 1, 0], [0, 0, 0, 0], [1, 1, 1, 1]]\n",
    "# grid = [[0, 1], [1, 0]]\n",
    "grid = [[0, 1, 0], [0, 0, 0], [0, 0, 1]]\n",
    "# grid = [[1, 1, 1, 1, 1], [1, 0, 0, 0, 1], [\n",
    "#     1, 0, 1, 0, 1], [1, 0, 0, 0, 1], [1, 1, 1, 1, 1]]\n",
    "# grid = np.random.choice([0, 1], size=(100, 100), p=[0.8, 0.2])\n",
    "print(x.shortestBridge(grid))\n"
   ]
  },
  {
   "cell_type": "code",
   "execution_count": 78,
   "metadata": {},
   "outputs": [],
   "source": [
    "class Solution:\n",
    "    def numIslands(self, grid: List[List[str]]):\n",
    "        r, c = len(grid), len(grid[0])\n",
    "        count = 0\n",
    "        isl = {}\n",
    "\n",
    "        def dfs(u, v):\n",
    "            queue = deque()\n",
    "            island_id = isl[(u, v)]\n",
    "            queue.append((u, v))\n",
    "            while queue:\n",
    "                i, j = queue.popleft()\n",
    "                idx = [(i-1, j), (i+1, j), (i, j-1), (i, j+1)]\n",
    "                for i, j in idx:\n",
    "                    if 0 <= i < r and 0 <= j < c:\n",
    "                        if grid[i][j] == '1' and isl.get((i, j), 0) == 0:\n",
    "                            queue.append((i, j))\n",
    "                            isl[(i, j)] = island_id\n",
    "        for i in range(r):\n",
    "            for j in range(c):\n",
    "                if grid[i][j] == '1' and isl.get((i, j), 0) == 0:\n",
    "                    count += 1\n",
    "                    isl[(i, j)] = count\n",
    "                    dfs(i, j)\n",
    "        return count\n"
   ]
  },
  {
   "cell_type": "code",
   "execution_count": 79,
   "metadata": {},
   "outputs": [],
   "source": [
    "from collections import Counter\n",
    "nums = [2, 3, 2, 3, 2, 3, 3, 1, 1, 1]\n",
    "c = Counter(nums)\n",
    "k = 2\n",
    "ans = [i[0] for i in c.most_common(k)]\n"
   ]
  },
  {
   "cell_type": "code",
   "execution_count": 80,
   "metadata": {},
   "outputs": [
    {
     "name": "stdout",
     "output_type": "stream",
     "text": [
      "[[1, 6], [8, 10], [15, 18]]\n"
     ]
    },
    {
     "data": {
      "text/plain": [
       "0"
      ]
     },
     "execution_count": 80,
     "metadata": {},
     "output_type": "execute_result"
    }
   ],
   "source": [
    "intervals = [[15, 18], [2, 6], [1, 3], [8, 10], [2, 5]]\n",
    "intervals.sort()\n",
    "ans = []\n",
    "for i in range(len(intervals)-1):\n",
    "    if intervals[i][1] >= intervals[i+1][0]:\n",
    "        intervals[i+1][0] = intervals[i][0]\n",
    "        intervals[i+1][1] = max(intervals[i][1], intervals[i+1][1])\n",
    "    else:\n",
    "        ans.append(intervals[i])\n",
    "ans.append(intervals[-1])\n",
    "print(ans)\n",
    "np.sign(0)\n"
   ]
  },
  {
   "cell_type": "code",
   "execution_count": 81,
   "metadata": {},
   "outputs": [
    {
     "data": {
      "text/plain": [
       "3"
      ]
     },
     "execution_count": 81,
     "metadata": {},
     "output_type": "execute_result"
    }
   ],
   "source": [
    "nums = [1, 2, 3, 4, 5, 6, 7]\n",
    "s = \"3*(2+4-5)\"\n",
    "eval(s)\n"
   ]
  },
  {
   "attachments": {},
   "cell_type": "markdown",
   "metadata": {},
   "source": [
    "# 2542. Maximum Subsequence Score\n"
   ]
  },
  {
   "cell_type": "code",
   "execution_count": 88,
   "metadata": {},
   "outputs": [
    {
     "name": "stdout",
     "output_type": "stream",
     "text": [
      "[772, 572, 106, 384, 854, 505, 710, 584, 530, 581, 272, 197, 489, 462, 197, 239, 837, 84, 238, 307, 634, 749, 370, 479, 112, 5, 664, 752, 288, 248, 519, 20, 169, 986, 846, 79, 328, 594, 851, 661, 119, 337, 682, 452, 191, 763, 89, 805, 647, 578, 286, 80, 87, 837, 469, 696, 247, 833, 308, 478, 493, 29, 113, 129, 119, 929, 714, 683, 94, 817, 318, 22, 882, 717, 725, 416, 313, 561, 673, 54, 382, 627, 940, 614, 685, 143, 674, 245, 242, 784, 218, 820, 229, 439, 883, 560, 315, 619, 865, 157, 805, 338, 993, 676, 934, 996, 400, 138, 680, 328, 645, 986, 77, 580, 165, 509, 662, 153, 499, 95, 904, 668, 475, 228, 236, 76, 161, 863, 944, 556, 797, 590, 186, 461, 346, 826, 543, 132, 289, 614, 346, 561, 139, 180, 905, 428, 95, 616, 682, 760, 343, 845, 89, 325, 445, 339, 905, 964, 138, 558, 217, 980, 972, 135, 412, 119, 330, 103, 224, 516, 773, 659, 973, 558, 69, 190, 565, 347, 645, 719, 320, 321, 481, 683, 8, 743, 442, 967, 266, 280, 457, 526, 708, 795, 136, 908, 539, 811, 639, 818, 630, 284, 351, 677, 165, 545, 774, 617, 306, 504, 609, 456, 716, 597, 838, 456, 287, 362, 640, 870, 890, 364, 896, 330, 786, 155, 818, 263, 773, 264, 436, 724, 391, 443, 272, 995, 685, 377, 391, 673, 524, 292, 348, 744, 93, 266, 671, 641, 153, 709, 817, 549, 703, 589, 749, 582, 555, 156, 73, 230, 939, 613, 395, 476, 302, 224, 772, 152, 148, 956, 353, 335, 413, 262, 928, 892, 661, 174, 677, 566, 399, 136, 742, 444, 826, 303, 183, 577, 669, 928, 46, 465, 482, 515, 36, 976, 986, 334, 353, 243, 212, 812, 575, 434, 326, 413, 289, 424, 777, 846, 615, 475, 129, 326, 233, 407, 559, 162, 117, 372, 790, 34, 658, 992, 75, 691, 497, 341, 720, 74, 392, 754, 354, 763, 885, 462, 448, 659, 331, 614, 253, 144, 334, 260, 683, 190, 128, 315, 618, 765, 457, 786, 689, 302, 670, 760, 392, 523, 334, 165, 505, 519, 995, 448, 388, 840, 831, 16, 586, 544, 715, 652, 719, 976, 845, 129, 707, 95, 685, 825, 440, 861, 296, 779, 104, 307, 475, 863, 316, 493, 474, 290, 823, 597, 682, 999, 595, 983, 780, 215, 980, 411, 624, 577, 796, 177, 100, 359, 941, 975, 34, 573, 482, 511, 329, 92, 248, 752, 947, 513, 97, 770, 454, 485, 694, 765, 373, 973, 775, 716, 377, 421, 210, 410, 634, 198, 336, 773, 256, 911, 366, 736, 322, 958, 59, 398, 513, 341, 462, 70, 637, 66, 328, 280, 318, 724, 754, 592, 850, 609, 334, 520, 990, 430, 987, 814, 805, 207, 667, 567, 241, 134, 341, 766, 906, 570, 556, 993, 732, 304, 265, 715, 299, 886, 265, 319, 11, 928, 137, 144, 349, 637, 222, 140, 332, 401, 463, 87, 966, 265, 76, 59, 82, 827, 297, 897, 958, 855, 805, 627, 275, 675, 814, 62, 399, 126, 593, 471, 76, 905, 725, 617, 388, 250, 40, 670, 627, 734, 786, 262, 804, 992, 3, 471, 286, 596, 230, 776, 56, 289, 204, 836, 76, 175, 745, 799, 809, 145, 665, 825, 700, 230, 121, 640, 839, 445, 407, 859, 745, 90, 75, 339, 680, 364, 996, 15, 432, 475, 400, 796, 828, 659, 497, 131, 501, 421, 65, 132, 585, 998, 943, 400, 20, 409, 47, 779, 617, 537, 862, 380, 621, 578, 319, 356, 261, 58, 552, 557, 324, 106, 795, 596, 164, 637, 412, 187, 682, 973, 642, 387, 985, 218, 324, 485, 269, 554, 821, 322, 505, 700, 65, 342, 414, 553, 306, 95, 131, 771, 937, 916, 349, 715, 404, 711, 753, 637, 449, 344, 489, 765, 930, 392, 102, 290, 675, 898, 729, 309, 791, 953, 827, 344, 262, 538, 631, 998, 770, 929, 278, 786, 87, 236, 888, 999, 447, 80, 796, 458, 782, 384, 698, 410, 164, 154, 481, 238, 190, 469, 408, 187, 458, 204, 117, 478, 836, 801, 817, 320, 674, 915, 88, 526, 582, 597, 211, 486, 329, 965, 738, 516, 995, 408, 174, 927, 264, 470, 987, 432, 66, 781, 598, 416, 921, 385, 743, 207, 877, 252, 375, 923, 259, 368, 924, 483, 428, 964, 343, 38, 776, 686, 7, 42, 518, 263, 727, 204, 123, 218, 664, 459, 902, 934, 84, 465, 76, 244, 893, 757, 603, 662, 899, 660, 617, 867, 567, 0, 923, 776, 388, 857, 821, 526, 968, 516, 976, 30, 214, 620, 624, 355, 238, 228, 39, 183, 780, 962, 277, 271, 6, 5, 753, 344, 98, 770, 474, 684, 587, 501, 167, 495, 635, 684, 269, 608, 49, 207, 935, 119, 922, 855, 675, 291, 986, 426, 840, 864, 310, 451, 722, 443, 740, 109, 476, 900, 994, 692, 379, 544, 14, 262, 864, 287, 915, 242, 466, 196, 414, 760, 481, 502, 531, 735, 753, 472, 997, 563, 511, 762, 325, 59, 98, 855, 801, 706, 633, 456, 518, 723, 168, 830, 668, 829, 654, 289, 98, 680, 785, 962, 469, 964, 413, 682, 493, 974, 896, 29, 496, 540, 472, 13, 434, 634, 696, 853, 683, 615, 675, 856, 76, 453, 614, 811, 497, 297, 181, 26, 684, 179, 906, 302, 969, 5, 323, 640, 277, 553, 550, 77, 447, 609, 361, 490, 448, 913, 659, 202, 602, 226, 288, 726, 379, 133, 381, 822, 811, 938, 58, 896, 865, 798, 538, 323, 229, 693, 734, 849, 861, 139, 106, 880, 673, 609, 272, 571, 168, 141, 211, 884, 776, 900, 449, 353, 470, 101, 498, 795, 175, 126, 589, 895, 199, 6, 295, 265, 392, 733, 180, 506, 848, 675, 181, 753, 853, 350, 796, 46, 154, 251, 358, 661, 892, 221, 934, 889, 453, 595, 286, 43, 475, 106, 975, 104, 937, 623, 852, 400, 509, 872, 444, 435, 867, 210, 380, 963, 347, 679, 787, 992, 240, 55]\n"
     ]
    }
   ],
   "source": [
    "# nums1 = [1, 3, 3, 2]\n",
    "# nums2 = [2, 1, 3, 4]\n",
    "# k = 2\n",
    "nums1 = [4, 2, 3, 1, 1]\n",
    "nums2 = [7, 5, 10, 9, 6]\n",
    "k = 1\n",
    "n = len(nums2)\n",
    "min_num = [(nums2[i], i) for i in range(n)]\n",
    "nums1_2 = [(nums1[i], i) for i in range(n)]\n",
    "nums1_2.sort()\n",
    "min_num.sort()\n",
    "pos = {}\n",
    "for i in range(n):\n",
    "    pos[nums1_2[i][1]] = i\n",
    "s = sum(map(lambda i: i[0], nums1_2[-k:]))\n",
    "# print(nums1_2)\n",
    "# print(min_num)\n",
    "max_sum = 0\n",
    "x = n-k\n",
    "check = [True for _ in range(n)]\n",
    "for i in range(n-k+1):\n",
    "    p = pos[min_num[i][1]]\n",
    "    if x <= p:\n",
    "        max_sum = max(max_sum, min_num[i][0]*s)\n",
    "        s = s-nums1_2[p][0]\n",
    "        check[p] = False\n",
    "        x -= 1\n",
    "        while not check[x] and x > 0:\n",
    "            x -= 1\n",
    "        s += nums1_2[x][0]\n",
    "    else:\n",
    "        max_sum = max(max_sum, min_num[i][0]*(s-nums1_2[x][0]+nums1_2[p][0]))\n",
    "        check[p] = False\n",
    "    # print(max_sum,x,check)\n",
    "# print(max_sum)\n",
    "# print(check)\n"
   ]
  }
 ],
 "metadata": {
  "kernelspec": {
   "display_name": "date3k2",
   "language": "python",
   "name": "python3"
  },
  "language_info": {
   "codemirror_mode": {
    "name": "ipython",
    "version": 3
   },
   "file_extension": ".py",
   "mimetype": "text/x-python",
   "name": "python",
   "nbconvert_exporter": "python",
   "pygments_lexer": "ipython3",
   "version": "3.11.0"
  },
  "orig_nbformat": 4
 },
 "nbformat": 4,
 "nbformat_minor": 2
}
