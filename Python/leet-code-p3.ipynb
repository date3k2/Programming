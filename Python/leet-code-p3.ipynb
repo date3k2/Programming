{
 "cells": [
  {
   "attachments": {},
   "cell_type": "markdown",
   "metadata": {},
   "source": [
    "# Count Way To Build Good Strings\n"
   ]
  },
  {
   "cell_type": "code",
   "execution_count": 32,
   "metadata": {},
   "outputs": [
    {
     "name": "stdout",
     "output_type": "stream",
     "text": [
      "5\n"
     ]
    }
   ],
   "source": [
    "class Solution:\n",
    "    MOD = 10**9+7\n",
    "\n",
    "    def countGoodStrings(self, low: int, high: int, zero: int, one: int) -> int:\n",
    "        dp = [0]*(high+1)\n",
    "        dp[zero] += 1\n",
    "        dp[one] += 1\n",
    "        for i in range(min(zero, one), high+1):\n",
    "            if i+one <= high:\n",
    "                dp[i+one] = (dp[i] + dp[i+one]) % self.MOD\n",
    "            if i+zero <= high:\n",
    "                dp[i+zero] = (dp[i]+dp[i+zero]) % self.MOD\n",
    "        s = 0\n",
    "        for i in range(low, high+1):\n",
    "            s = (s+dp[i]) % self.MOD\n",
    "        return s\n",
    "\n",
    "\n",
    "x = Solution()\n",
    "print(x.countGoodStrings(2, 3, 1, 2))\n"
   ]
  }
 ],
 "metadata": {
  "kernelspec": {
   "display_name": "date3k2",
   "language": "python",
   "name": "python3"
  },
  "language_info": {
   "codemirror_mode": {
    "name": "ipython",
    "version": 3
   },
   "file_extension": ".py",
   "mimetype": "text/x-python",
   "name": "python",
   "nbconvert_exporter": "python",
   "pygments_lexer": "ipython3",
   "version": "3.11.0"
  },
  "orig_nbformat": 4
 },
 "nbformat": 4,
 "nbformat_minor": 2
}
