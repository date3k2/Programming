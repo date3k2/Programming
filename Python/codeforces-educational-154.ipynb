{
 "cells": [
  {
   "cell_type": "code",
   "execution_count": 3,
   "metadata": {},
   "outputs": [],
   "source": [
    "def is_prime(n):\n",
    "    if n < 2:\n",
    "        return False\n",
    "    for i in range(2, int(n ** 0.5) + 1):\n",
    "        if n % i == 0:\n",
    "            return False\n",
    "    return True"
   ]
  },
  {
   "cell_type": "code",
   "execution_count": 7,
   "metadata": {},
   "outputs": [],
   "source": [
    "s = []\n",
    "for i in range(2,1001):\n",
    "    if is_prime(i):\n",
    "        s.append(i)\n",
    "import pyperclip\n",
    "pyperclip.copy(str(s))"
   ]
  },
  {
   "cell_type": "code",
   "execution_count": 9,
   "metadata": {},
   "outputs": [],
   "source": [
    "import sys\n",
    "\n",
    "sys.stdin = open(r\"C:\\Users\\nguye\\Documents\\Code\\Programming\\C++\\test.inp\", \"r\")\n",
    "sys.stdout = open(r\"C:\\Users\\nguye\\Documents\\Code\\Programming\\C++\\test.out\", \"w\")\n",
    "input = sys.stdin.readline\n",
    "t = int(input())\n",
    "primes = [13, 17, 19, 23, 29, 31, 37, 41, 43, 47, 53, 59, 61, 67, 71, 73, 79, 83, 89, 97]\n",
    "primes = [str(i) for i in primes]\n",
    "for _ in range(t):\n",
    "    s = input().rstrip()\n",
    "    for i in primes:\n",
    "        if i[0] == s[0]:\n",
    "            print(i)\n",
    "            break\n"
   ]
  },
  {
   "cell_type": "code",
   "execution_count": 53,
   "metadata": {},
   "outputs": [],
   "source": [
    "import sys\n",
    "\n",
    "sys.stdin = open(r\"C:\\Users\\nguye\\Documents\\Code\\Programming\\C++\\test.inp\", \"r\")\n",
    "sys.stdout = open(r\"C:\\Users\\nguye\\Documents\\Code\\Programming\\C++\\test.out\", \"w\")\n",
    "input = sys.stdin.readline\n",
    "t = int(input())\n",
    "for _ in range(t):\n",
    "    a = input().rstrip()\n",
    "    b = input().rstrip()\n",
    "    if a[0] == b[0] == a[-1] == b[-1]:\n",
    "        print(\"YES\")\n",
    "    elif a[0] != b[0] or a[-1] != b[-1]:\n",
    "        print(\"NO\")\n",
    "    else:\n",
    "        for i in range(len(a) - 1):\n",
    "            if a[i] == b[i] == a[0] and a[i + 1] == b[i + 1] == a[-1]:\n",
    "                print(\"YES\")\n",
    "                break\n",
    "        else:\n",
    "            print(\"NO\")"
   ]
  },
  {
   "cell_type": "code",
   "execution_count": 62,
   "metadata": {},
   "outputs": [],
   "source": [
    "import sys\n",
    "\n",
    "sys.stdin = open(r\"C:\\Users\\nguye\\Documents\\Code\\Programming\\C++\\test.inp\", \"r\")\n",
    "sys.stdout = open(r\"C:\\Users\\nguye\\Documents\\Code\\Programming\\C++\\test.out\", \"w\")\n",
    "input = sys.stdin.readline\n",
    "t = int(input())\n",
    "for _ in range(t):\n",
    "    s = input().rstrip()\n",
    "    x = ''\n",
    "    pos = 0\n",
    "    for i, st in enumerate(s):\n",
    "        if st == \"1\" or st =='0':\n",
    "            x = st\n",
    "            pos = i\n",
    "            break\n",
    "    if x == \"1\":\n",
    "        is_0 = s.count(\"0\")\n",
    "        if is_0 ==0:\n",
    "            print('YES')\n",
    "        else:\n",
    "            print('NO')\n",
    "    else:\n",
    "        leng = pos - s[:pos].count(\"-\")\n",
    "        if leng <=1:\n",
    "            print('NO')\n",
    "        else:\n",
    "            maxs = leng\n",
    "            for i in range(pos, len(s)):\n",
    "                maxs = max(maxs, leng)\n",
    "                if s[i] == \"+\":\n",
    "                    leng += 1\n",
    "                elif s[i] == \"-\":\n",
    "                    leng -= 1\n",
    "                if maxs == leng+1:\n",
    "                    \n",
    "\n",
    "\n",
    "\n"
   ]
  },
  {
   "cell_type": "code",
   "execution_count": 1,
   "metadata": {},
   "outputs": [
    {
     "name": "stdout",
     "output_type": "stream",
     "text": [
      "scode\n"
     ]
    }
   ],
   "source": [
    "s = 'leetleetscodeleet'\n",
    "i = 'leet'\n",
    "while i in s:\n",
    "    s = s.replace(i, '')\n",
    "print(s)"
   ]
  },
  {
   "cell_type": "code",
   "execution_count": 4,
   "metadata": {},
   "outputs": [
    {
     "name": "stdout",
     "output_type": "stream",
     "text": [
      "zgwrtjrawhkymxrenooaxrvxoxsbhlnnuemqkubvtqyxrrfhrp\n"
     ]
    }
   ],
   "source": [
    "# create random string\n",
    "import random\n",
    "import string\n",
    "def randomString(stringLength=10):\n",
    "    letters = string.ascii_lowercase\n",
    "    return ''.join(random.choice(letters) for i in range(stringLength))\n",
    "print(randomString(50))"
   ]
  },
  {
   "cell_type": "code",
   "execution_count": 45,
   "metadata": {},
   "outputs": [
    {
     "data": {
      "text/plain": [
       "['npzsc', 's', 'cx', 'ptme', 'nf', 'u', 'sw', 'e']"
      ]
     },
     "execution_count": 45,
     "metadata": {},
     "output_type": "execute_result"
    }
   ],
   "source": [
    "from typing import List\n",
    "\n",
    "from functools import cache\n",
    "\n",
    "\n",
    "# class Solution:\n",
    "#     def minExtraChar(self, s: str, dictionary: List[str]) -> int:\n",
    "#         dictionary = [i for i in dictionary if i in s]\n",
    "#         words = set()\n",
    "#         words.add(s)\n",
    "#         for i in dictionary:\n",
    "#             for word in words.copy():\n",
    "#                 while i in word:\n",
    "#                     word = word.replace(i, \"\", 1)\n",
    "#                     words.add(word)\n",
    "#         return min([len(s) for s in words])\n",
    "#         # return words\n",
    "#         # return dictionary\n",
    "class Solution:\n",
    "    def minExtraChar(self, s: str, dictionary: List[str]) -> int:\n",
    "        dictionary = [i for i in dictionary if i in s]\n",
    "\n",
    "        @cache\n",
    "        def solve(s: str):\n",
    "            ans = 100\n",
    "            check = False\n",
    "            for i in dictionary:\n",
    "                if i in s:\n",
    "                    ans = min(ans, solve(s.replace(i, \"\", 1)))\n",
    "                    check = True\n",
    "            if not check:\n",
    "                return len(s)\n",
    "            return ans\n",
    "\n",
    "        return solve(s)\n",
    "\n",
    "\n",
    "s = \"dwmodizxvvbosxxw\"\n",
    "dictionary = [\n",
    "    \"ox\",\n",
    "    \"lb\",\n",
    "    \"diz\",\n",
    "    \"gu\",\n",
    "    \"v\",\n",
    "    \"ksv\",\n",
    "    \"o\",\n",
    "    \"nuq\",\n",
    "    \"r\",\n",
    "    \"txhe\",\n",
    "    \"e\",\n",
    "    \"wmo\",\n",
    "    \"cehy\",\n",
    "    \"tskz\",\n",
    "    \"ds\",\n",
    "    \"kzbu\",\n",
    "]\n",
    "s = \"eglglxa\"\n",
    "dictionary = [\n",
    "    \"rs\",\n",
    "    \"j\",\n",
    "    \"h\",\n",
    "    \"g\",\n",
    "    \"fy\",\n",
    "    \"l\",\n",
    "    \"fc\",\n",
    "    \"s\",\n",
    "    \"zf\",\n",
    "    \"i\",\n",
    "    \"k\",\n",
    "    \"x\",\n",
    "    \"gl\",\n",
    "    \"qr\",\n",
    "    \"qj\",\n",
    "    \"b\",\n",
    "    \"m\",\n",
    "    \"cm\",\n",
    "    \"pe\",\n",
    "    \"y\",\n",
    "    \"ei\",\n",
    "    \"wg\",\n",
    "    \"e\",\n",
    "    \"c\",\n",
    "    \"ll\",\n",
    "    \"u\",\n",
    "    \"lb\",\n",
    "    \"kc\",\n",
    "    \"r\",\n",
    "    \"gs\",\n",
    "    \"p\",\n",
    "    \"ga\",\n",
    "    \"pq\",\n",
    "    \"o\",\n",
    "    \"wq\",\n",
    "    \"mp\",\n",
    "    \"ms\",\n",
    "    \"vp\",\n",
    "    \"kg\",\n",
    "    \"cu\",\n",
    "]\n",
    "s = \"npzscoynfswujscxwfwcxptmeqoptmejvn\"\n",
    "dictionary = [\n",
    "    \"ugqp\",\n",
    "    \"ciidg\",\n",
    "    \"sno\",\n",
    "    \"npzsc\",\n",
    "    \"feuu\",\n",
    "    \"s\",\n",
    "    \"cx\",\n",
    "    \"wdkiw\",\n",
    "    \"xad\",\n",
    "    \"tmme\",\n",
    "    \"ptme\",\n",
    "    \"fnbqp\",\n",
    "    \"nf\",\n",
    "    \"jlkdr\",\n",
    "    \"cuw\",\n",
    "    \"u\",\n",
    "    \"eqb\",\n",
    "    \"sw\",\n",
    "    \"e\",\n",
    "    \"ddh\",\n",
    "    \"hqio\",\n",
    "    \"ba\",\n",
    "]\n",
    "Solution().minExtraChar(s, dictionary)\n",
    "[i for i in dictionary if i in s]"
   ]
  },
  {
   "cell_type": "code",
   "execution_count": 56,
   "metadata": {},
   "outputs": [
    {
     "name": "stdout",
     "output_type": "stream",
     "text": [
      "\n",
      "scode\n",
      "leets\n",
      "\n"
     ]
    }
   ],
   "source": [
    "s[s.index('s')+1:]\n",
    "s = 'leetscode'\n",
    "dictionary =[\"leet\",\"code\",\"leetcode\"]\n",
    "for word in dictionary:\n",
    "    if word in s:\n",
    "        i = s.index(word)\n",
    "        # ans = min(ans,solve(s[:i])+solve(s[i+1:]))\n",
    "        print(s[:i])\n",
    "        print(s[i+len(word):])"
   ]
  },
  {
   "cell_type": "code",
   "execution_count": 43,
   "metadata": {},
   "outputs": [
    {
     "data": {
      "text/plain": [
       "[]"
      ]
     },
     "execution_count": 43,
     "metadata": {},
     "output_type": "execute_result"
    }
   ],
   "source": [
    "s = \"oyjfwqojvn\"\n",
    "[i for i in dictionary if i in s]"
   ]
  },
  {
   "cell_type": "code",
   "execution_count": null,
   "metadata": {},
   "outputs": [],
   "source": [
    "class Solution:\n",
    "    def minExtraChar(self, s: str, dictionary: List[str]) -> int:\n",
    "        dictionary = [i for i in dictionary if i in s]\n",
    "\n",
    "        @cache\n",
    "        def solve(s):\n",
    "            ans = 100\n",
    "            check = False\n",
    "            for word in dictionary:\n",
    "                if word in s:\n",
    "                    i = s.index(word)\n",
    "                    ans = min(ans, solve(s[:i]) + solve(s[i + len(word) :]))\n",
    "                    check = True\n",
    "            if check == False:\n",
    "                return len(s)\n",
    "            return ans\n",
    "\n",
    "        return solve(s)"
   ]
  }
 ],
 "metadata": {
  "kernelspec": {
   "display_name": ".venv",
   "language": "python",
   "name": "python3"
  },
  "language_info": {
   "codemirror_mode": {
    "name": "ipython",
    "version": 3
   },
   "file_extension": ".py",
   "mimetype": "text/x-python",
   "name": "python",
   "nbconvert_exporter": "python",
   "pygments_lexer": "ipython3",
   "version": "3.11.0"
  },
  "orig_nbformat": 4
 },
 "nbformat": 4,
 "nbformat_minor": 2
}
