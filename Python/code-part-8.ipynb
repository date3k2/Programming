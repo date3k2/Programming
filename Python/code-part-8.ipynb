{
 "cells": [
  {
   "cell_type": "code",
   "execution_count": 5,
   "metadata": {},
   "outputs": [
    {
     "data": {
      "text/plain": [
       "[(1, 2), (2, 14), (3, 3), (5, 1)]"
      ]
     },
     "execution_count": 5,
     "metadata": {},
     "output_type": "execute_result"
    }
   ],
   "source": [
    "nums = [1,3,5,2]\n",
    "cost = [2,3,1,14]\n",
    "x = sorted(zip(nums,cost))\n",
    "x"
   ]
  },
  {
   "cell_type": "code",
   "execution_count": null,
   "metadata": {},
   "outputs": [],
   "source": [
    "from typing import List\n",
    "class Solution:\n",
    "    def minCost(self, nums: List[int], cost: List[int]) -> int:\n",
    "        def get_cost(base):\n",
    "            return sum(abs(base - num) * c for num, c in zip(nums, cost))\n",
    "        \n",
    "        # Initialize the left and the right boundary of the binary search.\n",
    "        left, right = min(nums), max(nums)\n",
    "        answer = get_cost(nums[0])\n",
    "        \n",
    "        # As shown in the previous picture, if F(mid) > F(mid + 1), then the minimum\n",
    "        # is to the right of mid, otherwise, the minimum is to the left of mid.\n",
    "        while left < right:\n",
    "            mid = (left + right) // 2\n",
    "            cost_1 = get_cost(mid)\n",
    "            cost_2 = get_cost(mid + 1)\n",
    "            answer = min(cost_1, cost_2)\n",
    "            \n",
    "            if cost_1 > cost_2:\n",
    "                left = mid + 1\n",
    "            else:\n",
    "                right = mid\n",
    "        \n",
    "        return answer"
   ]
  }
 ],
 "metadata": {
  "kernelspec": {
   "display_name": "date3k2",
   "language": "python",
   "name": "python3"
  },
  "language_info": {
   "codemirror_mode": {
    "name": "ipython",
    "version": 3
   },
   "file_extension": ".py",
   "mimetype": "text/x-python",
   "name": "python",
   "nbconvert_exporter": "python",
   "pygments_lexer": "ipython3",
   "version": "3.11.0"
  },
  "orig_nbformat": 4
 },
 "nbformat": 4,
 "nbformat_minor": 2
}
