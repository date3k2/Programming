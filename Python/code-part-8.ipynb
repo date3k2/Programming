{
 "cells": [
  {
   "cell_type": "code",
   "execution_count": 8,
   "metadata": {},
   "outputs": [],
   "source": [
    "import numpy as np\n"
   ]
  },
  {
   "cell_type": "code",
   "execution_count": 3,
   "metadata": {},
   "outputs": [],
   "source": [
    "from typing import List\n",
    "\n",
    "\n",
    "class Solution:\n",
    "    def minCost(self, nums: List[int], cost: List[int]) -> int:\n",
    "        def get_cost(base):\n",
    "            return sum(abs(base - num) * c for num, c in zip(nums, cost))\n",
    "\n",
    "        # Initialize the left and the right boundary of the binary search.\n",
    "        left, right = min(nums), max(nums)\n",
    "        answer = get_cost(nums[0])\n",
    "\n",
    "        # As shown in the previous picture, if F(mid) > F(mid + 1), then the minimum\n",
    "        # is to the right of mid, otherwise, the minimum is to the left of mid.\n",
    "        while left < right:\n",
    "            mid = (left + right) // 2\n",
    "            cost_1 = get_cost(mid)\n",
    "            cost_2 = get_cost(mid + 1)\n",
    "            answer = min(cost_1, cost_2)\n",
    "\n",
    "            if cost_1 > cost_2:\n",
    "                left = mid + 1\n",
    "            else:\n",
    "                right = mid\n",
    "\n",
    "        return answer\n"
   ]
  },
  {
   "attachments": {},
   "cell_type": "markdown",
   "metadata": {},
   "source": [
    "## Dãy con lập thành cấp số cộng dài nhất\n"
   ]
  },
  {
   "cell_type": "code",
   "execution_count": 20,
   "metadata": {},
   "outputs": [
    {
     "name": "stdout",
     "output_type": "stream",
     "text": [
      "CPU times: total: 500 ms\n",
      "Wall time: 524 ms\n"
     ]
    },
    {
     "data": {
      "text/plain": [
       "10"
      ]
     },
     "execution_count": 20,
     "metadata": {},
     "output_type": "execute_result"
    }
   ],
   "source": [
    "class Solution:\n",
    "    def longestArithSeqLength(self, nums: List[int]) -> int:\n",
    "        dp = {}\n",
    "        for r in range(1, len(nums)):\n",
    "            for l in range(r):\n",
    "                diff = nums[r] - nums[l]\n",
    "                dp[r, diff] = dp.get((l, diff), 1) + 1\n",
    "        return max(dp.values())\n",
    "\n",
    "\n",
    "%time Solution().longestArithSeqLength(np.random.randint(0, 500, 1000))\n"
   ]
  },
  {
   "cell_type": "code",
   "execution_count": 89,
   "metadata": {},
   "outputs": [
    {
     "name": "stdout",
     "output_type": "stream",
     "text": [
      "1.2988903522491455\n",
      "300\n"
     ]
    }
   ],
   "source": [
    "from time import time\n",
    "from collections import defaultdict\n",
    "\n",
    "np.random.seed(0)\n",
    "# nums = list(np.random.randint(0, 50, 20))\n",
    "nums = [24, 33, 23, 23, 29, 24, 31, 29, 36,\n",
    "        32, 22, 18, 35, 36, 37, 41, 23, 39, 33, 32]\n",
    "n = len(nums)\n",
    "s = [0] * (1 << n)\n",
    "candidates = []\n",
    "mark = defaultdict(list)\n",
    "s_num = sum(nums)\n",
    "start = time()\n",
    "for i in range(1, 1 << n):\n",
    "    for j in range(n):\n",
    "        if i & (1 << j):\n",
    "            s[i] = s[i ^ (1 << j)] + nums[j]\n",
    "            if s[i] <= s_num // 2:\n",
    "                candidates.append(s[i])\n",
    "            mark[s[i]].append(i)\n",
    "            break\n",
    "candidates = sorted(set(candidates), reverse=True)\n",
    "mark[0] = [0]\n",
    "ans = 0\n",
    "for num in candidates:\n",
    "    if ans != 0:\n",
    "        break\n",
    "    for i in mark[s_num - 2*num]:\n",
    "        for j in mark[num]:\n",
    "            if i & j == 0:\n",
    "                ans = num\n",
    "                break\n",
    "        if ans != 0:\n",
    "            break\n",
    "print(time() - start)\n",
    "print(ans)\n"
   ]
  },
  {
   "cell_type": "code",
   "execution_count": null,
   "metadata": {},
   "outputs": [],
   "source": [
    "from functools import lru_cache\n",
    "\n",
    "\n",
    "class Solution:\n",
    "    def countRoutes(self, locations: List[int], start: int, finish: int, fuel: int) -> int:\n",
    "        n = len(locations)\n",
    "        mod = 10**9 + 7\n",
    "\n",
    "        @lru_cache(maxsize=None)\n",
    "        def dfs(i, fuel):\n",
    "            count = 0\n",
    "            for j in range(n):\n",
    "                if i != j:\n",
    "                    x = fuel - abs(locations[i] - locations[j])\n",
    "                    if x >= 0:\n",
    "                        count = (count + dfs(j, x)) % mod\n",
    "                        if j == finish:\n",
    "                            count = (count + 1) % mod\n",
    "            return count\n",
    "        if start == finish:\n",
    "            return (dfs(start, fuel) + 1) % mod\n",
    "        return dfs(start, fuel)\n"
   ]
  }
 ],
 "metadata": {
  "kernelspec": {
   "display_name": "date3k2",
   "language": "python",
   "name": "python3"
  },
  "language_info": {
   "codemirror_mode": {
    "name": "ipython",
    "version": 3
   },
   "file_extension": ".py",
   "mimetype": "text/x-python",
   "name": "python",
   "nbconvert_exporter": "python",
   "pygments_lexer": "ipython3",
   "version": "3.11.0"
  },
  "orig_nbformat": 4
 },
 "nbformat": 4,
 "nbformat_minor": 2
}
