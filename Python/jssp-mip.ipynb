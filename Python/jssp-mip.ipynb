{
 "cells": [
  {
   "cell_type": "markdown",
   "metadata": {},
   "source": [
    "## Job shop scheduling problem (JSSP) with mixed integer programming (MIP)"
   ]
  },
  {
   "cell_type": "code",
   "execution_count": 3,
   "metadata": {},
   "outputs": [],
   "source": [
    "from ortools.linear_solver import pywraplp"
   ]
  },
  {
   "cell_type": "markdown",
   "metadata": {},
   "source": [
    "$$\n",
    "\\begin{align}\n",
    "    \\text{min} \\quad & C \\\\\n",
    "    \\text{s.t.} \\quad & x_{\\sigma_{h-1}^j, j} + p_{\\sigma_{h-1}^j, j} \\leq x_{\\sigma_{h}^j, j}\n",
    "        & \\forall ~ j \\in J; h \\in (2, ..., |M|)\\\\\n",
    "    & x_{m, j} + p_{m, j} \\leq x_{m, k} + V (1 - z_{m, j, k})\n",
    "        & \\forall ~ j, k \\in J, j \\neq k; m \\in M\\\\\n",
    "    & z_{m, j, k} + z_{m, k, j} = 1\n",
    "        & \\forall ~ j, k \\in J, j \\neq k; m \\in M\\\\\n",
    "    & x_{\\sigma_{|M|}^j, j} + p_{\\sigma_{|M|}^j, j} \\leq C\n",
    "        & \\forall ~ j \\in J\\\\\n",
    "    & x_{m, j} \\geq 0 & \\forall ~ j \\in J; m \\in M\\\\\n",
    "    & z_{m, j, k} \\in \\{0, 1\\} & \\forall ~ j, k \\in J; m \\in M\\\\\n",
    "\\end{align}\n",
    "$$"
   ]
  },
  {
   "cell_type": "code",
   "execution_count": 7,
   "metadata": {},
   "outputs": [
    {
     "name": "stdout",
     "output_type": "stream",
     "text": [
      "Durations: \n",
      "35 4 65\n",
      "88 18 18\n",
      "2 80 5\n",
      "83 12 16\n",
      "74 19 8\n",
      "26 36 96\n",
      "29 1 13\n",
      "96 34 2\n",
      "61 56 71\n",
      "98 82 7\n",
      "---------\n",
      "Machines: \n",
      "0 1 2\n",
      "0 1 2\n",
      "2 0 1\n",
      "1 2 0\n",
      "0 2 1\n",
      "2 1 0\n",
      "1 0 2\n",
      "2 0 1\n",
      "0 2 1\n",
      "2 0 1\n",
      "---------\n",
      "Feasible Schedule Length: 567.0\n"
     ]
    }
   ],
   "source": [
    "def jssp_MIP(durations: list[list[int]], machines: list[list[int]]):\n",
    "    model = pywraplp.Solver(\"JSSP\", pywraplp.Solver.CBC_MIXED_INTEGER_PROGRAMMING)\n",
    "    machines_count = len(machines[0])\n",
    "    jobs_count = len(machines)\n",
    "    starts = {}\n",
    "    all_jobs = range(jobs_count)\n",
    "    all_machines = range(machines_count)\n",
    "    horizon = sum([sum(duration) for duration in durations])\n",
    "    \"\"\"\n",
    "    Khởi tạo biến bắt đầu thời gian thực hiện mỗi task trên mỗi máy, là các biến nguyên không âm.\n",
    "    \"\"\"\n",
    "    for i in all_jobs:\n",
    "        for j in all_machines:\n",
    "            starts[(i, j)] = model.IntVar(0, horizon, \"start_%i_%i\" % (i, j))\n",
    "\n",
    "    \"\"\"\n",
    "    Ràng buộc các task phải được thực hiện tuần tự.\n",
    "    \"\"\"\n",
    "    for i in all_jobs:\n",
    "        for j in range(machines_count - 1):\n",
    "            model.Add(starts[(i, j)] + durations[i][j] <= starts[(i, j + 1)])\n",
    "\n",
    "    \"\"\"\n",
    "    Ràng buộc mỗi máy chỉ thực hiện một task tại một thời điểm.\n",
    "    \"\"\"\n",
    "    # Tìm tập các task được thực hiện trên mỗi máy.\n",
    "    machine_to_jobs = {}\n",
    "    for i in all_machines:\n",
    "        machines_jobs = []\n",
    "        for j in all_jobs:\n",
    "            for k in all_machines:\n",
    "                if machines[j][k] == i:\n",
    "                    machines_jobs.append((j, k))\n",
    "        machine_to_jobs[i] = machines_jobs\n",
    "    # Tạo biến nhị phân để chỉ ra task nào được thực hiện trước task nào trên mỗi máy.\n",
    "    precedence = {}\n",
    "    for i in all_machines:\n",
    "        for j in machine_to_jobs[i]:\n",
    "            for k in machine_to_jobs[i]:\n",
    "                if j[0] != k[0]:\n",
    "                    precedence[(j, k)] = model.BoolVar(\n",
    "                        \"precedence_%i(%i)_%i(%i)\" % (j + k)\n",
    "                    )\n",
    "    # Ràng buộc 2 task liên tiếp trên mỗi máy phải được thực hiện tuần tự (tổng các biến nhị phân = 1).\n",
    "    for i in all_machines:\n",
    "        for j in range(len(machine_to_jobs[i]) - 1):\n",
    "            for k in range(j + 1, len(machine_to_jobs[i])):\n",
    "                model.Add(\n",
    "                    precedence[(machine_to_jobs[i][j], machine_to_jobs[i][k])]\n",
    "                    + precedence[(machine_to_jobs[i][k], machine_to_jobs[i][j])]\n",
    "                    == 1\n",
    "                )\n",
    "    # Với mỗi task thực hiện trước, gán ràng buộc về thời gian để các task không bị trùng thời gian.\n",
    "    V = 1_000_000\n",
    "    for i in all_machines:\n",
    "        for j in machine_to_jobs[i]:\n",
    "            for k in machine_to_jobs[i]:\n",
    "                if j[0] != k[0]:\n",
    "                    model.Add(\n",
    "                        starts[j] + durations[j[0]][j[1]]\n",
    "                        <= starts[k] + V * (1 - precedence[(j, k)])\n",
    "                    )\n",
    "    \"\"\"\n",
    "    Khởi tạo biến mục tiêu và ràng buộc.\n",
    "    \"\"\"\n",
    "    obj_var = model.IntVar(0, horizon, \"makespan\")\n",
    "    for i in all_jobs:\n",
    "        model.Add(\n",
    "            obj_var\n",
    "            >= starts[(i, machines_count - 1)] + durations[i][machines_count - 1]\n",
    "        )\n",
    "    model.Minimize(obj_var)\n",
    "    model.set_time_limit(60000)\n",
    "    status = model.Solve()\n",
    "    if status == pywraplp.Solver.OPTIMAL or status == pywraplp.Solver.FEASIBLE:\n",
    "        print(\n",
    "            \"Optimal\"\n",
    "            if status == pywraplp.Solver.OPTIMAL\n",
    "            else \"Feasible\" + \" Schedule Length:\",\n",
    "            model.Objective().Value(),\n",
    "        )\n",
    "    else:\n",
    "        print(\"No optimal solution found.\")\n",
    "\n",
    "\n",
    "if __name__ == \"__main__\":\n",
    "    import numpy as np\n",
    "\n",
    "    np.random.seed(24)\n",
    "    # generate random data for durations and machines\n",
    "    n_job = 10\n",
    "    n_machine = 3\n",
    "    durations = np.random.randint(1, 100, size=(n_job, n_machine)).tolist()\n",
    "    machines = [np.random.permutation(n_machine).tolist() for _ in range(n_job)]\n",
    "    print(\"Durations: \")\n",
    "    for duration in durations:\n",
    "        print(*duration)\n",
    "    print(\"---\" * n_machine)\n",
    "    print(\"Machines: \")\n",
    "    for machine in machines:\n",
    "        print(*machine)\n",
    "    print(\"---\" * n_machine)\n",
    "    jssp_MIP(durations, machines)"
   ]
  },
  {
   "cell_type": "code",
   "execution_count": 1,
   "metadata": {},
   "outputs": [],
   "source": [
    "from jobshop.data_gen import jobshop_data_gen\n",
    "from jobshop.mip import MIPModel"
   ]
  },
  {
   "cell_type": "code",
   "execution_count": 3,
   "metadata": {},
   "outputs": [
    {
     "name": "stdout",
     "output_type": "stream",
     "text": [
      "0 : 257.0\n"
     ]
    },
    {
     "data": {
      "application/vnd.plotly.v1+json": {
       "config": {
        "plotlyServerURL": "https://plot.ly"
       },
       "data": [
        {
         "fill": "toself",
         "fillcolor": "rgb(111, 71, 144)",
         "hoverinfo": "name",
         "legendgroup": "rgb(111, 71, 144)",
         "mode": "none",
         "name": "Job3",
         "type": "scatter",
         "x": [
          "2016-01-01 6:00:00",
          "2016-01-01 6:00:08",
          "2016-01-01 6:00:08",
          "2016-01-01 6:00:00",
          "2016-01-01 6:00:00",
          "2016-01-01 6:04:01",
          "2016-01-01 6:04:17",
          "2016-01-01 6:04:17",
          "2016-01-01 6:04:01",
          "2016-01-01 6:04:01",
          "2016-01-01 6:02:44",
          "2016-01-01 6:04:01",
          "2016-01-01 6:04:01",
          "2016-01-01 6:02:44"
         ],
         "y": [
          1.8,
          1.8,
          2.2,
          2.2,
          null,
          0.8,
          0.8,
          1.2,
          1.2,
          null,
          -0.2,
          -0.2,
          0.2,
          0.2
         ]
        },
        {
         "fill": "toself",
         "fillcolor": "rgb(132, 248, 207)",
         "hoverinfo": "name",
         "legendgroup": "rgb(132, 248, 207)",
         "mode": "none",
         "name": "Job1",
         "type": "scatter",
         "x": [
          "2016-01-01 6:01:51",
          "2016-01-01 6:02:54",
          "2016-01-01 6:02:54",
          "2016-01-01 6:01:51",
          "2016-01-01 6:01:51",
          "2016-01-01 6:01:42",
          "2016-01-01 6:01:51",
          "2016-01-01 6:01:51",
          "2016-01-01 6:01:42",
          "2016-01-01 6:01:42",
          "2016-01-01 6:00:28",
          "2016-01-01 6:01:42",
          "2016-01-01 6:01:42",
          "2016-01-01 6:00:28"
         ],
         "y": [
          1.8,
          1.8,
          2.2,
          2.2,
          null,
          0.8,
          0.8,
          1.2,
          1.2,
          null,
          -0.2,
          -0.2,
          0.2,
          0.2
         ]
        },
        {
         "fill": "toself",
         "fillcolor": "rgb(155, 244, 183)",
         "hoverinfo": "name",
         "legendgroup": "rgb(155, 244, 183)",
         "mode": "none",
         "name": "Job2",
         "type": "scatter",
         "x": [
          "2016-01-01 6:02:54",
          "2016-01-01 6:04:15",
          "2016-01-01 6:04:15",
          "2016-01-01 6:02:54",
          "2016-01-01 6:02:54",
          "2016-01-01 6:01:11",
          "2016-01-01 6:01:42",
          "2016-01-01 6:01:42",
          "2016-01-01 6:01:11",
          "2016-01-01 6:01:11",
          "2016-01-01 6:00:00",
          "2016-01-01 6:00:28",
          "2016-01-01 6:00:28",
          "2016-01-01 6:00:00"
         ],
         "y": [
          1.8,
          1.8,
          2.2,
          2.2,
          null,
          0.8,
          0.8,
          1.2,
          1.2,
          null,
          -0.2,
          -0.2,
          0.2,
          0.2
         ]
        },
        {
         "fill": "toself",
         "fillcolor": "rgb(197, 215, 20)",
         "hoverinfo": "name",
         "legendgroup": "rgb(197, 215, 20)",
         "mode": "none",
         "name": "Job0",
         "type": "scatter",
         "x": [
          "2016-01-01 6:00:08",
          "2016-01-01 6:01:27",
          "2016-01-01 6:01:27",
          "2016-01-01 6:00:08",
          "2016-01-01 6:00:08",
          "2016-01-01 6:03:44",
          "2016-01-01 6:04:01",
          "2016-01-01 6:04:01",
          "2016-01-01 6:03:44",
          "2016-01-01 6:03:44",
          "2016-01-01 6:01:42",
          "2016-01-01 6:02:44",
          "2016-01-01 6:02:44",
          "2016-01-01 6:01:42"
         ],
         "y": [
          1.8,
          1.8,
          2.2,
          2.2,
          null,
          0.8,
          0.8,
          1.2,
          1.2,
          null,
          -0.2,
          -0.2,
          0.2,
          0.2
         ]
        },
        {
         "legendgroup": "rgb(111, 71, 144)",
         "marker": {
          "color": "rgb(111, 71, 144)",
          "opacity": 0,
          "size": 1
         },
         "mode": "markers",
         "name": "",
         "showlegend": false,
         "text": [
          null,
          null,
          null,
          null,
          null,
          null
         ],
         "type": "scatter",
         "x": [
          "2016-01-01 6:00:00",
          "2016-01-01 6:00:08",
          "2016-01-01 6:04:01",
          "2016-01-01 6:04:17",
          "2016-01-01 6:02:44",
          "2016-01-01 6:04:01"
         ],
         "y": [
          2,
          2,
          1,
          1,
          0,
          0
         ]
        },
        {
         "legendgroup": "rgb(132, 248, 207)",
         "marker": {
          "color": "rgb(132, 248, 207)",
          "opacity": 0,
          "size": 1
         },
         "mode": "markers",
         "name": "",
         "showlegend": false,
         "text": [
          null,
          null,
          null,
          null,
          null,
          null
         ],
         "type": "scatter",
         "x": [
          "2016-01-01 6:01:51",
          "2016-01-01 6:02:54",
          "2016-01-01 6:01:42",
          "2016-01-01 6:01:51",
          "2016-01-01 6:00:28",
          "2016-01-01 6:01:42"
         ],
         "y": [
          2,
          2,
          1,
          1,
          0,
          0
         ]
        },
        {
         "legendgroup": "rgb(155, 244, 183)",
         "marker": {
          "color": "rgb(155, 244, 183)",
          "opacity": 0,
          "size": 1
         },
         "mode": "markers",
         "name": "",
         "showlegend": false,
         "text": [
          null,
          null,
          null,
          null,
          null,
          null
         ],
         "type": "scatter",
         "x": [
          "2016-01-01 6:02:54",
          "2016-01-01 6:04:15",
          "2016-01-01 6:01:11",
          "2016-01-01 6:01:42",
          "2016-01-01 6:00:00",
          "2016-01-01 6:00:28"
         ],
         "y": [
          2,
          2,
          1,
          1,
          0,
          0
         ]
        },
        {
         "legendgroup": "rgb(197, 215, 20)",
         "marker": {
          "color": "rgb(197, 215, 20)",
          "opacity": 0,
          "size": 1
         },
         "mode": "markers",
         "name": "",
         "showlegend": false,
         "text": [
          null,
          null,
          null,
          null,
          null,
          null
         ],
         "type": "scatter",
         "x": [
          "2016-01-01 6:00:08",
          "2016-01-01 6:01:27",
          "2016-01-01 6:03:44",
          "2016-01-01 6:04:01",
          "2016-01-01 6:01:42",
          "2016-01-01 6:02:44"
         ],
         "y": [
          2,
          2,
          1,
          1,
          0,
          0
         ]
        }
       ],
       "layout": {
        "height": 600,
        "hovermode": "closest",
        "showlegend": false,
        "template": {
         "data": {
          "bar": [
           {
            "error_x": {
             "color": "#2a3f5f"
            },
            "error_y": {
             "color": "#2a3f5f"
            },
            "marker": {
             "line": {
              "color": "#E5ECF6",
              "width": 0.5
             },
             "pattern": {
              "fillmode": "overlay",
              "size": 10,
              "solidity": 0.2
             }
            },
            "type": "bar"
           }
          ],
          "barpolar": [
           {
            "marker": {
             "line": {
              "color": "#E5ECF6",
              "width": 0.5
             },
             "pattern": {
              "fillmode": "overlay",
              "size": 10,
              "solidity": 0.2
             }
            },
            "type": "barpolar"
           }
          ],
          "carpet": [
           {
            "aaxis": {
             "endlinecolor": "#2a3f5f",
             "gridcolor": "white",
             "linecolor": "white",
             "minorgridcolor": "white",
             "startlinecolor": "#2a3f5f"
            },
            "baxis": {
             "endlinecolor": "#2a3f5f",
             "gridcolor": "white",
             "linecolor": "white",
             "minorgridcolor": "white",
             "startlinecolor": "#2a3f5f"
            },
            "type": "carpet"
           }
          ],
          "choropleth": [
           {
            "colorbar": {
             "outlinewidth": 0,
             "ticks": ""
            },
            "type": "choropleth"
           }
          ],
          "contour": [
           {
            "colorbar": {
             "outlinewidth": 0,
             "ticks": ""
            },
            "colorscale": [
             [
              0,
              "#0d0887"
             ],
             [
              0.1111111111111111,
              "#46039f"
             ],
             [
              0.2222222222222222,
              "#7201a8"
             ],
             [
              0.3333333333333333,
              "#9c179e"
             ],
             [
              0.4444444444444444,
              "#bd3786"
             ],
             [
              0.5555555555555556,
              "#d8576b"
             ],
             [
              0.6666666666666666,
              "#ed7953"
             ],
             [
              0.7777777777777778,
              "#fb9f3a"
             ],
             [
              0.8888888888888888,
              "#fdca26"
             ],
             [
              1,
              "#f0f921"
             ]
            ],
            "type": "contour"
           }
          ],
          "contourcarpet": [
           {
            "colorbar": {
             "outlinewidth": 0,
             "ticks": ""
            },
            "type": "contourcarpet"
           }
          ],
          "heatmap": [
           {
            "colorbar": {
             "outlinewidth": 0,
             "ticks": ""
            },
            "colorscale": [
             [
              0,
              "#0d0887"
             ],
             [
              0.1111111111111111,
              "#46039f"
             ],
             [
              0.2222222222222222,
              "#7201a8"
             ],
             [
              0.3333333333333333,
              "#9c179e"
             ],
             [
              0.4444444444444444,
              "#bd3786"
             ],
             [
              0.5555555555555556,
              "#d8576b"
             ],
             [
              0.6666666666666666,
              "#ed7953"
             ],
             [
              0.7777777777777778,
              "#fb9f3a"
             ],
             [
              0.8888888888888888,
              "#fdca26"
             ],
             [
              1,
              "#f0f921"
             ]
            ],
            "type": "heatmap"
           }
          ],
          "heatmapgl": [
           {
            "colorbar": {
             "outlinewidth": 0,
             "ticks": ""
            },
            "colorscale": [
             [
              0,
              "#0d0887"
             ],
             [
              0.1111111111111111,
              "#46039f"
             ],
             [
              0.2222222222222222,
              "#7201a8"
             ],
             [
              0.3333333333333333,
              "#9c179e"
             ],
             [
              0.4444444444444444,
              "#bd3786"
             ],
             [
              0.5555555555555556,
              "#d8576b"
             ],
             [
              0.6666666666666666,
              "#ed7953"
             ],
             [
              0.7777777777777778,
              "#fb9f3a"
             ],
             [
              0.8888888888888888,
              "#fdca26"
             ],
             [
              1,
              "#f0f921"
             ]
            ],
            "type": "heatmapgl"
           }
          ],
          "histogram": [
           {
            "marker": {
             "pattern": {
              "fillmode": "overlay",
              "size": 10,
              "solidity": 0.2
             }
            },
            "type": "histogram"
           }
          ],
          "histogram2d": [
           {
            "colorbar": {
             "outlinewidth": 0,
             "ticks": ""
            },
            "colorscale": [
             [
              0,
              "#0d0887"
             ],
             [
              0.1111111111111111,
              "#46039f"
             ],
             [
              0.2222222222222222,
              "#7201a8"
             ],
             [
              0.3333333333333333,
              "#9c179e"
             ],
             [
              0.4444444444444444,
              "#bd3786"
             ],
             [
              0.5555555555555556,
              "#d8576b"
             ],
             [
              0.6666666666666666,
              "#ed7953"
             ],
             [
              0.7777777777777778,
              "#fb9f3a"
             ],
             [
              0.8888888888888888,
              "#fdca26"
             ],
             [
              1,
              "#f0f921"
             ]
            ],
            "type": "histogram2d"
           }
          ],
          "histogram2dcontour": [
           {
            "colorbar": {
             "outlinewidth": 0,
             "ticks": ""
            },
            "colorscale": [
             [
              0,
              "#0d0887"
             ],
             [
              0.1111111111111111,
              "#46039f"
             ],
             [
              0.2222222222222222,
              "#7201a8"
             ],
             [
              0.3333333333333333,
              "#9c179e"
             ],
             [
              0.4444444444444444,
              "#bd3786"
             ],
             [
              0.5555555555555556,
              "#d8576b"
             ],
             [
              0.6666666666666666,
              "#ed7953"
             ],
             [
              0.7777777777777778,
              "#fb9f3a"
             ],
             [
              0.8888888888888888,
              "#fdca26"
             ],
             [
              1,
              "#f0f921"
             ]
            ],
            "type": "histogram2dcontour"
           }
          ],
          "mesh3d": [
           {
            "colorbar": {
             "outlinewidth": 0,
             "ticks": ""
            },
            "type": "mesh3d"
           }
          ],
          "parcoords": [
           {
            "line": {
             "colorbar": {
              "outlinewidth": 0,
              "ticks": ""
             }
            },
            "type": "parcoords"
           }
          ],
          "pie": [
           {
            "automargin": true,
            "type": "pie"
           }
          ],
          "scatter": [
           {
            "fillpattern": {
             "fillmode": "overlay",
             "size": 10,
             "solidity": 0.2
            },
            "type": "scatter"
           }
          ],
          "scatter3d": [
           {
            "line": {
             "colorbar": {
              "outlinewidth": 0,
              "ticks": ""
             }
            },
            "marker": {
             "colorbar": {
              "outlinewidth": 0,
              "ticks": ""
             }
            },
            "type": "scatter3d"
           }
          ],
          "scattercarpet": [
           {
            "marker": {
             "colorbar": {
              "outlinewidth": 0,
              "ticks": ""
             }
            },
            "type": "scattercarpet"
           }
          ],
          "scattergeo": [
           {
            "marker": {
             "colorbar": {
              "outlinewidth": 0,
              "ticks": ""
             }
            },
            "type": "scattergeo"
           }
          ],
          "scattergl": [
           {
            "marker": {
             "colorbar": {
              "outlinewidth": 0,
              "ticks": ""
             }
            },
            "type": "scattergl"
           }
          ],
          "scattermapbox": [
           {
            "marker": {
             "colorbar": {
              "outlinewidth": 0,
              "ticks": ""
             }
            },
            "type": "scattermapbox"
           }
          ],
          "scatterpolar": [
           {
            "marker": {
             "colorbar": {
              "outlinewidth": 0,
              "ticks": ""
             }
            },
            "type": "scatterpolar"
           }
          ],
          "scatterpolargl": [
           {
            "marker": {
             "colorbar": {
              "outlinewidth": 0,
              "ticks": ""
             }
            },
            "type": "scatterpolargl"
           }
          ],
          "scatterternary": [
           {
            "marker": {
             "colorbar": {
              "outlinewidth": 0,
              "ticks": ""
             }
            },
            "type": "scatterternary"
           }
          ],
          "surface": [
           {
            "colorbar": {
             "outlinewidth": 0,
             "ticks": ""
            },
            "colorscale": [
             [
              0,
              "#0d0887"
             ],
             [
              0.1111111111111111,
              "#46039f"
             ],
             [
              0.2222222222222222,
              "#7201a8"
             ],
             [
              0.3333333333333333,
              "#9c179e"
             ],
             [
              0.4444444444444444,
              "#bd3786"
             ],
             [
              0.5555555555555556,
              "#d8576b"
             ],
             [
              0.6666666666666666,
              "#ed7953"
             ],
             [
              0.7777777777777778,
              "#fb9f3a"
             ],
             [
              0.8888888888888888,
              "#fdca26"
             ],
             [
              1,
              "#f0f921"
             ]
            ],
            "type": "surface"
           }
          ],
          "table": [
           {
            "cells": {
             "fill": {
              "color": "#EBF0F8"
             },
             "line": {
              "color": "white"
             }
            },
            "header": {
             "fill": {
              "color": "#C8D4E3"
             },
             "line": {
              "color": "white"
             }
            },
            "type": "table"
           }
          ]
         },
         "layout": {
          "annotationdefaults": {
           "arrowcolor": "#2a3f5f",
           "arrowhead": 0,
           "arrowwidth": 1
          },
          "autotypenumbers": "strict",
          "coloraxis": {
           "colorbar": {
            "outlinewidth": 0,
            "ticks": ""
           }
          },
          "colorscale": {
           "diverging": [
            [
             0,
             "#8e0152"
            ],
            [
             0.1,
             "#c51b7d"
            ],
            [
             0.2,
             "#de77ae"
            ],
            [
             0.3,
             "#f1b6da"
            ],
            [
             0.4,
             "#fde0ef"
            ],
            [
             0.5,
             "#f7f7f7"
            ],
            [
             0.6,
             "#e6f5d0"
            ],
            [
             0.7,
             "#b8e186"
            ],
            [
             0.8,
             "#7fbc41"
            ],
            [
             0.9,
             "#4d9221"
            ],
            [
             1,
             "#276419"
            ]
           ],
           "sequential": [
            [
             0,
             "#0d0887"
            ],
            [
             0.1111111111111111,
             "#46039f"
            ],
            [
             0.2222222222222222,
             "#7201a8"
            ],
            [
             0.3333333333333333,
             "#9c179e"
            ],
            [
             0.4444444444444444,
             "#bd3786"
            ],
            [
             0.5555555555555556,
             "#d8576b"
            ],
            [
             0.6666666666666666,
             "#ed7953"
            ],
            [
             0.7777777777777778,
             "#fb9f3a"
            ],
            [
             0.8888888888888888,
             "#fdca26"
            ],
            [
             1,
             "#f0f921"
            ]
           ],
           "sequentialminus": [
            [
             0,
             "#0d0887"
            ],
            [
             0.1111111111111111,
             "#46039f"
            ],
            [
             0.2222222222222222,
             "#7201a8"
            ],
            [
             0.3333333333333333,
             "#9c179e"
            ],
            [
             0.4444444444444444,
             "#bd3786"
            ],
            [
             0.5555555555555556,
             "#d8576b"
            ],
            [
             0.6666666666666666,
             "#ed7953"
            ],
            [
             0.7777777777777778,
             "#fb9f3a"
            ],
            [
             0.8888888888888888,
             "#fdca26"
            ],
            [
             1,
             "#f0f921"
            ]
           ]
          },
          "colorway": [
           "#636efa",
           "#EF553B",
           "#00cc96",
           "#ab63fa",
           "#FFA15A",
           "#19d3f3",
           "#FF6692",
           "#B6E880",
           "#FF97FF",
           "#FECB52"
          ],
          "font": {
           "color": "#2a3f5f"
          },
          "geo": {
           "bgcolor": "white",
           "lakecolor": "white",
           "landcolor": "#E5ECF6",
           "showlakes": true,
           "showland": true,
           "subunitcolor": "white"
          },
          "hoverlabel": {
           "align": "left"
          },
          "hovermode": "closest",
          "mapbox": {
           "style": "light"
          },
          "paper_bgcolor": "white",
          "plot_bgcolor": "#E5ECF6",
          "polar": {
           "angularaxis": {
            "gridcolor": "white",
            "linecolor": "white",
            "ticks": ""
           },
           "bgcolor": "#E5ECF6",
           "radialaxis": {
            "gridcolor": "white",
            "linecolor": "white",
            "ticks": ""
           }
          },
          "scene": {
           "xaxis": {
            "backgroundcolor": "#E5ECF6",
            "gridcolor": "white",
            "gridwidth": 2,
            "linecolor": "white",
            "showbackground": true,
            "ticks": "",
            "zerolinecolor": "white"
           },
           "yaxis": {
            "backgroundcolor": "#E5ECF6",
            "gridcolor": "white",
            "gridwidth": 2,
            "linecolor": "white",
            "showbackground": true,
            "ticks": "",
            "zerolinecolor": "white"
           },
           "zaxis": {
            "backgroundcolor": "#E5ECF6",
            "gridcolor": "white",
            "gridwidth": 2,
            "linecolor": "white",
            "showbackground": true,
            "ticks": "",
            "zerolinecolor": "white"
           }
          },
          "shapedefaults": {
           "line": {
            "color": "#2a3f5f"
           }
          },
          "ternary": {
           "aaxis": {
            "gridcolor": "white",
            "linecolor": "white",
            "ticks": ""
           },
           "baxis": {
            "gridcolor": "white",
            "linecolor": "white",
            "ticks": ""
           },
           "bgcolor": "#E5ECF6",
           "caxis": {
            "gridcolor": "white",
            "linecolor": "white",
            "ticks": ""
           }
          },
          "title": {
           "x": 0.05
          },
          "xaxis": {
           "automargin": true,
           "gridcolor": "white",
           "linecolor": "white",
           "ticks": "",
           "title": {
            "standoff": 15
           },
           "zerolinecolor": "white",
           "zerolinewidth": 2
          },
          "yaxis": {
           "automargin": true,
           "gridcolor": "white",
           "linecolor": "white",
           "ticks": "",
           "title": {
            "standoff": 15
           },
           "zerolinecolor": "white",
           "zerolinewidth": 2
          }
         }
        },
        "title": {
         "text": "MIPModel"
        },
        "xaxis": {
         "rangeselector": {
          "buttons": [
           {
            "count": 7,
            "label": "1w",
            "step": "day",
            "stepmode": "backward"
           },
           {
            "count": 1,
            "label": "1m",
            "step": "month",
            "stepmode": "backward"
           },
           {
            "count": 6,
            "label": "6m",
            "step": "month",
            "stepmode": "backward"
           },
           {
            "count": 1,
            "label": "YTD",
            "step": "year",
            "stepmode": "todate"
           },
           {
            "count": 1,
            "label": "1y",
            "step": "year",
            "stepmode": "backward"
           },
           {
            "step": "all"
           }
          ]
         },
         "showgrid": true,
         "type": "date",
         "zeroline": false
        },
        "yaxis": {
         "autorange": false,
         "range": [
          -1,
          4
         ],
         "showgrid": true,
         "ticktext": [
          "Resource2",
          "Resource1",
          "Resource0"
         ],
         "tickvals": [
          0,
          1,
          2
         ],
         "zeroline": false
        }
       }
      }
     },
     "metadata": {},
     "output_type": "display_data"
    },
    {
     "name": "stdout",
     "output_type": "stream",
     "text": [
      "Mixed Integer Programming (MIP) model summary:\n",
      "66 constraints\n",
      "49 variables\n",
      "233 ms\n"
     ]
    }
   ],
   "source": [
    "durations, machines = jobshop_data_gen(4, 3, 5)\n",
    "mip = MIPModel(durations, machines)\n",
    "mip.solve()\n",
    "mip.summary()"
   ]
  }
 ],
 "metadata": {
  "kernelspec": {
   "display_name": ".venv",
   "language": "python",
   "name": "python3"
  },
  "language_info": {
   "codemirror_mode": {
    "name": "ipython",
    "version": 3
   },
   "file_extension": ".py",
   "mimetype": "text/x-python",
   "name": "python",
   "nbconvert_exporter": "python",
   "pygments_lexer": "ipython3",
   "version": "3.11.0"
  }
 },
 "nbformat": 4,
 "nbformat_minor": 2
}
