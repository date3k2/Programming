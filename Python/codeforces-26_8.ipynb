{
 "cells": [
  {
   "cell_type": "code",
   "execution_count": 15,
   "metadata": {},
   "outputs": [],
   "source": [
    "import sys\n",
    "\n",
    "sys.stdin = open(r\"C:\\Users\\nguye\\Documents\\Code\\Programming\\C++\\test.inp\", \"r\")\n",
    "sys.stdout = open(r\"C:\\Users\\nguye\\Documents\\Code\\Programming\\C++\\test.out\", \"w\")\n",
    "input = sys.stdin.readline\n",
    "out = sys.stdout.write\n",
    "t = int(input())\n",
    "for _ in range(t):\n",
    "    x, y, n = map(int, input().split())\n",
    "    if n * (n - 1) > 2 * (y - x):\n",
    "        print(-1)\n",
    "    else:\n",
    "        a = y - x - (n - 2) * (n - 1) // 2\n",
    "        print(x, x + a, end=\" \")\n",
    "        x += a\n",
    "        for i in range(n - 2, 1, -1):\n",
    "            x += i\n",
    "            print(x, end=\" \")\n",
    "        print(y)"
   ]
  },
  {
   "cell_type": "code",
   "execution_count": 33,
   "metadata": {},
   "outputs": [],
   "source": [
    "import sys\n",
    "\n",
    "sys.stdin = open(r\"C:\\Users\\nguye\\Documents\\Code\\Programming\\C++\\test.inp\", \"r\")\n",
    "sys.stdout = open(r\"C:\\Users\\nguye\\Documents\\Code\\Programming\\C++\\test.out\", \"w\")\n",
    "input = sys.stdin.readline\n",
    "out = sys.stdout.write\n",
    "t = int(input())\n",
    "for _ in range(t):\n",
    "    n, k = map(int, input().split())\n",
    "    s = input().strip()\n",
    "    if k % 2 == 0:\n",
    "        print(\"\".join(sorted(s)))\n",
    "    else:\n",
    "        odd = sorted([s[i] for i in range(1, n, 2)])\n",
    "        even = sorted([s[i] for i in range(0, n, 2)])\n",
    "        for i in range(n // 2):\n",
    "            print(even[i], odd[i], end=\"\", sep=\"\")\n",
    "        if n % 2 == 1:\n",
    "            print(even[-1])\n",
    "        else:\n",
    "            print()"
   ]
  },
  {
   "cell_type": "code",
   "execution_count": 72,
   "metadata": {},
   "outputs": [],
   "source": [
    "import sys\n",
    "\n",
    "sys.stdin = open(r\"C:\\Users\\nguye\\Documents\\Code\\Programming\\C++\\test.inp\", \"r\")\n",
    "sys.stdout = open(r\"C:\\Users\\nguye\\Documents\\Code\\Programming\\C++\\test.out\", \"w\")\n",
    "input = sys.stdin.readline\n",
    "out = sys.stdout.write\n",
    "t = int(input())\n",
    "for _ in range(t):\n",
    "    x = int(input())\n",
    "    ans = [1]\n",
    "    while ans[-1] < x:\n",
    "        ans.append(ans[-1] * 2)\n",
    "    if ans[-1] == x:\n",
    "        print(len(ans))\n",
    "        print(*ans[::-1])\n",
    "    else:\n",
    "        ans.pop()\n",
    "        t = ans[-1]\n",
    "        while ans[-1] != x:\n",
    "            while ans[-1] + t > x:\n",
    "                t = t // 2\n",
    "            ans.append(ans[-1] + t)\n",
    "        print(len(ans))\n",
    "        print(*ans[::-1])"
   ]
  },
  {
   "cell_type": "code",
   "execution_count": 118,
   "metadata": {},
   "outputs": [],
   "source": [
    "import sys\n",
    "\n",
    "sys.stdin = open(r\"C:\\Users\\nguye\\Documents\\Code\\Programming\\C++\\test.inp\", \"r\")\n",
    "sys.stdout = open(r\"C:\\Users\\nguye\\Documents\\Code\\Programming\\C++\\test.out\", \"w\")\n",
    "input = sys.stdin.readline\n",
    "out = sys.stdout.write\n",
    "t = int(input())\n",
    "for _ in range(t):\n",
    "    n = int(input())\n",
    "    matrix = []\n",
    "    for _ in range(n):\n",
    "        matrix.append(input().strip())\n",
    "    count = 0\n",
    "    matrix_1 = [int(i,2) for i in matrix]\n",
    "    print(matrix_1)\n",
    "    for i in range(1):\n",
    "        for j in range(n):\n",
    "            if matrix[i][j] == 1:\n",
    "                for k in range(i+1,n):\n",
    "                    for l in range(max(0,j-(k-i)),min(n,j+k-i+1)):\n",
    "                            matrix[k][l] = 1 - matrix[k][l]\n",
    "                count += 1\n",
    "    for i in range(n):\n",
    "        for j in range(n):\n",
    "            print(matrix[i][j],end=\"\")\n",
    "        print()\n",
    "    print('-'*20)\n",
    "    print(count)"
   ]
  },
  {
   "cell_type": "code",
   "execution_count": 9,
   "metadata": {},
   "outputs": [
    {
     "data": {
      "text/plain": [
       "deque([2, 3, 4, 5, 1])"
      ]
     },
     "execution_count": 9,
     "metadata": {},
     "output_type": "execute_result"
    }
   ],
   "source": [
    "from collections import deque\n",
    "l = [1,2,3,4,5]\n",
    "q = deque(l)\n",
    "q.rotate(-1)\n",
    "q"
   ]
  },
  {
   "cell_type": "code",
   "execution_count": 14,
   "metadata": {},
   "outputs": [
    {
     "data": {
      "text/plain": [
       "1"
      ]
     },
     "execution_count": 14,
     "metadata": {},
     "output_type": "execute_result"
    }
   ],
   "source": [
    "class Solution:\n",
    "    def bestClosingTime(self, customers: str) -> int:\n",
    "        n = len(customers)\n",
    "        no, yes = [0] * n, [0] * n\n",
    "        for i, s in enumerate(customers):\n",
    "            yes[i] = yes[i - 1] + (s == \"Y\")\n",
    "            no[i] = no[i - 1] + (s == \"N\")\n",
    "        min_penalty = yes[-1]\n",
    "        ans = 0\n",
    "        for i in range(1, n + 1):\n",
    "            if min_penalty > no[i - 1] + yes[-1] - yes[i - 1]:\n",
    "                min_penalty = no[i - 1] + yes[-1] - yes[i - 1]\n",
    "                ans = i\n",
    "            print(no[i - 1] + yes[-1] - yes[i - 1])\n",
    "        return ans\n",
    "\n",
    "\n",
    "customers = \"YYNY\"\n",
    "Solution().bestClosingTime(customers)"
   ]
  }
 ],
 "metadata": {
  "kernelspec": {
   "display_name": ".venv",
   "language": "python",
   "name": "python3"
  },
  "language_info": {
   "codemirror_mode": {
    "name": "ipython",
    "version": 3
   },
   "file_extension": ".py",
   "mimetype": "text/x-python",
   "name": "python",
   "nbconvert_exporter": "python",
   "pygments_lexer": "ipython3",
   "version": "3.11.0"
  },
  "orig_nbformat": 4
 },
 "nbformat": 4,
 "nbformat_minor": 2
}
