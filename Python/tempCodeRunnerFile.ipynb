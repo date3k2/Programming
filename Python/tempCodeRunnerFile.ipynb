import bisect
import sys
input = sys.stdin.readline
def lengthOfLIS(nums: list[int]) -> int:
    l = []
    for num in nums:
        x = bisect.bisect_left(l,num)
        if x==len(l):
            l.append(num)
        else:
            l[x]=num
    return len(l)
n = int(input())
nums = list(map(int,input().split()))
print(lengthOfLIS(nums))