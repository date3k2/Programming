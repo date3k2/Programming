import sys
from collections import defaultdict

sys.stdin = open(r"C:\Users\nguye\Documents\Code\Programming\C++\test.inp", "r")
sys.stdout = open(r"C:\Users\nguye\Documents\Code\Programming\C++\test.out", "w")
input = sys.stdin.readline
n, L, m = map(int, input().split())
d = defaultdict(bool)
for _ in range(n):
    x = int(input())
    d[x] = True
key = 1
for _ in range(m):
    while d[key]:
        key += 1
    key += 1
ans = [i for i in d]
ans.sort()
for i in ans:
    print(str(i).zfill(L))