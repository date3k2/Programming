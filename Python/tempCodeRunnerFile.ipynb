import sys
from collections import deque,defaultdict
input = sys.stdin.readline
t = int(input())
while t:
    t -= 1
    n = int(input())
    adj = defaultdict(list)
    pos = {}
    q = deque()
    check = [False] * (n+1)
    for i in range(n-1):
        u, v = list(map(int, input().split()))
        adj[u].append(v)
        adj[v].append(u)
        pos[(u, v)] = i
        pos[(v, u)] = i
        if u == 1:
            q.append((v, i))
            check[i] = True
        elif v == 1:
            q.append((u, i))
            check[i] = True
    count = 0
    while q:
        count += 1
        q_new = deque()
        while q:
            u, i = q.popleft()
            for v in adj[u]:
                if check[pos[(u, v)]]:
                    continue
                if pos[(u, v)] < i:
                    q_new.append((v, pos[(u, v)]))
                else:
                    q.append((v, pos[(u, v)]))
                check[pos[(u, v)]] = True
        q = q_new
    sys.stdout.write(str(count) + "\n")
