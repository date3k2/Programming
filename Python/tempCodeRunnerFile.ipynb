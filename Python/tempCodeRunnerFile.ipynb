# calculate square root with high precision
from decimal import *
getcontext().prec = 100
n = int(input())
print(int(Decimal(n).sqrt()))