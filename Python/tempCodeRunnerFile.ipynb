grid = [[3, 2, 1], [1, 7, 6], [2, 7, 7]]
# grid = [[3,1,2,2],[1,4,4,5],[2,4,2,2],[2,4,2,2]]
grid = [[1, 2], [2, 1]]
freq = {}
for i in zip(*grid):
    freq[i] = freq.get(i, 0) + 1
ans = 0
for i in grid:
    if freq.get(tuple(i), 0) > 0:
        ans += freq[tuple(i)]
print(freq)
print(ans)