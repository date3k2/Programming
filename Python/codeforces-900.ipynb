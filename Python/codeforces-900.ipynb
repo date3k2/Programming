{
 "cells": [
  {
   "cell_type": "code",
   "execution_count": 1,
   "metadata": {},
   "outputs": [],
   "source": [
    "import sys\n",
    "\n",
    "sys.stdin = open(r\"C:\\Users\\nguye\\Documents\\Code\\Programming\\C++\\test.inp\", \"r\")\n",
    "sys.stdout = open(r\"C:\\Users\\nguye\\Documents\\Code\\Programming\\C++\\test.out\", \"w\")\n",
    "input = sys.stdin.readline\n",
    "t = int(input())\n",
    "for _ in range(t):\n",
    "    pass"
   ]
  }
 ],
 "metadata": {
  "kernelspec": {
   "display_name": ".venv",
   "language": "python",
   "name": "python3"
  },
  "language_info": {
   "codemirror_mode": {
    "name": "ipython",
    "version": 3
   },
   "file_extension": ".py",
   "mimetype": "text/x-python",
   "name": "python",
   "nbconvert_exporter": "python",
   "pygments_lexer": "ipython3",
   "version": "3.11.0"
  },
  "orig_nbformat": 4
 },
 "nbformat": 4,
 "nbformat_minor": 2
}
