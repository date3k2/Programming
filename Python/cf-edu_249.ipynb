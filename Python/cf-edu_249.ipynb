{
 "cells": [
  {
   "cell_type": "code",
   "execution_count": 10,
   "metadata": {},
   "outputs": [],
   "source": [
    "import sys\n",
    "\n",
    "sys.stdin = open(r\"C:\\Users\\nguye\\Documents\\Code\\Programming\\C++\\test.inp\", \"r\")\n",
    "sys.stdout = open(r\"C:\\Users\\nguye\\Documents\\Code\\Programming\\C++\\test.out\", \"w\")\n",
    "input = sys.stdin.readline\n",
    "t = int(input())\n",
    "for _ in range(t):\n",
    "    n = int(input())\n",
    "    a, b = map(int, input().split())\n",
    "    check = True\n",
    "    for i in range(n - 1):\n",
    "        s, e = map(int, input().split())\n",
    "        if s >= a and e >= b:\n",
    "            check = False\n",
    "    if check:\n",
    "        print(a)\n",
    "    else:\n",
    "        print(-1)"
   ]
  },
  {
   "cell_type": "code",
   "execution_count": 12,
   "metadata": {},
   "outputs": [],
   "source": [
    "import sys\n",
    "\n",
    "sys.stdin = open(r\"C:\\Users\\nguye\\Documents\\Code\\Programming\\C++\\test.inp\", \"r\")\n",
    "sys.stdout = open(r\"C:\\Users\\nguye\\Documents\\Code\\Programming\\C++\\test.out\", \"w\")\n",
    "input = sys.stdin.readline\n",
    "t = int(input())\n",
    "for _ in range(t):\n",
    "    n = int(input())\n",
    "    a = list(map(int, input().split()))\n",
    "    b = list(map(int, input().split()))\n",
    "    print(min(sum(a) + min(b) * n, sum(b) + min(a) * n))"
   ]
  },
  {
   "cell_type": "code",
   "execution_count": 27,
   "metadata": {},
   "outputs": [
    {
     "ename": "",
     "evalue": "",
     "output_type": "error",
     "traceback": [
      "\u001b[1;31mThe Kernel crashed while executing code in the the current cell or a previous cell. Please review the code in the cell(s) to identify a possible cause of the failure. Click <a href='https://aka.ms/vscodeJupyterKernelCrash'>here</a> for more info. View Jupyter <a href='command:jupyter.viewOutput'>log</a> for further details."
     ]
    }
   ],
   "source": [
    "import sys\n",
    "from functools import cache\n",
    "\n",
    "MOD = 998244353\n",
    "\n",
    "\n",
    "@cache\n",
    "def factorial(n):\n",
    "    ans = 1\n",
    "    for i in range(1, n + 1):\n",
    "        ans = ans * i % MOD\n",
    "    return ans\n",
    "\n",
    "\n",
    "sys.stdin = open(r\"C:\\Users\\nguye\\Documents\\Code\\Programming\\C++\\test.inp\", \"r\")\n",
    "sys.stdout = open(r\"C:\\Users\\nguye\\Documents\\Code\\Programming\\C++\\test.out\", \"w\")\n",
    "input = sys.stdin.readline\n",
    "# t = int(input())\n",
    "# for _ in range(t):\n",
    "#     s = input().rstrip()\n",
    "#     n = len(s)\n",
    "#     count = 0\n",
    "#     min_op = 0\n",
    "#     ans = 1\n",
    "#     for i in range(n - 1):\n",
    "#         if s[i] == s[i + 1]:\n",
    "#             count += 1\n",
    "#         elif count > 0:\n",
    "#             min_op += count\n",
    "#             ans = ans * (count + 1) % MOD\n",
    "#             count = 0\n",
    "#     if count > 0:\n",
    "#         min_op += count\n",
    "#         ans = ans * (count + 1) % MOD\n",
    "#     ans = ans * factorial(min_op) % MOD\n",
    "#     print(min_op, ans)\n",
    "print(factorial(10000))"
   ]
  }
 ],
 "metadata": {
  "kernelspec": {
   "display_name": ".venv",
   "language": "python",
   "name": "python3"
  },
  "language_info": {
   "codemirror_mode": {
    "name": "ipython",
    "version": 3
   },
   "file_extension": ".py",
   "mimetype": "text/x-python",
   "name": "python",
   "nbconvert_exporter": "python",
   "pygments_lexer": "ipython3",
   "version": "3.11.0"
  },
  "orig_nbformat": 4
 },
 "nbformat": 4,
 "nbformat_minor": 2
}
