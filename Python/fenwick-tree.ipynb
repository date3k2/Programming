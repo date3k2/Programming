{
 "cells": [
  {
   "cell_type": "code",
   "execution_count": 2,
   "metadata": {},
   "outputs": [
    {
     "name": "stdout",
     "output_type": "stream",
     "text": [
      "[0, 1, 4, 5, 14, 2]\n",
      "10\n"
     ]
    }
   ],
   "source": [
    "class FenwickTree:\n",
    "    def __init__(self, nums):\n",
    "        self.nums = nums\n",
    "        self.n = len(nums)\n",
    "        self.tree = [0] * (self.n + 1)\n",
    "        for i, num in enumerate(nums):\n",
    "            self.update(i, num)\n",
    "\n",
    "    def update(self, index: int, val) -> None:\n",
    "        index += 1\n",
    "        while index <= self.n:\n",
    "            self.tree[index] += val\n",
    "            index += index & (-index)\n",
    "\n",
    "    def get(self, index: int) -> int:\n",
    "        index += 1\n",
    "        ans = 0\n",
    "        while index > 0:\n",
    "            ans += self.tree[index]\n",
    "            index -= index & (-index)\n",
    "        return ans\n",
    "    \n",
    "\n",
    "arr = [1, 3, 5,5,2]\n",
    "ft = FenwickTree(arr)\n",
    "print(ft.tree)\n",
    "print(ft.get(3) - ft.get(1))"
   ]
  }
 ],
 "metadata": {
  "kernelspec": {
   "display_name": ".venv",
   "language": "python",
   "name": "python3"
  },
  "language_info": {
   "codemirror_mode": {
    "name": "ipython",
    "version": 3
   },
   "file_extension": ".py",
   "mimetype": "text/x-python",
   "name": "python",
   "nbconvert_exporter": "python",
   "pygments_lexer": "ipython3",
   "version": "3.11.0"
  },
  "orig_nbformat": 4
 },
 "nbformat": 4,
 "nbformat_minor": 2
}
