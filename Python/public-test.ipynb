{
 "cells": [
  {
   "cell_type": "markdown",
   "metadata": {},
   "source": [
    "## Import libraries\n"
   ]
  },
  {
   "cell_type": "code",
   "execution_count": 31,
   "metadata": {},
   "outputs": [],
   "source": [
    "import pandas as pd\n",
    "import numpy as np\n",
    "import seaborn as sns\n",
    "import matplotlib.pyplot as plt\n",
    "from sklearn.preprocessing import MinMaxScaler\n",
    "from sklearn.impute import SimpleImputer\n",
    "from sklearn.pipeline import Pipeline"
   ]
  },
  {
   "cell_type": "markdown",
   "metadata": {},
   "source": [
    "## Load and preprocess data\n"
   ]
  },
  {
   "cell_type": "code",
   "execution_count": 3,
   "metadata": {},
   "outputs": [],
   "source": [
    "# Load data\n",
    "btc_data = pd.read_parquet(\"../datasets/BTCUSDT/\")\n",
    "btc_data.index = pd.to_datetime(btc_data.index, unit=\"ms\")\n",
    "btc_data.drop(\n",
    "    columns=[\n",
    "        \"TAKER_BUY_BASE_ASSET_VOLUME\",\n",
    "        \"TAKER_BUY_QUOTE_ASSET_VOLUME\",\n",
    "        \"YEAR_AND_MONTH\",\n",
    "    ],\n",
    "    inplace=True,\n",
    ")"
   ]
  },
  {
   "cell_type": "code",
   "execution_count": 4,
   "metadata": {},
   "outputs": [],
   "source": [
    "# Load labels\n",
    "labels = pd.read_parquet(\"../datasets/LABEL_BTCUSDT/\")\n",
    "labels.index = pd.to_datetime(labels.index, unit=\"ms\")\n",
    "labels.drop(columns=\"SYMBOL\", inplace=True)"
   ]
  },
  {
   "cell_type": "code",
   "execution_count": 5,
   "metadata": {},
   "outputs": [
    {
     "name": "stdout",
     "output_type": "stream",
     "text": [
      "                        LABEL\n",
      "OPEN_TIME                    \n",
      "2017-09-16 10:00:00  0.393885\n",
      "2017-09-16 11:00:00  0.390215\n",
      "2017-09-16 12:00:00  0.360434\n",
      "2017-09-16 13:00:00  0.398650\n",
      "2017-09-16 14:00:00  0.451718\n"
     ]
    },
    {
     "data": {
      "text/html": [
       "<div>\n",
       "<style scoped>\n",
       "    .dataframe tbody tr th:only-of-type {\n",
       "        vertical-align: middle;\n",
       "    }\n",
       "\n",
       "    .dataframe tbody tr th {\n",
       "        vertical-align: top;\n",
       "    }\n",
       "\n",
       "    .dataframe thead th {\n",
       "        text-align: right;\n",
       "    }\n",
       "</style>\n",
       "<table border=\"1\" class=\"dataframe\">\n",
       "  <thead>\n",
       "    <tr style=\"text-align: right;\">\n",
       "      <th></th>\n",
       "      <th>OPEN</th>\n",
       "      <th>HIGH</th>\n",
       "      <th>LOW</th>\n",
       "      <th>CLOSE</th>\n",
       "      <th>VOLUME</th>\n",
       "      <th>QUOTE_ASSET_VOLUME</th>\n",
       "      <th>NUMBER_OF_TRADES</th>\n",
       "    </tr>\n",
       "    <tr>\n",
       "      <th>OPEN_TIME</th>\n",
       "      <th></th>\n",
       "      <th></th>\n",
       "      <th></th>\n",
       "      <th></th>\n",
       "      <th></th>\n",
       "      <th></th>\n",
       "      <th></th>\n",
       "    </tr>\n",
       "  </thead>\n",
       "  <tbody>\n",
       "    <tr>\n",
       "      <th>2017-08-17 04:00:00</th>\n",
       "      <td>4261.48</td>\n",
       "      <td>4280.56</td>\n",
       "      <td>4261.48</td>\n",
       "      <td>4261.48</td>\n",
       "      <td>2.189061</td>\n",
       "      <td>9333.620962</td>\n",
       "      <td>9</td>\n",
       "    </tr>\n",
       "    <tr>\n",
       "      <th>2017-08-17 04:05:00</th>\n",
       "      <td>4261.48</td>\n",
       "      <td>4261.48</td>\n",
       "      <td>4261.48</td>\n",
       "      <td>4261.48</td>\n",
       "      <td>0.000000</td>\n",
       "      <td>0.000000</td>\n",
       "      <td>0</td>\n",
       "    </tr>\n",
       "    <tr>\n",
       "      <th>2017-08-17 04:10:00</th>\n",
       "      <td>4261.48</td>\n",
       "      <td>4261.48</td>\n",
       "      <td>4261.48</td>\n",
       "      <td>4261.48</td>\n",
       "      <td>0.000000</td>\n",
       "      <td>0.000000</td>\n",
       "      <td>0</td>\n",
       "    </tr>\n",
       "    <tr>\n",
       "      <th>2017-08-17 04:15:00</th>\n",
       "      <td>4261.48</td>\n",
       "      <td>4264.88</td>\n",
       "      <td>4261.48</td>\n",
       "      <td>4261.48</td>\n",
       "      <td>0.484666</td>\n",
       "      <td>2065.447829</td>\n",
       "      <td>9</td>\n",
       "    </tr>\n",
       "    <tr>\n",
       "      <th>2017-08-17 04:20:00</th>\n",
       "      <td>4264.88</td>\n",
       "      <td>4266.29</td>\n",
       "      <td>4264.88</td>\n",
       "      <td>4266.29</td>\n",
       "      <td>2.328570</td>\n",
       "      <td>9931.161124</td>\n",
       "      <td>11</td>\n",
       "    </tr>\n",
       "  </tbody>\n",
       "</table>\n",
       "</div>"
      ],
      "text/plain": [
       "                        OPEN     HIGH      LOW    CLOSE    VOLUME  \\\n",
       "OPEN_TIME                                                           \n",
       "2017-08-17 04:00:00  4261.48  4280.56  4261.48  4261.48  2.189061   \n",
       "2017-08-17 04:05:00  4261.48  4261.48  4261.48  4261.48  0.000000   \n",
       "2017-08-17 04:10:00  4261.48  4261.48  4261.48  4261.48  0.000000   \n",
       "2017-08-17 04:15:00  4261.48  4264.88  4261.48  4261.48  0.484666   \n",
       "2017-08-17 04:20:00  4264.88  4266.29  4264.88  4266.29  2.328570   \n",
       "\n",
       "                     QUOTE_ASSET_VOLUME  NUMBER_OF_TRADES  \n",
       "OPEN_TIME                                                  \n",
       "2017-08-17 04:00:00         9333.620962                 9  \n",
       "2017-08-17 04:05:00            0.000000                 0  \n",
       "2017-08-17 04:10:00            0.000000                 0  \n",
       "2017-08-17 04:15:00         2065.447829                 9  \n",
       "2017-08-17 04:20:00         9931.161124                11  "
      ]
     },
     "execution_count": 5,
     "metadata": {},
     "output_type": "execute_result"
    }
   ],
   "source": [
    "print(labels.head())\n",
    "btc_data.head()"
   ]
  },
  {
   "cell_type": "code",
   "execution_count": 203,
   "metadata": {},
   "outputs": [
    {
     "data": {
      "text/html": [
       "<div>\n",
       "<style scoped>\n",
       "    .dataframe tbody tr th:only-of-type {\n",
       "        vertical-align: middle;\n",
       "    }\n",
       "\n",
       "    .dataframe tbody tr th {\n",
       "        vertical-align: top;\n",
       "    }\n",
       "\n",
       "    .dataframe thead th {\n",
       "        text-align: right;\n",
       "    }\n",
       "</style>\n",
       "<table border=\"1\" class=\"dataframe\">\n",
       "  <thead>\n",
       "    <tr style=\"text-align: right;\">\n",
       "      <th></th>\n",
       "      <th>OPEN</th>\n",
       "      <th>HIGH</th>\n",
       "      <th>LOW</th>\n",
       "      <th>CLOSE</th>\n",
       "      <th>VOLUME</th>\n",
       "      <th>QUOTE_ASSET_VOLUME</th>\n",
       "      <th>NUMBER_OF_TRADES</th>\n",
       "    </tr>\n",
       "    <tr>\n",
       "      <th>OPEN_TIME</th>\n",
       "      <th></th>\n",
       "      <th></th>\n",
       "      <th></th>\n",
       "      <th></th>\n",
       "      <th></th>\n",
       "      <th></th>\n",
       "      <th></th>\n",
       "    </tr>\n",
       "  </thead>\n",
       "  <tbody>\n",
       "    <tr>\n",
       "      <th>2017-12-18 12:00:00</th>\n",
       "      <td>19116.11</td>\n",
       "      <td>19199.00</td>\n",
       "      <td>19114.97</td>\n",
       "      <td>19152.00</td>\n",
       "      <td>64.422665</td>\n",
       "      <td>1.233095e+06</td>\n",
       "      <td>343</td>\n",
       "    </tr>\n",
       "    <tr>\n",
       "      <th>2017-12-18 12:05:00</th>\n",
       "      <td>19175.00</td>\n",
       "      <td>19198.97</td>\n",
       "      <td>19116.98</td>\n",
       "      <td>19180.00</td>\n",
       "      <td>19.845825</td>\n",
       "      <td>3.802186e+05</td>\n",
       "      <td>284</td>\n",
       "    </tr>\n",
       "    <tr>\n",
       "      <th>2017-12-18 12:10:00</th>\n",
       "      <td>19180.00</td>\n",
       "      <td>19300.00</td>\n",
       "      <td>19116.13</td>\n",
       "      <td>19212.23</td>\n",
       "      <td>44.649825</td>\n",
       "      <td>8.568738e+05</td>\n",
       "      <td>410</td>\n",
       "    </tr>\n",
       "    <tr>\n",
       "      <th>2017-12-18 12:15:00</th>\n",
       "      <td>19212.23</td>\n",
       "      <td>19212.26</td>\n",
       "      <td>19143.50</td>\n",
       "      <td>19179.99</td>\n",
       "      <td>42.377449</td>\n",
       "      <td>8.128457e+05</td>\n",
       "      <td>288</td>\n",
       "    </tr>\n",
       "    <tr>\n",
       "      <th>2017-12-18 12:20:00</th>\n",
       "      <td>19179.99</td>\n",
       "      <td>19197.88</td>\n",
       "      <td>19114.97</td>\n",
       "      <td>19114.97</td>\n",
       "      <td>33.430487</td>\n",
       "      <td>6.407821e+05</td>\n",
       "      <td>338</td>\n",
       "    </tr>\n",
       "  </tbody>\n",
       "</table>\n",
       "</div>"
      ],
      "text/plain": [
       "                         OPEN      HIGH       LOW     CLOSE     VOLUME  \\\n",
       "OPEN_TIME                                                                \n",
       "2017-12-18 12:00:00  19116.11  19199.00  19114.97  19152.00  64.422665   \n",
       "2017-12-18 12:05:00  19175.00  19198.97  19116.98  19180.00  19.845825   \n",
       "2017-12-18 12:10:00  19180.00  19300.00  19116.13  19212.23  44.649825   \n",
       "2017-12-18 12:15:00  19212.23  19212.26  19143.50  19179.99  42.377449   \n",
       "2017-12-18 12:20:00  19179.99  19197.88  19114.97  19114.97  33.430487   \n",
       "\n",
       "                     QUOTE_ASSET_VOLUME  NUMBER_OF_TRADES  \n",
       "OPEN_TIME                                                  \n",
       "2017-12-18 12:00:00        1.233095e+06               343  \n",
       "2017-12-18 12:05:00        3.802186e+05               284  \n",
       "2017-12-18 12:10:00        8.568738e+05               410  \n",
       "2017-12-18 12:15:00        8.128457e+05               288  \n",
       "2017-12-18 12:20:00        6.407821e+05               338  "
      ]
     },
     "execution_count": 203,
     "metadata": {},
     "output_type": "execute_result"
    }
   ],
   "source": [
    "btc_data.loc[pd.Timestamp(\"2017-12-18 12:00:00\") :].head()"
   ]
  },
  {
   "cell_type": "markdown",
   "metadata": {},
   "source": [
    "## Calculate typical price and handle missing timestamps\n"
   ]
  },
  {
   "cell_type": "code",
   "execution_count": 158,
   "metadata": {},
   "outputs": [],
   "source": [
    "btc_price = pd.DataFrame(\n",
    "    index=pd.date_range(start=btc_data.index[0], end=btc_data.index[-1], freq=\"5min\")\n",
    ")\n",
    "btc_price[\"PRICE\"] = (btc_data[\"HIGH\"] + btc_data[\"LOW\"] + btc_data[\"CLOSE\"]) / 3\n",
    "btc_price.interpolate(method=\"time\", inplace=True)"
   ]
  },
  {
   "cell_type": "markdown",
   "metadata": {},
   "source": [
    "## Calculate Bollinger Bands\n"
   ]
  },
  {
   "cell_type": "code",
   "execution_count": 159,
   "metadata": {},
   "outputs": [],
   "source": [
    "def bollinger_bands(data: pd.DataFrame, window_size=20, num_of_std=2):\n",
    "    rolling_mean = data.rolling(window=window_size).mean()\n",
    "    rolling_std = data.rolling(window=window_size).std()\n",
    "    upper_band = rolling_mean + (rolling_std * num_of_std)\n",
    "    lower_band = rolling_mean - (rolling_std * num_of_std)\n",
    "    return rolling_mean, upper_band, lower_band"
   ]
  },
  {
   "cell_type": "markdown",
   "metadata": {},
   "source": [
    "## Probability of the price using Geometric Brownian Motion\n"
   ]
  },
  {
   "cell_type": "code",
   "execution_count": 162,
   "metadata": {},
   "outputs": [
    {
     "data": {
      "image/png": "[encoded data removed]",
      "text/plain": [
       "<Figure size 640x480 with 1 Axes>"
      ]
     },
     "metadata": {},
     "output_type": "display_data"
    }
   ],
   "source": [
    "mu = 1\n",
    "n = btc_price.shape[0]\n",
    "dt = 0.1\n",
    "x0 = 1\n",
    "sigma = 0.2\n",
    "np.random.seed(1012)\n",
    "p_bm = np.exp((mu - sigma**2 / 2) * dt + sigma * np.random.normal(0, np.sqrt(dt), n))\n",
    "p_bm = MinMaxScaler().fit_transform(p_bm.reshape(-1, 1)).flatten()\n",
    "btc_price[\"P_BM\"] = p_bm\n",
    "plt.plot(p_bm)\n",
    "plt.xlabel(\"$t$\")\n",
    "plt.ylabel(\"$P_{BM}$\")\n",
    "plt.title(\"Probablity of price using Geometric Brownian Motion\")\n",
    "plt.show()"
   ]
  },
  {
   "cell_type": "markdown",
   "metadata": {},
   "source": [
    "## Pipeline for scaling labels"
   ]
  },
  {
   "cell_type": "code",
   "execution_count": 163,
   "metadata": {},
   "outputs": [],
   "source": [
    "price_pipline = Pipeline(\n",
    "    steps=[(\"imputer\", SimpleImputer(strategy=\"median\")), (\"scaler\", MinMaxScaler())]\n",
    ")"
   ]
  },
  {
   "attachments": {},
   "cell_type": "markdown",
   "metadata": {},
   "source": [
    "## Calculate return rate (R) and price volatility change (V)\n"
   ]
  },
  {
   "cell_type": "code",
   "execution_count": 204,
   "metadata": {},
   "outputs": [
    {
     "name": "stdout",
     "output_type": "stream",
     "text": [
      "100 [[1.         0.54302724]\n",
      " [0.54302724 1.        ]]\n"
     ]
    }
   ],
   "source": [
    "for i in range(100, 101):\n",
    "    # R\n",
    "    btc_price[\"R\"] = 100 * (btc_price[\"PRICE\"].shift(-i) / btc_price[\"PRICE\"] - 1)\n",
    "    btc_price[\"R\"].fillna(method=\"ffill\", inplace=True)\n",
    "\n",
    "    # V\n",
    "    std_backward = (\n",
    "        btc_price[\"PRICE\"]\n",
    "        .rolling(round(2.5 * i))\n",
    "        .std()\n",
    "        .interpolate(method=\"time\")\n",
    "        .fillna(method=\"bfill\")\n",
    "    )\n",
    "    std_forward = btc_price[\"PRICE\"].rolling(i).std().shift(-i).fillna(method=\"ffill\")\n",
    "    btc_price[\"V\"] = std_forward / std_backward\n",
    "\n",
    "    # Predict labels\n",
    "    cal_labels = btc_price[\"R\"] / (2 * np.sqrt(btc_price[\"V\"] * btc_price[\"P_BM\"]))\n",
    "    cal_labels.replace([np.inf, -np.inf], np.nan, inplace=True)\n",
    "    imputer = price_pipline.fit_transform(cal_labels.values.reshape(-1, 1)).flatten()\n",
    "    cal_labels = pd.Series(imputer, index=cal_labels.index)\n",
    "    pred_labels = cal_labels.loc[labels.index]\n",
    "\n",
    "    # Correlation\n",
    "    print(i, np.corrcoef(pred_labels, labels[\"LABEL\"]))\n",
    "    # sns.kdeplot(data=pred_labels)\n",
    "    # plt.title(i)\n",
    "    # sns.kdeplot(data=labels, fill=True)\n",
    "    # plt.show()"
   ]
  },
  {
   "cell_type": "code",
   "execution_count": 205,
   "metadata": {},
   "outputs": [
    {
     "data": {
      "text/html": [
       "<div>\n",
       "<style scoped>\n",
       "    .dataframe tbody tr th:only-of-type {\n",
       "        vertical-align: middle;\n",
       "    }\n",
       "\n",
       "    .dataframe tbody tr th {\n",
       "        vertical-align: top;\n",
       "    }\n",
       "\n",
       "    .dataframe thead th {\n",
       "        text-align: right;\n",
       "    }\n",
       "</style>\n",
       "<table border=\"1\" class=\"dataframe\">\n",
       "  <thead>\n",
       "    <tr style=\"text-align: right;\">\n",
       "      <th></th>\n",
       "      <th>PRICE</th>\n",
       "      <th>P_BM</th>\n",
       "      <th>R</th>\n",
       "      <th>V</th>\n",
       "    </tr>\n",
       "  </thead>\n",
       "  <tbody>\n",
       "    <tr>\n",
       "      <th>2017-08-17 04:00:00</th>\n",
       "      <td>4267.840000</td>\n",
       "      <td>0.529704</td>\n",
       "      <td>3.764824</td>\n",
       "      <td>0.983209</td>\n",
       "    </tr>\n",
       "    <tr>\n",
       "      <th>2017-08-17 04:05:00</th>\n",
       "      <td>4261.480000</td>\n",
       "      <td>0.392690</td>\n",
       "      <td>3.731489</td>\n",
       "      <td>0.973511</td>\n",
       "    </tr>\n",
       "    <tr>\n",
       "      <th>2017-08-17 04:10:00</th>\n",
       "      <td>4261.480000</td>\n",
       "      <td>0.510396</td>\n",
       "      <td>3.649436</td>\n",
       "      <td>0.962669</td>\n",
       "    </tr>\n",
       "    <tr>\n",
       "      <th>2017-08-17 04:15:00</th>\n",
       "      <td>4262.613333</td>\n",
       "      <td>0.289994</td>\n",
       "      <td>3.782969</td>\n",
       "      <td>0.952261</td>\n",
       "    </tr>\n",
       "    <tr>\n",
       "      <th>2017-08-17 04:20:00</th>\n",
       "      <td>4265.820000</td>\n",
       "      <td>0.465214</td>\n",
       "      <td>3.718003</td>\n",
       "      <td>0.942024</td>\n",
       "    </tr>\n",
       "  </tbody>\n",
       "</table>\n",
       "</div>"
      ],
      "text/plain": [
       "                           PRICE      P_BM         R         V\n",
       "2017-08-17 04:00:00  4267.840000  0.529704  3.764824  0.983209\n",
       "2017-08-17 04:05:00  4261.480000  0.392690  3.731489  0.973511\n",
       "2017-08-17 04:10:00  4261.480000  0.510396  3.649436  0.962669\n",
       "2017-08-17 04:15:00  4262.613333  0.289994  3.782969  0.952261\n",
       "2017-08-17 04:20:00  4265.820000  0.465214  3.718003  0.942024"
      ]
     },
     "execution_count": 205,
     "metadata": {},
     "output_type": "execute_result"
    }
   ],
   "source": [
    "btc_price.head()"
   ]
  },
  {
   "cell_type": "markdown",
   "metadata": {},
   "source": [
    "## Define function for predicting labels"
   ]
  },
  {
   "cell_type": "code",
   "execution_count": 200,
   "metadata": {},
   "outputs": [],
   "source": [
    "def predict(data: pd.Series, time: pd.DatetimeIndex, file_name: str):\n",
    "    agg_data = data.resample(\"H\").mean().loc[time]\n",
    "    predict_labels = agg_data[\"R\"] / (2 * np.sqrt(agg_data[\"V\"] * agg_data[\"P_BM\"]))\n",
    "    labels = price_pipline.fit_transform(predict_labels.values.reshape(-1, 1)).flatten()\n",
    "    submission = pd.DataFrame(\n",
    "        {\"OPEN_TIME\": time.astype(np.int64) // 10**6, \"PREDICTION\": labels}\n",
    "    )\n",
    "    submission.to_csv(\"C:/Users/nguye/Downloads/\" + file_name, index=False)\n",
    "    sns.kdeplot(labels, fill=True)\n",
    "    return labels"
   ]
  },
  {
   "cell_type": "markdown",
   "metadata": {},
   "source": [
    "## Prediction for public test round\n"
   ]
  },
  {
   "cell_type": "code",
   "execution_count": 201,
   "metadata": {},
   "outputs": [
    {
     "data": {
      "text/plain": [
       "array([0.27361615, 0.35282408, 0.43682168, ..., 0.4672165 , 0.4464193 ,\n",
       "       0.43441588])"
      ]
     },
     "execution_count": 201,
     "metadata": {},
     "output_type": "execute_result"
    },
    {
     "data": {
      "image/png": "[encoded data removed]",
      "text/plain": [
       "<Figure size 640x480 with 1 Axes>"
      ]
     },
     "metadata": {},
     "output_type": "display_data"
    }
   ],
   "source": [
    "predict(\n",
    "    btc_price,\n",
    "    pd.date_range(start=\"2022-12-15\", end=\"2023-03-05\", freq=\"H\"),\n",
    "    \"public_test_v4.csv\",\n",
    ")"
   ]
  },
  {
   "cell_type": "markdown",
   "metadata": {},
   "source": [
    "## Prediction for private test round"
   ]
  },
  {
   "cell_type": "code",
   "execution_count": 202,
   "metadata": {},
   "outputs": [
    {
     "data": {
      "image/png": "[encoded data removed]",
      "text/plain": [
       "<Figure size 640x480 with 1 Axes>"
      ]
     },
     "metadata": {},
     "output_type": "display_data"
    }
   ],
   "source": [
    "lb = predict(\n",
    "    btc_price,\n",
    "    pd.date_range(start=\"2023-02-01\", end=\"2023-06-15\", freq=\"H\"),\n",
    "    \"private_test_21_7.csv\",\n",
    ")"
   ]
  }
 ],
 "metadata": {
  "kernelspec": {
   "display_name": "date3k2",
   "language": "python",
   "name": "python3"
  },
  "language_info": {
   "codemirror_mode": {
    "name": "ipython",
    "version": 3
   },
   "file_extension": ".py",
   "mimetype": "text/x-python",
   "name": "python",
   "nbconvert_exporter": "python",
   "pygments_lexer": "ipython3",
   "version": "3.11.0"
  },
  "orig_nbformat": 4
 },
 "nbformat": 4,
 "nbformat_minor": 2
}
