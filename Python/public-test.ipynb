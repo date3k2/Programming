{
 "cells": [
  {
   "cell_type": "markdown",
   "metadata": {},
   "source": [
    "## Import libraries\n"
   ]
  },
  {
   "cell_type": "code",
   "execution_count": 613,
   "metadata": {},
   "outputs": [],
   "source": [
    "import pandas as pd\n",
    "import numpy as np\n",
    "import seaborn as sns\n",
    "import matplotlib.pyplot as plt\n",
    "from sklearn.preprocessing import MinMaxScaler\n",
    "from sklearn.impute import SimpleImputer\n",
    "from sklearn.pipeline import Pipeline\n",
    "from sklearn.metrics import mean_squared_error, mean_absolute_error"
   ]
  },
  {
   "cell_type": "markdown",
   "metadata": {},
   "source": [
    "## Load and preprocess data\n"
   ]
  },
  {
   "cell_type": "code",
   "execution_count": 614,
   "metadata": {},
   "outputs": [],
   "source": [
    "# Load data\n",
    "btc_data = pd.read_parquet(\"../datasets/BTCUSDT/\")\n",
    "btc_data.index = pd.to_datetime(btc_data.index, unit=\"ms\")\n",
    "btc_data.drop(\n",
    "    columns=[\n",
    "        \"TAKER_BUY_BASE_ASSET_VOLUME\",\n",
    "        \"TAKER_BUY_QUOTE_ASSET_VOLUME\",\n",
    "        \"YEAR_AND_MONTH\",\n",
    "    ],\n",
    "    inplace=True,\n",
    ")"
   ]
  },
  {
   "cell_type": "code",
   "execution_count": 615,
   "metadata": {},
   "outputs": [],
   "source": [
    "# Load labels\n",
    "labels = pd.read_parquet(\"../datasets/LABEL_BTCUSDT/\")\n",
    "labels.index = pd.to_datetime(labels.index, unit=\"ms\")\n",
    "labels.drop(columns=\"SYMBOL\", inplace=True)"
   ]
  },
  {
   "cell_type": "code",
   "execution_count": 616,
   "metadata": {},
   "outputs": [
    {
     "name": "stdout",
     "output_type": "stream",
     "text": [
      "                        LABEL\n",
      "OPEN_TIME                    \n",
      "2017-09-16 10:00:00  0.393885\n",
      "2017-09-16 11:00:00  0.390215\n",
      "2017-09-16 12:00:00  0.360434\n",
      "2017-09-16 13:00:00  0.398650\n",
      "2017-09-16 14:00:00  0.451718\n"
     ]
    },
    {
     "data": {
      "text/html": [
       "<div>\n",
       "<style scoped>\n",
       "    .dataframe tbody tr th:only-of-type {\n",
       "        vertical-align: middle;\n",
       "    }\n",
       "\n",
       "    .dataframe tbody tr th {\n",
       "        vertical-align: top;\n",
       "    }\n",
       "\n",
       "    .dataframe thead th {\n",
       "        text-align: right;\n",
       "    }\n",
       "</style>\n",
       "<table border=\"1\" class=\"dataframe\">\n",
       "  <thead>\n",
       "    <tr style=\"text-align: right;\">\n",
       "      <th></th>\n",
       "      <th>OPEN</th>\n",
       "      <th>HIGH</th>\n",
       "      <th>LOW</th>\n",
       "      <th>CLOSE</th>\n",
       "      <th>VOLUME</th>\n",
       "      <th>QUOTE_ASSET_VOLUME</th>\n",
       "      <th>NUMBER_OF_TRADES</th>\n",
       "    </tr>\n",
       "    <tr>\n",
       "      <th>OPEN_TIME</th>\n",
       "      <th></th>\n",
       "      <th></th>\n",
       "      <th></th>\n",
       "      <th></th>\n",
       "      <th></th>\n",
       "      <th></th>\n",
       "      <th></th>\n",
       "    </tr>\n",
       "  </thead>\n",
       "  <tbody>\n",
       "    <tr>\n",
       "      <th>2017-08-17 04:00:00</th>\n",
       "      <td>4261.48</td>\n",
       "      <td>4280.56</td>\n",
       "      <td>4261.48</td>\n",
       "      <td>4261.48</td>\n",
       "      <td>2.189061</td>\n",
       "      <td>9333.620962</td>\n",
       "      <td>9</td>\n",
       "    </tr>\n",
       "    <tr>\n",
       "      <th>2017-08-17 04:05:00</th>\n",
       "      <td>4261.48</td>\n",
       "      <td>4261.48</td>\n",
       "      <td>4261.48</td>\n",
       "      <td>4261.48</td>\n",
       "      <td>0.000000</td>\n",
       "      <td>0.000000</td>\n",
       "      <td>0</td>\n",
       "    </tr>\n",
       "    <tr>\n",
       "      <th>2017-08-17 04:10:00</th>\n",
       "      <td>4261.48</td>\n",
       "      <td>4261.48</td>\n",
       "      <td>4261.48</td>\n",
       "      <td>4261.48</td>\n",
       "      <td>0.000000</td>\n",
       "      <td>0.000000</td>\n",
       "      <td>0</td>\n",
       "    </tr>\n",
       "    <tr>\n",
       "      <th>2017-08-17 04:15:00</th>\n",
       "      <td>4261.48</td>\n",
       "      <td>4264.88</td>\n",
       "      <td>4261.48</td>\n",
       "      <td>4261.48</td>\n",
       "      <td>0.484666</td>\n",
       "      <td>2065.447829</td>\n",
       "      <td>9</td>\n",
       "    </tr>\n",
       "    <tr>\n",
       "      <th>2017-08-17 04:20:00</th>\n",
       "      <td>4264.88</td>\n",
       "      <td>4266.29</td>\n",
       "      <td>4264.88</td>\n",
       "      <td>4266.29</td>\n",
       "      <td>2.328570</td>\n",
       "      <td>9931.161124</td>\n",
       "      <td>11</td>\n",
       "    </tr>\n",
       "  </tbody>\n",
       "</table>\n",
       "</div>"
      ],
      "text/plain": [
       "                        OPEN     HIGH      LOW    CLOSE    VOLUME  \\\n",
       "OPEN_TIME                                                           \n",
       "2017-08-17 04:00:00  4261.48  4280.56  4261.48  4261.48  2.189061   \n",
       "2017-08-17 04:05:00  4261.48  4261.48  4261.48  4261.48  0.000000   \n",
       "2017-08-17 04:10:00  4261.48  4261.48  4261.48  4261.48  0.000000   \n",
       "2017-08-17 04:15:00  4261.48  4264.88  4261.48  4261.48  0.484666   \n",
       "2017-08-17 04:20:00  4264.88  4266.29  4264.88  4266.29  2.328570   \n",
       "\n",
       "                     QUOTE_ASSET_VOLUME  NUMBER_OF_TRADES  \n",
       "OPEN_TIME                                                  \n",
       "2017-08-17 04:00:00         9333.620962                 9  \n",
       "2017-08-17 04:05:00            0.000000                 0  \n",
       "2017-08-17 04:10:00            0.000000                 0  \n",
       "2017-08-17 04:15:00         2065.447829                 9  \n",
       "2017-08-17 04:20:00         9931.161124                11  "
      ]
     },
     "execution_count": 616,
     "metadata": {},
     "output_type": "execute_result"
    }
   ],
   "source": [
    "print(labels.head())\n",
    "btc_data.head()"
   ]
  },
  {
   "cell_type": "code",
   "execution_count": 617,
   "metadata": {},
   "outputs": [
    {
     "data": {
      "text/html": [
       "<div>\n",
       "<style scoped>\n",
       "    .dataframe tbody tr th:only-of-type {\n",
       "        vertical-align: middle;\n",
       "    }\n",
       "\n",
       "    .dataframe tbody tr th {\n",
       "        vertical-align: top;\n",
       "    }\n",
       "\n",
       "    .dataframe thead th {\n",
       "        text-align: right;\n",
       "    }\n",
       "</style>\n",
       "<table border=\"1\" class=\"dataframe\">\n",
       "  <thead>\n",
       "    <tr style=\"text-align: right;\">\n",
       "      <th></th>\n",
       "      <th>OPEN</th>\n",
       "      <th>HIGH</th>\n",
       "      <th>LOW</th>\n",
       "      <th>CLOSE</th>\n",
       "      <th>VOLUME</th>\n",
       "      <th>QUOTE_ASSET_VOLUME</th>\n",
       "      <th>NUMBER_OF_TRADES</th>\n",
       "    </tr>\n",
       "    <tr>\n",
       "      <th>OPEN_TIME</th>\n",
       "      <th></th>\n",
       "      <th></th>\n",
       "      <th></th>\n",
       "      <th></th>\n",
       "      <th></th>\n",
       "      <th></th>\n",
       "      <th></th>\n",
       "    </tr>\n",
       "  </thead>\n",
       "  <tbody>\n",
       "    <tr>\n",
       "      <th>2017-12-18 12:00:00</th>\n",
       "      <td>19116.11</td>\n",
       "      <td>19199.00</td>\n",
       "      <td>19114.97</td>\n",
       "      <td>19152.00</td>\n",
       "      <td>64.422665</td>\n",
       "      <td>1.233095e+06</td>\n",
       "      <td>343</td>\n",
       "    </tr>\n",
       "    <tr>\n",
       "      <th>2017-12-18 12:05:00</th>\n",
       "      <td>19175.00</td>\n",
       "      <td>19198.97</td>\n",
       "      <td>19116.98</td>\n",
       "      <td>19180.00</td>\n",
       "      <td>19.845825</td>\n",
       "      <td>3.802186e+05</td>\n",
       "      <td>284</td>\n",
       "    </tr>\n",
       "    <tr>\n",
       "      <th>2017-12-18 12:10:00</th>\n",
       "      <td>19180.00</td>\n",
       "      <td>19300.00</td>\n",
       "      <td>19116.13</td>\n",
       "      <td>19212.23</td>\n",
       "      <td>44.649825</td>\n",
       "      <td>8.568738e+05</td>\n",
       "      <td>410</td>\n",
       "    </tr>\n",
       "    <tr>\n",
       "      <th>2017-12-18 12:15:00</th>\n",
       "      <td>19212.23</td>\n",
       "      <td>19212.26</td>\n",
       "      <td>19143.50</td>\n",
       "      <td>19179.99</td>\n",
       "      <td>42.377449</td>\n",
       "      <td>8.128457e+05</td>\n",
       "      <td>288</td>\n",
       "    </tr>\n",
       "    <tr>\n",
       "      <th>2017-12-18 12:20:00</th>\n",
       "      <td>19179.99</td>\n",
       "      <td>19197.88</td>\n",
       "      <td>19114.97</td>\n",
       "      <td>19114.97</td>\n",
       "      <td>33.430487</td>\n",
       "      <td>6.407821e+05</td>\n",
       "      <td>338</td>\n",
       "    </tr>\n",
       "  </tbody>\n",
       "</table>\n",
       "</div>"
      ],
      "text/plain": [
       "                         OPEN      HIGH       LOW     CLOSE     VOLUME  \\\n",
       "OPEN_TIME                                                                \n",
       "2017-12-18 12:00:00  19116.11  19199.00  19114.97  19152.00  64.422665   \n",
       "2017-12-18 12:05:00  19175.00  19198.97  19116.98  19180.00  19.845825   \n",
       "2017-12-18 12:10:00  19180.00  19300.00  19116.13  19212.23  44.649825   \n",
       "2017-12-18 12:15:00  19212.23  19212.26  19143.50  19179.99  42.377449   \n",
       "2017-12-18 12:20:00  19179.99  19197.88  19114.97  19114.97  33.430487   \n",
       "\n",
       "                     QUOTE_ASSET_VOLUME  NUMBER_OF_TRADES  \n",
       "OPEN_TIME                                                  \n",
       "2017-12-18 12:00:00        1.233095e+06               343  \n",
       "2017-12-18 12:05:00        3.802186e+05               284  \n",
       "2017-12-18 12:10:00        8.568738e+05               410  \n",
       "2017-12-18 12:15:00        8.128457e+05               288  \n",
       "2017-12-18 12:20:00        6.407821e+05               338  "
      ]
     },
     "execution_count": 617,
     "metadata": {},
     "output_type": "execute_result"
    }
   ],
   "source": [
    "btc_data.loc[pd.Timestamp(\"2017-12-18 12:00:00\") :].head()"
   ]
  },
  {
   "cell_type": "markdown",
   "metadata": {},
   "source": [
    "## Calculate typical price and handle missing timestamps\n"
   ]
  },
  {
   "cell_type": "code",
   "execution_count": 618,
   "metadata": {},
   "outputs": [],
   "source": [
    "btc_price = pd.DataFrame(\n",
    "    index=pd.date_range(start=btc_data.index[0], end=btc_data.index[-1], freq=\"5min\")\n",
    ")\n",
    "btc_price[\"PRICE\"] = (btc_data[\"HIGH\"] + btc_data[\"LOW\"] + btc_data[\"CLOSE\"]) / 3\n",
    "btc_price.interpolate(method=\"time\", inplace=True)"
   ]
  },
  {
   "cell_type": "markdown",
   "metadata": {},
   "source": [
    "## Calculate Bollinger Bands\n"
   ]
  },
  {
   "cell_type": "code",
   "execution_count": 619,
   "metadata": {},
   "outputs": [],
   "source": [
    "def bollinger_bands(data: pd.DataFrame, window_size=20, num_of_std=2):\n",
    "    rolling_mean = data.rolling(window=window_size).mean()\n",
    "    rolling_std = data.rolling(window=window_size).std()\n",
    "    upper_band = rolling_mean + (rolling_std * num_of_std)\n",
    "    lower_band = rolling_mean - (rolling_std * num_of_std)\n",
    "    return rolling_mean, upper_band, lower_band"
   ]
  },
  {
   "cell_type": "markdown",
   "metadata": {},
   "source": [
    "## Probability of the price using Geometric Brownian Motion\n"
   ]
  },
  {
   "cell_type": "code",
   "execution_count": 620,
   "metadata": {},
   "outputs": [
    {
     "data": {
      "image/png": "[encoded data removed]",
      "text/plain": [
       "<Figure size 640x480 with 1 Axes>"
      ]
     },
     "metadata": {},
     "output_type": "display_data"
    }
   ],
   "source": [
    "mu = 0.1\n",
    "n = btc_price.shape[0]\n",
    "dt = 1e-5\n",
    "x0 = 1\n",
    "sigma = 0.3\n",
    "np.random.seed(1012)\n",
    "p_bm = np.exp((mu - sigma**2 / 2) * dt + sigma * np.random.normal(0, dt, n))\n",
    "p_bm = MinMaxScaler().fit_transform(p_bm.reshape(-1, 1)).flatten()\n",
    "btc_price[\"P_BM\"] = p_bm\n",
    "plt.plot(p_bm)\n",
    "plt.xlabel(\"$t$\")\n",
    "plt.ylabel(\"$P_{BM}$\")\n",
    "plt.title(\"Probablity of price using Geometric Brownian Motion\")\n",
    "plt.show()"
   ]
  },
  {
   "cell_type": "markdown",
   "metadata": {},
   "source": [
    "## Pipeline for scaling labels"
   ]
  },
  {
   "cell_type": "code",
   "execution_count": 621,
   "metadata": {},
   "outputs": [],
   "source": [
    "price_pipline = Pipeline(\n",
    "    steps=[(\"imputer\", SimpleImputer(strategy=\"mean\")), (\"scaler\", MinMaxScaler())]\n",
    ")"
   ]
  },
  {
   "attachments": {},
   "cell_type": "markdown",
   "metadata": {},
   "source": [
    "## Calculate return rate (R) and price volatility change (V)\n"
   ]
  },
  {
   "cell_type": "code",
   "execution_count": 622,
   "metadata": {},
   "outputs": [
    {
     "name": "stdout",
     "output_type": "stream",
     "text": [
      "101 [[1.       0.544675]\n",
      " [0.544675 1.      ]]\n",
      "101 0.04454860756663768 0.004274832333591983\n"
     ]
    }
   ],
   "source": [
    "for i in range(101, 102):\n",
    "    # R\n",
    "    btc_price[\"R\"] = 100 * (btc_price[\"PRICE\"].shift(-i) / btc_price[\"PRICE\"] - 1)\n",
    "    btc_price[\"R\"].fillna(method=\"ffill\", inplace=True)\n",
    "\n",
    "    # V\n",
    "    std_backward = SimpleImputer(strategy=\"mean\").fit_transform(\n",
    "        btc_price[\"PRICE\"].rolling(round(2 * i)).std().values.reshape(-1, 1)\n",
    "    )\n",
    "    std_forward = SimpleImputer(strategy=\"mean\").fit_transform(\n",
    "        btc_price[\"PRICE\"].rolling(i).std().shift(-i).values.reshape(-1, 1)\n",
    "    )\n",
    "    btc_price[\"V\"] = std_forward / std_backward\n",
    "\n",
    "    # Predict labels\n",
    "    cal_labels = btc_price[\"R\"] / (2 * np.sqrt(btc_price[\"V\"] * btc_price[\"P_BM\"]))\n",
    "    cal_labels.replace([np.inf, -np.inf], np.nan, inplace=True)\n",
    "    imputer = price_pipline.fit_transform(cal_labels.values.reshape(-1, 1)).flatten()\n",
    "    cal_labels = pd.Series(imputer, index=cal_labels.index)\n",
    "    pred_labels = cal_labels.loc[labels.index]\n",
    "\n",
    "    # Correlation\n",
    "    print(i, np.corrcoef(pred_labels, labels[\"LABEL\"]))\n",
    "    print(\n",
    "        i,\n",
    "        mean_absolute_error(pred_labels, labels[\"LABEL\"]),\n",
    "        mean_squared_error(pred_labels, labels[\"LABEL\"]),\n",
    "    )\n",
    "    # sns.kdeplot(data=pred_labels)\n",
    "    # plt.title(i)\n",
    "    # sns.kdeplot(data=labels, fill=True)\n",
    "    # plt.show()"
   ]
  },
  {
   "cell_type": "code",
   "execution_count": 623,
   "metadata": {},
   "outputs": [
    {
     "data": {
      "text/html": [
       "<div>\n",
       "<style scoped>\n",
       "    .dataframe tbody tr th:only-of-type {\n",
       "        vertical-align: middle;\n",
       "    }\n",
       "\n",
       "    .dataframe tbody tr th {\n",
       "        vertical-align: top;\n",
       "    }\n",
       "\n",
       "    .dataframe thead th {\n",
       "        text-align: right;\n",
       "    }\n",
       "</style>\n",
       "<table border=\"1\" class=\"dataframe\">\n",
       "  <thead>\n",
       "    <tr style=\"text-align: right;\">\n",
       "      <th></th>\n",
       "      <th>PRICE</th>\n",
       "      <th>P_BM</th>\n",
       "      <th>R</th>\n",
       "      <th>V</th>\n",
       "    </tr>\n",
       "  </thead>\n",
       "  <tbody>\n",
       "    <tr>\n",
       "      <th>2017-08-17 04:00:00</th>\n",
       "      <td>4267.840000</td>\n",
       "      <td>0.610030</td>\n",
       "      <td>3.576907</td>\n",
       "      <td>0.310702</td>\n",
       "    </tr>\n",
       "    <tr>\n",
       "      <th>2017-08-17 04:05:00</th>\n",
       "      <td>4261.480000</td>\n",
       "      <td>0.474386</td>\n",
       "      <td>3.649436</td>\n",
       "      <td>0.307459</td>\n",
       "    </tr>\n",
       "    <tr>\n",
       "      <th>2017-08-17 04:10:00</th>\n",
       "      <td>4261.480000</td>\n",
       "      <td>0.591640</td>\n",
       "      <td>3.810570</td>\n",
       "      <td>0.304268</td>\n",
       "    </tr>\n",
       "    <tr>\n",
       "      <th>2017-08-17 04:15:00</th>\n",
       "      <td>4262.613333</td>\n",
       "      <td>0.364038</td>\n",
       "      <td>3.796028</td>\n",
       "      <td>0.300959</td>\n",
       "    </tr>\n",
       "    <tr>\n",
       "      <th>2017-08-17 04:20:00</th>\n",
       "      <td>4265.820000</td>\n",
       "      <td>0.547705</td>\n",
       "      <td>3.551799</td>\n",
       "      <td>0.297412</td>\n",
       "    </tr>\n",
       "  </tbody>\n",
       "</table>\n",
       "</div>"
      ],
      "text/plain": [
       "                           PRICE      P_BM         R         V\n",
       "2017-08-17 04:00:00  4267.840000  0.610030  3.576907  0.310702\n",
       "2017-08-17 04:05:00  4261.480000  0.474386  3.649436  0.307459\n",
       "2017-08-17 04:10:00  4261.480000  0.591640  3.810570  0.304268\n",
       "2017-08-17 04:15:00  4262.613333  0.364038  3.796028  0.300959\n",
       "2017-08-17 04:20:00  4265.820000  0.547705  3.551799  0.297412"
      ]
     },
     "execution_count": 623,
     "metadata": {},
     "output_type": "execute_result"
    }
   ],
   "source": [
    "btc_price.head()"
   ]
  },
  {
   "cell_type": "markdown",
   "metadata": {},
   "source": [
    "## Define function for predicting labels"
   ]
  },
  {
   "cell_type": "code",
   "execution_count": 624,
   "metadata": {},
   "outputs": [],
   "source": [
    "def predict(data: pd.Series, time: pd.DatetimeIndex, file_name: str):\n",
    "    agg_data = data.resample(\"H\").mean().shift(1).loc[time]\n",
    "    predict_labels = agg_data[\"R\"] / (2 * np.sqrt(agg_data[\"V\"] * agg_data[\"P_BM\"]))\n",
    "    labels = price_pipline.fit_transform(predict_labels.values.reshape(-1, 1)).flatten()\n",
    "    submission = pd.DataFrame(\n",
    "        {\"OPEN_TIME\": time.astype(np.int64) // 10**6, \"PREDICTION\": labels}\n",
    "    )\n",
    "    submission.to_csv(\"C:/Users/nguye/Downloads/\" + file_name, index=False)\n",
    "    sns.kdeplot(labels, fill=True)\n",
    "    return labels"
   ]
  },
  {
   "cell_type": "markdown",
   "metadata": {},
   "source": [
    "## Prediction for public test round\n"
   ]
  },
  {
   "cell_type": "code",
   "execution_count": 625,
   "metadata": {},
   "outputs": [
    {
     "data": {
      "text/plain": [
       "array([0.32598842, 0.26835637, 0.34535599, ..., 0.47561184, 0.45878067,\n",
       "       0.43802585])"
      ]
     },
     "execution_count": 625,
     "metadata": {},
     "output_type": "execute_result"
    },
    {
     "data": {
      "image/png": "[encoded data removed]",
      "text/plain": [
       "<Figure size 640x480 with 1 Axes>"
      ]
     },
     "metadata": {},
     "output_type": "display_data"
    }
   ],
   "source": [
    "predict(\n",
    "    btc_price,\n",
    "    pd.date_range(start=\"2022-12-15\", end=\"2023-03-05\", freq=\"H\"),\n",
    "    \"public_test_v5.csv\",\n",
    ")"
   ]
  },
  {
   "cell_type": "markdown",
   "metadata": {},
   "source": [
    "## Prediction for private test round"
   ]
  },
  {
   "cell_type": "code",
   "execution_count": 630,
   "metadata": {},
   "outputs": [
    {
     "data": {
      "image/png": "[encoded data removed]",
      "text/plain": [
       "<Figure size 640x480 with 1 Axes>"
      ]
     },
     "metadata": {},
     "output_type": "display_data"
    }
   ],
   "source": [
    "lb = predict(\n",
    "    btc_price,\n",
    "    pd.date_range(start=\"2023-02-01\", end=\"2023-06-15\", freq=\"H\"),\n",
    "    \"private_test_22_7.csv\",\n",
    ")"
   ]
  },
  {
   "cell_type": "markdown",
   "metadata": {},
   "source": [
    "## Predict by using calculated labels"
   ]
  },
  {
   "cell_type": "code",
   "execution_count": 627,
   "metadata": {},
   "outputs": [],
   "source": [
    "def pred_v2(time,file_name):\n",
    "    resample_data = cal_labels.resample(\"H\").median().shift(1)\n",
    "    lb = price_pipline.fit_transform(resample_data.loc[time].values.reshape(-1, 1)).flatten()\n",
    "    x = pd.DataFrame(\n",
    "        {\"OPEN_TIME\": time.astype(np.int64) // 10**6, \"PREDICTION\": lb}\n",
    "    )\n",
    "    x.to_csv(\"C:/Users/nguye/Downloads/\" + file_name, index=False)\n",
    "    sns.kdeplot(lb, fill=True)\n",
    "    plt.show()\n"
   ]
  },
  {
   "cell_type": "code",
   "execution_count": 628,
   "metadata": {},
   "outputs": [
    {
     "data": {
      "image/png": "[encoded data removed]",
      "text/plain": [
       "<Figure size 640x480 with 1 Axes>"
      ]
     },
     "metadata": {},
     "output_type": "display_data"
    }
   ],
   "source": [
    "pred_v2(\n",
    "    pd.date_range(start=\"2022-12-15\", end=\"2023-03-05\", freq=\"H\"),\n",
    "    \"public_test_v6.csv\",\n",
    ")"
   ]
  },
  {
   "cell_type": "code",
   "execution_count": 629,
   "metadata": {},
   "outputs": [
    {
     "data": {
      "image/png": "[encoded data removed]",
      "text/plain": [
       "<Figure size 640x480 with 1 Axes>"
      ]
     },
     "metadata": {},
     "output_type": "display_data"
    }
   ],
   "source": [
    "pred_v2(\n",
    "    pd.date_range(start=\"2023-02-01\", end=\"2023-06-15\", freq=\"H\"),\n",
    "    \"private_test_22_7_v2.csv\",\n",
    ")"
   ]
  }
 ],
 "metadata": {
  "kernelspec": {
   "display_name": "date3k2",
   "language": "python",
   "name": "python3"
  },
  "language_info": {
   "codemirror_mode": {
    "name": "ipython",
    "version": 3
   },
   "file_extension": ".py",
   "mimetype": "text/x-python",
   "name": "python",
   "nbconvert_exporter": "python",
   "pygments_lexer": "ipython3",
   "version": "3.11.0"
  },
  "orig_nbformat": 4
 },
 "nbformat": 4,
 "nbformat_minor": 2
}
