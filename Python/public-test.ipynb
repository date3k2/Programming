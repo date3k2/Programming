{
 "cells": [
  {
   "cell_type": "markdown",
   "metadata": {},
   "source": [
    "## Import libraries\n"
   ]
  },
  {
   "cell_type": "code",
   "execution_count": 90,
   "metadata": {},
   "outputs": [],
   "source": [
    "import pandas as pd\n",
    "import numpy as np\n",
    "import seaborn as sns\n",
    "import matplotlib.pyplot as plt\n",
    "from sklearn.preprocessing import MinMaxScaler\n",
    "from sklearn.impute import SimpleImputer\n",
    "from sklearn.pipeline import Pipeline\n",
    "from sklearn.metrics import mean_squared_error, mean_absolute_error"
   ]
  },
  {
   "cell_type": "markdown",
   "metadata": {},
   "source": [
    "## Load and preprocess data\n"
   ]
  },
  {
   "cell_type": "code",
   "execution_count": 91,
   "metadata": {},
   "outputs": [],
   "source": [
    "# Load data\n",
    "btc_data = pd.read_parquet(\"../datasets/BTCUSDT/\")\n",
    "btc_data.index = pd.to_datetime(btc_data.index, unit=\"ms\")\n",
    "btc_data.drop(\n",
    "    columns=[\n",
    "        \"TAKER_BUY_BASE_ASSET_VOLUME\",\n",
    "        \"TAKER_BUY_QUOTE_ASSET_VOLUME\",\n",
    "        \"YEAR_AND_MONTH\",\n",
    "    ],\n",
    "    inplace=True,\n",
    ")"
   ]
  },
  {
   "cell_type": "code",
   "execution_count": 92,
   "metadata": {},
   "outputs": [],
   "source": [
    "# Load labels\n",
    "labels = pd.read_parquet(\"../datasets/LABEL_BTCUSDT/\")\n",
    "labels.index = pd.to_datetime(labels.index, unit=\"ms\")\n",
    "labels.drop(columns=\"SYMBOL\", inplace=True)"
   ]
  },
  {
   "cell_type": "code",
   "execution_count": 93,
   "metadata": {},
   "outputs": [
    {
     "data": {
      "text/html": [
       "<div>\n",
       "<style scoped>\n",
       "    .dataframe tbody tr th:only-of-type {\n",
       "        vertical-align: middle;\n",
       "    }\n",
       "\n",
       "    .dataframe tbody tr th {\n",
       "        vertical-align: top;\n",
       "    }\n",
       "\n",
       "    .dataframe thead th {\n",
       "        text-align: right;\n",
       "    }\n",
       "</style>\n",
       "<table border=\"1\" class=\"dataframe\">\n",
       "  <thead>\n",
       "    <tr style=\"text-align: right;\">\n",
       "      <th></th>\n",
       "      <th>LABEL</th>\n",
       "    </tr>\n",
       "    <tr>\n",
       "      <th>OPEN_TIME</th>\n",
       "      <th></th>\n",
       "    </tr>\n",
       "  </thead>\n",
       "  <tbody>\n",
       "    <tr>\n",
       "      <th>2017-09-16 10:00:00</th>\n",
       "      <td>0.394465</td>\n",
       "    </tr>\n",
       "    <tr>\n",
       "      <th>2017-09-16 11:00:00</th>\n",
       "      <td>0.390792</td>\n",
       "    </tr>\n",
       "    <tr>\n",
       "      <th>2017-09-16 12:00:00</th>\n",
       "      <td>0.360976</td>\n",
       "    </tr>\n",
       "    <tr>\n",
       "      <th>2017-09-16 13:00:00</th>\n",
       "      <td>0.398855</td>\n",
       "    </tr>\n",
       "    <tr>\n",
       "      <th>2017-09-16 14:00:00</th>\n",
       "      <td>0.451953</td>\n",
       "    </tr>\n",
       "    <tr>\n",
       "      <th>...</th>\n",
       "      <td>...</td>\n",
       "    </tr>\n",
       "    <tr>\n",
       "      <th>2023-07-25 12:00:00</th>\n",
       "      <td>0.404414</td>\n",
       "    </tr>\n",
       "    <tr>\n",
       "      <th>2023-07-25 13:00:00</th>\n",
       "      <td>0.418165</td>\n",
       "    </tr>\n",
       "    <tr>\n",
       "      <th>2023-07-25 14:00:00</th>\n",
       "      <td>0.418191</td>\n",
       "    </tr>\n",
       "    <tr>\n",
       "      <th>2023-07-25 15:00:00</th>\n",
       "      <td>0.411711</td>\n",
       "    </tr>\n",
       "    <tr>\n",
       "      <th>2023-07-25 16:00:00</th>\n",
       "      <td>0.404608</td>\n",
       "    </tr>\n",
       "  </tbody>\n",
       "</table>\n",
       "<p>51197 rows × 1 columns</p>\n",
       "</div>"
      ],
      "text/plain": [
       "                        LABEL\n",
       "OPEN_TIME                    \n",
       "2017-09-16 10:00:00  0.394465\n",
       "2017-09-16 11:00:00  0.390792\n",
       "2017-09-16 12:00:00  0.360976\n",
       "2017-09-16 13:00:00  0.398855\n",
       "2017-09-16 14:00:00  0.451953\n",
       "...                       ...\n",
       "2023-07-25 12:00:00  0.404414\n",
       "2023-07-25 13:00:00  0.418165\n",
       "2023-07-25 14:00:00  0.418191\n",
       "2023-07-25 15:00:00  0.411711\n",
       "2023-07-25 16:00:00  0.404608\n",
       "\n",
       "[51197 rows x 1 columns]"
      ]
     },
     "execution_count": 93,
     "metadata": {},
     "output_type": "execute_result"
    }
   ],
   "source": [
    "labels"
   ]
  },
  {
   "cell_type": "code",
   "execution_count": 5,
   "metadata": {},
   "outputs": [
    {
     "data": {
      "text/html": [
       "<div>\n",
       "<style scoped>\n",
       "    .dataframe tbody tr th:only-of-type {\n",
       "        vertical-align: middle;\n",
       "    }\n",
       "\n",
       "    .dataframe tbody tr th {\n",
       "        vertical-align: top;\n",
       "    }\n",
       "\n",
       "    .dataframe thead th {\n",
       "        text-align: right;\n",
       "    }\n",
       "</style>\n",
       "<table border=\"1\" class=\"dataframe\">\n",
       "  <thead>\n",
       "    <tr style=\"text-align: right;\">\n",
       "      <th></th>\n",
       "      <th>OPEN</th>\n",
       "      <th>HIGH</th>\n",
       "      <th>LOW</th>\n",
       "      <th>CLOSE</th>\n",
       "      <th>VOLUME</th>\n",
       "      <th>QUOTE_ASSET_VOLUME</th>\n",
       "      <th>NUMBER_OF_TRADES</th>\n",
       "    </tr>\n",
       "    <tr>\n",
       "      <th>OPEN_TIME</th>\n",
       "      <th></th>\n",
       "      <th></th>\n",
       "      <th></th>\n",
       "      <th></th>\n",
       "      <th></th>\n",
       "      <th></th>\n",
       "      <th></th>\n",
       "    </tr>\n",
       "  </thead>\n",
       "  <tbody>\n",
       "    <tr>\n",
       "      <th>2017-12-18 12:00:00</th>\n",
       "      <td>19116.11</td>\n",
       "      <td>19199.00</td>\n",
       "      <td>19114.97</td>\n",
       "      <td>19152.00</td>\n",
       "      <td>64.422665</td>\n",
       "      <td>1.233095e+06</td>\n",
       "      <td>343</td>\n",
       "    </tr>\n",
       "    <tr>\n",
       "      <th>2017-12-18 12:05:00</th>\n",
       "      <td>19175.00</td>\n",
       "      <td>19198.97</td>\n",
       "      <td>19116.98</td>\n",
       "      <td>19180.00</td>\n",
       "      <td>19.845825</td>\n",
       "      <td>3.802186e+05</td>\n",
       "      <td>284</td>\n",
       "    </tr>\n",
       "    <tr>\n",
       "      <th>2017-12-18 12:10:00</th>\n",
       "      <td>19180.00</td>\n",
       "      <td>19300.00</td>\n",
       "      <td>19116.13</td>\n",
       "      <td>19212.23</td>\n",
       "      <td>44.649825</td>\n",
       "      <td>8.568738e+05</td>\n",
       "      <td>410</td>\n",
       "    </tr>\n",
       "    <tr>\n",
       "      <th>2017-12-18 12:15:00</th>\n",
       "      <td>19212.23</td>\n",
       "      <td>19212.26</td>\n",
       "      <td>19143.50</td>\n",
       "      <td>19179.99</td>\n",
       "      <td>42.377449</td>\n",
       "      <td>8.128457e+05</td>\n",
       "      <td>288</td>\n",
       "    </tr>\n",
       "    <tr>\n",
       "      <th>2017-12-18 12:20:00</th>\n",
       "      <td>19179.99</td>\n",
       "      <td>19197.88</td>\n",
       "      <td>19114.97</td>\n",
       "      <td>19114.97</td>\n",
       "      <td>33.430487</td>\n",
       "      <td>6.407821e+05</td>\n",
       "      <td>338</td>\n",
       "    </tr>\n",
       "  </tbody>\n",
       "</table>\n",
       "</div>"
      ],
      "text/plain": [
       "                         OPEN      HIGH       LOW     CLOSE     VOLUME  \\\n",
       "OPEN_TIME                                                                \n",
       "2017-12-18 12:00:00  19116.11  19199.00  19114.97  19152.00  64.422665   \n",
       "2017-12-18 12:05:00  19175.00  19198.97  19116.98  19180.00  19.845825   \n",
       "2017-12-18 12:10:00  19180.00  19300.00  19116.13  19212.23  44.649825   \n",
       "2017-12-18 12:15:00  19212.23  19212.26  19143.50  19179.99  42.377449   \n",
       "2017-12-18 12:20:00  19179.99  19197.88  19114.97  19114.97  33.430487   \n",
       "\n",
       "                     QUOTE_ASSET_VOLUME  NUMBER_OF_TRADES  \n",
       "OPEN_TIME                                                  \n",
       "2017-12-18 12:00:00        1.233095e+06               343  \n",
       "2017-12-18 12:05:00        3.802186e+05               284  \n",
       "2017-12-18 12:10:00        8.568738e+05               410  \n",
       "2017-12-18 12:15:00        8.128457e+05               288  \n",
       "2017-12-18 12:20:00        6.407821e+05               338  "
      ]
     },
     "execution_count": 5,
     "metadata": {},
     "output_type": "execute_result"
    }
   ],
   "source": [
    "btc_data.loc[pd.Timestamp(\"2017-12-18 12:00:00\") :].head()"
   ]
  },
  {
   "cell_type": "markdown",
   "metadata": {},
   "source": [
    "## Calculate typical price and handle missing timestamps\n"
   ]
  },
  {
   "cell_type": "code",
   "execution_count": 95,
   "metadata": {},
   "outputs": [],
   "source": [
    "btc_price = pd.DataFrame(\n",
    "    index=pd.date_range(start=btc_data.index[0], end=btc_data.index[-1], freq=\"5min\")\n",
    ")\n",
    "btc_price[\"PRICE\"] = (btc_data[\"HIGH\"] + btc_data[\"LOW\"] + btc_data[\"CLOSE\"]) / 3\n",
    "btc_price.interpolate(method=\"time\", inplace=True)"
   ]
  },
  {
   "cell_type": "markdown",
   "metadata": {},
   "source": [
    "## Probability of the price using Geometric Brownian Motion\n"
   ]
  },
  {
   "cell_type": "code",
   "execution_count": 96,
   "metadata": {},
   "outputs": [
    {
     "data": {
      "image/png": "[encoded data removed]",
      "text/plain": [
       "<Figure size 640x480 with 1 Axes>"
      ]
     },
     "metadata": {},
     "output_type": "display_data"
    }
   ],
   "source": [
    "mu = 0.1\n",
    "n = btc_price.shape[0]\n",
    "dt = 1e-5\n",
    "x0 = 1\n",
    "sigma = 0.3\n",
    "np.random.seed(1012)\n",
    "p_bm = np.exp((mu - sigma**2 / 2) * dt + sigma * np.random.normal(0, dt, n))\n",
    "p_bm = MinMaxScaler().fit_transform(p_bm.reshape(-1, 1)).flatten()\n",
    "btc_price[\"P_BM\"] = p_bm\n",
    "plt.plot(p_bm)\n",
    "plt.xlabel(\"$t$\")\n",
    "plt.ylabel(\"$P_{BM}$\")\n",
    "plt.title(\"Probablity of price using Geometric Brownian Motion\")\n",
    "plt.show()"
   ]
  },
  {
   "cell_type": "markdown",
   "metadata": {},
   "source": [
    "## Pipeline for scaling labels"
   ]
  },
  {
   "cell_type": "code",
   "execution_count": 97,
   "metadata": {},
   "outputs": [],
   "source": [
    "price_pipline = Pipeline(\n",
    "    steps=[(\"imputer\", SimpleImputer(strategy=\"mean\")), (\"scaler\", MinMaxScaler())]\n",
    ")"
   ]
  },
  {
   "attachments": {},
   "cell_type": "markdown",
   "metadata": {},
   "source": [
    "## Calculate return rate (R) and price volatility change (V)\n"
   ]
  },
  {
   "cell_type": "code",
   "execution_count": 98,
   "metadata": {},
   "outputs": [],
   "source": [
    "def r_v(i, btc_price: pd.DataFrame):\n",
    "    # R\n",
    "    btc_price[\"R\"] = 100 * \\\n",
    "        (btc_price[\"PRICE\"].shift(-i) / btc_price[\"PRICE\"] - 1)\n",
    "\n",
    "    # V\n",
    "    std_backward = SimpleImputer(strategy=\"mean\").fit_transform(\n",
    "        btc_price[\"PRICE\"].rolling(round(1.5 * i)).std().values.reshape(-1, 1)\n",
    "    )\n",
    "    std_forward = SimpleImputer(strategy=\"mean\").fit_transform(\n",
    "        btc_price[\"PRICE\"].rolling(i).std().shift(-i).values.reshape(-1, 1)\n",
    "    )\n",
    "    btc_price[\"V\"] = std_forward / std_backward\n",
    "    return btc_price[[\"R\", \"V\"]]"
   ]
  },
  {
   "cell_type": "code",
   "execution_count": 100,
   "metadata": {},
   "outputs": [],
   "source": [
    "btc_price = r_v(60, btc_price)"
   ]
  },
  {
   "cell_type": "code",
   "execution_count": 101,
   "metadata": {},
   "outputs": [
    {
     "data": {
      "text/html": [
       "<div>\n",
       "<style scoped>\n",
       "    .dataframe tbody tr th:only-of-type {\n",
       "        vertical-align: middle;\n",
       "    }\n",
       "\n",
       "    .dataframe tbody tr th {\n",
       "        vertical-align: top;\n",
       "    }\n",
       "\n",
       "    .dataframe thead th {\n",
       "        text-align: right;\n",
       "    }\n",
       "</style>\n",
       "<table border=\"1\" class=\"dataframe\">\n",
       "  <thead>\n",
       "    <tr style=\"text-align: right;\">\n",
       "      <th></th>\n",
       "      <th>R</th>\n",
       "      <th>V</th>\n",
       "    </tr>\n",
       "  </thead>\n",
       "  <tbody>\n",
       "    <tr>\n",
       "      <th>2017-08-17 04:00:00</th>\n",
       "      <td>2.175574</td>\n",
       "      <td>0.210573</td>\n",
       "    </tr>\n",
       "    <tr>\n",
       "      <th>2017-08-17 04:05:00</th>\n",
       "      <td>2.311873</td>\n",
       "      <td>0.206285</td>\n",
       "    </tr>\n",
       "    <tr>\n",
       "      <th>2017-08-17 04:10:00</th>\n",
       "      <td>2.311873</td>\n",
       "      <td>0.201166</td>\n",
       "    </tr>\n",
       "    <tr>\n",
       "      <th>2017-08-17 04:15:00</th>\n",
       "      <td>2.284670</td>\n",
       "      <td>0.195484</td>\n",
       "    </tr>\n",
       "    <tr>\n",
       "      <th>2017-08-17 04:20:00</th>\n",
       "      <td>2.207782</td>\n",
       "      <td>0.189831</td>\n",
       "    </tr>\n",
       "    <tr>\n",
       "      <th>...</th>\n",
       "      <td>...</td>\n",
       "      <td>...</td>\n",
       "    </tr>\n",
       "    <tr>\n",
       "      <th>2023-07-24 08:40:00</th>\n",
       "      <td>NaN</td>\n",
       "      <td>1.956044</td>\n",
       "    </tr>\n",
       "    <tr>\n",
       "      <th>2023-07-24 08:45:00</th>\n",
       "      <td>NaN</td>\n",
       "      <td>2.064418</td>\n",
       "    </tr>\n",
       "    <tr>\n",
       "      <th>2023-07-24 08:50:00</th>\n",
       "      <td>NaN</td>\n",
       "      <td>2.171652</td>\n",
       "    </tr>\n",
       "    <tr>\n",
       "      <th>2023-07-24 08:55:00</th>\n",
       "      <td>NaN</td>\n",
       "      <td>2.293708</td>\n",
       "    </tr>\n",
       "    <tr>\n",
       "      <th>2023-07-24 09:00:00</th>\n",
       "      <td>NaN</td>\n",
       "      <td>2.444588</td>\n",
       "    </tr>\n",
       "  </tbody>\n",
       "</table>\n",
       "<p>624157 rows × 2 columns</p>\n",
       "</div>"
      ],
      "text/plain": [
       "                            R         V\n",
       "2017-08-17 04:00:00  2.175574  0.210573\n",
       "2017-08-17 04:05:00  2.311873  0.206285\n",
       "2017-08-17 04:10:00  2.311873  0.201166\n",
       "2017-08-17 04:15:00  2.284670  0.195484\n",
       "2017-08-17 04:20:00  2.207782  0.189831\n",
       "...                       ...       ...\n",
       "2023-07-24 08:40:00       NaN  1.956044\n",
       "2023-07-24 08:45:00       NaN  2.064418\n",
       "2023-07-24 08:50:00       NaN  2.171652\n",
       "2023-07-24 08:55:00       NaN  2.293708\n",
       "2023-07-24 09:00:00       NaN  2.444588\n",
       "\n",
       "[624157 rows x 2 columns]"
      ]
     },
     "execution_count": 101,
     "metadata": {},
     "output_type": "execute_result"
    }
   ],
   "source": [
    "btc_price"
   ]
  },
  {
   "cell_type": "markdown",
   "metadata": {},
   "source": [
    "## Define function for predicting labels"
   ]
  },
  {
   "cell_type": "code",
   "execution_count": 10,
   "metadata": {},
   "outputs": [],
   "source": [
    "def predict(data: pd.Series, time: pd.DatetimeIndex, file_name: str):\n",
    "    agg_data = data.resample('H').mean().shift(1).loc[time]\n",
    "    predict_labels = agg_data[\"R\"] / (2 * np.sqrt(agg_data[\"V\"] * agg_data[\"P_BM\"]))\n",
    "    labels = price_pipline.fit_transform(predict_labels.values.reshape(-1, 1)).flatten()\n",
    "    submission = pd.DataFrame(\n",
    "        {\"OPEN_TIME\": time.astype(np.int64) // 10**6, \"PREDICTION\": labels}\n",
    "    )\n",
    "    submission.to_csv(\"C:/Users/nguye/Downloads/\" + file_name, index=False)\n",
    "    sns.kdeplot(labels, fill=True)\n",
    "    return labels"
   ]
  },
  {
   "cell_type": "markdown",
   "metadata": {},
   "source": [
    "## Prediction for public test round\n"
   ]
  },
  {
   "cell_type": "code",
   "execution_count": 11,
   "metadata": {},
   "outputs": [
    {
     "data": {
      "text/plain": [
       "array([0.32598842, 0.26835637, 0.34535599, ..., 0.47561184, 0.45878067,\n",
       "       0.43802585])"
      ]
     },
     "execution_count": 11,
     "metadata": {},
     "output_type": "execute_result"
    },
    {
     "data": {
      "image/png": "[encoded data removed]",
      "text/plain": [
       "<Figure size 640x480 with 1 Axes>"
      ]
     },
     "metadata": {},
     "output_type": "display_data"
    }
   ],
   "source": [
    "predict(\n",
    "    btc_price,\n",
    "    pd.date_range(start=\"2022-12-15\", end=\"2023-03-05\", freq=\"H\"),\n",
    "    \"public_test_v5.csv\",\n",
    ")"
   ]
  },
  {
   "cell_type": "markdown",
   "metadata": {},
   "source": [
    "## Prediction for private test round"
   ]
  },
  {
   "cell_type": "code",
   "execution_count": 133,
   "metadata": {},
   "outputs": [
    {
     "data": {
      "image/png": "[encoded data removed]",
      "text/plain": [
       "<Figure size 640x480 with 1 Axes>"
      ]
     },
     "metadata": {},
     "output_type": "display_data"
    }
   ],
   "source": [
    "lb = predict(\n",
    "    btc_price,\n",
    "    pd.date_range(start=\"2023-02-01\", end=\"2023-06-15\", freq=\"H\"),\n",
    "    \"private_test_22_7.csv\",\n",
    ")"
   ]
  },
  {
   "cell_type": "markdown",
   "metadata": {},
   "source": [
    "## Predict by using calculated labels"
   ]
  },
  {
   "cell_type": "code",
   "execution_count": 14,
   "metadata": {},
   "outputs": [],
   "source": [
    "# def pred_v2(time,file_name):\n",
    "#     resample_data = cal_labels.resample(\"30min\").mean()\n",
    "#     lb = price_pipline.fit_transform(resample_data.loc[time].values.reshape(-1, 1)).flatten()\n",
    "#     x = pd.DataFrame(\n",
    "#         {\"OPEN_TIME\": time.astype(np.int64) // 10**6, \"PREDICTION\": lb}\n",
    "#     )\n",
    "#     x.to_csv(\"C:/Users/nguye/Downloads/\" + file_name, index=False)\n",
    "#     sns.kdeplot(lb, fill=True)\n",
    "#     plt.show()\n"
   ]
  },
  {
   "cell_type": "code",
   "execution_count": 15,
   "metadata": {},
   "outputs": [],
   "source": [
    "# pred_v2(\n",
    "#     pd.date_range(start=\"2022-12-15\", end=\"2023-03-05\", freq=\"H\"),\n",
    "#     \"public_test_v6.csv\",\n",
    "# )"
   ]
  },
  {
   "cell_type": "code",
   "execution_count": 16,
   "metadata": {},
   "outputs": [],
   "source": [
    "# pred_v2(\n",
    "#     pd.date_range(start=\"2023-02-01\", end=\"2023-06-15\", freq=\"H\"),\n",
    "#     \"private_test_22_7_v2.csv\",\n",
    "# )"
   ]
  },
  {
   "cell_type": "code",
   "execution_count": 12,
   "metadata": {},
   "outputs": [],
   "source": [
    "agg_data = btc_price.resample('H').mean().shift(1).loc[pd.Timestamp(\"2020-07-01 00:00:00\") :]\n",
    "data = pd.DataFrame(\n",
    "    index=agg_data.index, data={\"R\": agg_data[\"R\"], \"V\": agg_data[\"V\"]}\n",
    ")"
   ]
  },
  {
   "cell_type": "code",
   "execution_count": 13,
   "metadata": {},
   "outputs": [],
   "source": [
    "data['R'][abs(data['R'])>10] = data['R'].median()"
   ]
  },
  {
   "cell_type": "code",
   "execution_count": 74,
   "metadata": {},
   "outputs": [],
   "source": [
    "pred_labels = data[\"R\"] / (2 * np.sqrt(data[\"V\"] * agg_data[\"P_BM\"]))"
   ]
  },
  {
   "cell_type": "code",
   "execution_count": 23,
   "metadata": {},
   "outputs": [],
   "source": [
    "s = MinMaxScaler()\n",
    "k = s.fit_transform(pred_labels.values.reshape(-1, 1)).flatten()"
   ]
  },
  {
   "cell_type": "code",
   "execution_count": 72,
   "metadata": {},
   "outputs": [
    {
     "data": {
      "text/plain": [
       "array([-0.00830216,  0.46791845,  0.36112607, ..., -0.46818095,\n",
       "       -0.44184655, -0.50214027])"
      ]
     },
     "execution_count": 72,
     "metadata": {},
     "output_type": "execute_result"
    }
   ],
   "source": [
    "# descale with numpy\n",
    "x = k * (s.data_max_ - s.data_min_) + s.data_min_ \n",
    "x"
   ]
  },
  {
   "cell_type": "code",
   "execution_count": 79,
   "metadata": {},
   "outputs": [
    {
     "data": {
      "text/plain": [
       "array([0.46654576])"
      ]
     },
     "execution_count": 79,
     "metadata": {},
     "output_type": "execute_result"
    }
   ],
   "source": [
    "s.data_max_, s.data_min_ \n",
    "scale = (pred_labels[0] - s.data_min_) / (s.data_max_ - s.data_min_)\n",
    "scale * (s.data_max_ - s.data_min_) + s.data_min_\n",
    "scale"
   ]
  },
  {
   "cell_type": "code",
   "execution_count": 77,
   "metadata": {},
   "outputs": [
    {
     "data": {
      "text/plain": [
       "2020-07-01 00:00:00   -0.008302\n",
       "2020-07-01 01:00:00    0.467918\n",
       "2020-07-01 02:00:00    0.361126\n",
       "2020-07-01 03:00:00    0.111048\n",
       "2020-07-01 04:00:00    0.183392\n",
       "                         ...   \n",
       "2023-07-23 20:00:00   -0.812430\n",
       "2023-07-23 21:00:00   -0.632809\n",
       "2023-07-23 22:00:00   -0.468181\n",
       "2023-07-23 23:00:00   -0.441847\n",
       "2023-07-24 00:00:00   -0.502140\n",
       "Freq: H, Length: 26833, dtype: float64"
      ]
     },
     "execution_count": 77,
     "metadata": {},
     "output_type": "execute_result"
    }
   ],
   "source": [
    "pred_labels"
   ]
  },
  {
   "cell_type": "code",
   "execution_count": 47,
   "metadata": {},
   "outputs": [
    {
     "data": {
      "text/plain": [
       "62"
      ]
     },
     "execution_count": 47,
     "metadata": {},
     "output_type": "execute_result"
    }
   ],
   "source": [
    "39 - -23"
   ]
  },
  {
   "cell_type": "code",
   "execution_count": 34,
   "metadata": {},
   "outputs": [],
   "source": [
    "# data.to_csv(\"C:/Users/nguye/Downloads/data.csv\")\n",
    "pred_labels.to_csv(\"C:/Users/nguye/Downloads/labels.csv\")"
   ]
  },
  {
   "cell_type": "code",
   "execution_count": 35,
   "metadata": {},
   "outputs": [
    {
     "data": {
      "text/plain": [
       "2020-07-01 00:00:00   -0.008302\n",
       "2020-07-01 01:00:00    0.467918\n",
       "2020-07-01 02:00:00    0.361126\n",
       "2020-07-01 03:00:00    0.111048\n",
       "2020-07-01 04:00:00    0.183392\n",
       "                         ...   \n",
       "2023-07-23 20:00:00   -0.812430\n",
       "2023-07-23 21:00:00   -0.632809\n",
       "2023-07-23 22:00:00   -0.468181\n",
       "2023-07-23 23:00:00   -0.441847\n",
       "2023-07-24 00:00:00   -0.502140\n",
       "Freq: H, Length: 26833, dtype: float64"
      ]
     },
     "execution_count": 35,
     "metadata": {},
     "output_type": "execute_result"
    }
   ],
   "source": [
    "pred_labels"
   ]
  },
  {
   "cell_type": "code",
   "execution_count": 106,
   "metadata": {},
   "outputs": [
    {
     "name": "stdout",
     "output_type": "stream",
     "text": [
      "1690117200000\n"
     ]
    }
   ],
   "source": [
    "submit_hour = (pd.Timestamp.now().ceil(freq=\"H\") - pd.Timedelta(hours=7)).value // 10**6\n",
    "print(submit_hour)\n"
   ]
  },
  {
   "cell_type": "code",
   "execution_count": 85,
   "metadata": {},
   "outputs": [],
   "source": [
    "x = MinMaxScaler().fit_transform(pred_labels.values.reshape(-1,1)).flatten()"
   ]
  }
 ],
 "metadata": {
  "kernelspec": {
   "display_name": "date3k2",
   "language": "python",
   "name": "python3"
  },
  "language_info": {
   "codemirror_mode": {
    "name": "ipython",
    "version": 3
   },
   "file_extension": ".py",
   "mimetype": "text/x-python",
   "name": "python",
   "nbconvert_exporter": "python",
   "pygments_lexer": "ipython3",
   "version": "3.11.0"
  },
  "orig_nbformat": 4
 },
 "nbformat": 4,
 "nbformat_minor": 2
}
