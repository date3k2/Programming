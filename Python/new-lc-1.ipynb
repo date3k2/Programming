{
 "cells": [
  {
   "cell_type": "code",
   "execution_count": 10,
   "metadata": {},
   "outputs": [
    {
     "data": {
      "text/plain": [
       "'lEOtcede'"
      ]
     },
     "execution_count": 10,
     "metadata": {},
     "output_type": "execute_result"
    }
   ],
   "source": [
    "class Solution:\n",
    "    def sortVowels(self, s: str) -> str:\n",
    "        vw = []\n",
    "        ans = []\n",
    "        vowels = [\"a\", \"e\", \"i\", \"o\", \"u\"]\n",
    "        for i in s:\n",
    "            if i.lower() in vowels:\n",
    "                vw.append(i)\n",
    "                ans.append(\"\")\n",
    "            else:\n",
    "                ans.append(i)\n",
    "        vw.sort()\n",
    "        j = 0\n",
    "        for i in range(len(s)):\n",
    "            if ans[i] == \"\":\n",
    "                ans[i] = vw[j]\n",
    "                j += 1\n",
    "        return \"\".join(ans)\n",
    "\n",
    "\n",
    "s = \"lEetcOde\"\n",
    "Solution().sortVowels(s)"
   ]
  }
 ],
 "metadata": {
  "kernelspec": {
   "display_name": ".venv",
   "language": "python",
   "name": "python3"
  },
  "language_info": {
   "codemirror_mode": {
    "name": "ipython",
    "version": 3
   },
   "file_extension": ".py",
   "mimetype": "text/x-python",
   "name": "python",
   "nbconvert_exporter": "python",
   "pygments_lexer": "ipython3",
   "version": "3.12.0"
  }
 },
 "nbformat": 4,
 "nbformat_minor": 2
}
