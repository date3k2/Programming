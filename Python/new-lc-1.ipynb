{
 "cells": [
  {
   "cell_type": "code",
   "execution_count": 10,
   "metadata": {},
   "outputs": [
    {
     "data": {
      "text/plain": [
       "'lEOtcede'"
      ]
     },
     "execution_count": 10,
     "metadata": {},
     "output_type": "execute_result"
    }
   ],
   "source": [
    "class Solution:\n",
    "    def sortVowels(self, s: str) -> str:\n",
    "        vw = []\n",
    "        ans = []\n",
    "        vowels = [\"a\", \"e\", \"i\", \"o\", \"u\"]\n",
    "        for i in s:\n",
    "            if i.lower() in vowels:\n",
    "                vw.append(i)\n",
    "                ans.append(\"\")\n",
    "            else:\n",
    "                ans.append(i)\n",
    "        vw.sort()\n",
    "        j = 0\n",
    "        for i in range(len(s)):\n",
    "            if ans[i] == \"\":\n",
    "                ans[i] = vw[j]\n",
    "                j += 1\n",
    "        return \"\".join(ans)\n",
    "\n",
    "\n",
    "s = \"lEetcOde\"\n",
    "Solution().sortVowels(s)"
   ]
  },
  {
   "cell_type": "code",
   "execution_count": 12,
   "metadata": {},
   "outputs": [
    {
     "data": {
      "text/plain": [
       "[1, 6, 2, 8, 7, 3, 9, 4, 12, 10, 5, 13, 11, 14, 15, 16]"
      ]
     },
     "execution_count": 12,
     "metadata": {},
     "output_type": "execute_result"
    }
   ],
   "source": [
    "from typing import List\n",
    "from collections import defaultdict, deque\n",
    "\n",
    "\n",
    "class Solution:\n",
    "    def findDiagonalOrder(self, nums: List[List[int]]) -> List[int]:\n",
    "        diagon = defaultdict(deque)\n",
    "        for i, row in enumerate(nums):\n",
    "            for j, num in enumerate(row):\n",
    "                diagon[i + j].appendleft(num)\n",
    "        ans = []\n",
    "        for l in diagon.values():\n",
    "            ans.extend(l)\n",
    "        return ans\n",
    "\n",
    "\n",
    "nums = [[1, 2, 3, 4, 5], [6, 7], [8], [9, 10, 11], [12, 13, 14, 15, 16]]\n",
    "Solution().findDiagonalOrder(nums)"
   ]
  },
  {
   "cell_type": "code",
   "execution_count": 36,
   "metadata": {},
   "outputs": [
    {
     "data": {
      "text/plain": [
       "4"
      ]
     },
     "execution_count": 36,
     "metadata": {},
     "output_type": "execute_result"
    }
   ],
   "source": [
    "from typing import List\n",
    "\n",
    "\n",
    "class Solution:\n",
    "    def largestSubmatrix(self, matrix: List[List[int]]) -> int:\n",
    "        set_ones = [int(\"\".join(map(str, m)), base=2) for m in matrix]\n",
    "        m = len(matrix)\n",
    "        ans = set_ones[0].bit_count()\n",
    "        for i in range(m - 1):\n",
    "            s = set_ones[i]\n",
    "            ans = max(ans, s.bit_count())\n",
    "            for j in range(i + 1, m):\n",
    "                s &= set_ones[j]\n",
    "                if not s:\n",
    "                    break\n",
    "                ans = max(ans, s.bit_count() * (j - i + 1))\n",
    "\n",
    "        return ans\n",
    "\n",
    "\n",
    "matrix = [[0, 0, 1], [1, 1, 1], [1, 0, 1]]\n",
    "# matrix = [[0, 1, 0], [1, 0, 1]]\n",
    "Solution().largestSubmatrix(matrix)"
   ]
  },
  {
   "cell_type": "code",
   "execution_count": 27,
   "metadata": {},
   "outputs": [],
   "source": [
    "import numpy as np\n",
    "import pyperclip\n",
    "random_matrix = np.random.randint(1, 2, (1000, 100))\n",
    "random_matrix = random_matrix.tolist()\n",
    "random_matrix = str(random_matrix)\n",
    "pyperclip.copy(random_matrix)"
   ]
  },
  {
   "cell_type": "code",
   "execution_count": 15,
   "metadata": {},
   "outputs": [
    {
     "data": {
      "text/plain": [
       "136006598"
      ]
     },
     "execution_count": 15,
     "metadata": {},
     "output_type": "execute_result"
    }
   ],
   "source": [
    "class Solution:\n",
    "    def knightDialer(self, n: int) -> int:\n",
    "        adj = {0: (4, 6), 1: (6, 8), 2: (7, 9), 3: (4, 8), 4: (\n",
    "            0, 3, 9), 6: (0, 1, 7), 7: (2, 6), 8: (1, 3), 9: (2, 4)}\n",
    "        MOD = 1000000007\n",
    "        dp = [1] * 10\n",
    "        for i in range(n - 1):\n",
    "            s = dp.copy()\n",
    "            for j in range(10):\n",
    "                if j == 5:\n",
    "                    continue\n",
    "                dp[j] = sum(s[k] for k in adj[j]) % MOD\n",
    "        return (sum(dp) - 1) % MOD\n",
    "\n",
    "\n",
    "n = 3131\n",
    "Solution().knightDialer(n)"
   ]
  },
  {
   "cell_type": "code",
   "execution_count": 19,
   "metadata": {},
   "outputs": [
    {
     "name": "stdout",
     "output_type": "stream",
     "text": [
      "352\n"
     ]
    },
    {
     "data": {
      "text/plain": [
       "{0: [4, 6],\n",
       " 1: [6, 8],\n",
       " 2: [7, 9],\n",
       " 3: [4, 8],\n",
       " 4: [0, 3, 9],\n",
       " 6: [0, 1, 7],\n",
       " 7: [2, 6],\n",
       " 8: [1, 3],\n",
       " 9: [2, 4]}"
      ]
     },
     "execution_count": 19,
     "metadata": {},
     "output_type": "execute_result"
    }
   ],
   "source": [
    "adj = {0: (4, 6), 1: (6, 8), 2: (7, 9), 3: (4, 8), 4: (\n",
    "    0, 3, 9), 6: (0, 1, 7), 7: (2, 6), 8: (1, 3), 9: (2, 4)}\n",
    "# print how many byte adj takes\n",
    "import sys\n",
    "print(sys.getsizeof(adj))\n",
    "adj_1 = {}\n",
    "for i in adj:\n",
    "    adj_1[i] = list(adj[i])\n",
    "adj_1\n"
   ]
  },
  {
   "cell_type": "code",
   "execution_count": 21,
   "metadata": {},
   "outputs": [
    {
     "name": "stdout",
     "output_type": "stream",
     "text": [
      "True\n"
     ]
    }
   ],
   "source": [
    "d = {0: [4, 6],\n",
    " 1: [6, 8],\n",
    " 2: [7, 9],\n",
    " 3: [4, 8],\n",
    " 4: [0, 3, 9],\n",
    " 6: [0, 1, 7],\n",
    " 7: [2, 6],\n",
    " 8: [1, 3],\n",
    " 9: [2, 4]}\n",
    "print(sys.getsizeof(d) == sys.getsizeof(adj))"
   ]
  },
  {
   "cell_type": "code",
   "execution_count": 3,
   "metadata": {},
   "outputs": [],
   "source": [
    "import os\n",
    "import shutil\n",
    "for file in os.listdir('../IT3040/'):\n",
    "    if '.' in file:\n",
    "        shutil.move('../IT3040/' + file, '../IT3040/lab01/' + file)"
   ]
  },
  {
   "cell_type": "code",
   "execution_count": 3,
   "metadata": {},
   "outputs": [
    {
     "data": {
      "text/plain": [
       "'1011000100111'"
      ]
     },
     "execution_count": 3,
     "metadata": {},
     "output_type": "execute_result"
    }
   ],
   "source": [
    "s = bin(5671)[2:]"
   ]
  },
  {
   "cell_type": "code",
   "execution_count": 46,
   "metadata": {},
   "outputs": [
    {
     "data": {
      "text/plain": [
       "15670033"
      ]
     },
     "execution_count": 46,
     "metadata": {},
     "output_type": "execute_result"
    }
   ],
   "source": [
    "from collections import deque, defaultdict\n",
    "\n",
    "\n",
    "class Solution:\n",
    "\n",
    "    def minimumOneBitOperations(self, n: int) -> int:\n",
    "        d = {}\n",
    "        q = deque([n])\n",
    "        d[n] = 0\n",
    "        inf = float(\"inf\")\n",
    "        while q:\n",
    "            num = q.popleft()\n",
    "            if num == 0:\n",
    "                return d[num]\n",
    "            dist = d[num]\n",
    "            k = num - 1 if num % 2 else num + 1\n",
    "            if k not in d:\n",
    "                q.append(k)\n",
    "            d[k] = min(d.get(k, inf), dist + 1)\n",
    "            time = 0\n",
    "            while num % 2 == 0:\n",
    "                num >>= 1\n",
    "                time += 1\n",
    "            if num > 1:\n",
    "                num -= 2 if (num - 1) % 4 else -2\n",
    "                while time > 0:\n",
    "                    num <<= 1\n",
    "                    time -= 1\n",
    "                if num not in d:\n",
    "                    q.append(num)\n",
    "                d[num] = min(d.get(num, inf), dist + 1)\n",
    "\n",
    "\n",
    "n = 10**7 + 25\n",
    "\n",
    "\n",
    "Solution().minimumOneBitOperations(n)"
   ]
  },
  {
   "cell_type": "code",
   "execution_count": 5,
   "metadata": {},
   "outputs": [
    {
     "data": {
      "text/plain": [
       "44"
      ]
     },
     "execution_count": 5,
     "metadata": {},
     "output_type": "execute_result"
    }
   ],
   "source": [
    "from itertools import permutations\n",
    "\n",
    "count = 0\n",
    "for i in permutations([1, 2, 3, 4, 5]):\n",
    "    if i[0] != 1 and i[1] != 2 and i[2] != 3 and i[3] != 4 and i[4] != 5:\n",
    "        count += 1\n",
    "count\n",
    "# this problem is equivalent to find the number of derangement of 5 elements, formula is n! * (1 - 1/1! + 1/2! - 1/3! + ... + (-1)^n / n!)"
   ]
  },
  {
   "cell_type": "code",
   "execution_count": 10,
   "metadata": {},
   "outputs": [
    {
     "name": "stdout",
     "output_type": "stream",
     "text": [
      "2 0 1 3 5 4\n",
      "1 2 4 5 0 3\n",
      "2 3 5 0 1 4\n",
      "1 0 2 3 4 5\n",
      "2 1 4 5 0 3\n",
      "1 3 5 0 4 2\n",
      "\n",
      "1 3 6 7 3 6\n",
      "8 5 10 10 10 4\n",
      "5 4 8 9 1 7\n",
      "5 5 5 3 8 9\n",
      "9 3 5 4 3 1\n",
      "3 3 9 10 4 1\n"
     ]
    }
   ],
   "source": [
    "durations = [\n",
    "    [1, 3, 6, 7, 3, 6],\n",
    "    [8, 5, 10, 10, 10, 4],\n",
    "    [5, 4, 8, 9, 1, 7],\n",
    "    [5, 5, 5, 3, 8, 9],\n",
    "    [9, 3, 5, 4, 3, 1],\n",
    "    [3, 3, 9, 10, 4, 1],\n",
    "]\n",
    "\n",
    "machines = [\n",
    "    [2, 0, 1, 3, 5, 4],\n",
    "    [1, 2, 4, 5, 0, 3],\n",
    "    [2, 3, 5, 0, 1, 4],\n",
    "    [1, 0, 2, 3, 4, 5],\n",
    "    [2, 1, 4, 5, 0, 3],\n",
    "    [1, 3, 5, 0, 4, 2],\n",
    "]\n",
    "#print\n",
    "for i in machines:\n",
    "    print(*i)\n",
    "print()\n",
    "# print the duration of each machine\n",
    "for i in durations:\n",
    "    print(*i)\n"
   ]
  },
  {
   "cell_type": "code",
   "execution_count": 15,
   "metadata": {},
   "outputs": [
    {
     "name": "stdout",
     "output_type": "stream",
     "text": [
      "3 1 2 4 6 5\n",
      "2 3 5 6 1 4\n",
      "3 4 6 1 2 5\n",
      "2 1 3 4 5 6\n",
      "3 2 5 6 1 4\n",
      "2 4 6 1 5 3\n",
      "\n"
     ]
    }
   ],
   "source": [
    "import numpy as np\n",
    "x = np.array(machines)\n",
    "x +=1 \n",
    "for i in x:\n",
    "    print(*i)\n",
    "print()"
   ]
  },
  {
   "cell_type": "code",
   "execution_count": 5,
   "metadata": {},
   "outputs": [
    {
     "data": {
      "text/plain": [
       "{2, 5}"
      ]
     },
     "execution_count": 5,
     "metadata": {},
     "output_type": "execute_result"
    }
   ],
   "source": [
    "{1, 2, 3, 5, 7} & {2, 4, 5, 6, 9}"
   ]
  }
 ],
 "metadata": {
  "kernelspec": {
   "display_name": ".venv",
   "language": "python",
   "name": "python3"
  },
  "language_info": {
   "codemirror_mode": {
    "name": "ipython",
    "version": 3
   },
   "file_extension": ".py",
   "mimetype": "text/x-python",
   "name": "python",
   "nbconvert_exporter": "python",
   "pygments_lexer": "ipython3",
   "version": "3.12.0"
  }
 },
 "nbformat": 4,
 "nbformat_minor": 2
}
