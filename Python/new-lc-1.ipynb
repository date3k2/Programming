{
 "cells": [
  {
   "cell_type": "code",
   "execution_count": 10,
   "metadata": {},
   "outputs": [
    {
     "data": {
      "text/plain": [
       "'lEOtcede'"
      ]
     },
     "execution_count": 10,
     "metadata": {},
     "output_type": "execute_result"
    }
   ],
   "source": [
    "class Solution:\n",
    "    def sortVowels(self, s: str) -> str:\n",
    "        vw = []\n",
    "        ans = []\n",
    "        vowels = [\"a\", \"e\", \"i\", \"o\", \"u\"]\n",
    "        for i in s:\n",
    "            if i.lower() in vowels:\n",
    "                vw.append(i)\n",
    "                ans.append(\"\")\n",
    "            else:\n",
    "                ans.append(i)\n",
    "        vw.sort()\n",
    "        j = 0\n",
    "        for i in range(len(s)):\n",
    "            if ans[i] == \"\":\n",
    "                ans[i] = vw[j]\n",
    "                j += 1\n",
    "        return \"\".join(ans)\n",
    "\n",
    "\n",
    "s = \"lEetcOde\"\n",
    "Solution().sortVowels(s)"
   ]
  },
  {
   "cell_type": "code",
   "execution_count": 12,
   "metadata": {},
   "outputs": [
    {
     "data": {
      "text/plain": [
       "[1, 6, 2, 8, 7, 3, 9, 4, 12, 10, 5, 13, 11, 14, 15, 16]"
      ]
     },
     "execution_count": 12,
     "metadata": {},
     "output_type": "execute_result"
    }
   ],
   "source": [
    "from typing import List\n",
    "from collections import defaultdict, deque\n",
    "\n",
    "\n",
    "class Solution:\n",
    "    def findDiagonalOrder(self, nums: List[List[int]]) -> List[int]:\n",
    "        diagon = defaultdict(deque)\n",
    "        for i, row in enumerate(nums):\n",
    "            for j, num in enumerate(row):\n",
    "                diagon[i + j].appendleft(num)\n",
    "        ans = []\n",
    "        for l in diagon.values():\n",
    "            ans.extend(l)\n",
    "        return ans\n",
    "\n",
    "\n",
    "nums = [[1, 2, 3, 4, 5], [6, 7], [8], [9, 10, 11], [12, 13, 14, 15, 16]]\n",
    "Solution().findDiagonalOrder(nums)"
   ]
  },
  {
   "cell_type": "code",
   "execution_count": 36,
   "metadata": {},
   "outputs": [
    {
     "data": {
      "text/plain": [
       "4"
      ]
     },
     "execution_count": 36,
     "metadata": {},
     "output_type": "execute_result"
    }
   ],
   "source": [
    "from typing import List\n",
    "\n",
    "\n",
    "class Solution:\n",
    "    def largestSubmatrix(self, matrix: List[List[int]]) -> int:\n",
    "        set_ones = [int(\"\".join(map(str, m)), base=2) for m in matrix]\n",
    "        m = len(matrix)\n",
    "        ans = set_ones[0].bit_count()\n",
    "        for i in range(m - 1):\n",
    "            s = set_ones[i]\n",
    "            ans = max(ans, s.bit_count())\n",
    "            for j in range(i + 1, m):\n",
    "                s &= set_ones[j]\n",
    "                if not s:\n",
    "                    break\n",
    "                ans = max(ans, s.bit_count() * (j - i + 1))\n",
    "\n",
    "        return ans\n",
    "\n",
    "\n",
    "matrix = [[0, 0, 1], [1, 1, 1], [1, 0, 1]]\n",
    "# matrix = [[0, 1, 0], [1, 0, 1]]\n",
    "Solution().largestSubmatrix(matrix)"
   ]
  },
  {
   "cell_type": "code",
   "execution_count": 27,
   "metadata": {},
   "outputs": [],
   "source": [
    "import numpy as np\n",
    "import pyperclip\n",
    "random_matrix = np.random.randint(1, 2, (1000, 100))\n",
    "random_matrix = random_matrix.tolist()\n",
    "random_matrix = str(random_matrix)\n",
    "pyperclip.copy(random_matrix)"
   ]
  },
  {
   "cell_type": "code",
   "execution_count": 15,
   "metadata": {},
   "outputs": [
    {
     "data": {
      "text/plain": [
       "136006598"
      ]
     },
     "execution_count": 15,
     "metadata": {},
     "output_type": "execute_result"
    }
   ],
   "source": [
    "class Solution:\n",
    "    def knightDialer(self, n: int) -> int:\n",
    "        adj = {0: (4, 6), 1: (6, 8), 2: (7, 9), 3: (4, 8), 4: (\n",
    "            0, 3, 9), 6: (0, 1, 7), 7: (2, 6), 8: (1, 3), 9: (2, 4)}\n",
    "        MOD = 1000000007\n",
    "        dp = [1] * 10\n",
    "        for i in range(n - 1):\n",
    "            s = dp.copy()\n",
    "            for j in range(10):\n",
    "                if j == 5:\n",
    "                    continue\n",
    "                dp[j] = sum(s[k] for k in adj[j]) % MOD\n",
    "        return (sum(dp) - 1) % MOD\n",
    "\n",
    "\n",
    "n = 3131\n",
    "Solution().knightDialer(n)"
   ]
  },
  {
   "cell_type": "code",
   "execution_count": 19,
   "metadata": {},
   "outputs": [
    {
     "name": "stdout",
     "output_type": "stream",
     "text": [
      "352\n"
     ]
    },
    {
     "data": {
      "text/plain": [
       "{0: [4, 6],\n",
       " 1: [6, 8],\n",
       " 2: [7, 9],\n",
       " 3: [4, 8],\n",
       " 4: [0, 3, 9],\n",
       " 6: [0, 1, 7],\n",
       " 7: [2, 6],\n",
       " 8: [1, 3],\n",
       " 9: [2, 4]}"
      ]
     },
     "execution_count": 19,
     "metadata": {},
     "output_type": "execute_result"
    }
   ],
   "source": [
    "adj = {0: (4, 6), 1: (6, 8), 2: (7, 9), 3: (4, 8), 4: (\n",
    "    0, 3, 9), 6: (0, 1, 7), 7: (2, 6), 8: (1, 3), 9: (2, 4)}\n",
    "# print how many byte adj takes\n",
    "import sys\n",
    "print(sys.getsizeof(adj))\n",
    "adj_1 = {}\n",
    "for i in adj:\n",
    "    adj_1[i] = list(adj[i])\n",
    "adj_1\n"
   ]
  },
  {
   "cell_type": "code",
   "execution_count": 21,
   "metadata": {},
   "outputs": [
    {
     "name": "stdout",
     "output_type": "stream",
     "text": [
      "True\n"
     ]
    }
   ],
   "source": [
    "d = {0: [4, 6],\n",
    " 1: [6, 8],\n",
    " 2: [7, 9],\n",
    " 3: [4, 8],\n",
    " 4: [0, 3, 9],\n",
    " 6: [0, 1, 7],\n",
    " 7: [2, 6],\n",
    " 8: [1, 3],\n",
    " 9: [2, 4]}\n",
    "print(sys.getsizeof(d) == sys.getsizeof(adj))"
   ]
  },
  {
   "cell_type": "code",
   "execution_count": 3,
   "metadata": {},
   "outputs": [],
   "source": [
    "import os\n",
    "import shutil\n",
    "for file in os.listdir('../IT3040/'):\n",
    "    if '.' in file:\n",
    "        shutil.move('../IT3040/' + file, '../IT3040/lab01/' + file)"
   ]
  }
 ],
 "metadata": {
  "kernelspec": {
   "display_name": ".venv",
   "language": "python",
   "name": "python3"
  },
  "language_info": {
   "codemirror_mode": {
    "name": "ipython",
    "version": 3
   },
   "file_extension": ".py",
   "mimetype": "text/x-python",
   "name": "python",
   "nbconvert_exporter": "python",
   "pygments_lexer": "ipython3",
   "version": "3.12.0"
  }
 },
 "nbformat": 4,
 "nbformat_minor": 2
}
