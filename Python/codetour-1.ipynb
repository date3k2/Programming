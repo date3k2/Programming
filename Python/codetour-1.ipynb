{
 "cells": [
  {
   "cell_type": "code",
   "execution_count": 45,
   "metadata": {},
   "outputs": [
    {
     "ename": "ValueError",
     "evalue": "not enough values to unpack (expected 2, got 0)",
     "output_type": "error",
     "traceback": [
      "\u001b[1;31m---------------------------------------------------------------------------\u001b[0m",
      "\u001b[1;31mValueError\u001b[0m                                Traceback (most recent call last)",
      "Cell \u001b[1;32mIn[45], line 3\u001b[0m\n\u001b[0;32m      1\u001b[0m \u001b[39mimport\u001b[39;00m \u001b[39msys\u001b[39;00m\n\u001b[0;32m      2\u001b[0m \u001b[39minput\u001b[39m \u001b[39m=\u001b[39m sys\u001b[39m.\u001b[39mstdin\u001b[39m.\u001b[39mreadline\n\u001b[1;32m----> 3\u001b[0m n, m \u001b[39m=\u001b[39m \u001b[39mmap\u001b[39m(\u001b[39mint\u001b[39m, \u001b[39minput\u001b[39m()\u001b[39m.\u001b[39msplit())\n\u001b[0;32m      4\u001b[0m image \u001b[39m=\u001b[39m []\n\u001b[0;32m      5\u001b[0m \u001b[39mfor\u001b[39;00m _ \u001b[39min\u001b[39;00m \u001b[39mrange\u001b[39m(n):\n",
      "\u001b[1;31mValueError\u001b[0m: not enough values to unpack (expected 2, got 0)"
     ]
    }
   ],
   "source": [
    "import sys\n",
    "# sys.stdin = open(\n",
    "#     r'C:\\Users\\nguye\\Documents\\Code\\Programming\\C++\\test.inp', 'r')\n",
    "# sys.stdout = open(\n",
    "#     r'C:\\Users\\nguye\\Documents\\Code\\Programming\\C++\\test.out', 'w')\n",
    "input = sys.stdin.readline\n",
    "n, m = map(int, input().split())\n",
    "image = []\n",
    "for _ in range(n):\n",
    "    a = list(map(int, input().split()))\n",
    "    image.append(a)\n",
    "op = input().split()\n",
    "rotate = 0\n",
    "for i in op:\n",
    "    if len(i) == 1:\n",
    "        if i == 'T':\n",
    "            rotate += 1\n",
    "        else:\n",
    "            rotate -= 1\n",
    "    else:\n",
    "        if i[1] == 'T':\n",
    "            rotate += int(i[0])\n",
    "        else:\n",
    "            rotate -= int(i[0])\n",
    "rotate %= 4\n",
    "for _ in range(rotate):\n",
    "    image = list(zip(*image))[::-1]\n",
    "for i in image:\n",
    "    print(' '.join(map(str, i)))"
   ]
  }
 ],
 "metadata": {
  "kernelspec": {
   "display_name": ".venv",
   "language": "python",
   "name": "python3"
  },
  "language_info": {
   "codemirror_mode": {
    "name": "ipython",
    "version": 3
   },
   "file_extension": ".py",
   "mimetype": "text/x-python",
   "name": "python",
   "nbconvert_exporter": "python",
   "pygments_lexer": "ipython3",
   "version": "3.11.0"
  },
  "orig_nbformat": 4
 },
 "nbformat": 4,
 "nbformat_minor": 2
}
