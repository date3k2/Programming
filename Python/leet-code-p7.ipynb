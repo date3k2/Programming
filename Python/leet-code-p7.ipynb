{
 "cells": [
  {
   "cell_type": "code",
   "execution_count": 1,
   "metadata": {},
   "outputs": [
    {
     "data": {
      "text/plain": [
       "5"
      ]
     },
     "execution_count": 1,
     "metadata": {},
     "output_type": "execute_result"
    }
   ],
   "source": [
    "from typing import List\n",
    "from collections import OrderedDict, deque\n",
    "\n",
    "\n",
    "class Solution:\n",
    "    def getWinner(self, arr: List[int], k: int):\n",
    "        dq = deque(arr)\n",
    "        idx = 1\n",
    "        old = 0\n",
    "        for _ in range(len(arr)):\n",
    "            winner = max(dq[0], dq[1])\n",
    "            if dq[0] > dq[1]:\n",
    "                dq.popleft()\n",
    "                dq.append(dq.popleft())\n",
    "                dq.appendleft(winner)\n",
    "            else:\n",
    "                dq.append(dq.popleft())\n",
    "            if winner == old:\n",
    "                idx += 1\n",
    "            else:\n",
    "                idx = 1\n",
    "            old = winner\n",
    "            if idx == k:\n",
    "                return winner\n",
    "        return dq[0]\n",
    "\n",
    "\n",
    "arr = [2, 1, 3, 5, 4, 6, 7]\n",
    "k = 2\n",
    "Solution().getWinner(arr, k)"
   ]
  },
  {
   "cell_type": "code",
   "execution_count": 17,
   "metadata": {},
   "outputs": [],
   "source": [
    "import random\n",
    "import pyperclip\n",
    "x = list([random.randint(50, 1000) for _ in range(100)])\n",
    "pyperclip.copy(str(x))\n"
   ]
  },
  {
   "cell_type": "code",
   "execution_count": 7,
   "metadata": {},
   "outputs": [
    {
     "data": {
      "text/plain": [
       "1"
      ]
     },
     "execution_count": 7,
     "metadata": {},
     "output_type": "execute_result"
    }
   ],
   "source": [
    "from typing import List\n",
    "\n",
    "\n",
    "class Solution:\n",
    "    def eliminateMaximum(self, dist: List[int], speed: List[int]) -> int:\n",
    "        time = [u / v for u, v in zip(dist, speed)]\n",
    "        time.sort()\n",
    "        ans = shot = 0\n",
    "        for i in time:\n",
    "            if shot < i:\n",
    "                ans += 1\n",
    "                shot += 1\n",
    "            else:\n",
    "                return ans\n",
    "        return ans\n",
    "\n",
    "\n",
    "dist = [1, 1, 2, 3]\n",
    "speed = [1, 1, 1, 1]\n",
    "# dist = [3,2,4]\n",
    "# speed = [5,3,2]\n",
    "Solution().eliminateMaximum(dist, speed)"
   ]
  },
  {
   "cell_type": "code",
   "execution_count": 7,
   "metadata": {},
   "outputs": [
    {
     "data": {
      "text/plain": [
       "4"
      ]
     },
     "execution_count": 7,
     "metadata": {},
     "output_type": "execute_result"
    }
   ],
   "source": [
    "from collections import Counter\n",
    "\n",
    "\n",
    "class Solution:\n",
    "    def countPalindromicSubsequence(self, s: str) -> int:\n",
    "        cnt = Counter(s)\n",
    "        n = len(s) - 1\n",
    "        chars = [i for i in cnt if cnt[i] > 1]\n",
    "        ans = 0\n",
    "        for i in chars:\n",
    "            start, end = 0, n\n",
    "            while s[start] != i:\n",
    "                start += 1\n",
    "            while s[end] != i:\n",
    "                end -= 1\n",
    "            ans += len(set(s[start + 1 : end]))\n",
    "        return ans\n",
    "\n",
    "\n",
    "s = \"bbcbaba\"\n",
    "Solution().countPalindromicSubsequence(s)"
   ]
  },
  {
   "cell_type": "code",
   "execution_count": 5,
   "metadata": {},
   "outputs": [],
   "source": [
    "import string\n",
    "import numpy as np\n",
    "\n",
    "st = np.random.choice(np.array(list(string.ascii_lowercase)), 100000)\n",
    "import pyperclip\n",
    "pyperclip.copy(''.join(st))"
   ]
  },
  {
   "cell_type": "code",
   "execution_count": 4,
   "metadata": {},
   "outputs": [
    {
     "data": {
      "text/plain": [
       "[1, 1, 2, 2, 2]"
      ]
     },
     "execution_count": 4,
     "metadata": {},
     "output_type": "execute_result"
    }
   ],
   "source": [
    "class Solution:\n",
    "    def maximumElementAfterDecrementingAndRearranging(self, arr: list[int]) -> int:\n",
    "        arr.sort()\n",
    "        ans = 0\n",
    "        for i in range(1, len(arr)):\n",
    "            if arr[i] > arr[i - 1] + 1:\n",
    "                arr[i] = arr[i - 1] + 1\n",
    "        return arr[-1]\n",
    "\n",
    "\n",
    "arr = [2, 2, 1, 2, 1]\n",
    "# arr = [100,1,1000]\n",
    "# arr = [1,2,3,4,5]\n",
    "Solution().maximumElementAfterDecrementingAndRearranging(arr)"
   ]
  },
  {
   "cell_type": "code",
   "execution_count": 8,
   "metadata": {},
   "outputs": [],
   "source": [
    "arr = np.random.randint(1, 1_000_000_000, 100000)\n",
    "import pyperclip\n",
    "pyperclip.copy(str(list(arr)))"
   ]
  },
  {
   "cell_type": "code",
   "execution_count": 10,
   "metadata": {},
   "outputs": [
    {
     "data": {
      "text/plain": [
       "'100'"
      ]
     },
     "execution_count": 10,
     "metadata": {},
     "output_type": "execute_result"
    }
   ],
   "source": [
    "from typing import List\n",
    "\n",
    "\n",
    "class Solution:\n",
    "    def findDifferentBinaryString(self, nums: List[str]) -> str:\n",
    "        n = len(nums)\n",
    "        ans = \"\"\n",
    "        for i in range(n):\n",
    "            d = {\"0\": 0, \"1\": 0}\n",
    "            for num in nums:\n",
    "                d[num[i]] += 1\n",
    "            ans += \"0\" if d[\"1\"] >= d[\"0\"] else \"1\"\n",
    "            if d[ans[-1]] == 0:\n",
    "                return ans + \"0\" * (n - 1 - i)\n",
    "        return ans\n",
    "\n",
    "\n",
    "nums = [\"011\", \"011\", \"001\"]\n",
    "Solution().findDifferentBinaryString(nums)"
   ]
  },
  {
   "cell_type": "code",
   "execution_count": 2,
   "metadata": {},
   "outputs": [
    {
     "data": {
      "text/plain": [
       "'0001110010'"
      ]
     },
     "execution_count": 2,
     "metadata": {},
     "output_type": "execute_result"
    }
   ],
   "source": [
    "import random\n",
    "# random binary string\n",
    "n = 10\n",
    "s = ''.join([random.choice(\"01\") for _ in range(n)])\n",
    "s"
   ]
  },
  {
   "cell_type": "code",
   "execution_count": 30,
   "metadata": {},
   "outputs": [
    {
     "data": {
      "text/plain": [
       "37"
      ]
     },
     "execution_count": 30,
     "metadata": {},
     "output_type": "execute_result"
    }
   ],
   "source": [
    "from typing import List\n",
    "\n",
    "\n",
    "class Solution:\n",
    "    def garbageCollection(self, garbage: List[str], travel: List[int]) -> int:\n",
    "        n = len(garbage)\n",
    "        mgp = [\n",
    "            {\"G\": i.count(\"G\"), \"P\": i.count(\"P\"), \"M\": i.count(\"M\")} for i in garbage\n",
    "        ]\n",
    "        n = len(garbage) - 1\n",
    "        for i in range(1, n):\n",
    "            travel[i] += travel[i - 1]\n",
    "\n",
    "        def count(c):\n",
    "            idx = n\n",
    "            while mgp[idx][c] == 0 and idx >= 0:\n",
    "                idx -= 1\n",
    "            ans = 0\n",
    "            if idx > 0:\n",
    "                ans += travel[idx - 1]\n",
    "            for i in range(idx + 1):\n",
    "                ans += mgp[i][c]\n",
    "            return ans\n",
    "\n",
    "        return count(\"P\") + count(\"G\") + count(\"M\")\n",
    "\n",
    "\n",
    "# garbage = [\"G\", \"P\", \"GP\", \"GG\"]\n",
    "# travel = [2, 4, 3]\n",
    "garbage = [\"MMM\",\"PGM\",\"GP\"]\n",
    "travel = [3,10]\n",
    "Solution().garbageCollection(garbage, travel)"
   ]
  },
  {
   "cell_type": "code",
   "execution_count": 67,
   "metadata": {},
   "outputs": [
    {
     "name": "stdout",
     "output_type": "stream",
     "text": [
      "\"\n"
     ]
    }
   ],
   "source": [
    "import numpy as np\n",
    "import pyperclip\n",
    "x = [\"\".join(np.random.choice([\"P\", \"G\",\"M\"],np.random.randint(1,10))) for _ in range(100)]\n",
    "travel = list(np.random.randint(1,100,99))\n",
    "pyperclip.copy(str(x).replace(\"'\",\"\\\"\"))\n",
    "# pyperclip.copy(str(travel))"
   ]
  },
  {
   "cell_type": "code",
   "execution_count": 2,
   "metadata": {},
   "outputs": [
    {
     "ename": "ModuleNotFoundError",
     "evalue": "No module named 'tqdm'",
     "output_type": "error",
     "traceback": [
      "\u001b[1;31m---------------------------------------------------------------------------\u001b[0m",
      "\u001b[1;31mModuleNotFoundError\u001b[0m                       Traceback (most recent call last)",
      "\u001b[1;32mc:\\Users\\nguye\\Documents\\Code\\Programming\\Python\\leet-code-p7.ipynb Cell 12\u001b[0m line \u001b[0;36m1\n\u001b[1;32m----> <a href='vscode-notebook-cell:/c%3A/Users/nguye/Documents/Code/Programming/Python/leet-code-p7.ipynb#X14sZmlsZQ%3D%3D?line=0'>1</a>\u001b[0m \u001b[39mfrom\u001b[39;00m \u001b[39mtqdm\u001b[39;00m \u001b[39mimport\u001b[39;00m tqdm\n\u001b[0;32m      <a href='vscode-notebook-cell:/c%3A/Users/nguye/Documents/Code/Programming/Python/leet-code-p7.ipynb#X14sZmlsZQ%3D%3D?line=1'>2</a>\u001b[0m \u001b[39mfor\u001b[39;00m i \u001b[39min\u001b[39;00m tqdm(\u001b[39mrange\u001b[39m(\u001b[39m10000\u001b[39m)):\n\u001b[0;32m      <a href='vscode-notebook-cell:/c%3A/Users/nguye/Documents/Code/Programming/Python/leet-code-p7.ipynb#X14sZmlsZQ%3D%3D?line=2'>3</a>\u001b[0m     \u001b[39mpass\u001b[39;00m\n",
      "\u001b[1;31mModuleNotFoundError\u001b[0m: No module named 'tqdm'"
     ]
    }
   ],
   "source": [
    "from tqdm import tqdm\n",
    "for i in tqdm(range(10000)):\n",
    "    pass"
   ]
  }
 ],
 "metadata": {
  "kernelspec": {
   "display_name": ".venv",
   "language": "python",
   "name": "python3"
  },
  "language_info": {
   "codemirror_mode": {
    "name": "ipython",
    "version": 3
   },
   "file_extension": ".py",
   "mimetype": "text/x-python",
   "name": "python",
   "nbconvert_exporter": "python",
   "pygments_lexer": "ipython3",
   "version": "3.11.0"
  }
 },
 "nbformat": 4,
 "nbformat_minor": 2
}
