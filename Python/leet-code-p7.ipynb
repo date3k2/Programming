{
 "cells": [
  {
   "cell_type": "code",
   "execution_count": 1,
   "metadata": {},
   "outputs": [
    {
     "data": {
      "text/plain": [
       "5"
      ]
     },
     "execution_count": 1,
     "metadata": {},
     "output_type": "execute_result"
    }
   ],
   "source": [
    "from typing import List\n",
    "from collections import OrderedDict, deque\n",
    "\n",
    "\n",
    "class Solution:\n",
    "    def getWinner(self, arr: List[int], k: int):\n",
    "        dq = deque(arr)\n",
    "        idx = 1\n",
    "        old = 0\n",
    "        for _ in range(len(arr)):\n",
    "            winner = max(dq[0], dq[1])\n",
    "            if dq[0] > dq[1]:\n",
    "                dq.popleft()\n",
    "                dq.append(dq.popleft())\n",
    "                dq.appendleft(winner)\n",
    "            else:\n",
    "                dq.append(dq.popleft())\n",
    "            if winner == old:\n",
    "                idx += 1\n",
    "            else:\n",
    "                idx = 1\n",
    "            old = winner\n",
    "            if idx == k:\n",
    "                return winner\n",
    "        return dq[0]\n",
    "\n",
    "\n",
    "arr = [2, 1, 3, 5, 4, 6, 7]\n",
    "k = 2\n",
    "Solution().getWinner(arr, k)"
   ]
  },
  {
   "cell_type": "code",
   "execution_count": 17,
   "metadata": {},
   "outputs": [],
   "source": [
    "import random\n",
    "import pyperclip\n",
    "x = list([random.randint(50, 1000) for _ in range(100)])\n",
    "pyperclip.copy(str(x))\n"
   ]
  },
  {
   "cell_type": "code",
   "execution_count": 7,
   "metadata": {},
   "outputs": [
    {
     "data": {
      "text/plain": [
       "1"
      ]
     },
     "execution_count": 7,
     "metadata": {},
     "output_type": "execute_result"
    }
   ],
   "source": [
    "from typing import List\n",
    "\n",
    "\n",
    "class Solution:\n",
    "    def eliminateMaximum(self, dist: List[int], speed: List[int]) -> int:\n",
    "        time = [u / v for u, v in zip(dist, speed)]\n",
    "        time.sort()\n",
    "        ans = shot = 0\n",
    "        for i in time:\n",
    "            if shot < i:\n",
    "                ans += 1\n",
    "                shot += 1\n",
    "            else:\n",
    "                return ans\n",
    "        return ans\n",
    "\n",
    "\n",
    "dist = [1, 1, 2, 3]\n",
    "speed = [1, 1, 1, 1]\n",
    "# dist = [3,2,4]\n",
    "# speed = [5,3,2]\n",
    "Solution().eliminateMaximum(dist, speed)"
   ]
  }
 ],
 "metadata": {
  "kernelspec": {
   "display_name": ".venv",
   "language": "python",
   "name": "python3"
  },
  "language_info": {
   "codemirror_mode": {
    "name": "ipython",
    "version": 3
   },
   "file_extension": ".py",
   "mimetype": "text/x-python",
   "name": "python",
   "nbconvert_exporter": "python",
   "pygments_lexer": "ipython3",
   "version": "3.11.0"
  }
 },
 "nbformat": 4,
 "nbformat_minor": 2
}
