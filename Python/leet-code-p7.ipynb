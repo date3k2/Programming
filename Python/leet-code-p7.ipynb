{
 "cells": [
  {
   "cell_type": "code",
   "execution_count": 15,
   "metadata": {},
   "outputs": [
    {
     "data": {
      "text/plain": [
       "5"
      ]
     },
     "execution_count": 15,
     "metadata": {},
     "output_type": "execute_result"
    }
   ],
   "source": [
    "from typing import List\n",
    "from collections import OrderedDict, deque\n",
    "\n",
    "\n",
    "class Solution:\n",
    "    def getWinner(self, arr: List[int], k: int):\n",
    "        dq = deque(arr)\n",
    "        idx = 1\n",
    "        old = 0\n",
    "        for _ in range(len(arr)):\n",
    "            winner = max(dq[0], dq[1])\n",
    "            if dq[0] > dq[1]:\n",
    "                dq.popleft()\n",
    "                dq.append(dq.popleft())\n",
    "                dq.appendleft(winner)\n",
    "            else:\n",
    "                dq.append(dq.popleft())\n",
    "            if winner == old:\n",
    "                idx += 1\n",
    "            else:\n",
    "                idx = 1\n",
    "            old = winner\n",
    "            if idx == k:\n",
    "                return winner\n",
    "        return dq[0]\n",
    "\n",
    "\n",
    "arr = [2, 1, 3, 5, 4, 6, 7]\n",
    "k = 2\n",
    "Solution().getWinner(arr, k)"
   ]
  },
  {
   "cell_type": "code",
   "execution_count": 18,
   "metadata": {},
   "outputs": [],
   "source": [
    "import random\n",
    "import pyperclip\n",
    "x = list(set([random.randint(1, 100000) for _ in range(100)]))\n",
    "pyperclip.copy(str(x))\n"
   ]
  }
 ],
 "metadata": {
  "kernelspec": {
   "display_name": ".venv",
   "language": "python",
   "name": "python3"
  },
  "language_info": {
   "codemirror_mode": {
    "name": "ipython",
    "version": 3
   },
   "file_extension": ".py",
   "mimetype": "text/x-python",
   "name": "python",
   "nbconvert_exporter": "python",
   "pygments_lexer": "ipython3",
   "version": "3.11.0"
  }
 },
 "nbformat": 4,
 "nbformat_minor": 2
}
