{
 "cells": [
  {
   "cell_type": "code",
   "execution_count": 1,
   "metadata": {},
   "outputs": [
    {
     "data": {
      "text/plain": [
       "5"
      ]
     },
     "execution_count": 1,
     "metadata": {},
     "output_type": "execute_result"
    }
   ],
   "source": [
    "from typing import List\n",
    "from collections import OrderedDict, deque\n",
    "\n",
    "\n",
    "class Solution:\n",
    "    def getWinner(self, arr: List[int], k: int):\n",
    "        dq = deque(arr)\n",
    "        idx = 1\n",
    "        old = 0\n",
    "        for _ in range(len(arr)):\n",
    "            winner = max(dq[0], dq[1])\n",
    "            if dq[0] > dq[1]:\n",
    "                dq.popleft()\n",
    "                dq.append(dq.popleft())\n",
    "                dq.appendleft(winner)\n",
    "            else:\n",
    "                dq.append(dq.popleft())\n",
    "            if winner == old:\n",
    "                idx += 1\n",
    "            else:\n",
    "                idx = 1\n",
    "            old = winner\n",
    "            if idx == k:\n",
    "                return winner\n",
    "        return dq[0]\n",
    "\n",
    "\n",
    "arr = [2, 1, 3, 5, 4, 6, 7]\n",
    "k = 2\n",
    "Solution().getWinner(arr, k)"
   ]
  },
  {
   "cell_type": "code",
   "execution_count": 17,
   "metadata": {},
   "outputs": [],
   "source": [
    "import random\n",
    "import pyperclip\n",
    "x = list([random.randint(50, 1000) for _ in range(100)])\n",
    "pyperclip.copy(str(x))\n"
   ]
  },
  {
   "cell_type": "code",
   "execution_count": 7,
   "metadata": {},
   "outputs": [
    {
     "data": {
      "text/plain": [
       "1"
      ]
     },
     "execution_count": 7,
     "metadata": {},
     "output_type": "execute_result"
    }
   ],
   "source": [
    "from typing import List\n",
    "\n",
    "\n",
    "class Solution:\n",
    "    def eliminateMaximum(self, dist: List[int], speed: List[int]) -> int:\n",
    "        time = [u / v for u, v in zip(dist, speed)]\n",
    "        time.sort()\n",
    "        ans = shot = 0\n",
    "        for i in time:\n",
    "            if shot < i:\n",
    "                ans += 1\n",
    "                shot += 1\n",
    "            else:\n",
    "                return ans\n",
    "        return ans\n",
    "\n",
    "\n",
    "dist = [1, 1, 2, 3]\n",
    "speed = [1, 1, 1, 1]\n",
    "# dist = [3,2,4]\n",
    "# speed = [5,3,2]\n",
    "Solution().eliminateMaximum(dist, speed)"
   ]
  },
  {
   "cell_type": "code",
   "execution_count": 7,
   "metadata": {},
   "outputs": [
    {
     "data": {
      "text/plain": [
       "4"
      ]
     },
     "execution_count": 7,
     "metadata": {},
     "output_type": "execute_result"
    }
   ],
   "source": [
    "from collections import Counter\n",
    "\n",
    "\n",
    "class Solution:\n",
    "    def countPalindromicSubsequence(self, s: str) -> int:\n",
    "        cnt = Counter(s)\n",
    "        n = len(s) - 1\n",
    "        chars = [i for i in cnt if cnt[i] > 1]\n",
    "        ans = 0\n",
    "        for i in chars:\n",
    "            start, end = 0, n\n",
    "            while s[start] != i:\n",
    "                start += 1\n",
    "            while s[end] != i:\n",
    "                end -= 1\n",
    "            ans += len(set(s[start + 1 : end]))\n",
    "        return ans\n",
    "\n",
    "\n",
    "s = \"bbcbaba\"\n",
    "Solution().countPalindromicSubsequence(s)"
   ]
  },
  {
   "cell_type": "code",
   "execution_count": 5,
   "metadata": {},
   "outputs": [],
   "source": [
    "import string\n",
    "import numpy as np\n",
    "\n",
    "st = np.random.choice(np.array(list(string.ascii_lowercase)), 100000)\n",
    "import pyperclip\n",
    "pyperclip.copy(''.join(st))"
   ]
  },
  {
   "cell_type": "code",
   "execution_count": 4,
   "metadata": {},
   "outputs": [
    {
     "data": {
      "text/plain": [
       "[1, 1, 2, 2, 2]"
      ]
     },
     "execution_count": 4,
     "metadata": {},
     "output_type": "execute_result"
    }
   ],
   "source": [
    "class Solution:\n",
    "    def maximumElementAfterDecrementingAndRearranging(self, arr: list[int]) -> int:\n",
    "        arr.sort()\n",
    "        ans = 0\n",
    "        for i in range(1, len(arr)):\n",
    "            if arr[i] > arr[i - 1] + 1:\n",
    "                arr[i] = arr[i - 1] + 1\n",
    "        return arr[-1]\n",
    "\n",
    "\n",
    "arr = [2, 2, 1, 2, 1]\n",
    "# arr = [100,1,1000]\n",
    "# arr = [1,2,3,4,5]\n",
    "Solution().maximumElementAfterDecrementingAndRearranging(arr)"
   ]
  },
  {
   "cell_type": "code",
   "execution_count": 8,
   "metadata": {},
   "outputs": [],
   "source": [
    "arr = np.random.randint(1, 1_000_000_000, 100000)\n",
    "import pyperclip\n",
    "pyperclip.copy(str(list(arr)))"
   ]
  },
  {
   "cell_type": "code",
   "execution_count": 10,
   "metadata": {},
   "outputs": [
    {
     "data": {
      "text/plain": [
       "'100'"
      ]
     },
     "execution_count": 10,
     "metadata": {},
     "output_type": "execute_result"
    }
   ],
   "source": [
    "from typing import List\n",
    "\n",
    "\n",
    "class Solution:\n",
    "    def findDifferentBinaryString(self, nums: List[str]) -> str:\n",
    "        n = len(nums)\n",
    "        ans = \"\"\n",
    "        for i in range(n):\n",
    "            d = {\"0\": 0, \"1\": 0}\n",
    "            for num in nums:\n",
    "                d[num[i]] += 1\n",
    "            ans += \"0\" if d[\"1\"] >= d[\"0\"] else \"1\"\n",
    "            if d[ans[-1]] == 0:\n",
    "                return ans + \"0\" * (n - 1 - i)\n",
    "        return ans\n",
    "\n",
    "\n",
    "nums = [\"011\", \"011\", \"001\"]\n",
    "Solution().findDifferentBinaryString(nums)"
   ]
  },
  {
   "cell_type": "code",
   "execution_count": 2,
   "metadata": {},
   "outputs": [
    {
     "data": {
      "text/plain": [
       "'0001110010'"
      ]
     },
     "execution_count": 2,
     "metadata": {},
     "output_type": "execute_result"
    }
   ],
   "source": [
    "import random\n",
    "# random binary string\n",
    "n = 10\n",
    "s = ''.join([random.choice(\"01\") for _ in range(n)])\n",
    "s"
   ]
  }
 ],
 "metadata": {
  "kernelspec": {
   "display_name": ".venv",
   "language": "python",
   "name": "python3"
  },
  "language_info": {
   "codemirror_mode": {
    "name": "ipython",
    "version": 3
   },
   "file_extension": ".py",
   "mimetype": "text/x-python",
   "name": "python",
   "nbconvert_exporter": "python",
   "pygments_lexer": "ipython3",
   "version": "3.11.0"
  }
 },
 "nbformat": 4,
 "nbformat_minor": 2
}
