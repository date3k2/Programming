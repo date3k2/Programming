{
 "cells": [
  {
   "cell_type": "code",
   "execution_count": 10,
   "metadata": {},
   "outputs": [],
   "source": [
    "import sys\n",
    "\n",
    "sys.stdin = open(\n",
    "    r\"C:\\Users\\nguye\\Documents\\Code\\Programming\\C++\\test.inp\", \"r\")\n",
    "sys.stdout = open(\n",
    "    r\"C:\\Users\\nguye\\Documents\\Code\\Programming\\C++\\test.out\", \"w\")\n",
    "input = sys.stdin.readline\n",
    "t = int(input())\n",
    "for _ in range(t):\n",
    "    n = int(input())\n",
    "    a = list(map(int, input().split()))\n",
    "    x = 0\n",
    "    for i in a:\n",
    "        x += 1\n",
    "        while x == i:\n",
    "            x += 1\n",
    "    print(x)"
   ]
  },
  {
   "cell_type": "code",
   "execution_count": 50,
   "metadata": {},
   "outputs": [],
   "source": [
    "import sys\n",
    "from collections import Counter, defaultdict\n",
    "\n",
    "sys.stdin = open(\n",
    "    r\"C:\\Users\\nguye\\Documents\\Code\\Programming\\C++\\test.inp\", \"r\")\n",
    "sys.stdout = open(\n",
    "    r\"C:\\Users\\nguye\\Documents\\Code\\Programming\\C++\\test.out\", \"w\")\n",
    "input = sys.stdin.readline\n",
    "t = int(input())\n",
    "for _ in range(t):\n",
    "    n = int(input())\n",
    "    s = []\n",
    "    c = Counter()\n",
    "    nums = set()\n",
    "    par = defaultdict(list)\n",
    "    for idx in range(n):\n",
    "        k, *x = input().split()\n",
    "        x = list(map(int, x))\n",
    "        nums.update(x)\n",
    "        for i in x:\n",
    "            par[i].append(idx)\n",
    "        c.update(x)\n",
    "        s.append(x)\n",
    "    ans = 0\n",
    "    for num in nums:\n",
    "        x = c.copy()\n",
    "        for i in par[num]:\n",
    "            for j in s[i]:\n",
    "                x[j] -= 1\n",
    "        # ans = max(ans, len([i for i in x.values() if i > 0]))\n",
    "        print(x.values())\n",
    "    print(ans)"
   ]
  },
  {
   "cell_type": "code",
   "execution_count": 3,
   "metadata": {},
   "outputs": [],
   "source": [
    "import sys\n",
    "\n",
    "sys.stdin = open(r\"C:\\Users\\nguye\\Documents\\Code\\Programming\\C++\\test.inp\", \"r\")\n",
    "sys.stdout = open(r\"C:\\Users\\nguye\\Documents\\Code\\Programming\\C++\\test.out\", \"w\")\n",
    "input = sys.stdin.readline\n",
    "t = int(input())\n",
    "for _ in range(t):\n",
    "    n = int(input())\n",
    "    a = list(map(int, input().split()))\n",
    "    ans = 0\n",
    "    if all(i > 0 for i in a):\n",
    "        print(sum(a))\n",
    "        continue\n",
    "    ans = 0\n",
    "    check = True\n",
    "    for i in range(n):\n",
    "        if a[i] >= 0:\n",
    "            ans += a[i]\n",
    "    if n > 1 and a[0] < 0 and a[1] > 0:\n",
    "        print(max(ans + a[0], ans - a[1]))\n",
    "        continue\n",
    "    print(ans)"
   ]
  },
  {
   "cell_type": "code",
   "execution_count": 1,
   "metadata": {},
   "outputs": [],
   "source": [
    "class Solution:\n",
    "    def removeDuplicateLetters(self, s: str) -> str:\n",
    "        stack = []\n",
    "        last_ocr = {}\n",
    "        visited = set()\n",
    "        for i, char in enumerate(s):\n",
    "            last_ocr[char] = i\n",
    "        for i, char in enumerate(s):\n",
    "            if char not in visited:\n",
    "                while stack and stack[-1] > char and last_ocr[stack[-1]] > i:\n",
    "                    visited.remove(stack.pop())\n",
    "                stack.append(char)\n",
    "                visited.add(char)\n",
    "        return \"\".join(stack)"
   ]
  }
 ],
 "metadata": {
  "kernelspec": {
   "display_name": ".venv",
   "language": "python",
   "name": "python3"
  },
  "language_info": {
   "codemirror_mode": {
    "name": "ipython",
    "version": 3
   },
   "file_extension": ".py",
   "mimetype": "text/x-python",
   "name": "python",
   "nbconvert_exporter": "python",
   "pygments_lexer": "ipython3",
   "version": "3.11.0"
  },
  "orig_nbformat": 4
 },
 "nbformat": 4,
 "nbformat_minor": 2
}
