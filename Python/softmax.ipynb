{
 "cells": [
  {
   "cell_type": "code",
   "execution_count": 47,
   "metadata": {},
   "outputs": [
    {
     "name": "stdout",
     "output_type": "stream",
     "text": [
      "2.419278491495035\n",
      "[2 1 2 1]\n",
      "[[-0.4604913  -0.48754728  0.94803858]\n",
      " [-0.33074307 -0.38485502  0.71559809]\n",
      " [-1.11348078 -1.08642481  2.19990559]]\n"
     ]
    }
   ],
   "source": [
    "import numpy as np\n",
    "# softmax stable function\n",
    "\n",
    "\n",
    "def stable_softmax(x):\n",
    "    e_x = np.exp(x - np.max(x, axis=1, keepdims=True))\n",
    "    return e_x / e_x.sum(axis=1, keepdims=True)\n",
    "\n",
    "\n",
    "def softmax_loss(X, y, W):\n",
    "    A = stable_softmax(X.dot(W))\n",
    "    idx = range(A.shape[0])\n",
    "    return -np.mean(np.log(A[idx, y]))+0.5*np.sum(W**2)*1/A.shape[0]\n",
    "\n",
    "\n",
    "def softmax_grad(X, y, W):\n",
    "    \"\"\"\n",
    "    W: 2d numpy array of shape (d, C),\n",
    "    each column correspoding to one output node\n",
    "    X: 2d numpy array of shape (N, d), each row is one data point\n",
    "    y: 1d numpy array -- label of each row of X\n",
    "    \"\"\"\n",
    "    A = stable_softmax(X.dot(W))  # shape of (N, C)\n",
    "    id0 = range(X.shape[0])\n",
    "    A[id0, y] -= 1  # A - Y, shape of (N, C)\n",
    "    return X.T.dot(A)/X.shape[0]\n",
    "\n",
    "\n",
    "# test\n",
    "X = np.array([[3, 3, 5], [1, 2, -1], [3, 3, 5], [1, 2, -1]])\n",
    "y = np.array([0, 2, 1, 1])\n",
    "W = np.array([[1, 0, 0], [0, 1, 0], [0, 0, 1]])\n",
    "print(softmax_loss(X, y, W))\n",
    "A = stable_softmax(X.dot(W))\n",
    "print(np.argmax(A, axis=1))\n",
    "print(softmax_grad(X, y, W))\n"
   ]
  }
 ],
 "metadata": {
  "kernelspec": {
   "display_name": "date3k2",
   "language": "python",
   "name": "python3"
  },
  "language_info": {
   "codemirror_mode": {
    "name": "ipython",
    "version": 3
   },
   "file_extension": ".py",
   "mimetype": "text/x-python",
   "name": "python",
   "nbconvert_exporter": "python",
   "pygments_lexer": "ipython3",
   "version": "3.11.0"
  },
  "orig_nbformat": 4
 },
 "nbformat": 4,
 "nbformat_minor": 2
}
