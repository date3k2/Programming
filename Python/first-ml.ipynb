{
 "cells": [
  {
   "cell_type": "code",
   "execution_count": 1,
   "metadata": {},
   "outputs": [
    {
     "name": "stdout",
     "output_type": "stream",
     "text": [
      "(8,)\n"
     ]
    }
   ],
   "source": [
    "import numpy as np\n",
    "l = [[1,2,4,7],[12,20,31,37]]\n",
    "s = np.reshape(l,-1)\n",
    "print(s.shape)"
   ]
  },
  {
   "cell_type": "code",
   "execution_count": 2,
   "metadata": {},
   "outputs": [
    {
     "name": "stdout",
     "output_type": "stream",
     "text": [
      "6\n",
      "(3, 5)\n"
     ]
    }
   ],
   "source": [
    "nums = [0,0,0,2,0,0,0,0,12,14,2]\n",
    "nums = [0,0,0,2,0,0]\n",
    "nums = [1,3,0,0,2,0,0,4]\n",
    "st = [str(i) for i in nums]\n",
    "st+=['1']\n",
    "s=m=0\n",
    "l= []\n",
    "for i in range(len(st)):\n",
    "    if st[i]=='0':\n",
    "        m+=1\n",
    "    elif m>0:\n",
    "        s+=m*(m+1)//2\n",
    "        m=0\n",
    "print(s)\n",
    "print((3,5))"
   ]
  },
  {
   "cell_type": "code",
   "execution_count": 3,
   "metadata": {},
   "outputs": [
    {
     "name": "stdout",
     "output_type": "stream",
     "text": [
      "defaultdict(<class 'list'>, {1: [3], 3: [1, 2], 2: [3]})\n"
     ]
    }
   ],
   "source": [
    "from collections import defaultdict\n",
    "from queue import SimpleQueue\n",
    "\n",
    "\n",
    "class Graph:\n",
    "    def __init__(self):\n",
    "        self.graph = defaultdict(list)\n",
    "        self.visited = set()\n",
    "        self.dis = defaultdict(int)\n",
    "\n",
    "    def addEdge(self, u, v):\n",
    "        self.graph[u].append(v)\n",
    "\n",
    "    def BFS(self, v):\n",
    "        q = SimpleQueue()\n",
    "        q.put(v)\n",
    "        self.visited.add(v)\n",
    "        while not q.empty():\n",
    "            v = q.get()\n",
    "            for u in self.graph[v]:\n",
    "                if u not in self.visited:\n",
    "                    self.visited.add(u)\n",
    "                    q.put(u)\n",
    "                    self.dis[u] = self.dis[v]+1\n",
    "\n",
    "\n",
    "class Solution:\n",
    "    def numBusesToDestination(self, routes: list[list[int]], source: int, target: int):\n",
    "        g = Graph()\n",
    "        s = defaultdict(int)\n",
    "        for i, route in enumerate(routes):\n",
    "            for k in route:\n",
    "                if s[k] == 0:\n",
    "                    s[k] = i+1\n",
    "                else:\n",
    "                    g.addEdge(s[k], i+1)\n",
    "                    g.addEdge(i+1, s[k])\n",
    "        print(g.graph)\n",
    "        # g.BFS(s[source])\n",
    "        # if g.dis[s[target]] == 0:\n",
    "        #     return -1\n",
    "        # return g.dis[s[target]]+1\n",
    "\n",
    "\n",
    "x = Solution()\n",
    "# k = x.numBusesToDestination([[1, 3, 2], [4, 5], [6, 2, 4]],\n",
    "#                             1,\n",
    "#                             5)\n",
    "# print(k)\n",
    "x.numBusesToDestination([[1, 3, 2], [4, 5], [6, 2, 4]],\n",
    "                            1,\n",
    "                            5)"
   ]
  },
  {
   "cell_type": "code",
   "execution_count": 4,
   "metadata": {},
   "outputs": [
    {
     "name": "stdout",
     "output_type": "stream",
     "text": [
      "False\n",
      "1\n",
      "False\n",
      "True\n"
     ]
    }
   ],
   "source": [
    "l = [[2,4],[4,2]]\n",
    "s =set(list(map(tuple,l)))\n",
    "# print(tuple(l))\n",
    "print((6,4)in s)\n",
    "s = [12,2,4,1]\n",
    "x = min(s)\n",
    "print(x)\n",
    "print(all(x>5 for x in s ))\n",
    "s = 2**35\n",
    "print(s==2**35)"
   ]
  },
  {
   "attachments": {},
   "cell_type": "markdown",
   "metadata": {},
   "source": [
    "**Partition Sum**"
   ]
  },
  {
   "cell_type": "code",
   "execution_count": 16,
   "metadata": {},
   "outputs": [
    {
     "name": "stdout",
     "output_type": "stream",
     "text": [
      "True\n"
     ]
    }
   ],
   "source": [
    "from collections import defaultdict\n",
    "class Solution:\n",
    "    def canPartition(self, nums: list[int]) -> bool:\n",
    "        s = sum(nums)\n",
    "        if s%2==1:\n",
    "            return False\n",
    "        s = s//2\n",
    "        a = defaultdict(bool)\n",
    "        a[0]=True\n",
    "        for i in nums:\n",
    "            for t in range(s,i-1,-1):\n",
    "                if a[t]==0:\n",
    "                    a[t]=a[t-i]\n",
    "        return a[s]\n",
    "x = Solution()\n",
    "print(x.canPartition([2,2,1,1]))  "
   ]
  },
  {
   "cell_type": "code",
   "execution_count": 16,
   "metadata": {},
   "outputs": [
    {
     "name": "stdout",
     "output_type": "stream",
     "text": [
      "-1\n"
     ]
    }
   ],
   "source": [
    "from collections import defaultdict\n",
    "class Graph:\n",
    "    def __init__(self):\n",
    "        self.graph = defaultdict(list)\n",
    "        self.visited = set()\n",
    "        self.l = []\n",
    "    def addEdge(self, u, v):\n",
    "        self.graph[u].append(v)\n",
    " \n",
    "    def DFS(self, v):\n",
    "        self.visited.add(v)\n",
    "        for neighbour in self.graph[v]:\n",
    "            if neighbour not in self.visited:\n",
    "                self.DFS(neighbour)\n",
    "        self.l.append(v)\n",
    "class Solution:\n",
    "    def longestCycle(self, edges: list[int]):\n",
    "        g = Graph()\n",
    "        g_reverse = Graph()\n",
    "        for u,v in enumerate(edges):\n",
    "            if v!=-1:\n",
    "                g.addEdge(u,v)\n",
    "                g_reverse.addEdge(v,u)\n",
    "        n = len(edges)\n",
    "        for i in range(n):\n",
    "            if i not in g.visited:\n",
    "                g.DFS(i)\n",
    "        longest_cycle=0\n",
    "        for i in g.l[::-1]:\n",
    "            if i not in g_reverse.visited:\n",
    "                m = len(g_reverse.visited)\n",
    "                g_reverse.DFS(i)\n",
    "                longest_cycle = max(longest_cycle,len(g_reverse.visited)-m)\n",
    "        if longest_cycle==1:\n",
    "            return -1\n",
    "        return longest_cycle\n",
    "x = Solution()\n",
    "print(x.longestCycle([2,-1,3,1]))"
   ]
  },
  {
   "cell_type": "code",
   "execution_count": 5,
   "metadata": {},
   "outputs": [
    {
     "name": "stdout",
     "output_type": "stream",
     "text": [
      "-1\n"
     ]
    }
   ],
   "source": [
    "from typing import List\n",
    "class DSU:\n",
    "    def __init__(self, n):\n",
    "        self.parent = list(range(n))\n",
    "        self.rank = [0] * n\n",
    "\n",
    "    def find(self, x):\n",
    "        if self.parent[x] == x:\n",
    "            return x\n",
    "        self.parent[x] = self.find(self.parent[x])\n",
    "        return self.parent[x]\n",
    "\n",
    "    def union(self, x, y):\n",
    "        xset, yset = self.find(x), self.find(y)\n",
    "        if xset != yset:\n",
    "            if self.rank[xset] < self.rank[yset]:\n",
    "                self.parent[xset] = yset\n",
    "            else:\n",
    "                self.parent[yset] = xset\n",
    "            if self.rank[xset] == self.rank[yset]:\n",
    "                self.rank[xset] += 1\n",
    "            return True\n",
    "        return False\n",
    "class Solution:\n",
    "    def maxNumEdgesToRemove(self, n: int, edges: List[List[int]]) -> int:\n",
    "        edges.sort(key=lambda x:x[0],reverse=True)\n",
    "        dsu_alice = DSU(n)\n",
    "        dsu_bob = DSU(n)\n",
    "        ans = 0\n",
    "        for t,u,v in edges:\n",
    "            if t==3:\n",
    "                if not dsu_alice.union(u-1,v-1):\n",
    "                    ans+=1\n",
    "                else:\n",
    "                    dsu_bob.union(u-1,v-1)\n",
    "            elif t==2:\n",
    "                if not dsu_bob.union(u-1,v-1):\n",
    "                    ans+=1\n",
    "            else:\n",
    "                if not dsu_alice.union(u-1,v-1):\n",
    "                    ans+=1\n",
    "        if len(set(dsu_alice.find(i) for i in range(n)))>1 or len(set(dsu_bob.find(i) for i in range(n)))>1:\n",
    "            return -1\n",
    "        return ans\n",
    "edges = [[3,1,2],[3,2,3],[1,1,3],[1,2,4],[1,1,2],[2,3,4]]\n",
    "edges = [[3,2,3],[1,1,2],[2,3,4]]\n",
    "print(Solution().maxNumEdgesToRemove(4,edges))"
   ]
  },
  {
   "cell_type": "code",
   "execution_count": 13,
   "metadata": {},
   "outputs": [
    {
     "name": "stdout",
     "output_type": "stream",
     "text": [
      "2\n"
     ]
    }
   ],
   "source": [
    "class Solution:\n",
    "    def isWinner(self, player1: List[int], player2: List[int]) -> int:\n",
    "        s1=s2=0\n",
    "        for i in range(len(player1)):\n",
    "            if i>1 and (player1[i-1]==10 or player1[i-2]==10) or (i==1 and player1[i-1]==10):\n",
    "                s1+=2*player1[i]\n",
    "            else:\n",
    "                s1+=player1[i]\n",
    "            if i>1 and (player2[i-1]==10 or player2[i-2]==10) or (i==1 and player2[i-1]==10):\n",
    "                s2+=2*player2[i]\n",
    "            else:\n",
    "                s2+=player2[i]\n",
    "        if s1>s2:\n",
    "            return 1\n",
    "        elif s1<s2:\n",
    "            return 2\n",
    "        return 0\n",
    "player1 = [5,6,1,10]\n",
    "player2 = [5,1,10,5]\n",
    "print(Solution().isWinner(player1,player2))"
   ]
  }
 ],
 "metadata": {
  "kernelspec": {
   "display_name": "Python 3",
   "language": "python",
   "name": "python3"
  },
  "language_info": {
   "codemirror_mode": {
    "name": "ipython",
    "version": 3
   },
   "file_extension": ".py",
   "mimetype": "text/x-python",
   "name": "python",
   "nbconvert_exporter": "python",
   "pygments_lexer": "ipython3",
   "version": "3.11.0"
  },
  "orig_nbformat": 4
 },
 "nbformat": 4,
 "nbformat_minor": 2
}
