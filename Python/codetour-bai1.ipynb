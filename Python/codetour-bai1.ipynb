{
 "cells": [
  {
   "cell_type": "code",
   "execution_count": 21,
   "metadata": {},
   "outputs": [
    {
     "ename": "ValueError",
     "evalue": "invalid literal for int() with base 10: ''",
     "output_type": "error",
     "traceback": [
      "\u001b[1;31m---------------------------------------------------------------------------\u001b[0m",
      "\u001b[1;31mValueError\u001b[0m                                Traceback (most recent call last)",
      "Cell \u001b[1;32mIn[21], line 12\u001b[0m\n\u001b[0;32m     10\u001b[0m \u001b[39mdef\u001b[39;00m \u001b[39morder\u001b[39m(n:\u001b[39mint\u001b[39m):\n\u001b[0;32m     11\u001b[0m     \u001b[39mreturn\u001b[39;00m \u001b[39mint\u001b[39m((\u001b[39m1\u001b[39m \u001b[39m+\u001b[39m math\u001b[39m.\u001b[39msqrt(\u001b[39m8\u001b[39m \u001b[39m*\u001b[39m n \u001b[39m-\u001b[39m \u001b[39m7\u001b[39m)) \u001b[39m/\u001b[39m \u001b[39m2\u001b[39m)\n\u001b[1;32m---> 12\u001b[0m t \u001b[39m=\u001b[39m \u001b[39mint\u001b[39;49m(\u001b[39minput\u001b[39;49m())\n\u001b[0;32m     13\u001b[0m \u001b[39mfor\u001b[39;00m _ \u001b[39min\u001b[39;00m \u001b[39mrange\u001b[39m(t):\n\u001b[0;32m     14\u001b[0m     n \u001b[39m=\u001b[39m \u001b[39mint\u001b[39m(\u001b[39minput\u001b[39m())\n",
      "\u001b[1;31mValueError\u001b[0m: invalid literal for int() with base 10: ''"
     ]
    }
   ],
   "source": [
    "import sys\n",
    "import math\n",
    "from collections import defaultdict\n",
    "\n",
    "\n",
    "input = sys.stdin.readline\n",
    "def check(n:int):\n",
    "    order = int((1 + math.sqrt(8 * n - 7)) / 2)\n",
    "    edge = order * (order + 1) // 2\n",
    "    return edge == n\n",
    "def order(n:int):\n",
    "    return int((1 + math.sqrt(8 * n - 7)) / 2)\n",
    "t = int(input())\n",
    "for _ in range(t):\n",
    "    n = int(input())\n",
    "    order = int((1 + math.sqrt(8 * n - 7)) / 2)\n",
    "    edge = order * (order + 1) // 2\n",
    "    s = 0\n",
    "    if edge == n:\n",
    "        s += order * (order + 1) * (order + 2) // 6\n",
    "        print(s)\n",
    "    else:\n",
    "        if check(n-order) or order(n-order) == order:\n"
   ]
  }
 ],
 "metadata": {
  "kernelspec": {
   "display_name": ".venv",
   "language": "python",
   "name": "python3"
  },
  "language_info": {
   "codemirror_mode": {
    "name": "ipython",
    "version": 3
   },
   "file_extension": ".py",
   "mimetype": "text/x-python",
   "name": "python",
   "nbconvert_exporter": "python",
   "pygments_lexer": "ipython3",
   "version": "3.11.0"
  },
  "orig_nbformat": 4
 },
 "nbformat": 4,
 "nbformat_minor": 2
}
