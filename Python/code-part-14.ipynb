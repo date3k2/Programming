{
 "cells": [
  {
   "cell_type": "code",
   "execution_count": 85,
   "metadata": {},
   "outputs": [
    {
     "name": "stdout",
     "output_type": "stream",
     "text": [
      "5\n"
     ]
    }
   ],
   "source": [
    "from collections import defaultdict\n",
    "from typing import List\n",
    "\n",
    "\n",
    "class Solution:\n",
    "    def maximalNetworkRank(self, n: int, roads: List[List[int]]) -> int:\n",
    "        adj = defaultdict(int)\n",
    "        connect = defaultdict(int)\n",
    "        ans = 0\n",
    "        for u, v in roads:\n",
    "            adj[u] += 1\n",
    "            adj[v] += 1\n",
    "            connect[(u, v)] = 1\n",
    "            connect[(v, u)] = 1\n",
    "        for i in range(n - 1):\n",
    "            for j in range(i + 1, n):\n",
    "                ans = max(ans, adj[i] + adj[j] - connect[(i, j)])\n",
    "        return ans\n",
    "\n",
    "\n",
    "n = 5\n",
    "roads = [[0, 1], [0, 3], [1, 2], [1, 3], [2, 3], [2, 4]]\n",
    "print(Solution().maximalNetworkRank(n, roads))"
   ]
  },
  {
   "cell_type": "code",
   "execution_count": 86,
   "metadata": {},
   "outputs": [],
   "source": [
    "import pandas as pd\n",
    "\n",
    "\n",
    "def delete_duplicate_emails(person: pd.DataFrame) -> None:\n",
    "    person[\"email\"] = person[\"email\"].drop_duplicates(keep='first')"
   ]
  },
  {
   "cell_type": "code",
   "execution_count": 87,
   "metadata": {},
   "outputs": [
    {
     "name": "stdout",
     "output_type": "stream",
     "text": [
      "3\n"
     ]
    }
   ],
   "source": [
    "from collections import defaultdict\n",
    "\n",
    "\n",
    "class Solution:\n",
    "    def minimumSum(self, n: int, k: int) -> int:\n",
    "        l = [1]\n",
    "        i = 2\n",
    "        while True:\n",
    "            if len(l) == n:\n",
    "                break\n",
    "            if (k - i) in l:\n",
    "                i += 1\n",
    "            else:\n",
    "                l.append(i)\n",
    "                i += 1\n",
    "        return sum(l)\n",
    "\n",
    "\n",
    "n = 2\n",
    "k = 6\n",
    "print(Solution().minimumSum(n, k))"
   ]
  },
  {
   "cell_type": "code",
   "execution_count": 88,
   "metadata": {},
   "outputs": [],
   "source": [
    "class Solution:\n",
    "    def maximizeTheProfit(self, n: int, offers: List[List[int]]) -> int:\n",
    "        offers.sort(key=lambda x: x[0])\n",
    "        dp = [0] * (n + 1)\n",
    "        for i in range(1, n + 1):\n",
    "            dp[i] = dp[i - 1]\n",
    "            for j in range(len(offers)):\n",
    "                if offers[j][0] <= i:\n",
    "                    dp[i] = max(dp[i], dp[i - offers[j][0]] + offers[j][1])\n",
    "        return dp[n]"
   ]
  },
  {
   "cell_type": "code",
   "execution_count": 95,
   "metadata": {},
   "outputs": [
    {
     "name": "stdout",
     "output_type": "stream",
     "text": [
      "23 14 15\n",
      "24 14 15\n",
      "25 16 18\n",
      "26 15 20\n",
      "27 15 20\n",
      "28 15 20\n",
      "29 21 29\n",
      "30 16 20\n",
      "31 21 22\n",
      "32 23 32\n",
      "33 24 29\n",
      "34 23 25\n",
      "35 25 29\n",
      "36 24 25\n",
      "37 22 23\n",
      "38 25 31\n",
      "39 28 29\n",
      "40 24 26\n",
      "41 31 32\n",
      "42 31 32\n",
      "43 29 31\n",
      "44 32 41\n",
      "45 30 31\n",
      "46 33 41\n",
      "47 30 37\n",
      "48 34 41\n",
      "49 37 39\n",
      "[(1, 5), (1, 9), (1, 11), (1, 12), (1, 15), (1, 20), (1, 23), (1, 24), (1, 26), (1, 27), (1, 28), (1, 30), (1, 37), (1, 40), (1, 47), (2, 3), (2, 7), (2, 18), (2, 19), (2, 21), (2, 22), (2, 25), (2, 31), (2, 34), (2, 36), (2, 38), (2, 43), (2, 45), (3, 1), (3, 2), (3, 6), (3, 10), (3, 16), (3, 29), (3, 33), (3, 35), (3, 39), (3, 49), (4, 0), (4, 4), (4, 8), (4, 13), (4, 14), (4, 17), (4, 32), (4, 41), (4, 42), (4, 44), (4, 46), (4, 48)]\n"
     ]
    }
   ],
   "source": [
    "import bisect\n",
    "from collections import defaultdict\n",
    "from typing import List\n",
    "\n",
    "\n",
    "class Solution:\n",
    "    def longestEqualSubarray(self, nums: List[int], k: int) -> int:\n",
    "        n = len(nums)\n",
    "        d = defaultdict(int)\n",
    "        count = [0] * (n + 1)\n",
    "        for i in range(n):\n",
    "            d[nums[i]] += 1\n",
    "            count[i] = d[nums[i]]\n",
    "        sorted_nums = sorted([(n, i) for i, n in enumerate(nums)])\n",
    "        ans = 0\n",
    "        for i in range(n):\n",
    "            pos = bisect.bisect_right(sorted_nums, (nums[i], i - k - count[i]))\n",
    "\n",
    "            if pos < n:\n",
    "                _pos = sorted_nums[pos][1]\n",
    "                if i >= 23:\n",
    "                    print(i, i - k - count[i], _pos)\n",
    "                if (\n",
    "                    sorted_nums[pos][0] == nums[i]\n",
    "                    and count[i] - count[_pos] + k >= i - _pos\n",
    "                ):\n",
    "                    ans = max(ans, count[i] - count[_pos] + 1)\n",
    "                    # if i >= 23:\n",
    "                    #     print(i, _pos, count[i], count[_pos])\n",
    "        return sorted_nums\n",
    "        # return count,ans\n",
    "\n",
    "\n",
    "# nums = [1, 3, 2, 3, 1, 3]\n",
    "# k = 3\n",
    "# nums = [1,1,2,2,1,1]\n",
    "# k = 2\n",
    "nums = [\n",
    "    4,\n",
    "    3,\n",
    "    3,\n",
    "    2,\n",
    "    4,\n",
    "    1,\n",
    "    3,\n",
    "    2,\n",
    "    4,\n",
    "    1,\n",
    "    3,\n",
    "    1,\n",
    "    1,\n",
    "    4,\n",
    "    4,\n",
    "    1,\n",
    "    3,\n",
    "    4,\n",
    "    2,\n",
    "    2,\n",
    "    1,\n",
    "    2,\n",
    "    2,\n",
    "    1,\n",
    "    1,\n",
    "    2,\n",
    "    1,\n",
    "    1,\n",
    "    1,\n",
    "    3,\n",
    "    1,\n",
    "    2,\n",
    "    4,\n",
    "    3,\n",
    "    2,\n",
    "    3,\n",
    "    2,\n",
    "    1,\n",
    "    2,\n",
    "    3,\n",
    "    1,\n",
    "    4,\n",
    "    4,\n",
    "    2,\n",
    "    4,\n",
    "    2,\n",
    "    4,\n",
    "    1,\n",
    "    4,\n",
    "    3,\n",
    "]\n",
    "k = 2\n",
    "print(Solution().longestEqualSubarray(nums, k))"
   ]
  },
  {
   "cell_type": "code",
   "execution_count": 90,
   "metadata": {},
   "outputs": [
    {
     "data": {
      "text/plain": [
       "[(1, 0), (3, 1), (2, 2), (3, 3), (1, 4), (3, 5)]"
      ]
     },
     "execution_count": 90,
     "metadata": {},
     "output_type": "execute_result"
    }
   ],
   "source": [
    "nums = [1, 3, 2, 3, 1, 3]\n",
    "nums = [(n, i) for i, n in enumerate(nums)]\n",
    "nums"
   ]
  },
  {
   "cell_type": "code",
   "execution_count": 91,
   "metadata": {},
   "outputs": [
    {
     "data": {
      "text/plain": [
       "1"
      ]
     },
     "execution_count": 91,
     "metadata": {},
     "output_type": "execute_result"
    }
   ],
   "source": [
    "bisect.bisect_right(nums, (3, -1))"
   ]
  },
  {
   "cell_type": "code",
   "execution_count": 92,
   "metadata": {},
   "outputs": [
    {
     "data": {
      "text/plain": [
       "6"
      ]
     },
     "execution_count": 92,
     "metadata": {},
     "output_type": "execute_result"
    }
   ],
   "source": [
    "nums = [(1, 0), (1, 4), (2, 2), (3, 1), (3, 3), (3, 5)]\n",
    "bisect.bisect_right(nums, (3, 5))"
   ]
  },
  {
   "cell_type": "code",
   "execution_count": 93,
   "metadata": {},
   "outputs": [],
   "source": [
    "import pyperclip\n",
    "import numpy as np\n",
    "x = np.random.randint(1, 5, 50)\n",
    "str(list(x))\n",
    "pyperclip.copy(str(list(x)))"
   ]
  },
  {
   "cell_type": "code",
   "execution_count": 2,
   "metadata": {},
   "outputs": [],
   "source": [
    "class Solution:\n",
    "    def sortItems(self, n, m, group, beforeItems):\n",
    "        # If an item belongs to zero group, assign it a unique group id.\n",
    "        group_id = m\n",
    "        for i in range(n):\n",
    "            if group[i] == -1:\n",
    "                group[i] = group_id\n",
    "                group_id += 1\n",
    "\n",
    "        # Sort all item regardless of group dependencies.\n",
    "        item_graph = [[] for _ in range(n)]\n",
    "        item_indegree = [0] * n\n",
    "\n",
    "        # Sort all groups regardless of item dependencies.\n",
    "        group_graph = [[] for _ in range(group_id)]\n",
    "        group_indegree = [0] * group_id\n",
    "\n",
    "        for curr in range(n):\n",
    "            for prev in beforeItems[curr]:\n",
    "                # Each (prev -> curr) represents an edge in the item graph.\n",
    "                item_graph[prev].append(curr)\n",
    "                item_indegree[curr] += 1\n",
    "\n",
    "                # If they belong to different groups, add an edge in the group graph.\n",
    "                if group[curr] != group[prev]:\n",
    "                    group_graph[group[prev]].append(group[curr])\n",
    "                    group_indegree[group[curr]] += 1\n",
    "\n",
    "        # Tologlogical sort nodes in graph, return [] if a cycle exists.\n",
    "        def topologicalSort(graph, indegree):\n",
    "            visited = []\n",
    "            stack = [node for node in range(len(graph)) if indegree[node] == 0]\n",
    "            while stack:\n",
    "                cur = stack.pop()\n",
    "                visited.append(cur)\n",
    "                for neib in graph[cur]:\n",
    "                    indegree[neib] -= 1\n",
    "                    if indegree[neib] == 0:\n",
    "                        stack.append(neib)\n",
    "            return visited if len(visited) == len(graph) else []\n",
    "\n",
    "        item_order = topologicalSort(item_graph, item_indegree)\n",
    "        group_order = topologicalSort(group_graph, group_indegree)\n",
    "\n",
    "        if not item_order or not group_order:\n",
    "            return []\n",
    "\n",
    "        # Items are sorted regardless of groups, we need to\n",
    "        # differentiate them by the groups they belong to.\n",
    "        ordered_groups = collections.defaultdict(list)\n",
    "        for item in item_order:\n",
    "            ordered_groups[group[item]].append(item)\n",
    "\n",
    "        # Concatenate sorted items in all sorted groups.\n",
    "        # [group 1, group 2, ... ] -> [(item 1, item 2, ...), (item 1, item 2, ...), ...]\n",
    "        answer = []\n",
    "        for group_index in group_order:\n",
    "            answer += ordered_groups[group_index]\n",
    "        return answer"
   ]
  },
  {
   "cell_type": "code",
   "execution_count": 34,
   "metadata": {},
   "outputs": [
    {
     "name": "stdout",
     "output_type": "stream",
     "text": [
      "2\n"
     ]
    }
   ],
   "source": [
    "import sys\n",
    "\n",
    "input = sys.stdin.readline\n",
    "\n",
    "\n",
    "def robin_karp(a, b):\n",
    "    n = len(a)\n",
    "    m = len(b)\n",
    "    if m > n:\n",
    "        return []\n",
    "    ans = []\n",
    "    p = 311\n",
    "    mod = 1000000003\n",
    "    p_pow = [1]\n",
    "    for i in range(1, n):\n",
    "        p_pow.append((p_pow[-1] * p) % mod)\n",
    "    h = [0] * (n + 1)\n",
    "    for i in range(n):\n",
    "        h[i + 1] = (h[i] * p + ord(a[i])) % mod\n",
    "    h_b = 0\n",
    "    for i in range(m):\n",
    "        h_b = (h_b * p + ord(b[i])) % mod\n",
    "    for i in range(1, n - m + 2):\n",
    "        cur_h = (h[i + m - 1] - h[i - 1] * p_pow[m]) % mod\n",
    "        if cur_h == h_b:\n",
    "            ans.append(i)\n",
    "    return \" \".join(map(str, ans)) if ans else \"\"\n",
    "\n",
    "\n",
    "a = input().strip()\n",
    "b = input().strip()\n",
    "print(robin_karp(a, b))"
   ]
  },
  {
   "cell_type": "code",
   "execution_count": 27,
   "metadata": {},
   "outputs": [
    {
     "name": "stdout",
     "output_type": "stream",
     "text": [
      "1 2 3 4 [1, 311, 96721, 30080231, 354951814, 390013824] 30264 [0, 97, 30264, 9412201, 927194602, 357520455]\n"
     ]
    }
   ],
   "source": [
    "MOD = 1000000003\n",
    "maxn = 1000111\n",
    "\n",
    "POW = [0] * maxn\n",
    "hashT = [0] * maxn\n",
    "\n",
    "\n",
    "def getHashT(i, j):\n",
    "    return (hashT[j] - hashT[i - 1] * POW[j - i + 1]) % MOD\n",
    "\n",
    "\n",
    "if __name__ == '__main__':\n",
    "    # Input\n",
    "    T, P = \"aaaaa\",\"aa\"\n",
    "\n",
    "    # Initialize\n",
    "    lenT = len(T)\n",
    "    lenP = len(P)\n",
    "    T = \" \" + T\n",
    "    P = \" \" + P\n",
    "    POW[0] = 1\n",
    "    base = 311\n",
    "    # Precalculate base^i\n",
    "    for i in range(1, lenT + 1):\n",
    "        POW[i] = (POW[i - 1] * base) % MOD\n",
    "\n",
    "    # Calculate hash value of T[1..i]\n",
    "    for i in range(1, lenT + 1):\n",
    "        hashT[i] = (hashT[i - 1] * base + ord(T[i])) % MOD\n",
    "\n",
    "    # Calculate hash value of P\n",
    "    hashP = 0\n",
    "    for i in range(1, lenP + 1):\n",
    "        hashP = (hashP * base + ord(P[i])) % MOD\n",
    "\n",
    "    # Finding substrings of T equal to string P\n",
    "    for i in range(1, lenT - lenP + 2):\n",
    "        if hashP == getHashT(i, i + lenP - 1):\n",
    "            print(i, end=' ')\n",
    "    print(POW[:lenT + 1],hashP,hashT[:lenT + 1])\n"
   ]
  },
  {
   "cell_type": "code",
   "execution_count": null,
   "metadata": {},
   "outputs": [],
   "source": [
    "import bisect\n",
    "import sys\n",
    "\n",
    "input = sys.stdin.readline\n",
    "\n",
    "\n",
    "def lengthOfLIS(nums: list[int]) -> int:\n",
    "    l = []\n",
    "    for num in nums:\n",
    "        x = bisect.bisect_left(l, num)\n",
    "        if x == len(l):\n",
    "            l.append(num)\n",
    "        else:\n",
    "            l[x] = num\n",
    "    return len(l)\n",
    "\n",
    "\n",
    "n = int(input())\n",
    "nums = list(map(int, input().split()))\n",
    "print(lengthOfLIS(nums))"
   ]
  },
  {
   "cell_type": "code",
   "execution_count": 3,
   "metadata": {},
   "outputs": [
    {
     "data": {
      "text/plain": [
       "64"
      ]
     },
     "execution_count": 3,
     "metadata": {},
     "output_type": "execute_result"
    }
   ],
   "source": [
    "ord('A') - 1"
   ]
  },
  {
   "cell_type": "code",
   "execution_count": 8,
   "metadata": {},
   "outputs": [
    {
     "data": {
      "text/plain": [
       "0"
      ]
     },
     "execution_count": 8,
     "metadata": {},
     "output_type": "execute_result"
    }
   ],
   "source": [
    "701 - 25 * 1\n",
    "676 "
   ]
  },
  {
   "cell_type": "code",
   "execution_count": 17,
   "metadata": {},
   "outputs": [
    {
     "data": {
      "text/plain": [
       "60"
      ]
     },
     "execution_count": 17,
     "metadata": {},
     "output_type": "execute_result"
    }
   ],
   "source": [
    "base = 26\n",
    "s = 28\n",
    "f\"{s:0x}\"\n",
    "int(str(s),26)\n",
    "# convert to base 26 using built-in function\n",
    "def base26(n):\n",
    "    s = \"\"\n",
    "    while n:\n",
    "        n, r = divmod(n-1, 26)\n",
    "        s = chr(65+r) + s\n",
    "    return s"
   ]
  }
 ],
 "metadata": {
  "kernelspec": {
   "display_name": ".venv",
   "language": "python",
   "name": "python3"
  },
  "language_info": {
   "codemirror_mode": {
    "name": "ipython",
    "version": 3
   },
   "file_extension": ".py",
   "mimetype": "text/x-python",
   "name": "python",
   "nbconvert_exporter": "python",
   "pygments_lexer": "ipython3",
   "version": "3.11.0"
  },
  "orig_nbformat": 4
 },
 "nbformat": 4,
 "nbformat_minor": 2
}
