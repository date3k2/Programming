{
 "cells": [
  {
   "cell_type": "code",
   "execution_count": 9,
   "metadata": {},
   "outputs": [
    {
     "name": "stdout",
     "output_type": "stream",
     "text": [
      "5\n"
     ]
    }
   ],
   "source": [
    "from collections import defaultdict\n",
    "from typing import List\n",
    "\n",
    "\n",
    "class Solution:\n",
    "    def maximalNetworkRank(self, n: int, roads: List[List[int]]) -> int:\n",
    "        adj = defaultdict(int)\n",
    "        connect = defaultdict(int)\n",
    "        ans = 0\n",
    "        for u, v in roads:\n",
    "            adj[u] += 1\n",
    "            adj[v] += 1\n",
    "            connect[(u, v)] = 1\n",
    "            connect[(v, u)] = 1\n",
    "        for i in range(n - 1):\n",
    "            for j in range(i + 1, n):\n",
    "                ans = max(ans, adj[i] + adj[j] - connect[(i, j)])\n",
    "        return ans\n",
    "\n",
    "\n",
    "n = 5\n",
    "roads = [[0, 1], [0, 3], [1, 2], [1, 3], [2, 3], [2, 4]]\n",
    "print(Solution().maximalNetworkRank(n, roads))"
   ]
  }
 ],
 "metadata": {
  "kernelspec": {
   "display_name": ".venv",
   "language": "python",
   "name": "python3"
  },
  "language_info": {
   "codemirror_mode": {
    "name": "ipython",
    "version": 3
   },
   "file_extension": ".py",
   "mimetype": "text/x-python",
   "name": "python",
   "nbconvert_exporter": "python",
   "pygments_lexer": "ipython3",
   "version": "3.11.0"
  },
  "orig_nbformat": 4
 },
 "nbformat": 4,
 "nbformat_minor": 2
}
