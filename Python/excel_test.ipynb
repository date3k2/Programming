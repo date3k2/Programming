{
 "cells": [
  {
   "cell_type": "code",
   "execution_count": 1,
   "metadata": {},
   "outputs": [],
   "source": [
    "import pandas as pd"
   ]
  },
  {
   "cell_type": "code",
   "execution_count": 4,
   "metadata": {},
   "outputs": [],
   "source": [
    "data = pd.read_excel(r\"C:\\Users\\nguye\\Desktop\\data.xlsx\")"
   ]
  },
  {
   "cell_type": "code",
   "execution_count": 14,
   "metadata": {},
   "outputs": [
    {
     "data": {
      "text/plain": [
       "array([[  5. ,  30. ,   4.5,  16. ,   1. ],\n",
       "       [ 22.5, 100. ,   6.7,  50. ,   0. ],\n",
       "       [445. ,  80. ,   8.3, 335.5,   0. ]])"
      ]
     },
     "execution_count": 14,
     "metadata": {},
     "output_type": "execute_result"
    }
   ],
   "source": [
    "A = data.values\n",
    "A"
   ]
  },
  {
   "cell_type": "code",
   "execution_count": 16,
   "metadata": {},
   "outputs": [],
   "source": [
    "mean_by_cols = A.mean(axis=0)\n",
    "min_by_cols = A.min(axis=0)\n",
    "max_by_cols = A.max(axis=0)"
   ]
  },
  {
   "cell_type": "code",
   "execution_count": 21,
   "metadata": {},
   "outputs": [
    {
     "data": {
      "text/plain": [
       "0     30\n",
       "1    100\n",
       "2     80\n",
       "Name: 0, dtype: int64"
      ]
     },
     "execution_count": 21,
     "metadata": {},
     "output_type": "execute_result"
    }
   ],
   "source": [
    "data.iloc[:,1]"
   ]
  },
  {
   "cell_type": "code",
   "execution_count": 26,
   "metadata": {},
   "outputs": [
    {
     "data": {
      "text/plain": [
       "Index([20, 0, 9, 20.5, '0.1'], dtype='object')"
      ]
     },
     "execution_count": 26,
     "metadata": {},
     "output_type": "execute_result"
    }
   ],
   "source": []
  },
  {
   "cell_type": "code",
   "execution_count": 41,
   "metadata": {},
   "outputs": [
    {
     "data": {
      "text/plain": [
       "array([ 30, 100,  80], dtype=int64)"
      ]
     },
     "execution_count": 41,
     "metadata": {},
     "output_type": "execute_result"
    }
   ],
   "source": [
    "data.iloc[:,1].values"
   ]
  },
  {
   "cell_type": "code",
   "execution_count": 49,
   "metadata": {},
   "outputs": [
    {
     "data": {
      "text/plain": [
       "0    0.085714\n",
       "1    0.571429\n",
       "2    1.000000\n",
       "Name: 20.5, dtype: float64"
      ]
     },
     "execution_count": 49,
     "metadata": {},
     "output_type": "execute_result"
    }
   ],
   "source": [
    "def func(x):\n",
    "    if x <= 10:\n",
    "        return 0\n",
    "    elif x > 80:\n",
    "        return 1\n",
    "    else:\n",
    "        return (x - 10) / 70\n",
    "\n",
    "\n",
    "data.iloc[:, 3].apply(func)"
   ]
  },
  {
   "cell_type": "code",
   "execution_count": 5,
   "metadata": {},
   "outputs": [
    {
     "data": {
      "text/plain": [
       "1"
      ]
     },
     "execution_count": 5,
     "metadata": {},
     "output_type": "execute_result"
    }
   ],
   "source": [
    "from sortedcontainers import SortedSet\n",
    "\n",
    "s = SortedSet([(1,\"ga\"),(-2,\"chó\"),(143,\"mèo\"),(24,\"chuột\"),(5,\"cá\")], key=lambda x: (x[0], x[1]))"
   ]
  },
  {
   "cell_type": "code",
   "execution_count": 2,
   "metadata": {},
   "outputs": [
    {
     "name": "stdout",
     "output_type": "stream",
     "text": [
      "   product_id  new_price change_date\n",
      "0           1         20  2019-08-14\n",
      "1           2         50  2019-08-14\n",
      "2           1         30  2019-08-15\n",
      "3           1         35  2019-08-16\n",
      "4           2         65  2019-08-17\n",
      "5           3         20  2019-08-18\n"
     ]
    }
   ],
   "source": [
    "import pandas as pd\n",
    "\n",
    "# Define the data for the DataFrame\n",
    "data = {\n",
    "    'product_id': [1, 2, 1, 1, 2, 3],\n",
    "    'new_price': [20, 50, 30, 35, 65, 20],\n",
    "    'change_date': pd.to_datetime(['2019-08-14', '2019-08-14', '2019-08-15', '2019-08-16', '2019-08-17', '2019-08-18'])\n",
    "}\n",
    "\n",
    "# Create the DataFrame\n",
    "df = pd.DataFrame(data)\n",
    "\n",
    "# Print the DataFrame\n",
    "print(df)"
   ]
  },
  {
   "cell_type": "code",
   "execution_count": 1,
   "metadata": {},
   "outputs": [
    {
     "data": {
      "text/plain": [
       "46610674441390059"
      ]
     },
     "execution_count": 1,
     "metadata": {},
     "output_type": "execute_result"
    }
   ],
   "source": [
    "from math import comb\n",
    "comb(299,9)"
   ]
  },
  {
   "cell_type": "code",
   "execution_count": 8,
   "metadata": {},
   "outputs": [
    {
     "data": {
      "text/plain": [
       "[3, 4]"
      ]
     },
     "execution_count": 8,
     "metadata": {},
     "output_type": "execute_result"
    }
   ],
   "source": [
    "a= [1,3,4]\n",
    "a[1:3]"
   ]
  },
  {
   "cell_type": "code",
   "execution_count": 31,
   "metadata": {},
   "outputs": [
    {
     "name": "stdout",
     "output_type": "stream",
     "text": [
      "Writing 1335-leetcode.py\n"
     ]
    }
   ],
   "source": [
    "%%writefile 1335-leetcode.py\n",
    "from typing import List\n",
    "from functools import cache\n",
    "\n",
    "\n",
    "class Solution:\n",
    "    def minDifficulty(self, jobDifficulty: List[int], d: int) -> int:\n",
    "        n = len(jobDifficulty)\n",
    "\n",
    "        @cache\n",
    "        def solve(i, days):\n",
    "            if days == 1:\n",
    "                return max(jobDifficulty[i : n + 1])\n",
    "            ans = float(\"inf\")\n",
    "            for j in range(i + 1, n - days + 2):\n",
    "                ans = min(ans, max(jobDifficulty[i:j], default=0) + solve(j, days - 1))\n",
    "            return ans\n",
    "\n",
    "        return solve(0, d) if n >= d else -1\n",
    "\n",
    "\n",
    "# jobDifficulty = [187, 749, 953, 160, 150, 538, 923, 353, 490, 177]\n",
    "jobDifficulty = [6, 5, 4, 3, 2, 1]\n",
    "d = 3\n",
    "Solution().minDifficulty(jobDifficulty, d)"
   ]
  },
  {
   "cell_type": "code",
   "execution_count": 15,
   "metadata": {},
   "outputs": [],
   "source": [
    "import numpy as np\n",
    "\n",
    "import pyperclip\n",
    "\n",
    "pyperclip.copy(str(list(np.random.randint(1,1000,10))))"
   ]
  },
  {
   "cell_type": "code",
   "execution_count": 8,
   "metadata": {},
   "outputs": [
    {
     "data": {
      "text/plain": [
       "True"
      ]
     },
     "execution_count": 8,
     "metadata": {},
     "output_type": "execute_result"
    }
   ],
   "source": [
    "from collections import Counter\n",
    "words = [\"abc\",\"aabc\",\"bc\"]\n",
    "c = Counter()\n",
    "for word in words:\n",
    "    c.update(word)\n",
    "values = list(c.values())   \n",
    "all(values[0] == value for value in values)"
   ]
  },
  {
   "cell_type": "code",
   "execution_count": 1,
   "metadata": {},
   "outputs": [
    {
     "data": {
      "text/plain": [
       "3024"
      ]
     },
     "execution_count": 1,
     "metadata": {},
     "output_type": "execute_result"
    }
   ],
   "source": [
    "a,b,c = 1,2,3\n",
    "s = 6\n",
    "for i in range(4,2017):\n",
    "    a,b,c = b,c, a + b - c\n",
    "    s += c\n",
    "s"
   ]
  }
 ],
 "metadata": {
  "kernelspec": {
   "display_name": ".venv",
   "language": "python",
   "name": "python3"
  },
  "language_info": {
   "codemirror_mode": {
    "name": "ipython",
    "version": 3
   },
   "file_extension": ".py",
   "mimetype": "text/x-python",
   "name": "python",
   "nbconvert_exporter": "python",
   "pygments_lexer": "ipython3",
   "version": "3.11.0"
  }
 },
 "nbformat": 4,
 "nbformat_minor": 2
}
