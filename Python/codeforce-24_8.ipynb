{
 "cells": [
  {
   "cell_type": "code",
   "execution_count": 13,
   "metadata": {},
   "outputs": [],
   "source": [
    "import sys\n",
    "\n",
    "sys.stdin = open(\n",
    "    r\"C:\\Users\\nguye\\Documents\\Code\\Programming\\C++\\test.inp\", \"r\")\n",
    "sys.stdout = open(\n",
    "    r\"C:\\Users\\nguye\\Documents\\Code\\Programming\\C++\\test.out\", \"w\")\n",
    "input = sys.stdin.readline\n",
    "t = int(input())\n",
    "for _ in range(t):\n",
    "    m, n = map(int, input().split())\n",
    "    char = []\n",
    "    for _ in range(m):\n",
    "        char.append(input().strip())\n",
    "    cols = list(zip(*char))\n",
    "    index = 0\n",
    "    ans = \"\"\n",
    "    for i, col in enumerate(cols):\n",
    "        if \"v\" in col:\n",
    "            ans += \"v\"\n",
    "            index = i\n",
    "            break\n",
    "    for i in range(index + 1, n):\n",
    "        if \"i\" in cols[i]:\n",
    "            ans += \"i\"\n",
    "            index = i\n",
    "            break\n",
    "    for i in range(index + 1, n):\n",
    "        if \"k\" in cols[i]:\n",
    "            ans += \"k\"\n",
    "            index = i\n",
    "            break\n",
    "    for i in range(index + 1, n):\n",
    "        if \"a\" in cols[i]:\n",
    "            ans += \"a\"\n",
    "            break\n",
    "    print(\"YES\" if ans == \"vika\" else \"NO\")"
   ]
  },
  {
   "cell_type": "code",
   "execution_count": 16,
   "metadata": {},
   "outputs": [],
   "source": [
    "import sys\n",
    "\n",
    "sys.stdin = open(r\"C:\\Users\\nguye\\Documents\\Code\\Programming\\C++\\test.inp\", \"r\")\n",
    "sys.stdout = open(r\"C:\\Users\\nguye\\Documents\\Code\\Programming\\C++\\test.out\", \"w\")\n",
    "input = sys.stdin.readline\n",
    "t = int(input())\n",
    "for _ in range(t):\n",
    "    n = int(input())\n",
    "    b = list(map(int, input().split()))\n",
    "    ans = [b[0]]\n",
    "    for i in range(1, n):\n",
    "        if b[i - 1] <= b[i]:\n",
    "            ans.append(b[i])\n",
    "        else:\n",
    "            ans.append(b[i])\n",
    "            ans.append(b[i])\n",
    "    print(len(ans))\n",
    "    print(*ans)"
   ]
  },
  {
   "cell_type": "code",
   "execution_count": 32,
   "metadata": {},
   "outputs": [],
   "source": [
    "import sys\n",
    "from collections import Counter\n",
    "\n",
    "sys.stdin = open(r\"C:\\Users\\nguye\\Documents\\Code\\Programming\\C++\\test.inp\", \"r\")\n",
    "sys.stdout = open(r\"C:\\Users\\nguye\\Documents\\Code\\Programming\\C++\\test.out\", \"w\")\n",
    "input = sys.stdin.readline\n",
    "t = int(input())\n",
    "for _ in range(t):\n",
    "    n = int(input())\n",
    "    a = list(map(int, input().split()))\n",
    "    c = Counter(a)\n",
    "    horizon = Counter()\n",
    "    temp = 0\n",
    "    for i, f in Counter(a[::-1]).items():\n",
    "        horizon[n] = i - temp\n",
    "        n -= f\n",
    "        temp = i\n",
    "    print(\"YES\" if horizon == c else \"NO\")"
   ]
  },
  {
   "cell_type": "markdown",
   "metadata": {},
   "source": [
    "# 😡😡🤡🐧"
   ]
  },
  {
   "cell_type": "code",
   "execution_count": 59,
   "metadata": {},
   "outputs": [],
   "source": [
    "import sys\n",
    "from math import sqrt\n",
    "\n",
    "sys.stdin = open(r\"C:\\Users\\nguye\\Documents\\Code\\Programming\\C++\\test.inp\", \"r\")\n",
    "sys.stdout = open(r\"C:\\Users\\nguye\\Documents\\Code\\Programming\\C++\\test.out\", \"w\")\n",
    "input = sys.stdin.readline\n",
    "t = int(input())\n",
    "for _ in range(t):\n",
    "    n = int(input())\n",
    "    creams = int((1 + sqrt(1 + 8 * n)) / 2)\n",
    "    print(creams + n - creams * (creams - 1) // 2)"
   ]
  },
  {
   "cell_type": "code",
   "execution_count": 69,
   "metadata": {},
   "outputs": [],
   "source": [
    "import sys\n",
    "from heapq import heappush, heappop\n",
    "\n",
    "sys.stdin = open(\n",
    "    r\"C:\\Users\\nguye\\Documents\\Code\\Programming\\C++\\test.inp\", \"r\")\n",
    "sys.stdout = open(\n",
    "    r\"C:\\Users\\nguye\\Documents\\Code\\Programming\\C++\\test.out\", \"w\")\n",
    "input = sys.stdin.readline\n",
    "t = int(input())\n",
    "for _ in range(t):\n",
    "    n, m, d = map(int, input().split())\n",
    "    a = list(map(int, input().split()))\n",
    "    b = [0] * n\n",
    "    for i in range(n):\n",
    "        b[i] = a[i] - d * (i + 1)\n",
    "    heap = []\n",
    "    s = 0\n",
    "    ans = b[0]\n",
    "    for i in range(n - 1):\n",
    "        if a[i] > 0:\n",
    "            heappush(heap, a[i])\n",
    "            s += a[i]\n",
    "        if len(heap) > m - 1:\n",
    "            s -= heappop(heap)\n",
    "        ans = max(ans, s + b[i + 1])\n",
    "    ans = max(ans, 0)\n",
    "    print(ans)"
   ]
  }
 ],
 "metadata": {
  "kernelspec": {
   "display_name": ".venv",
   "language": "python",
   "name": "python3"
  },
  "language_info": {
   "codemirror_mode": {
    "name": "ipython",
    "version": 3
   },
   "file_extension": ".py",
   "mimetype": "text/x-python",
   "name": "python",
   "nbconvert_exporter": "python",
   "pygments_lexer": "ipython3",
   "version": "3.11.0"
  },
  "orig_nbformat": 4
 },
 "nbformat": 4,
 "nbformat_minor": 2
}
