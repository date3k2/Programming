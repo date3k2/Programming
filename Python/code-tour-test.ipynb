{
 "cells": [
  {
   "cell_type": "code",
   "execution_count": 29,
   "metadata": {},
   "outputs": [],
   "source": [
    "import sys\n",
    "sys.stdin = open('test.inp', 'r')\n",
    "sys.stdout = open('test.out', 'w')\n",
    "input = sys.stdin.readline\n",
    "out = sys.stdout.write\n",
    "\n",
    "\n",
    "class FenwickTree:\n",
    "    def __init__(self, nums):\n",
    "        self.nums = nums\n",
    "        self.n = len(nums)\n",
    "        self.tree = [0j] * (self.n + 1)\n",
    "        for i, num in enumerate(nums):\n",
    "            self.update(i, num)\n",
    "\n",
    "    def update(self, index: int, val) -> None:\n",
    "        index += 1\n",
    "        while index <= self.n:\n",
    "            self.tree[index] += val\n",
    "            index += index & (-index)\n",
    "\n",
    "    def get(self, index: int):\n",
    "        index += 1\n",
    "        ans = 0\n",
    "        while index > 0:\n",
    "            ans += self.tree[index]\n",
    "            index -= index & (-index)\n",
    "        return ans\n",
    "\n",
    "\n",
    "n, q = map(int, input().split())\n",
    "direction = {'N': 1j, 'S': -1j, 'E': 1, 'W': -1}\n",
    "s = list(map(lambda x: direction[x], input().strip()))\n",
    "dif = [0] * n\n",
    "move = {1j: 0, -1j: 2, 1: 1, -1: 3}\n",
    "dir = ['N', 'E', 'S', 'W']\n",
    "dif[0] = s[0]\n",
    "for i in range(1, n):\n",
    "    dif[i] = s[i] - s[i-1]\n",
    "\n",
    "sumD = 0\n",
    "count = 0\n",
    "for i, num in enumerate(dif):\n",
    "    sumD += num * (n-i)\n",
    "fwt = FenwickTree(dif)\n",
    "for _ in range(q):\n",
    "    query = input().split()\n",
    "    if query[0] == '1':\n",
    "        pos = int(query[1]) - 1\n",
    "        diff = direction[query[2]] - fwt.get(pos)\n",
    "        sumD += diff\n",
    "        fwt.update(pos, diff)\n",
    "        fwt.update(pos+1, -diff)\n",
    "\n",
    "        for i in range(n):\n",
    "            print(dir[move[fwt.get(i)]], end=' ')\n",
    "        print('\\n Step: ',sumD)\n",
    "        # break\n",
    "        count += (sumD == 0)\n",
    "    else:\n",
    "        left, right, k = map(int, query[1:])\n",
    "        if k % 4 == 0:\n",
    "            count += (sumD == 0)\n",
    "        else:\n",
    "            left -= 1\n",
    "            right -= 1\n",
    "            newleft = direction[dir[(move[fwt.get(left)]+k) % 4]]\n",
    "            newright = direction[dir[(move[fwt.get(right)]+k) % 4]]\n",
    "\n",
    "            diff = newleft - fwt.get(left)\n",
    "            di = newright - fwt.get(right)\n",
    "\n",
    "            print(diff, di)\n",
    "\n",
    "            # fwt.update(left, diff)\n",
    "            # fwt.update(right+1, -diff)\n",
    "\n",
    "            # sumD += diff * (right-left+1)\n",
    "\n",
    "            # for i in range(n):\n",
    "            #     # print(dir[move[fwt.get(i)]], end=' ')\n",
    "            #     print(fwt.get(i), end=' ')\n",
    "\n",
    "            # print('\\n Step: ', sumD)\n",
    "            break\n",
    "            # print(left, right, k, newleft, newright, sumD)\n",
    "# print('-'*20)\n",
    "# print(s)\n",
    "# print(tree)\n",
    "# print(sumD)\n",
    "# print(curr)\n",
    "# print(fwt.tree)\n",
    "# print(fwt.getSum(0))\n",
    "# for i in range(n):\n",
    "#     print(fwt.getSum(i),end=' ')\n"
   ]
  },
  {
   "cell_type": "code",
   "execution_count": 25,
   "metadata": {},
   "outputs": [
    {
     "data": {
      "text/plain": [
       "1.5707963267948966"
      ]
     },
     "execution_count": 25,
     "metadata": {},
     "output_type": "execute_result"
    }
   ],
   "source": [
    "# find angle between 2 complex number\n",
    "import math\n",
    "def angle(a, b):\n",
    "    return math.atan2(a.imag, a.real) - math.atan2(b.imag, b.real)\n",
    "\n",
    "angle(1j, 1)"
   ]
  },
  {
   "cell_type": "code",
   "execution_count": 27,
   "metadata": {},
   "outputs": [],
   "source": [
    "s =\"NNWWEESS\""
   ]
  },
  {
   "cell_type": "code",
   "execution_count": 37,
   "metadata": {},
   "outputs": [
    {
     "data": {
      "text/plain": [
       "array([7, 5, 4, 8, 1, 6, 9, 3, 2])"
      ]
     },
     "execution_count": 37,
     "metadata": {},
     "output_type": "execute_result"
    }
   ],
   "source": [
    "import numpy as np\n",
    "x = np.array([1,2,3,4,5,6,7,8,9])\n",
    "np.random.shuffle(x)\n",
    "x\n"
   ]
  }
 ],
 "metadata": {
  "kernelspec": {
   "display_name": "date3k2",
   "language": "python",
   "name": "python3"
  },
  "language_info": {
   "codemirror_mode": {
    "name": "ipython",
    "version": 3
   },
   "file_extension": ".py",
   "mimetype": "text/x-python",
   "name": "python",
   "nbconvert_exporter": "python",
   "pygments_lexer": "ipython3",
   "version": "3.11.0"
  },
  "orig_nbformat": 4
 },
 "nbformat": 4,
 "nbformat_minor": 2
}
