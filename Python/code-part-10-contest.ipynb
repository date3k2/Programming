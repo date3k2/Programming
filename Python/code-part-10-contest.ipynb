{
 "cells": [
  {
   "cell_type": "code",
   "execution_count": 13,
   "metadata": {},
   "outputs": [
    {
     "name": "stdout",
     "output_type": "stream",
     "text": [
      "1\n"
     ]
    }
   ],
   "source": [
    "def isUgly(n):\n",
    "    while n % 2 == 0:\n",
    "        n //= 2\n",
    "    while n % 3 == 0:\n",
    "        n //= 3\n",
    "    if n == 1:\n",
    "        return 1\n",
    "    return 0\n",
    "\n",
    "\n",
    "if __name__ == '__main__':\n",
    "    n = int(input())\n",
    "    print(isUgly(n))\n"
   ]
  },
  {
   "cell_type": "markdown",
   "metadata": {},
   "source": [
    "# Generate test and add to zip file"
   ]
  },
  {
   "cell_type": "code",
   "execution_count": 2,
   "metadata": {},
   "outputs": [],
   "source": [
    "import numpy as np\n",
    "from pathlib import Path\n",
    "import os\n",
    "import shutil\n",
    "# get link to Downloads folder\n",
    "path = Path(os.path.expanduser(\"~/Downloads\"))\n",
    "# make dir ugly_num in Downloads\n",
    "# path = path / \"ugly_num\"\n",
    "# path.mkdir(parents=True, exist_ok=True)\n",
    "# for i in range(51,101):\n",
    "#     with open(path / f\"test{i}.txt\", \"w\") as f:\n",
    "#         n = np.random.randint(100, 2**31)\n",
    "#         f.write(f\"{n}\")\n",
    "\n",
    "\n"
   ]
  },
  {
   "cell_type": "code",
   "execution_count": 23,
   "metadata": {},
   "outputs": [
    {
     "data": {
      "text/plain": [
       "'C:\\\\Users\\\\nguye\\\\Downloads\\\\ugly_num.zip'"
      ]
     },
     "execution_count": 23,
     "metadata": {},
     "output_type": "execute_result"
    }
   ],
   "source": [
    "# shutil.make_archive(path, 'zip', path)"
   ]
  },
  {
   "cell_type": "code",
   "execution_count": 26,
   "metadata": {},
   "outputs": [
    {
     "name": "stdout",
     "output_type": "stream",
     "text": [
      "25\n"
     ]
    }
   ],
   "source": [
    "from typing import List\n",
    "class Solution:\n",
    "    def diagonalSum(self, mat: List[List[int]]) -> int:\n",
    "        n,s = len(mat),0\n",
    "        for i in range(n):\n",
    "            s=s+mat[i][i]+mat[i][n-1-i]\n",
    "        return s if n%2==0 else s-mat[n//2][n//2]\n",
    "    \n",
    "if __name__ == '__main__':\n",
    "    n = int(input())\n",
    "    mat = []\n",
    "    for i in range(n):\n",
    "        mat.append(list(map(int, input().split())))\n",
    "    print(Solution().diagonalSum(mat))\n",
    "    "
   ]
  },
  {
   "cell_type": "code",
   "execution_count": 37,
   "metadata": {},
   "outputs": [],
   "source": [
    "path_matrix = Path(os.path.expanduser(\"~/Downloads/matrix\"))\n",
    "path_matrix.mkdir(parents=True, exist_ok=True)\n",
    "for i in range(21, 101):\n",
    "    with open(path_matrix / f\"test{i}.txt\", \"w\") as f:\n",
    "        n = np.random.randint(10, 100)\n",
    "        f.write(f\"{n}\\n\")\n",
    "        for _ in range(n):\n",
    "            f.write(\" \".join(map(str, np.random.randint(1, 10, n))))\n",
    "            f.write(\"\\n\")"
   ]
  },
  {
   "cell_type": "code",
   "execution_count": 38,
   "metadata": {},
   "outputs": [
    {
     "data": {
      "text/plain": [
       "'C:\\\\Users\\\\nguye\\\\Downloads\\\\matrix.zip'"
      ]
     },
     "execution_count": 38,
     "metadata": {},
     "output_type": "execute_result"
    }
   ],
   "source": [
    "shutil.make_archive(path_matrix, 'zip', path_matrix)"
   ]
  },
  {
   "cell_type": "code",
   "execution_count": 15,
   "metadata": {},
   "outputs": [],
   "source": [
    "path_bien = Path(os.path.expanduser(\"~/Downloads/bien\"))\n",
    "path_bien.mkdir(parents=True, exist_ok=True)\n",
    "for i in range(11,51):\n",
    "    with open(path_bien / f\"test{i}.txt\", \"w\") as f:\n",
    "        n = np.random.randint(1, 1001)\n",
    "        f.write(f\"{n}\\n\")\n",
    "        for _ in range(n):\n",
    "            f.write(f\"{np.random.randint(1,10**3+1)}\\n\")"
   ]
  },
  {
   "cell_type": "code",
   "execution_count": 16,
   "metadata": {},
   "outputs": [
    {
     "data": {
      "text/plain": [
       "'C:\\\\Users\\\\nguye\\\\Downloads\\\\bien.zip'"
      ]
     },
     "execution_count": 16,
     "metadata": {},
     "output_type": "execute_result"
    }
   ],
   "source": [
    "shutil.make_archive(path_bien, 'zip', path_bien)"
   ]
  },
  {
   "cell_type": "code",
   "execution_count": null,
   "metadata": {},
   "outputs": [],
   "source": [
    "def smallest_sufficient_team(req_skills, people):\n",
    "    # number of required skills and number of people\n",
    "    n, m = len(req_skills), len(people)\n",
    "    \n",
    "    # create a dictionary to map each skill to an index\n",
    "    skill_index = {v: i for i, v in enumerate(req_skills)}\n",
    "    \n",
    "    # create a dictionary to store the minimum team for each skill combination\n",
    "    dp = {0: []}\n",
    "    \n",
    "    # iterate through each person and their skills\n",
    "    for i, person_skills in enumerate(people):\n",
    "        # convert the person's skills to a bit mask\n",
    "        person_skill_mask = 0\n",
    "        for skill in person_skills:\n",
    "            if skill in skill_index:\n",
    "                person_skill_mask |= 1 << skill_index[skill]\n",
    "        \n",
    "        # iterate through each previous skill combination and its minimum team\n",
    "        for prev_mask, min_team in dp.items():\n",
    "            # combine the previous skill combination with the current person's skills\n",
    "            combined_mask = prev_mask | person_skill_mask\n",
    "            \n",
    "            # if the combined mask is the same as the previous mask, skip to the next iteration\n",
    "            if combined_mask == prev_mask:\n",
    "                continue\n",
    "            \n",
    "            # if the combined mask is not in the dictionary or the new minimum team is smaller, update the dictionary\n",
    "            if combined_mask not in dp or len(dp[combined_mask]) > len(min_team) + 1:\n",
    "                dp[combined_mask] = min_team + [i]\n",
    "    \n",
    "    # return the minimum team for the required skills\n",
    "    return dp[(1 << n) - 1]"
   ]
  },
  {
   "cell_type": "code",
   "execution_count": 1,
   "metadata": {},
   "outputs": [
    {
     "data": {
      "text/plain": [
       "deque([0, 1, 2, 3])"
      ]
     },
     "execution_count": 1,
     "metadata": {},
     "output_type": "execute_result"
    }
   ],
   "source": [
    "from collections import deque\n",
    "x = deque([1,2,3])\n",
    "x.appendleft(0)\n",
    "x"
   ]
  },
  {
   "cell_type": "code",
   "execution_count": null,
   "metadata": {},
   "outputs": [],
   "source": [
    "from collections import OrderedDict\n",
    "class LRUCache:\n",
    "    def __init__(self, Capacity):\n",
    "        self.size = Capacity\n",
    "        self.cache = OrderedDict()\n",
    "\n",
    "    def get(self, key):\n",
    "        if key not in self.cache: return -1\n",
    "        self.cache.move_to_end(key)\n",
    "        return self.cache[key]\n",
    "\n",
    "    def put(self, key, val):\n",
    "        if key in self.cache: del self.cache[key]\n",
    "        self.cache[key] = val\n",
    "        if len(self.cache) > self.size:\n",
    "            self.cache.popitem(last=False)"
   ]
  },
  {
   "cell_type": "code",
   "execution_count": 17,
   "metadata": {},
   "outputs": [
    {
     "name": "stdout",
     "output_type": "stream",
     "text": [
      "ChainMap({'a': 1, 'b': 2}, {'c': 3, 'd': 4}, {'e': 5, 'f': 6})\n"
     ]
    },
    {
     "data": {
      "text/plain": [
       "10"
      ]
     },
     "execution_count": 17,
     "metadata": {},
     "output_type": "execute_result"
    }
   ],
   "source": [
    "# example of ChainMap\n",
    "from collections import ChainMap\n",
    "dict1 = {'a': 1, 'b': 2}\n",
    "dict2 = {'c': 3, 'd': 4}\n",
    "dict3 = {'e': 5, 'f': 6}\n",
    "chain = ChainMap(dict1, dict2, dict3)"
   ]
  },
  {
   "cell_type": "code",
   "execution_count": 23,
   "metadata": {},
   "outputs": [
    {
     "name": "stdout",
     "output_type": "stream",
     "text": [
      "6.25 s ± 609 ms per loop (mean ± std. dev. of 7 runs, 1 loop each)\n",
      "6.39 s ± 821 ms per loop (mean ± std. dev. of 7 runs, 1 loop each)\n",
      "7.68 s ± 842 ms per loop (mean ± std. dev. of 7 runs, 1 loop each)\n"
     ]
    }
   ],
   "source": [
    "import numpy as np\n",
    "# benchmark matmul vs einsum\n",
    "a = np.random.rand(5000, 5000)\n",
    "b = np.random.rand(5000, 5000)\n",
    "%timeit a @ b\n",
    "%timeit np.matmul(a, b)\n",
    "%timeit np.dot(a, b)\n"
   ]
  }
 ],
 "metadata": {
  "kernelspec": {
   "display_name": "date3k2",
   "language": "python",
   "name": "python3"
  },
  "language_info": {
   "codemirror_mode": {
    "name": "ipython",
    "version": 3
   },
   "file_extension": ".py",
   "mimetype": "text/x-python",
   "name": "python",
   "nbconvert_exporter": "python",
   "pygments_lexer": "ipython3",
   "version": "3.11.0"
  },
  "orig_nbformat": 4
 },
 "nbformat": 4,
 "nbformat_minor": 2
}
