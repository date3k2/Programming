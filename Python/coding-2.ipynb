{
 "cells": [
  {
   "cell_type": "code",
   "execution_count": 7,
   "metadata": {},
   "outputs": [],
   "source": [
    "import sys\n",
    "\n",
    "sys.stdin = open(r\"C:\\Users\\nguye\\Documents\\Code\\Programming\\C++\\test.inp\", \"r\")\n",
    "sys.stdout = open(r\"C:\\Users\\nguye\\Documents\\Code\\Programming\\C++\\test.out\", \"w\")\n",
    "input = sys.stdin.readline\n",
    "n, d = map(int, input().split())\n",
    "s = [input().rstrip() for _ in range(n)]\n",
    "s = list(zip(*s))\n",
    "max_day = 0\n",
    "day = 0\n",
    "for i in s:\n",
    "    if all(j == \"o\" for j in i):\n",
    "        day += 1\n",
    "    else:\n",
    "        day = 0\n",
    "    max_day = max(max_day, day)\n",
    "print(max_day)"
   ]
  },
  {
   "cell_type": "code",
   "execution_count": 2,
   "metadata": {},
   "outputs": [],
   "source": [
    "import random\n",
    "\n",
    "\n",
    "# check prime using Miller-Rabin\n",
    "def is_prime(n, k=5):\n",
    "    if n < 2:\n",
    "        return False\n",
    "    for p in [2, 3, 5, 7, 11, 13, 17, 19, 23, 29]:\n",
    "        if n % p == 0:\n",
    "            return n == p\n",
    "    s, d = 0, n - 1\n",
    "    while d % 2 == 0:\n",
    "        s, d = s + 1, d // 2\n",
    "    for _ in range(k):\n",
    "        x = pow(random.randint(2, n - 1), d, n)\n",
    "        if x == 1 or x == n - 1:\n",
    "            continue\n",
    "        for r in range(1, s):\n",
    "            x = (x * x) % n\n",
    "            if x == 1:\n",
    "                return False\n",
    "            if x == n - 1:\n",
    "                break\n",
    "        else:\n",
    "            return False\n",
    "    return True"
   ]
  },
  {
   "cell_type": "code",
   "execution_count": 4,
   "metadata": {},
   "outputs": [],
   "source": [
    "import sys\n",
    "\n",
    "sys.stdin = open(r\"C:\\Users\\nguye\\Documents\\Code\\Programming\\C++\\test.inp\", \"r\")\n",
    "sys.stdout = open(r\"C:\\Users\\nguye\\Documents\\Code\\Programming\\C++\\test.out\", \"w\")\n",
    "input = sys.stdin.readline\n",
    "t = int(input())\n",
    "\n",
    "for _ in range(t):\n",
    "    n, a, q = map(int, input().split())\n",
    "    s = input().rstrip()\n",
    "    x = a\n",
    "    for i in s:\n",
    "        if a >= n:\n",
    "            print(\"YES\")\n",
    "            break\n",
    "        if i == \"-\":\n",
    "            a -= 1\n",
    "        else:\n",
    "            a += 1\n",
    "    else:\n",
    "        if a >= n:\n",
    "            print(\"YES\")\n",
    "    if a < n:\n",
    "        if x + s.count(\"+\") >= n:\n",
    "            print(\"MAYBE\")\n",
    "        else:\n",
    "            print(\"NO\")"
   ]
  },
  {
   "cell_type": "code",
   "execution_count": 136,
   "metadata": {},
   "outputs": [],
   "source": [
    "import numpy as np\n",
    "import pyperclip\n",
    "x = np.random.randint(0,101,6001)\n",
    "pyperclip.copy(str(list(x)))"
   ]
  }
 ],
 "metadata": {
  "kernelspec": {
   "display_name": ".venv",
   "language": "python",
   "name": "python3"
  },
  "language_info": {
   "codemirror_mode": {
    "name": "ipython",
    "version": 3
   },
   "file_extension": ".py",
   "mimetype": "text/x-python",
   "name": "python",
   "nbconvert_exporter": "python",
   "pygments_lexer": "ipython3",
   "version": "3.11.0"
  },
  "orig_nbformat": 4
 },
 "nbformat": 4,
 "nbformat_minor": 2
}
