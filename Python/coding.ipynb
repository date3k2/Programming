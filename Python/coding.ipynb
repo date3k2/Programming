{
 "cells": [
  {
   "cell_type": "code",
   "execution_count": null,
   "metadata": {},
   "outputs": [],
   "source": [
    "import numpy as np"
   ]
  },
  {
   "cell_type": "code",
   "execution_count": null,
   "metadata": {},
   "outputs": [],
   "source": [
    "n= 2\n",
    "i=0\n",
    "while n!=1:\n",
    "    n = sum([int(i)**2 for i in str(n)])\n",
    "    i+=1\n",
    "    if i>100:\n",
    "        break\n",
    "print(n==1)"
   ]
  },
  {
   "cell_type": "code",
   "execution_count": null,
   "metadata": {},
   "outputs": [],
   "source": [
    "x =[1,2,3,4,2]\n",
    "y = [9,5,1,4]\n",
    "x = x+ y\n",
    "print(x)\n",
    "print(x[4::-1])\n",
    "\n",
    "matrix = [[1,2,3,4],[5,6,7,8],[9,10,11,12]]\n",
    "a=b=c=5\n",
    "print(x[5:5])\n",
    "print(x[6:4:-1])"
   ]
  },
  {
   "cell_type": "code",
   "execution_count": null,
   "metadata": {},
   "outputs": [],
   "source": [
    "class TreeNode:\n",
    "    def __init__(self, val=0, left=None, right=None):\n",
    "        self.val = val\n",
    "        self.left = left\n",
    "        self.right = right\n",
    "\n",
    "\n",
    "root = TreeNode(4, TreeNode(9, TreeNode(1), None), TreeNode(0))\n",
    "\n",
    "\n",
    "def node(root: TreeNode, s: str):\n",
    "    sum = 0\n",
    "    if not root:\n",
    "        return int(s)\n",
    "    else:\n",
    "        s += str(root.val)\n",
    "        if (root.left and root.right):\n",
    "            sum = sum + node(root.left, s) + node(root.right, s)\n",
    "        elif not root.left:\n",
    "            sum = sum + node(root.right, s)\n",
    "        else:\n",
    "            sum = sum + node(root.left, s)\n",
    "    return sum\n",
    "\n",
    "\n",
    "print(node(root, ''))\n"
   ]
  },
  {
   "cell_type": "code",
   "execution_count": null,
   "metadata": {},
   "outputs": [],
   "source": [
    "s = [\"dog\",\"racecar\",\"car\"]\n",
    "print(len(min(s,key=len)))"
   ]
  },
  {
   "cell_type": "code",
   "execution_count": null,
   "metadata": {},
   "outputs": [],
   "source": [
    "from queue import Queue\n",
    "p = Queue()\n",
    "p.put(1)\n",
    "# p.put(5)\n",
    "p.put(6)\n",
    "print(p.get())\n",
    "print(p.empty())\n",
    "s='12 38 12 78 41 2'\n",
    "print(s[::-1])"
   ]
  },
  {
   "cell_type": "code",
   "execution_count": null,
   "metadata": {},
   "outputs": [],
   "source": [
    "class TreeNode:\n",
    "    def __init__(self, val=0, left=None, right=None):\n",
    "        self.val = val\n",
    "        self.left = left\n",
    "        self.right = right\n",
    "from queue import Queue\n",
    "class Solution:\n",
    "    def isCompleteTree(self,root: TreeNode) -> list:\n",
    "        p = Queue()\n",
    "        p.put(root)\n",
    "        l = []\n",
    "        l.append(root.val)\n",
    "        while not p.empty():\n",
    "            x = p.get()\n",
    "            if x.left:\n",
    "                p.put(x.left)\n",
    "                l.append(x.left.val)\n",
    "            else:\n",
    "                l.append(None)\n",
    "            if x.right:\n",
    "                p.put(x.right)\n",
    "                l.append(x.right.val)\n",
    "            else:\n",
    "                l.append(None)\n",
    "        for i in range(len(l)-1):\n",
    "            if (l[i]==None) and (l[i+1]!=None):\n",
    "                return False\n",
    "        return True\n",
    "\n",
    "x = Solution()\n",
    "root = TreeNode(4, TreeNode(9,TreeNode(1),None), TreeNode(0))\n",
    "print(x.isCompleteTree(root))"
   ]
  },
  {
   "cell_type": "code",
   "execution_count": null,
   "metadata": {},
   "outputs": [],
   "source": [
    "x = .25\n",
    "print(x.as_integer_ratio())\n"
   ]
  },
  {
   "cell_type": "code",
   "execution_count": null,
   "metadata": {},
   "outputs": [],
   "source": [
    "\n",
    "from collections import Counter\n",
    "# st =[\"ab\",\"ty\",\"yt\",\"lc\",\"cl\",\"ab\",'aa','aa',\"ty\",\"yt\",\"ty\"]\n",
    "# st = [\"ab\",\"ty\",\"yt\",\"lc\",\"cl\",\"ab\",\"aa\",\"aa\"]\n",
    "# st = ['aa','aa','aa','bb','bb','bb','ty','yt','yt']\n",
    "st = [\"lc\",\"cl\",\"gg\"]\n",
    "x = Counter(st)\n",
    "print(x)\n",
    "s=0\n",
    "kt = False\n",
    "for i in x:\n",
    "    if i==i[::-1] and x[i]%2==1:\n",
    "        s+=x[i]-1\n",
    "        kt=True\n",
    "    else:\n",
    "        s+=min(x[i],x[i[::-1]])\n",
    "if kt==True:\n",
    "    s+=1\n",
    "print(2*s)\n",
    "l = [1,2,4,2]\n",
    "try:\n",
    "    l.index(1)\n",
    "except:\n",
    "    print(1)\n"
   ]
  },
  {
   "cell_type": "code",
   "execution_count": null,
   "metadata": {},
   "outputs": [],
   "source": [
    "s = ['B',\"A\",\"A\",\"A\",\"B\",\"B\"]\n",
    "x =Counter(s)\n",
    "s=t=0\n",
    "for i in x.most_common(1):\n",
    "    s=i[1]\n",
    "for i in x:\n",
    "    if x[i]==s:\n",
    "        t+=1\n",
    "print(s)\n",
    "print(t)\n",
    "print((s-1)*(0+1)+t)\n"
   ]
  },
  {
   "cell_type": "code",
   "execution_count": null,
   "metadata": {},
   "outputs": [],
   "source": [
    "class Solution:\n",
    "    def leastInterval(self, tasks: list[str], n: int) -> int:\n",
    "        pass\n",
    "            \n",
    "x= Solution()\n",
    "print(x.longestPalindrome([\"lc\",\"cl\",\"gg\"]))"
   ]
  },
  {
   "cell_type": "code",
   "execution_count": null,
   "metadata": {},
   "outputs": [],
   "source": [
    "\n",
    "l = [1,2,4,2,4]\n",
    "l = l[:3]+['gà']\n",
    "print(l)"
   ]
  },
  {
   "cell_type": "code",
   "execution_count": null,
   "metadata": {},
   "outputs": [],
   "source": [
    "s = \"Hi, im 19 y r , 123 nans 25 hihi 10\"\n",
    "import re\n",
    "num = re.sub('[0-9]+','DAt',s)\n",
    "numbers = re.findall('[0-9]+',s)\n",
    "print(num)\n",
    "print(numbers)"
   ]
  },
  {
   "cell_type": "code",
   "execution_count": null,
   "metadata": {},
   "outputs": [],
   "source": [
    "import socket\n",
    "\n",
    "mysock = socket.socket(socket.AF_INET, socket.SOCK_STREAM)\n",
    "mysock.connect(('data.pr4e.org', 80))\n",
    "cmd = 'GET http://data.pr4e.org/romeo.txt HTTP/1.0\\r\\n\\r\\n'.encode()\n",
    "mysock.send(cmd)\n",
    "\n",
    "while True:\n",
    "    data = mysock.recv(512)\n",
    "    if len(data) < 1:\n",
    "        break\n",
    "    print(data.decode(),end='')\n",
    "mysock.close()"
   ]
  },
  {
   "cell_type": "code",
   "execution_count": null,
   "metadata": {},
   "outputs": [],
   "source": [
    "l = [1,5,7,9,10]\n",
    "s= '    the sky   is    blue   dck.   '\n",
    "print(' '.join(s.split()[::-1]))\n"
   ]
  },
  {
   "cell_type": "code",
   "execution_count": null,
   "metadata": {},
   "outputs": [],
   "source": [
    "l =[1,8,6,2,5,4,1000,10000,3,7,4,2,4]\n",
    "x = sorted([(x,i) for i,x in enumerate(l)])\n",
    "print(x)\n",
    "n,m,s = len(l)-1,0,0\n",
    "check = [False for _ in range(n+2)]\n",
    "for i in x:\n",
    "    s = max(s,max(n-i[1],i[1]-m)*i[0])\n",
    "    check[i[1]]=True\n",
    "    if i[1]==n:\n",
    "        while check[n]:\n",
    "            n-=1\n",
    "    elif i[1]==m:\n",
    "        while check[m]:\n",
    "            m+=1\n",
    "print(s)\n",
    "\n",
    "# Blackpink in your area\n",
    "# Blackpink in your area\n",
    "# Blackpink in your area\n",
    "# Blackpink in your area\n",
    "# How you like that\n",
    "# Ice cream chillin', chillin'\n",
    "# Ice cream chillin'\n",
    "# Lisa Jisoo Jennie Rosé\n"
   ]
  }
 ],
 "metadata": {
  "kernelspec": {
   "display_name": "Python 3",
   "language": "python",
   "name": "python3"
  },
  "language_info": {
   "codemirror_mode": {
    "name": "ipython",
    "version": 3
   },
   "file_extension": ".py",
   "mimetype": "text/x-python",
   "name": "python",
   "nbconvert_exporter": "python",
   "pygments_lexer": "ipython3",
   "version": "3.11.0"
  },
  "orig_nbformat": 4
 },
 "nbformat": 4,
 "nbformat_minor": 2
}
