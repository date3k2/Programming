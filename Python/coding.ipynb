{
 "cells": [
  {
   "cell_type": "code",
   "execution_count": 1,
   "metadata": {},
   "outputs": [],
   "source": [
    "import numpy as np"
   ]
  },
  {
   "cell_type": "code",
   "execution_count": 2,
   "metadata": {},
   "outputs": [
    {
     "name": "stdout",
     "output_type": "stream",
     "text": [
      "False\n"
     ]
    }
   ],
   "source": [
    "n= 2\n",
    "i=0\n",
    "while n!=1:\n",
    "    n = sum([int(i)**2 for i in str(n)])\n",
    "    i+=1\n",
    "    if i>100:\n",
    "        break\n",
    "print(n==1)"
   ]
  },
  {
   "cell_type": "code",
   "execution_count": 3,
   "metadata": {},
   "outputs": [
    {
     "name": "stdout",
     "output_type": "stream",
     "text": [
      "[1, 2, 3, 4, 2, 9, 5, 1, 4]\n",
      "[2, 4, 3, 2, 1]\n",
      "[]\n",
      "[5, 9]\n"
     ]
    }
   ],
   "source": [
    "x =[1,2,3,4,2]\n",
    "y = [9,5,1,4]\n",
    "x = x+ y\n",
    "print(x)\n",
    "print(x[4::-1])\n",
    "\n",
    "matrix = [[1,2,3,4],[5,6,7,8],[9,10,11,12]]\n",
    "a=b=c=5\n",
    "print(x[5:5])\n",
    "print(x[6:4:-1])"
   ]
  },
  {
   "cell_type": "code",
   "execution_count": 4,
   "metadata": {},
   "outputs": [
    {
     "name": "stdout",
     "output_type": "stream",
     "text": [
      "531\n"
     ]
    }
   ],
   "source": [
    "class TreeNode:\n",
    "    def __init__(self, val=0, left=None, right=None):\n",
    "        self.val = val\n",
    "        self.left = left\n",
    "        self.right = right\n",
    "\n",
    "\n",
    "root = TreeNode(4, TreeNode(9, TreeNode(1), None), TreeNode(0))\n",
    "\n",
    "\n",
    "def node(root: TreeNode, s: str):\n",
    "    sum = 0\n",
    "    if not root:\n",
    "        return int(s)\n",
    "    else:\n",
    "        s += str(root.val)\n",
    "        if (root.left and root.right):\n",
    "            sum = sum + node(root.left, s) + node(root.right, s)\n",
    "        elif not root.left:\n",
    "            sum = sum + node(root.right, s)\n",
    "        else:\n",
    "            sum = sum + node(root.left, s)\n",
    "    return sum\n",
    "\n",
    "\n",
    "print(node(root, ''))\n"
   ]
  },
  {
   "cell_type": "code",
   "execution_count": 5,
   "metadata": {},
   "outputs": [
    {
     "name": "stdout",
     "output_type": "stream",
     "text": [
      "3\n"
     ]
    }
   ],
   "source": [
    "s = [\"dog\",\"racecar\",\"car\"]\n",
    "print(len(min(s,key=len)))"
   ]
  },
  {
   "cell_type": "code",
   "execution_count": 6,
   "metadata": {},
   "outputs": [
    {
     "name": "stdout",
     "output_type": "stream",
     "text": [
      "1\n",
      "False\n",
      "2 14 87 21 83 21\n"
     ]
    }
   ],
   "source": [
    "from queue import Queue\n",
    "p = Queue()\n",
    "p.put(1)\n",
    "# p.put(5)\n",
    "p.put(6)\n",
    "print(p.get())\n",
    "print(p.empty())\n",
    "s='12 38 12 78 41 2'\n",
    "print(s[::-1])"
   ]
  },
  {
   "cell_type": "code",
   "execution_count": 7,
   "metadata": {},
   "outputs": [
    {
     "name": "stdout",
     "output_type": "stream",
     "text": [
      "True\n"
     ]
    }
   ],
   "source": [
    "class TreeNode:\n",
    "    def __init__(self, val=0, left=None, right=None):\n",
    "        self.val = val\n",
    "        self.left = left\n",
    "        self.right = right\n",
    "from queue import Queue\n",
    "class Solution:\n",
    "    def isCompleteTree(self,root: TreeNode) -> list:\n",
    "        p = Queue()\n",
    "        p.put(root)\n",
    "        l = []\n",
    "        l.append(root.val)\n",
    "        while not p.empty():\n",
    "            x = p.get()\n",
    "            if x.left:\n",
    "                p.put(x.left)\n",
    "                l.append(x.left.val)\n",
    "            else:\n",
    "                l.append(None)\n",
    "            if x.right:\n",
    "                p.put(x.right)\n",
    "                l.append(x.right.val)\n",
    "            else:\n",
    "                l.append(None)\n",
    "        for i in range(len(l)-1):\n",
    "            if (l[i]==None) and (l[i+1]!=None):\n",
    "                return False\n",
    "        return True\n",
    "\n",
    "x = Solution()\n",
    "root = TreeNode(4, TreeNode(9,TreeNode(1),None), TreeNode(0))\n",
    "print(x.isCompleteTree(root))"
   ]
  },
  {
   "cell_type": "code",
   "execution_count": 8,
   "metadata": {},
   "outputs": [
    {
     "name": "stdout",
     "output_type": "stream",
     "text": [
      "(1, 4)\n"
     ]
    }
   ],
   "source": [
    "x = .25\n",
    "print(x.as_integer_ratio())\n"
   ]
  },
  {
   "cell_type": "code",
   "execution_count": 9,
   "metadata": {},
   "outputs": [
    {
     "name": "stdout",
     "output_type": "stream",
     "text": [
      "Counter({'lc': 1, 'cl': 1, 'gg': 1})\n",
      "6\n"
     ]
    }
   ],
   "source": [
    "\n",
    "from collections import Counter\n",
    "# st =[\"ab\",\"ty\",\"yt\",\"lc\",\"cl\",\"ab\",'aa','aa',\"ty\",\"yt\",\"ty\"]\n",
    "# st = [\"ab\",\"ty\",\"yt\",\"lc\",\"cl\",\"ab\",\"aa\",\"aa\"]\n",
    "# st = ['aa','aa','aa','bb','bb','bb','ty','yt','yt']\n",
    "st = [\"lc\",\"cl\",\"gg\"]\n",
    "x = Counter(st)\n",
    "print(x)\n",
    "s=0\n",
    "kt = False\n",
    "for i in x:\n",
    "    if i==i[::-1] and x[i]%2==1:\n",
    "        s+=x[i]-1\n",
    "        kt=True\n",
    "    else:\n",
    "        s+=min(x[i],x[i[::-1]])\n",
    "if kt==True:\n",
    "    s+=1\n",
    "print(2*s)\n",
    "l = [1,2,4,2]\n",
    "try:\n",
    "    l.index(1)\n",
    "except:\n",
    "    print(1)\n"
   ]
  },
  {
   "cell_type": "code",
   "execution_count": 10,
   "metadata": {},
   "outputs": [
    {
     "name": "stdout",
     "output_type": "stream",
     "text": [
      "3\n",
      "2\n",
      "4\n"
     ]
    }
   ],
   "source": [
    "s = ['B',\"A\",\"A\",\"A\",\"B\",\"B\"]\n",
    "x =Counter(s)\n",
    "s=t=0\n",
    "for i in x.most_common(1):\n",
    "    s=i[1]\n",
    "for i in x:\n",
    "    if x[i]==s:\n",
    "        t+=1\n",
    "print(s)\n",
    "print(t)\n",
    "print((s-1)*(0+1)+t)\n"
   ]
  },
  {
   "cell_type": "code",
   "execution_count": 11,
   "metadata": {},
   "outputs": [
    {
     "ename": "AttributeError",
     "evalue": "'Solution' object has no attribute 'longestPalindrome'",
     "output_type": "error",
     "traceback": [
      "\u001b[1;31m---------------------------------------------------------------------------\u001b[0m",
      "\u001b[1;31mAttributeError\u001b[0m                            Traceback (most recent call last)",
      "Cell \u001b[1;32mIn[11], line 6\u001b[0m\n\u001b[0;32m      3\u001b[0m         \u001b[39mpass\u001b[39;00m\n\u001b[0;32m      5\u001b[0m x\u001b[39m=\u001b[39m Solution()\n\u001b[1;32m----> 6\u001b[0m \u001b[39mprint\u001b[39m(x\u001b[39m.\u001b[39;49mlongestPalindrome([\u001b[39m\"\u001b[39m\u001b[39mlc\u001b[39m\u001b[39m\"\u001b[39m,\u001b[39m\"\u001b[39m\u001b[39mcl\u001b[39m\u001b[39m\"\u001b[39m,\u001b[39m\"\u001b[39m\u001b[39mgg\u001b[39m\u001b[39m\"\u001b[39m]))\n",
      "\u001b[1;31mAttributeError\u001b[0m: 'Solution' object has no attribute 'longestPalindrome'"
     ]
    }
   ],
   "source": [
    "class Solution:\n",
    "    def leastInterval(self, tasks: list[str], n: int) -> int:\n",
    "        pass\n",
    "            \n",
    "x= Solution()\n",
    "print(x.longestPalindrome([\"lc\",\"cl\",\"gg\"]))"
   ]
  },
  {
   "cell_type": "code",
   "execution_count": null,
   "metadata": {},
   "outputs": [
    {
     "name": "stdout",
     "output_type": "stream",
     "text": [
      "[1, 2, 4, 'gà']\n"
     ]
    }
   ],
   "source": [
    "\n",
    "l = [1,2,4,2,4]\n",
    "l = l[:3]+['gà']\n",
    "print(l)"
   ]
  },
  {
   "cell_type": "code",
   "execution_count": null,
   "metadata": {},
   "outputs": [
    {
     "name": "stdout",
     "output_type": "stream",
     "text": [
      "Hi, im DAt y r , DAt nans DAt hihi DAt\n",
      "['19', '123', '25', '10']\n"
     ]
    }
   ],
   "source": [
    "s = \"Hi, im 19 y r , 123 nans 25 hihi 10\"\n",
    "import re\n",
    "num = re.sub('[0-9]+','DAt',s)\n",
    "numbers = re.findall('[0-9]+',s)\n",
    "print(num)\n",
    "print(numbers)"
   ]
  },
  {
   "cell_type": "code",
   "execution_count": 1,
   "metadata": {},
   "outputs": [
    {
     "name": "stdout",
     "output_type": "stream",
     "text": [
      "HTTP/1.1 200 OK\n",
      "Date: Fri, 05 May 2023 18:06:09 GMT\n",
      "Server: Apache/2.4.18 (Ubuntu)\n",
      "Last-Modified: Sat, 13 May 2017 11:22:22 GMT\n",
      "ETag: \"a7-54f6609245537\"\n",
      "Accept-Ranges: bytes\n",
      "Content-Length: 167\n",
      "Cache-Control: max-age=0, no-cache, no-store, must-revalidate\n",
      "Pragma: no-cache\n",
      "Expires: Wed, 11 Jan 1984 05:00:00 GMT\n",
      "Connection: close\n",
      "Content-Type: text/plain\n",
      "\n",
      "But soft what light through yonder window breaks\n",
      "It is the east and Juliet is the sun\n",
      "Arise fair sun and kill the envious moon\n",
      "Who is already sick and pale with grief\n"
     ]
    }
   ],
   "source": [
    "import socket\n",
    "\n",
    "mysock = socket.socket(socket.AF_INET, socket.SOCK_STREAM)\n",
    "mysock.connect(('data.pr4e.org', 80))\n",
    "cmd = 'GET http://data.pr4e.org/romeo.txt HTTP/1.0\\r\\n\\r\\n'.encode()\n",
    "mysock.send(cmd)\n",
    "\n",
    "while True:\n",
    "    data = mysock.recv(512)\n",
    "    if len(data) < 1:\n",
    "        break\n",
    "    print(data.decode(),end='')\n",
    "mysock.close()"
   ]
  }
 ],
 "metadata": {
  "kernelspec": {
   "display_name": "Python 3",
   "language": "python",
   "name": "python3"
  },
  "language_info": {
   "codemirror_mode": {
    "name": "ipython",
    "version": 3
   },
   "file_extension": ".py",
   "mimetype": "text/x-python",
   "name": "python",
   "nbconvert_exporter": "python",
   "pygments_lexer": "ipython3",
   "version": "3.11.0"
  },
  "orig_nbformat": 4
 },
 "nbformat": 4,
 "nbformat_minor": 2
}
