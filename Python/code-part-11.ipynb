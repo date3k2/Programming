{
 "cells": [
  {
   "cell_type": "code",
   "execution_count": 1,
   "metadata": {},
   "outputs": [
    {
     "name": "stdout",
     "output_type": "stream",
     "text": [
      " 11,212,871,824.1512 \n"
     ]
    }
   ],
   "source": [
    "print(f\" {11212871824.1512:,} \")"
   ]
  },
  {
   "cell_type": "code",
   "execution_count": 2,
   "metadata": {},
   "outputs": [
    {
     "name": "stdout",
     "output_type": "stream",
     "text": [
      "[[1, 2, 3], [1, 2, 4], [1, 2, 5], [1, 3, 4], [1, 3, 5], [1, 4, 5], [2, 3, 4], [2, 3, 5], [2, 4, 5], [3, 4, 5]]\n"
     ]
    }
   ],
   "source": [
    "from itertools import combinations\n",
    "print(list(map(list,combinations(range(1,5+1), 3))))"
   ]
  },
  {
   "cell_type": "code",
   "execution_count": 3,
   "metadata": {},
   "outputs": [],
   "source": [
    "import pandas as pd\n",
    "\n",
    "\n",
    "def find_customers(customers: pd.DataFrame, orders: pd.DataFrame) -> pd.DataFrame:\n",
    "    merged_df = customers.merge(orders, left_on=\"id\", right_on=\"customerId\", how=\"outer\", indicator=True)\n",
    "    merged_df.sort_index\n",
    "    return merged_df.loc[merged_df[\"_merge\"] == \"left_only\", [\"name\"]].rename(columns={\"name\": \"Customers\"})\n"
   ]
  },
  {
   "cell_type": "code",
   "execution_count": 4,
   "metadata": {},
   "outputs": [],
   "source": [
    "def calculate_special_bonus(employees: pd.DataFrame) -> pd.DataFrame:\n",
    "    employees[\"bonus\"] = employees.loc[\n",
    "        (employees[\"employee_id\"] % 2 == 1) & (~employees[\"name\"].str.startswith(\"M\")),\n",
    "        \"salary\",\n",
    "    ]\n",
    "    return employees[[\"employee_id\", \"bonus\"]].fillna(0).sort_values(\"employee_id\")"
   ]
  },
  {
   "cell_type": "code",
   "execution_count": 8,
   "metadata": {},
   "outputs": [
    {
     "name": "stdout",
     "output_type": "stream",
     "text": [
      "CPU times: total: 0 ns\n",
      "Wall time: 0 ns\n"
     ]
    },
    {
     "data": {
      "text/plain": [
       "55"
      ]
     },
     "execution_count": 8,
     "metadata": {},
     "output_type": "execute_result"
    }
   ],
   "source": [
    "from functools import cache\n",
    "\n",
    "@cache\n",
    "def fib(n):\n",
    "    \"\"\"\n",
    "    This function calculates the nth Fibonacci number using recursion and caching.\n",
    "\n",
    "    Args:\n",
    "    - n (int): the index of the Fibonacci number to calculate\n",
    "\n",
    "    Returns:\n",
    "    - int: the nth Fibonacci number\n",
    "    \"\"\"\n",
    "    if n < 2:\n",
    "        return n\n",
    "    return fib(n-1) + fib(n-2)\n",
    "\n",
    "%time fib(10)"
   ]
  },
  {
   "cell_type": "code",
   "execution_count": 30,
   "metadata": {},
   "outputs": [
    {
     "data": {
      "text/plain": [
       "[]"
      ]
     },
     "execution_count": 30,
     "metadata": {},
     "output_type": "execute_result"
    }
   ],
   "source": [
    "from itertools import product\n",
    "class Solution:\n",
    "    def letterCombinations(self, digits: str) -> list[str]:\n",
    "        chars = [\"abc\", \"def\", \"ghi\", \"jkl\", \"mno\", \"pqrs\", \"tuv\", \"wxyz\"]\n",
    "        if not digits:\n",
    "            return []\n",
    "        l = [chars[int(i) - 2] for i in digits]\n",
    "        return list(map(lambda x: ''.join(x), product(*l)))\n",
    "Solution().letterCombinations(\"\")"
   ]
  },
  {
   "cell_type": "code",
   "execution_count": 42,
   "metadata": {},
   "outputs": [],
   "source": [
    "import re\n",
    "pattern = re.compile(r\"[a-zA-Z][a-zA-Z0-9_.-]*@leetcode.com\")\n",
    "pattern.match(\"1h@leetcode.com\")"
   ]
  },
  {
   "cell_type": "code",
   "execution_count": 39,
   "metadata": {},
   "outputs": [],
   "source": [
    "import pandas as pd\n",
    "\n",
    "\n",
    "def valid_emails(users: pd.DataFrame) -> pd.DataFrame:\n",
    "    pattern = re.compile(r\"[a-zA-Z][a-zA-Z0-9_.-]*@leetcode\\.com\")\n",
    "    return users.loc[users[\"mail\"].apply(lambda x: bool(pattern.match(x)))]\n"
   ]
  },
  {
   "cell_type": "code",
   "execution_count": 54,
   "metadata": {},
   "outputs": [
    {
     "name": "stdout",
     "output_type": "stream",
     "text": [
      "1.25\\taha\n"
     ]
    }
   ],
   "source": [
    "x = rf\"{1.248:.2f}\\taha\"\n",
    "print(x)"
   ]
  },
  {
   "cell_type": "code",
   "execution_count": 14,
   "metadata": {},
   "outputs": [
    {
     "data": {
      "text/plain": [
       "2"
      ]
     },
     "execution_count": 14,
     "metadata": {},
     "output_type": "execute_result"
    }
   ],
   "source": [
    "s = \"applepenapple\"\n",
    "s.split(\"apples\")\n",
    "# len('pen'.split('pen'))\n",
    "s.count('apple')"
   ]
  },
  {
   "cell_type": "code",
   "execution_count": 22,
   "metadata": {},
   "outputs": [
    {
     "data": {
      "text/plain": [
       "False"
      ]
     },
     "execution_count": 22,
     "metadata": {},
     "output_type": "execute_result"
    }
   ],
   "source": [
    "class Solution:\n",
    "    def wordBreak(self, s: str, wordDict: list[str]) -> bool:\n",
    "        for word in wordDict:\n",
    "            s = s.split(word)\n",
    "            if len(s) < 2:\n",
    "                return False\n",
    "            s = ''.join(s)\n",
    "        if s:\n",
    "            return False\n",
    "        return True\n",
    "# s = \"catsandog\"\n",
    "# wordDict = [\"cats\",\"dog\",\"sand\",\"and\",\"cat\"]\n",
    "s = \"applepenapple\"\n",
    "wordDict = [\"apple\",\"pen\"]\n",
    "\n",
    "s = \"leetcodehehenohe\"\n",
    "wordDict = [\"leet\",\"code\",\"he\"]\n",
    "Solution().wordBreak(s,wordDict)\n"
   ]
  },
  {
   "cell_type": "code",
   "execution_count": null,
   "metadata": {},
   "outputs": [],
   "source": [
    "class Solution:\n",
    "    def wordBreak(self, s: str, wordDict: set[str]) -> bool:\n",
    "        n = len(s)\n",
    "        dp = [False] * (n + 1)\n",
    "        dp[0] = True\n",
    "        max_len = max(len(w) for w in wordDict)\n",
    "        start = max(0, n - max_len)\n",
    "\n",
    "        for i in range(1, n + 1):\n",
    "            for j in range(i - 1, start - 1, -1):\n",
    "                if dp[j] and s[j:i] in wordDict:\n",
    "                    dp[i] = True\n",
    "                    break\n",
    "            else:\n",
    "                dp[i] = False\n",
    "\n",
    "        return dp[n]"
   ]
  },
  {
   "cell_type": "code",
   "execution_count": 5,
   "metadata": {},
   "outputs": [
    {
     "data": {
      "text/plain": [
       "[<__main__.TreeNode at 0x25e6912b890>,\n",
       " <__main__.TreeNode at 0x25e6912b950>,\n",
       " <__main__.TreeNode at 0x25e69129250>,\n",
       " <__main__.TreeNode at 0x25e690fb710>,\n",
       " <__main__.TreeNode at 0x25e690fa210>]"
      ]
     },
     "execution_count": 5,
     "metadata": {},
     "output_type": "execute_result"
    }
   ],
   "source": [
    "from typing import List, Optional\n",
    "from functools import cache\n",
    "\n",
    "class TreeNode:\n",
    "    def __init__(self, val=0, left=None, right=None):\n",
    "        self.val = val\n",
    "        self.left = left\n",
    "        self.right = right\n",
    "\n",
    "\n",
    "class Solution:\n",
    "    def generateTrees(self, n: int) -> List[Optional[TreeNode]]:\n",
    "        @cache\n",
    "        def generate_trees(l, r):\n",
    "            return (\n",
    "                [None]\n",
    "                if l > r\n",
    "                else [\n",
    "                    TreeNode(val, left, right)\n",
    "                    for val in range(l, r + 1)\n",
    "                    for left in generate_trees(l, val - 1)\n",
    "                    for right in generate_trees(val + 1, r)\n",
    "                ]\n",
    "            )\n",
    "\n",
    "        return generate_trees(1, n)\n",
    "    \n",
    "Solution().generateTrees(3)"
   ]
  },
  {
   "cell_type": "code",
   "execution_count": null,
   "metadata": {},
   "outputs": [],
   "source": [
    "class Solution:\n",
    "    def numMusicPlaylists(self, n: int, goal: int, k: int) -> int:\n",
    "        MOD = 10**9 + 7\n",
    "        # Initialize the DP table\n",
    "        dp = [[0 for _ in range(n + 1)] for _ in range(goal + 1)]\n",
    "        dp[0][0] = 1\n",
    "\n",
    "        for i in range(1, goal + 1):\n",
    "            for j in range(1, min(i, n) + 1):\n",
    "                # The i-th song is a new song\n",
    "                new_song = dp[i - 1][j - 1] * (n - j + 1) % MOD\n",
    "                # The i-th song is a song we have played before\n",
    "                old_song = 0\n",
    "                if j > k:\n",
    "                    old_song = dp[i - 1][j] * (j - k) % MOD\n",
    "                dp[i][j] = (new_song + old_song) % MOD\n",
    "\n",
    "        return dp[goal][n]"
   ]
  }
 ],
 "metadata": {
  "kernelspec": {
   "display_name": ".venv",
   "language": "python",
   "name": "python3"
  },
  "language_info": {
   "codemirror_mode": {
    "name": "ipython",
    "version": 3
   },
   "file_extension": ".py",
   "mimetype": "text/x-python",
   "name": "python",
   "nbconvert_exporter": "python",
   "pygments_lexer": "ipython3",
   "version": "3.11.0"
  },
  "orig_nbformat": 4
 },
 "nbformat": 4,
 "nbformat_minor": 2
}
