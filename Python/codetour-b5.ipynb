{
 "cells": [
  {
   "cell_type": "code",
   "execution_count": 4,
   "metadata": {},
   "outputs": [],
   "source": [
    "import sys\n",
    "sys.stdin = open(r\"C:\\Users\\nguye\\Documents\\Code\\Programming\\C++\\test.inp\", \"r\")\n",
    "sys.stdout = open(r\"C:\\Users\\nguye\\Documents\\Code\\Programming\\C++\\test.out\", \"w\")\n",
    "input = sys.stdin.readline\n",
    "n, m = map(int, input().split())\n",
    "op = input().strip()\n",
    "if op.count(\"-\") == 0:\n",
    "    for _ in range(m):\n",
    "        l, r = map(int, input().split())\n",
    "        print(n - (r - l))\n",
    "else:\n",
    "    for _ in range(m):\n",
    "        l, r = map(int, input().split())\n",
    "        x = maxs = mins = 0\n",
    "        new_op = op[: l - 1] + op[r:]\n",
    "        for i in new_op:\n",
    "            if i == \"-\":\n",
    "                x -= 1\n",
    "            else:\n",
    "                x += 1\n",
    "            maxs = max(maxs, x)\n",
    "            mins = min(mins, x)\n",
    "        print(maxs - mins + 1)"
   ]
  },
  {
   "cell_type": "code",
   "execution_count": 9,
   "metadata": {},
   "outputs": [],
   "source": [
    "import sys\n",
    "import math\n",
    "sys.stdin = open(r\"C:\\Users\\nguye\\Documents\\Code\\Programming\\C++\\test.inp\", \"r\")\n",
    "sys.stdout = open(r\"C:\\Users\\nguye\\Documents\\Code\\Programming\\C++\\test.out\", \"w\")\n",
    "input = sys.stdin.readline\n",
    "t = int(input())\n",
    "for _ in range(t):\n",
    "    n = int(input())\n",
    "    row = int((1 + math.sqrt(8 * n - 7)) / 2)\n",
    "    edge = row * (row - 1) // 2\n",
    "    col = n - edge\n",
    "    print(row, col)"
   ]
  },
  {
   "cell_type": "code",
   "execution_count": null,
   "metadata": {},
   "outputs": [],
   "source": [
    "#include <bits/stdc++.h>\n",
    "using namespace std;\n",
    "\n",
    "int main() {\n",
    "    ios_base::sync_with_stdio(false);\n",
    "    cin.tie(NULL);\n",
    "    cout.tie(NULL);\n",
    "\n",
    "    int n, m;\n",
    "    cin >> n >> m;\n",
    "    string op;\n",
    "    cin >> op;\n",
    "    if (count(op.begin(), op.end(), '-') == 0) {\n",
    "        for (int i = 0; i < m; i++) {\n",
    "            int l, r;\n",
    "            cin >> l >> r;\n",
    "            cout << n - (r - l) << \"\\n\";\n",
    "        }\n",
    "    } else {\n",
    "        for (int i = 0; i < m; i++) {\n",
    "            int l, r;\n",
    "            cin >> l >> r;\n",
    "            int x = 0, maxs = 0, mins = 0;\n",
    "            string new_op = op.substr(0, l - 1) + op.substr(r);\n",
    "            for (char c : new_op) {\n",
    "                if (c == '-') {\n",
    "                    x--;\n",
    "                } else {\n",
    "                    x++;\n",
    "                }\n",
    "                maxs = max(maxs, x);\n",
    "                mins = min(mins, x);\n",
    "            }\n",
    "            cout << maxs - mins + 1 << \"\\n\";\n",
    "        }\n",
    "    }\n",
    "    return 0;\n",
    "}\n"
   ]
  },
  {
   "cell_type": "code",
   "execution_count": 1,
   "metadata": {},
   "outputs": [],
   "source": [
    "adj = ((0,1), (1,0), (0,-1), (-1,0))"
   ]
  },
  {
   "cell_type": "code",
   "execution_count": 4,
   "metadata": {},
   "outputs": [],
   "source": [
    "import numpy as np\n",
    "x = np.random.randint(0,2,(50,40))"
   ]
  },
  {
   "cell_type": "code",
   "execution_count": 7,
   "metadata": {},
   "outputs": [],
   "source": [
    "import pyperclip\n",
    "\n",
    "y = str(list(map(list,x)))\n",
    "pyperclip.copy(y)"
   ]
  },
  {
   "cell_type": "code",
   "execution_count": 8,
   "metadata": {},
   "outputs": [
    {
     "data": {
      "text/plain": [
       "array([[0, 0, 0, 1, 1],\n",
       "       [0, 1, 0, 0, 0],\n",
       "       [1, 1, 1, 1, 0],\n",
       "       [1, 0, 1, 1, 1],\n",
       "       [1, 0, 1, 0, 0],\n",
       "       [0, 1, 1, 0, 1],\n",
       "       [0, 0, 1, 1, 0],\n",
       "       [0, 0, 1, 1, 0],\n",
       "       [1, 0, 0, 1, 0],\n",
       "       [1, 0, 0, 1, 0],\n",
       "       [1, 1, 0, 0, 0],\n",
       "       [0, 1, 0, 1, 1],\n",
       "       [0, 0, 1, 0, 1],\n",
       "       [1, 1, 0, 0, 0],\n",
       "       [1, 0, 0, 1, 1],\n",
       "       [0, 1, 0, 0, 1],\n",
       "       [1, 1, 0, 0, 1],\n",
       "       [0, 0, 1, 1, 1],\n",
       "       [0, 1, 1, 0, 1],\n",
       "       [1, 0, 1, 1, 0],\n",
       "       [0, 0, 1, 0, 0],\n",
       "       [0, 0, 0, 0, 1],\n",
       "       [0, 0, 1, 1, 0]])"
      ]
     },
     "execution_count": 8,
     "metadata": {},
     "output_type": "execute_result"
    }
   ],
   "source": [
    "x"
   ]
  },
  {
   "cell_type": "code",
   "execution_count": 13,
   "metadata": {},
   "outputs": [
    {
     "data": {
      "text/plain": [
       "[[3, 3, 2], [2, 2, 1], [1, 1, 0], [0, 0, 0]]"
      ]
     },
     "execution_count": 13,
     "metadata": {},
     "output_type": "execute_result"
    }
   ],
   "source": [
    "from typing import List\n",
    "from collections import deque\n",
    "\n",
    "\n",
    "class Solution:\n",
    "    def updateMatrix(self, mat: List[List[int]]) -> List[List[int]]:\n",
    "        m = len(mat)\n",
    "        n = len(mat[0])\n",
    "        ans = [[0 for _ in range(n)] for _ in range(m)]\n",
    "        adj = ((0, 1), (1, 0), (0, -1), (-1, 0))\n",
    "        dq = deque()\n",
    "        for i in range(m):\n",
    "            for j in range(n):\n",
    "                if mat[i][j] == 0:\n",
    "                    for r, c in adj:\n",
    "                        if (\n",
    "                            0 <= i + r < m\n",
    "                            and 0 <= j + c < n\n",
    "                            and mat[i + r][j + c] == 1\n",
    "                            and ans[i + r][j + c] == 0\n",
    "                        ):\n",
    "                            ans[i + r][j + c] = 1\n",
    "                            dq.append((i + r, j + c))\n",
    "        while dq:\n",
    "            i, j = dq.popleft()\n",
    "            for r, c in adj:\n",
    "                if (\n",
    "                    0 <= i + r < m\n",
    "                    and 0 <= j + c < n\n",
    "                    and mat[i + r][j + c] == 1\n",
    "                    and ans[i + r][j + c] == 0\n",
    "                ):\n",
    "                    ans[i + r][j + c] = ans[i][j] + 1\n",
    "                    dq.append((i + r, j + c))\n",
    "        return ans\n",
    "\n",
    "\n",
    "mat = [[1, 1], [0, 0]]\n",
    "mat = [[1, 1, 1], [1, 1, 1], [1, 1, 0], [0, 0, 0]]\n",
    "Solution().updateMatrix(mat)"
   ]
  }
 ],
 "metadata": {
  "kernelspec": {
   "display_name": ".venv",
   "language": "python",
   "name": "python3"
  },
  "language_info": {
   "codemirror_mode": {
    "name": "ipython",
    "version": 3
   },
   "file_extension": ".py",
   "mimetype": "text/x-python",
   "name": "python",
   "nbconvert_exporter": "python",
   "pygments_lexer": "ipython3",
   "version": "3.11.0"
  },
  "orig_nbformat": 4
 },
 "nbformat": 4,
 "nbformat_minor": 2
}
