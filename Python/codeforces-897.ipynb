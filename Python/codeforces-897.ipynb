{
 "cells": [
  {
   "cell_type": "code",
   "execution_count": 16,
   "metadata": {},
   "outputs": [],
   "source": [
    "import sys\n",
    "\n",
    "sys.stdin = open(r\"C:\\Users\\nguye\\Documents\\Code\\Programming\\C++\\test.inp\", \"r\")\n",
    "sys.stdout = open(r\"C:\\Users\\nguye\\Documents\\Code\\Programming\\C++\\test.out\", \"w\")\n",
    "input = sys.stdin.readline\n",
    "\n",
    "\n",
    "t = int(input())\n",
    "for _ in range(t):\n",
    "    n = int(input())\n",
    "    a = list(map(int, input().split()))\n",
    "    b = [(a[i], i) for i in range(n)]\n",
    "    ans = [0] * n\n",
    "    b.sort(reverse=True)\n",
    "    for i in range(n):\n",
    "        ans[b[i][1]] = i + 1\n",
    "    print(*ans)"
   ]
  },
  {
   "cell_type": "code",
   "execution_count": 45,
   "metadata": {},
   "outputs": [],
   "source": [
    "import sys\n",
    "\n",
    "sys.stdin = open(r\"C:\\Users\\nguye\\Documents\\Code\\Programming\\C++\\test.inp\", \"r\")\n",
    "sys.stdout = open(r\"C:\\Users\\nguye\\Documents\\Code\\Programming\\C++\\test.out\", \"w\")\n",
    "input = sys.stdin.readline\n",
    "sys.stdout.flush()\n",
    "\n",
    "t = int(input())\n",
    "for _ in range(t):\n",
    "    n = int(input())\n",
    "    s = input().rstrip()\n",
    "    pad = 0\n",
    "    for i in range(n // 2):\n",
    "        if s[i] == s[n - i - 1]:\n",
    "            pad += 2\n",
    "    begin = n - pad\n",
    "    if n % 2:\n",
    "        begin = (begin - 1) // 2\n",
    "        print(\"0\" * begin + \"1\" * (pad + 2) + \"0\" * (n - begin - pad - 1))\n",
    "    else:\n",
    "        begin //= 2\n",
    "        for i in range(n + 1):\n",
    "            if 0 <= i - begin <= pad and (begin - i) % 2 == 0:\n",
    "                print(1, end=\"\")\n",
    "            else:\n",
    "                print(0, end=\"\")\n",
    "        print()"
   ]
  },
  {
   "cell_type": "code",
   "execution_count": 1,
   "metadata": {},
   "outputs": [],
   "source": [
    "import sys\n",
    "\n",
    "input = sys.stdin.readline\n",
    "\n",
    "t = int(input())\n",
    "for _ in range(t):\n",
    "    n = int(input())\n",
    "    s = list(map(int, input().split()))\n",
    "    check = {}\n",
    "    for i in s:\n",
    "        check[i] = 1\n",
    "    g = 0\n",
    "    while check.get(g, 0) == 1:\n",
    "        g += 1\n",
    "    print(g, flush=True)\n",
    "    for _ in range(2 * n + 1):\n",
    "        y = int(input())\n",
    "        if y == -1:\n",
    "            break\n",
    "        else:\n",
    "            print(y, flush=True)"
   ]
  },
  {
   "cell_type": "code",
   "execution_count": 3,
   "metadata": {},
   "outputs": [],
   "source": [
    "from collections import Counter, defaultdict\n",
    "class Solution:\n",
    "    def minDeletions(self, s: str) -> int:\n",
    "        c = Counter(s)\n",
    "        ans = 0\n",
    "        count = defaultdict(int)\n",
    "        for i in c:\n",
    "            if count[c[i]] == 0:\n",
    "                count[c[i]] = 1\n",
    "            else:\n",
    "                t = c[i]\n",
    "                while t>0 and count[t] == 1:\n",
    "                    t-=1\n",
    "                count[t] = 1\n",
    "                ans += c[i] - t\n",
    "        return ans\n",
    "import string\n",
    "s = string.ascii_lowercase\n",
    "import random\n",
    "import pyperclip\n",
    "s = ''.join(random.choice(s) for i in range(10000))\n",
    "pyperclip.copy(s)"
   ]
  },
  {
   "cell_type": "code",
   "execution_count": 15,
   "metadata": {},
   "outputs": [
    {
     "data": {
      "text/plain": [
       "4"
      ]
     },
     "execution_count": 15,
     "metadata": {},
     "output_type": "execute_result"
    }
   ],
   "source": [
    "from typing import List\n",
    "from collections import defaultdict\n",
    "\n",
    "\n",
    "class Solution:\n",
    "    def candy(self, ratings: List[int]) -> int:\n",
    "        n = len(ratings)\n",
    "        adj = defaultdict(list)\n",
    "        check = [0] * n\n",
    "        for i in range(n):\n",
    "            if i > 0 and ratings[i] < ratings[i - 1]:\n",
    "                adj[i].append(i - 1)\n",
    "                check[i - 1] = 1\n",
    "            if i < n - 1 and ratings[i] < ratings[i + 1]:\n",
    "                adj[i].append(i + 1)\n",
    "                check[i + 1] = 1\n",
    "        q = [i for i in range(n) if check[i] == 0]\n",
    "        dis = [float(\"-inf\")] * n\n",
    "        for i in range(n):\n",
    "            if check[i] == 0:\n",
    "                dis[i] = 1\n",
    "        while q:\n",
    "            u = q.pop()\n",
    "            for v in adj[u]:\n",
    "                if dis[v] < dis[u] + 1:\n",
    "                    dis[v] = dis[u] + 1\n",
    "                    q.append(v)\n",
    "        return sum(dis)\n",
    "\n",
    "\n",
    "ratings = [1, 2, 2]\n",
    "Solution().candy(ratings)"
   ]
  },
  {
   "cell_type": "code",
   "execution_count": 1,
   "metadata": {},
   "outputs": [],
   "source": [
    "import pyperclip\n",
    "import numpy as np\n",
    "pyperclip.copy(str(list(np.random.randint(1, 1000, 500))))"
   ]
  },
  {
   "cell_type": "code",
   "execution_count": 9,
   "metadata": {},
   "outputs": [
    {
     "data": {
      "text/plain": [
       "20"
      ]
     },
     "execution_count": 9,
     "metadata": {},
     "output_type": "execute_result"
    }
   ],
   "source": [
    "from typing import List\n",
    "from collections import defaultdict\n",
    "\n",
    "\n",
    "class Solution:\n",
    "    def minCostConnectPoints(self, points: List[List[int]]) -> int:\n",
    "        points.sort()\n",
    "        graph = []\n",
    "        n = len(points)\n",
    "        for i in range(n - 1):\n",
    "            for j in range(i + 1, n):\n",
    "                graph.append(\n",
    "                    (\n",
    "                        i,\n",
    "                        j,\n",
    "                        abs(points[i][0] - points[j][0])\n",
    "                        + abs(points[i][1] - points[j][1]),\n",
    "                    )\n",
    "                )\n",
    "        graph.sort(key=lambda x: x[2])\n",
    "        dsu = DSU(n)\n",
    "        ans = 0\n",
    "        check = 0\n",
    "        for u, v, w in graph:\n",
    "            if dsu.union(u, v):\n",
    "                ans += w\n",
    "                check += 1\n",
    "            if check == n - 1:\n",
    "                break\n",
    "        return ans\n",
    "\n",
    "\n",
    "class DSU:\n",
    "    def __init__(self, n):\n",
    "        self.parent = list(range(n))\n",
    "        self.rank = [0] * n\n",
    "\n",
    "    def find(self, x):\n",
    "        if self.parent[x] == x:\n",
    "            return x\n",
    "        self.parent[x] = self.find(self.parent[x])\n",
    "        return self.parent[x]\n",
    "\n",
    "    def union(self, x, y):\n",
    "        xset, yset = self.find(x), self.find(y)\n",
    "        if xset != yset:\n",
    "            if self.rank[xset] < self.rank[yset]:\n",
    "                self.parent[xset] = yset\n",
    "            else:\n",
    "                self.parent[yset] = xset\n",
    "            if self.rank[xset] == self.rank[yset]:\n",
    "                self.rank[xset] += 1\n",
    "            return True\n",
    "        return False\n",
    "\n",
    "\n",
    "points = [[0, 0], [2, 2], [3, 10], [5, 2], [7, 0]]\n",
    "Solution().minCostConnectPoints(points)"
   ]
  },
  {
   "cell_type": "code",
   "execution_count": 10,
   "metadata": {},
   "outputs": [],
   "source": [
    "import pyperclip\n",
    "import numpy as np\n",
    "pyperclip.copy(str(list(np.random.randint(1, 1000, (500, 2)))))"
   ]
  },
  {
   "cell_type": "code",
   "execution_count": 18,
   "metadata": {},
   "outputs": [],
   "source": [
    "x = str(list(map(list,np.random.randint(-1000, 1000, (500, 2)))))\n",
    "pyperclip.copy(x)"
   ]
  }
 ],
 "metadata": {
  "kernelspec": {
   "display_name": ".venv",
   "language": "python",
   "name": "python3"
  },
  "language_info": {
   "codemirror_mode": {
    "name": "ipython",
    "version": 3
   },
   "file_extension": ".py",
   "mimetype": "text/x-python",
   "name": "python",
   "nbconvert_exporter": "python",
   "pygments_lexer": "ipython3",
   "version": "3.11.0"
  },
  "orig_nbformat": 4
 },
 "nbformat": 4,
 "nbformat_minor": 2
}
