{
 "cells": [
  {
   "cell_type": "code",
   "execution_count": 13,
   "metadata": {},
   "outputs": [],
   "source": [
    "import sys\n",
    "\n",
    "sys.stdin = open(\n",
    "    r\"C:\\Users\\nguye\\Documents\\Code\\Programming\\C++\\test.inp\", \"r\")\n",
    "sys.stdout = open(\n",
    "    r\"C:\\Users\\nguye\\Documents\\Code\\Programming\\C++\\test.out\", \"w\")\n",
    "input = sys.stdin.readline\n",
    "t = int(input())\n",
    "for _ in range(t):\n",
    "    brackets = input().strip()\n",
    "    n = len(brackets)\n",
    "    s1 = '()' * n\n",
    "    s2 = '(' * n + ')' * n\n",
    "    if brackets not in s1:\n",
    "        print('YES\\n' + s1)\n",
    "    elif brackets not in s2:\n",
    "        print('YES\\n' + s2)\n",
    "    else:\n",
    "        print('NO')"
   ]
  },
  {
   "cell_type": "code",
   "execution_count": 42,
   "metadata": {},
   "outputs": [],
   "source": [
    "import sys\n",
    "\n",
    "sys.stdin = open(\n",
    "    r\"C:\\Users\\nguye\\Documents\\Code\\Programming\\C++\\test.inp\", \"r\")\n",
    "sys.stdout = open(\n",
    "    r\"C:\\Users\\nguye\\Documents\\Code\\Programming\\C++\\test.out\", \"w\")\n",
    "input = sys.stdin.readline\n",
    "t = int(input())\n",
    "for _ in range(t):\n",
    "    m, k, a1, ak = map(int, input().split())\n",
    "    if a1 >= m or k * min(m // k, ak) + a1 >= m:\n",
    "        print(0)\n",
    "    else:\n",
    "        s = m - (k * min(m // k, ak) + a1)\n",
    "        mincoin = s // k + s % k\n",
    "        if (s + a1) // k > s // k:\n",
    "            mincoin = min(mincoin, s // k + 1)\n",
    "        print(mincoin)"
   ]
  },
  {
   "cell_type": "code",
   "execution_count": 45,
   "metadata": {},
   "outputs": [],
   "source": [
    "import sys\n",
    "\n",
    "sys.stdin = open(\n",
    "    r\"C:\\Users\\nguye\\Documents\\Code\\Programming\\C++\\test.inp\", \"r\")\n",
    "sys.stdout = open(\n",
    "    r\"C:\\Users\\nguye\\Documents\\Code\\Programming\\C++\\test.out\", \"w\")\n",
    "input = sys.stdin.readline\n",
    "t = int(input())\n",
    "for _ in range(t):\n",
    "    n = int(input())\n",
    "    a = list(map(int, input().split()))\n",
    "    check = all(a[i] > a[i + 1] for i in range(n - 1))\n",
    "    if check:\n",
    "        print(0)\n",
    "    else:\n",
    "        count = 0\n",
    "        if a[0] < a[1]:\n",
    "            count += 1\n",
    "        for i in range(n-1):\n",
    "            if a[i] > a[i+1]:\n",
    "                continue\n",
    "            else:\n",
    "                count += 1\n",
    "        print(count)"
   ]
  },
  {
   "cell_type": "code",
   "execution_count": 7,
   "metadata": {},
   "outputs": [
    {
     "name": "stdout",
     "output_type": "stream",
     "text": [
      "am\n"
     ]
    }
   ],
   "source": [
    "s = input().split()[0]\n",
    "if s in [\"He\", \"She\", \"It\"]:\n",
    "    print(\"is\")\n",
    "elif s in [\"We\", \"You\", \"They\"]:\n",
    "    print(\"are\")\n",
    "elif s == \"I\":\n",
    "    print(\"am\")\n",
    "else:\n",
    "    print(\"is\")"
   ]
  },
  {
   "cell_type": "code",
   "execution_count": 24,
   "metadata": {},
   "outputs": [
    {
     "name": "stdout",
     "output_type": "stream",
     "text": [
      "171\n"
     ]
    }
   ],
   "source": [
    "import sys\n",
    "\n",
    "input = sys.stdin.readline\n",
    "n, k = map(int, input().split())\n",
    "a = list(map(int, input().split()))\n",
    "b = list(map(int, input().split()))\n",
    "ans = max_product = 0\n",
    "for i in range(n):\n",
    "    ans += a[i] * b[i]\n",
    "for i in range(n):\n",
    "    k1 = (\n",
    "        (b[i] + k - a[i]) // 2 if (b[i] + k - a[i]\n",
    "                                   ) // 2 > 0 else (a[i] + k - b[i]) // 2\n",
    "    )\n",
    "    k2 = k - k1\n",
    "    if k1 < 0 or k2 < 0:\n",
    "        max_product = max(max_product, a[i] * k, b[i] * k)\n",
    "    else:\n",
    "        max_product = max(\n",
    "            max_product,\n",
    "            a[i] * k1 + b[i] * k2 + k1 * k2,\n",
    "            a[i] * k2 + b[i] * k1 + k1 * k2,\n",
    "        )\n",
    "print(max_product + ans)"
   ]
  },
  {
   "cell_type": "code",
   "execution_count": 19,
   "metadata": {},
   "outputs": [
    {
     "name": "stdout",
     "output_type": "stream",
     "text": [
      "YES\n",
      "82184618 100000000\n"
     ]
    }
   ],
   "source": [
    "s = float(input())\n",
    "print(\"YES\")\n",
    "print(int(s * 10**8), 10**8)"
   ]
  },
  {
   "cell_type": "code",
   "execution_count": 22,
   "metadata": {},
   "outputs": [
    {
     "data": {
      "text/plain": [
       "'aba'"
      ]
     },
     "execution_count": 22,
     "metadata": {},
     "output_type": "execute_result"
    }
   ],
   "source": [
    "from collections import Counter\n",
    "\n",
    "\n",
    "class Solution:\n",
    "    def reorganizeString(self, s: str) -> str:\n",
    "        counter = Counter(s)\n",
    "        x, y = counter.most_common(1)[0]\n",
    "        ans = [x] * y\n",
    "        del counter[x]\n",
    "        k = 0\n",
    "        for key, val in counter.items():\n",
    "            for _ in range(val):\n",
    "                ans[k % y] += key\n",
    "                k += 1\n",
    "        st = \"\".join(ans)\n",
    "        for i in range(len(st) - 1):\n",
    "            if st[i] == st[i + 1]:\n",
    "                return \"\"\n",
    "        return st\n",
    "\n",
    "\n",
    "s = \"babbaaaacc\"\n",
    "s = \"aab\"\n",
    "# s = \"aaab\"\n",
    "Solution().reorganizeString(s)"
   ]
  }
 ],
 "metadata": {
  "kernelspec": {
   "display_name": ".venv",
   "language": "python",
   "name": "python3"
  },
  "language_info": {
   "codemirror_mode": {
    "name": "ipython",
    "version": 3
   },
   "file_extension": ".py",
   "mimetype": "text/x-python",
   "name": "python",
   "nbconvert_exporter": "python",
   "pygments_lexer": "ipython3",
   "version": "3.11.0"
  },
  "orig_nbformat": 4
 },
 "nbformat": 4,
 "nbformat_minor": 2
}
