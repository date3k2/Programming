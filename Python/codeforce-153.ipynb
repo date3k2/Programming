{
 "cells": [
  {
   "cell_type": "code",
   "execution_count": 1,
   "metadata": {},
   "outputs": [
    {
     "ename": "FileNotFoundError",
     "evalue": "[Errno 2] No such file or directory: 'C:\\\\Users\\\\nguye\\\\Documents\\\\Code\\\\Programming\\\\C++\\\\test.inp'",
     "output_type": "error",
     "traceback": [
      "\u001b[1;31m---------------------------------------------------------------------------\u001b[0m",
      "\u001b[1;31mFileNotFoundError\u001b[0m                         Traceback (most recent call last)",
      "\u001b[1;32mc:\\Users\\nguye\\OneDrive - Hanoi University of Science and Technology\\Documents\\Code\\Programming\\Python\\codeforce-153.ipynb Cell 1\u001b[0m line \u001b[0;36m3\n\u001b[0;32m      <a href='vscode-notebook-cell:/c%3A/Users/nguye/OneDrive%20-%20Hanoi%20University%20of%20Science%20and%20Technology/Documents/Code/Programming/Python/codeforce-153.ipynb#W0sZmlsZQ%3D%3D?line=0'>1</a>\u001b[0m \u001b[39mimport\u001b[39;00m \u001b[39msys\u001b[39;00m\n\u001b[1;32m----> <a href='vscode-notebook-cell:/c%3A/Users/nguye/OneDrive%20-%20Hanoi%20University%20of%20Science%20and%20Technology/Documents/Code/Programming/Python/codeforce-153.ipynb#W0sZmlsZQ%3D%3D?line=2'>3</a>\u001b[0m sys\u001b[39m.\u001b[39mstdin \u001b[39m=\u001b[39m \u001b[39mopen\u001b[39;49m(\n\u001b[0;32m      <a href='vscode-notebook-cell:/c%3A/Users/nguye/OneDrive%20-%20Hanoi%20University%20of%20Science%20and%20Technology/Documents/Code/Programming/Python/codeforce-153.ipynb#W0sZmlsZQ%3D%3D?line=3'>4</a>\u001b[0m     \u001b[39mr\u001b[39;49m\u001b[39m\"\u001b[39;49m\u001b[39mC:\u001b[39;49m\u001b[39m\\\u001b[39;49m\u001b[39mUsers\u001b[39;49m\u001b[39m\\\u001b[39;49m\u001b[39mnguye\u001b[39;49m\u001b[39m\\\u001b[39;49m\u001b[39mDocuments\u001b[39;49m\u001b[39m\\\u001b[39;49m\u001b[39mCode\u001b[39;49m\u001b[39m\\\u001b[39;49m\u001b[39mProgramming\u001b[39;49m\u001b[39m\\\u001b[39;49m\u001b[39mC++\u001b[39;49m\u001b[39m\\\u001b[39;49m\u001b[39mtest.inp\u001b[39;49m\u001b[39m\"\u001b[39;49m, \u001b[39m\"\u001b[39;49m\u001b[39mr\u001b[39;49m\u001b[39m\"\u001b[39;49m)\n\u001b[0;32m      <a href='vscode-notebook-cell:/c%3A/Users/nguye/OneDrive%20-%20Hanoi%20University%20of%20Science%20and%20Technology/Documents/Code/Programming/Python/codeforce-153.ipynb#W0sZmlsZQ%3D%3D?line=4'>5</a>\u001b[0m sys\u001b[39m.\u001b[39mstdout \u001b[39m=\u001b[39m \u001b[39mopen\u001b[39m(\n\u001b[0;32m      <a href='vscode-notebook-cell:/c%3A/Users/nguye/OneDrive%20-%20Hanoi%20University%20of%20Science%20and%20Technology/Documents/Code/Programming/Python/codeforce-153.ipynb#W0sZmlsZQ%3D%3D?line=5'>6</a>\u001b[0m     \u001b[39mr\u001b[39m\u001b[39m\"\u001b[39m\u001b[39mC:\u001b[39m\u001b[39m\\\u001b[39m\u001b[39mUsers\u001b[39m\u001b[39m\\\u001b[39m\u001b[39mnguye\u001b[39m\u001b[39m\\\u001b[39m\u001b[39mDocuments\u001b[39m\u001b[39m\\\u001b[39m\u001b[39mCode\u001b[39m\u001b[39m\\\u001b[39m\u001b[39mProgramming\u001b[39m\u001b[39m\\\u001b[39m\u001b[39mC++\u001b[39m\u001b[39m\\\u001b[39m\u001b[39mtest.out\u001b[39m\u001b[39m\"\u001b[39m, \u001b[39m\"\u001b[39m\u001b[39mw\u001b[39m\u001b[39m\"\u001b[39m)\n\u001b[0;32m      <a href='vscode-notebook-cell:/c%3A/Users/nguye/OneDrive%20-%20Hanoi%20University%20of%20Science%20and%20Technology/Documents/Code/Programming/Python/codeforce-153.ipynb#W0sZmlsZQ%3D%3D?line=6'>7</a>\u001b[0m \u001b[39minput\u001b[39m \u001b[39m=\u001b[39m sys\u001b[39m.\u001b[39mstdin\u001b[39m.\u001b[39mreadline\n",
      "File \u001b[1;32mc:\\Users\\nguye\\OneDrive - Hanoi University of Science and Technology\\Documents\\Code\\Programming\\.venv\\Lib\\site-packages\\IPython\\core\\interactiveshell.py:284\u001b[0m, in \u001b[0;36m_modified_open\u001b[1;34m(file, *args, **kwargs)\u001b[0m\n\u001b[0;32m    277\u001b[0m \u001b[39mif\u001b[39;00m file \u001b[39min\u001b[39;00m {\u001b[39m0\u001b[39m, \u001b[39m1\u001b[39m, \u001b[39m2\u001b[39m}:\n\u001b[0;32m    278\u001b[0m     \u001b[39mraise\u001b[39;00m \u001b[39mValueError\u001b[39;00m(\n\u001b[0;32m    279\u001b[0m         \u001b[39mf\u001b[39m\u001b[39m\"\u001b[39m\u001b[39mIPython won\u001b[39m\u001b[39m'\u001b[39m\u001b[39mt let you open fd=\u001b[39m\u001b[39m{\u001b[39;00mfile\u001b[39m}\u001b[39;00m\u001b[39m by default \u001b[39m\u001b[39m\"\u001b[39m\n\u001b[0;32m    280\u001b[0m         \u001b[39m\"\u001b[39m\u001b[39mas it is likely to crash IPython. If you know what you are doing, \u001b[39m\u001b[39m\"\u001b[39m\n\u001b[0;32m    281\u001b[0m         \u001b[39m\"\u001b[39m\u001b[39myou can use builtins\u001b[39m\u001b[39m'\u001b[39m\u001b[39m open.\u001b[39m\u001b[39m\"\u001b[39m\n\u001b[0;32m    282\u001b[0m     )\n\u001b[1;32m--> 284\u001b[0m \u001b[39mreturn\u001b[39;00m io_open(file, \u001b[39m*\u001b[39;49margs, \u001b[39m*\u001b[39;49m\u001b[39m*\u001b[39;49mkwargs)\n",
      "\u001b[1;31mFileNotFoundError\u001b[0m: [Errno 2] No such file or directory: 'C:\\\\Users\\\\nguye\\\\Documents\\\\Code\\\\Programming\\\\C++\\\\test.inp'"
     ]
    }
   ],
   "source": [
    "import sys\n",
    "\n",
    "sys.stdin = open(\n",
    "    r\"C:\\Users\\nguye\\Documents\\Code\\Programming\\C++\\test.inp\", \"r\")\n",
    "sys.stdout = open(\n",
    "    r\"C:\\Users\\nguye\\Documents\\Code\\Programming\\C++\\test.out\", \"w\")\n",
    "input = sys.stdin.readline\n",
    "t = int(input())\n",
    "for _ in range(t):\n",
    "    brackets = input().strip()\n",
    "    n = len(brackets)\n",
    "    s1 = '()' * n\n",
    "    s2 = '(' * n + ')' * n\n",
    "    if brackets not in s1:\n",
    "        print('YES\\n' + s1)\n",
    "    elif brackets not in s2:\n",
    "        print('YES\\n' + s2)\n",
    "    else:\n",
    "        print('NO')"
   ]
  },
  {
   "cell_type": "code",
   "execution_count": 42,
   "metadata": {},
   "outputs": [],
   "source": [
    "import sys\n",
    "\n",
    "sys.stdin = open(\n",
    "    r\"C:\\Users\\nguye\\Documents\\Code\\Programming\\C++\\test.inp\", \"r\")\n",
    "sys.stdout = open(\n",
    "    r\"C:\\Users\\nguye\\Documents\\Code\\Programming\\C++\\test.out\", \"w\")\n",
    "input = sys.stdin.readline\n",
    "t = int(input())\n",
    "for _ in range(t):\n",
    "    m, k, a1, ak = map(int, input().split())\n",
    "    if a1 >= m or k * min(m // k, ak) + a1 >= m:\n",
    "        print(0)\n",
    "    else:\n",
    "        s = m - (k * min(m // k, ak) + a1)\n",
    "        mincoin = s // k + s % k\n",
    "        if (s + a1) // k > s // k:\n",
    "            mincoin = min(mincoin, s // k + 1)\n",
    "        print(mincoin)"
   ]
  },
  {
   "cell_type": "code",
   "execution_count": 45,
   "metadata": {},
   "outputs": [],
   "source": [
    "import sys\n",
    "\n",
    "sys.stdin = open(\n",
    "    r\"C:\\Users\\nguye\\Documents\\Code\\Programming\\C++\\test.inp\", \"r\")\n",
    "sys.stdout = open(\n",
    "    r\"C:\\Users\\nguye\\Documents\\Code\\Programming\\C++\\test.out\", \"w\")\n",
    "input = sys.stdin.readline\n",
    "t = int(input())\n",
    "for _ in range(t):\n",
    "    n = int(input())\n",
    "    a = list(map(int, input().split()))\n",
    "    check = all(a[i] > a[i + 1] for i in range(n - 1))\n",
    "    if check:\n",
    "        print(0)\n",
    "    else:\n",
    "        count = 0\n",
    "        if a[0] < a[1]:\n",
    "            count += 1\n",
    "        for i in range(n-1):\n",
    "            if a[i] > a[i+1]:\n",
    "                continue\n",
    "            else:\n",
    "                count += 1\n",
    "        print(count)"
   ]
  },
  {
   "cell_type": "code",
   "execution_count": 7,
   "metadata": {},
   "outputs": [
    {
     "name": "stdout",
     "output_type": "stream",
     "text": [
      "am\n"
     ]
    }
   ],
   "source": [
    "s = input().split()[0]\n",
    "if s in [\"He\", \"She\", \"It\"]:\n",
    "    print(\"is\")\n",
    "elif s in [\"We\", \"You\", \"They\"]:\n",
    "    print(\"are\")\n",
    "elif s == \"I\":\n",
    "    print(\"am\")\n",
    "else:\n",
    "    print(\"is\")"
   ]
  },
  {
   "cell_type": "code",
   "execution_count": 24,
   "metadata": {},
   "outputs": [
    {
     "name": "stdout",
     "output_type": "stream",
     "text": [
      "171\n"
     ]
    }
   ],
   "source": [
    "import sys\n",
    "\n",
    "input = sys.stdin.readline\n",
    "n, k = map(int, input().split())\n",
    "a = list(map(int, input().split()))\n",
    "b = list(map(int, input().split()))\n",
    "ans = max_product = 0\n",
    "for i in range(n):\n",
    "    ans += a[i] * b[i]\n",
    "for i in range(n):\n",
    "    k1 = (\n",
    "        (b[i] + k - a[i]) // 2 if (b[i] + k - a[i]\n",
    "                                   ) // 2 > 0 else (a[i] + k - b[i]) // 2\n",
    "    )\n",
    "    k2 = k - k1\n",
    "    if k1 < 0 or k2 < 0:\n",
    "        max_product = max(max_product, a[i] * k, b[i] * k)\n",
    "    else:\n",
    "        max_product = max(\n",
    "            max_product,\n",
    "            a[i] * k1 + b[i] * k2 + k1 * k2,\n",
    "            a[i] * k2 + b[i] * k1 + k1 * k2,\n",
    "        )\n",
    "print(max_product + ans)"
   ]
  },
  {
   "cell_type": "code",
   "execution_count": 19,
   "metadata": {},
   "outputs": [
    {
     "name": "stdout",
     "output_type": "stream",
     "text": [
      "YES\n",
      "82184618 100000000\n"
     ]
    }
   ],
   "source": [
    "s = float(input())\n",
    "print(\"YES\")\n",
    "print(int(s * 10**8), 10**8)"
   ]
  },
  {
   "cell_type": "code",
   "execution_count": 22,
   "metadata": {},
   "outputs": [
    {
     "data": {
      "text/plain": [
       "'aba'"
      ]
     },
     "execution_count": 22,
     "metadata": {},
     "output_type": "execute_result"
    }
   ],
   "source": [
    "from collections import Counter\n",
    "\n",
    "\n",
    "class Solution:\n",
    "    def reorganizeString(self, s: str) -> str:\n",
    "        counter = Counter(s)\n",
    "        x, y = counter.most_common(1)[0]\n",
    "        ans = [x] * y\n",
    "        del counter[x]\n",
    "        k = 0\n",
    "        for key, val in counter.items():\n",
    "            for _ in range(val):\n",
    "                ans[k % y] += key\n",
    "                k += 1\n",
    "        st = \"\".join(ans)\n",
    "        for i in range(len(st) - 1):\n",
    "            if st[i] == st[i + 1]:\n",
    "                return \"\"\n",
    "        return st\n",
    "\n",
    "\n",
    "s = \"babbaaaacc\"\n",
    "s = \"aab\"\n",
    "# s = \"aaab\"\n",
    "Solution().reorganizeString(s)"
   ]
  }
 ],
 "metadata": {
  "kernelspec": {
   "display_name": ".venv",
   "language": "python",
   "name": "python3"
  },
  "language_info": {
   "codemirror_mode": {
    "name": "ipython",
    "version": 3
   },
   "file_extension": ".py",
   "mimetype": "text/x-python",
   "name": "python",
   "nbconvert_exporter": "python",
   "pygments_lexer": "ipython3",
   "version": "3.11.0"
  },
  "orig_nbformat": 4
 },
 "nbformat": 4,
 "nbformat_minor": 2
}
