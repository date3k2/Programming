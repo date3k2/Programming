{
 "cells": [
  {
   "cell_type": "code",
   "execution_count": 13,
   "metadata": {},
   "outputs": [],
   "source": [
    "import sys\n",
    "\n",
    "sys.stdin = open(r\"C:\\Users\\nguye\\Documents\\Code\\Programming\\C++\\test.inp\", \"r\")\n",
    "sys.stdout = open(r\"C:\\Users\\nguye\\Documents\\Code\\Programming\\C++\\test.out\", \"w\")\n",
    "input = sys.stdin.readline\n",
    "t = int(input())\n",
    "for _ in range(t):\n",
    "    brackets = input().strip()\n",
    "    n = len(brackets)\n",
    "    s1 = '()' * n\n",
    "    s2 = '(' * n + ')' * n\n",
    "    if brackets not in s1:\n",
    "        print('YES\\n' + s1)\n",
    "    elif brackets not in s2:\n",
    "        print('YES\\n' + s2)\n",
    "    else:\n",
    "        print('NO')\n",
    "\n"
   ]
  },
  {
   "cell_type": "code",
   "execution_count": 42,
   "metadata": {},
   "outputs": [],
   "source": [
    "import sys\n",
    "\n",
    "sys.stdin = open(r\"C:\\Users\\nguye\\Documents\\Code\\Programming\\C++\\test.inp\", \"r\")\n",
    "sys.stdout = open(r\"C:\\Users\\nguye\\Documents\\Code\\Programming\\C++\\test.out\", \"w\")\n",
    "input = sys.stdin.readline\n",
    "t = int(input())\n",
    "for _ in range(t):\n",
    "    m, k, a1, ak = map(int, input().split())\n",
    "    if a1 >= m or k * min(m // k, ak) + a1 >= m:\n",
    "        print(0)\n",
    "    else:\n",
    "        s = m - (k * min(m // k, ak) + a1)\n",
    "        mincoin = s // k + s % k\n",
    "        if (s + a1) // k > s // k:\n",
    "            mincoin = min(mincoin, s // k + 1)\n",
    "        print(mincoin)"
   ]
  },
  {
   "cell_type": "code",
   "execution_count": 45,
   "metadata": {},
   "outputs": [],
   "source": [
    "import sys\n",
    "\n",
    "sys.stdin = open(r\"C:\\Users\\nguye\\Documents\\Code\\Programming\\C++\\test.inp\", \"r\")\n",
    "sys.stdout = open(r\"C:\\Users\\nguye\\Documents\\Code\\Programming\\C++\\test.out\", \"w\")\n",
    "input = sys.stdin.readline\n",
    "t = int(input())\n",
    "for _ in range(t):\n",
    "    n = int(input())\n",
    "    a = list(map(int, input().split()))\n",
    "    check = all(a[i] > a[i + 1] for i in range(n - 1))\n",
    "    if check:\n",
    "        print(0)\n",
    "    else:\n",
    "        count = 0\n",
    "        if a[0] < a[1]:\n",
    "            count += 1\n",
    "        for i in range(n-1):\n",
    "            if a[i] > a[i+1]:\n",
    "                continue\n",
    "            else:\n",
    "                count+=1\n",
    "        print(count)\n"
   ]
  }
 ],
 "metadata": {
  "kernelspec": {
   "display_name": ".venv",
   "language": "python",
   "name": "python3"
  },
  "language_info": {
   "codemirror_mode": {
    "name": "ipython",
    "version": 3
   },
   "file_extension": ".py",
   "mimetype": "text/x-python",
   "name": "python",
   "nbconvert_exporter": "python",
   "pygments_lexer": "ipython3",
   "version": "3.11.0"
  },
  "orig_nbformat": 4
 },
 "nbformat": 4,
 "nbformat_minor": 2
}
