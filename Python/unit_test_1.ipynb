{
 "cells": [
  {
   "cell_type": "code",
   "execution_count": 108,
   "metadata": {},
   "outputs": [],
   "source": [
    "import sys\n",
    "\n",
    "sys.stdin = open(r\"C:\\Users\\nguye\\Documents\\Code\\Programming\\C++\\test.inp\", \"r\")\n",
    "sys.stdout = open(r\"C:\\Users\\nguye\\Documents\\Code\\Programming\\C++\\test.out\", \"w\")\n",
    "input = sys.stdin.readline\n",
    "t = int(input())\n",
    "for _ in range(t):\n",
    "    n, m, d = map(int, input().split())\n",
    "    a = list(map(int, input().split()))\n",
    "    seller = 0\n",
    "    pre = 1\n",
    "    count = 1\n",
    "    x = [1]\n",
    "    for i in range(m):\n",
    "        count += (a[i] - pre) // d + bool((a[i] - pre) % d)\n",
    "        pre = a[i]\n",
    "        x.append(count)\n",
    "    count += (n - pre) // d\n",
    "    x.append(count)\n",
    "    pre = 1\n",
    "    a.append(n)\n",
    "    mark = 0\n",
    "    for i in range(m):\n",
    "        temp = (\n",
    "            x[i] + (a[i + 1] - pre) // d + bool((a[i + 1] - pre) % d)\n",
    "            if i != m - 1\n",
    "            else x[i] + (a[i + 1] - pre) // d\n",
    "        )\n",
    "        pre = a[i]\n",
    "        if temp < x[i + 2]:\n",
    "            mark = 1\n",
    "            seller +=1\n",
    "    if mark == 0:\n",
    "        print(count, m)\n",
    "    else:\n",
    "        print(count - 1, seller)"
   ]
  },
  {
   "cell_type": "code",
   "execution_count": 25,
   "metadata": {},
   "outputs": [
    {
     "data": {
      "text/plain": [
       "[3, 3, 5, 5, 6, 7]"
      ]
     },
     "execution_count": 25,
     "metadata": {},
     "output_type": "execute_result"
    }
   ],
   "source": [
    "from typing import List\n",
    "from collections import deque\n",
    "\n",
    "\n",
    "class Solution:\n",
    "    def maxSlidingWindow(self, nums: List[int], k: int) -> List[int]:\n",
    "        dq = deque()\n",
    "        windows = []\n",
    "        for i in range(len(nums)):\n",
    "            # Remove elements less or equal nums[i]\n",
    "            while dq and nums[dq[-1]] <= nums[i]:\n",
    "                dq.pop()\n",
    "            dq.append(i)\n",
    "            # Remove element if it's not in calculated range\n",
    "            if dq[0] + k <= i:\n",
    "                dq.popleft()\n",
    "            # Add max element to the answer\n",
    "            if i >= k - 1:\n",
    "                windows.append(nums[dq[0]])\n",
    "        return windows\n",
    "\n",
    "\n",
    "nums = [1, 3, -1, -3, 5, 3, 6, 7]\n",
    "k = 3\n",
    "Solution().maxSlidingWindow(nums, k)"
   ]
  }
 ],
 "metadata": {
  "kernelspec": {
   "display_name": ".venv",
   "language": "python",
   "name": "python3"
  },
  "language_info": {
   "codemirror_mode": {
    "name": "ipython",
    "version": 3
   },
   "file_extension": ".py",
   "mimetype": "text/x-python",
   "name": "python",
   "nbconvert_exporter": "python",
   "pygments_lexer": "ipython3",
   "version": "3.11.0"
  },
  "orig_nbformat": 4
 },
 "nbformat": 4,
 "nbformat_minor": 2
}
