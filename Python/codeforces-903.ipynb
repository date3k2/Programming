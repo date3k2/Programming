{
 "cells": [
  {
   "cell_type": "code",
   "execution_count": 6,
   "metadata": {},
   "outputs": [],
   "source": [
    "import sys\n",
    "\n",
    "sys.stdin = open(\n",
    "    r\"C:\\Users\\nguye\\Documents\\Code\\Programming\\C++\\test.inp\", \"r\")\n",
    "sys.stdout = open(\n",
    "    r\"C:\\Users\\nguye\\Documents\\Code\\Programming\\C++\\test.out\", \"w\")\n",
    "input = sys.stdin.readline\n",
    "t = int(input())\n",
    "for _ in range(t):\n",
    "    n, m = map(int, input().split())\n",
    "    x = input().rstrip()\n",
    "    s = input().rstrip()\n",
    "    count = 0\n",
    "    while x.find(s) == -1:\n",
    "        x += x\n",
    "        count += 1\n",
    "        if count > 6:\n",
    "            count = -1\n",
    "            break\n",
    "    print(count)"
   ]
  },
  {
   "cell_type": "code",
   "execution_count": 2,
   "metadata": {},
   "outputs": [],
   "source": [
    "import sys\n",
    "from math import gcd\n",
    "\n",
    "sys.stdin = open(\n",
    "    r\"C:\\Users\\nguye\\Documents\\Code\\Programming\\C++\\test.inp\", \"r\")\n",
    "sys.stdout = open(\n",
    "    r\"C:\\Users\\nguye\\Documents\\Code\\Programming\\C++\\test.out\", \"w\")\n",
    "input = sys.stdin.readline\n",
    "t = int(input())\n",
    "for _ in range(t):\n",
    "    a, b, c = map(int, input().split())\n",
    "    x = gcd(a, b, c)\n",
    "    count = a // x + b // x + c // x - 3\n",
    "    print(\"YES\" if count <= 3 else \"NO\")"
   ]
  },
  {
   "cell_type": "code",
   "execution_count": 37,
   "metadata": {},
   "outputs": [],
   "source": [
    "import sys\n",
    "from collections import defaultdict\n",
    "\n",
    "\n",
    "class ToPrime:\n",
    "    def __init__(self) -> None:\n",
    "        self.prime = [0] * 1000002\n",
    "        self.sieve()\n",
    "        self.pr = defaultdict(int)\n",
    "\n",
    "    def sieve(self, n=1000001):\n",
    "        self.prime[1] = 1\n",
    "        for i in range(2, n + 1):\n",
    "            if self.prime[i] == 0:\n",
    "                self.prime[i] = i\n",
    "                for j in range(i * i, n + 1, i):\n",
    "                    if self.prime[j] == 0:\n",
    "                        self.prime[j] = i\n",
    "\n",
    "    def factorize(self, n):\n",
    "        while n != 1:\n",
    "            self.pr[self.prime[n]] += 1\n",
    "            n //= self.prime[n]\n",
    "\n",
    "\n",
    "sys.stdin = open(r\"C:\\Users\\nguye\\Documents\\Code\\Programming\\C++\\test.inp\", \"r\")\n",
    "sys.stdout = open(r\"C:\\Users\\nguye\\Documents\\Code\\Programming\\C++\\test.out\", \"w\")\n",
    "input = sys.stdin.readline\n",
    "\n",
    "t = int(input())\n",
    "fm = ToPrime()\n",
    "for _ in range(t):\n",
    "    n = int(input())\n",
    "    a = list(map(int, input().split()))\n",
    "    for i in a:\n",
    "        fm.factorize(i)\n",
    "    for i in fm.pr:\n",
    "        if fm.pr[i] % n != 0:\n",
    "            print(\"NO\")\n",
    "            break\n",
    "    else:\n",
    "        print(\"YES\")\n",
    "    fm.pr.clear()"
   ]
  },
  {
   "cell_type": "code",
   "execution_count": null,
   "metadata": {},
   "outputs": [],
   "source": [
    "print()"
   ]
  }
 ],
 "metadata": {
  "kernelspec": {
   "display_name": ".venv",
   "language": "python",
   "name": "python3"
  },
  "language_info": {
   "codemirror_mode": {
    "name": "ipython",
    "version": 3
   },
   "file_extension": ".py",
   "mimetype": "text/x-python",
   "name": "python",
   "nbconvert_exporter": "python",
   "pygments_lexer": "ipython3",
   "version": "3.11.0"
  }
 },
 "nbformat": 4,
 "nbformat_minor": 2
}
