{
 "cells": [
  {
   "cell_type": "code",
   "execution_count": 3,
   "metadata": {},
   "outputs": [
    {
     "data": {
      "application/vnd.plotly.v1+json": {
       "config": {
        "plotlyServerURL": "https://plot.ly"
       },
       "data": [
        {
         "fill": "toself",
         "fillcolor": "rgb(132, 248, 207)",
         "hoverinfo": "name",
         "legendgroup": "rgb(132, 248, 207)",
         "mode": "none",
         "name": "Job1",
         "type": "scatter",
         "x": [
          "2016-01-01 6:00:01",
          "2016-01-01 6:00:04",
          "2016-01-01 6:00:04",
          "2016-01-01 6:00:01",
          "2016-01-01 6:00:01",
          "2016-01-01 6:00:04",
          "2016-01-01 6:00:06",
          "2016-01-01 6:00:06",
          "2016-01-01 6:00:04"
         ],
         "y": [
          0.8,
          0.8,
          1.2,
          1.2,
          null,
          -0.2,
          -0.2,
          0.2,
          0.2
         ]
        },
        {
         "fill": "toself",
         "fillcolor": "rgb(155, 244, 183)",
         "hoverinfo": "name",
         "legendgroup": "rgb(155, 244, 183)",
         "mode": "none",
         "name": "Job2",
         "type": "scatter",
         "x": [
          "2016-01-01 6:00:00",
          "2016-01-01 6:00:01",
          "2016-01-01 6:00:01",
          "2016-01-01 6:00:00",
          "2016-01-01 6:00:00",
          "2016-01-01 6:00:01",
          "2016-01-01 6:00:04",
          "2016-01-01 6:00:04",
          "2016-01-01 6:00:01"
         ],
         "y": [
          0.8,
          0.8,
          1.2,
          1.2,
          null,
          -0.2,
          -0.2,
          0.2,
          0.2
         ]
        },
        {
         "fill": "toself",
         "fillcolor": "rgb(197, 215, 20)",
         "hoverinfo": "name",
         "legendgroup": "rgb(197, 215, 20)",
         "mode": "none",
         "name": "Job0",
         "type": "scatter",
         "x": [
          "2016-01-01 6:00:04",
          "2016-01-01 6:00:06",
          "2016-01-01 6:00:06",
          "2016-01-01 6:00:04",
          "2016-01-01 6:00:04",
          "2016-01-01 6:00:06",
          "2016-01-01 6:00:07",
          "2016-01-01 6:00:07",
          "2016-01-01 6:00:06"
         ],
         "y": [
          0.8,
          0.8,
          1.2,
          1.2,
          null,
          -0.2,
          -0.2,
          0.2,
          0.2
         ]
        },
        {
         "legendgroup": "rgb(132, 248, 207)",
         "marker": {
          "color": "rgb(132, 248, 207)",
          "opacity": 0,
          "size": 1
         },
         "mode": "markers",
         "name": "",
         "showlegend": false,
         "text": [
          null,
          null,
          null,
          null
         ],
         "type": "scatter",
         "x": [
          "2016-01-01 6:00:01",
          "2016-01-01 6:00:04",
          "2016-01-01 6:00:04",
          "2016-01-01 6:00:06"
         ],
         "y": [
          1,
          1,
          0,
          0
         ]
        },
        {
         "legendgroup": "rgb(155, 244, 183)",
         "marker": {
          "color": "rgb(155, 244, 183)",
          "opacity": 0,
          "size": 1
         },
         "mode": "markers",
         "name": "",
         "showlegend": false,
         "text": [
          null,
          null,
          null,
          null
         ],
         "type": "scatter",
         "x": [
          "2016-01-01 6:00:00",
          "2016-01-01 6:00:01",
          "2016-01-01 6:00:01",
          "2016-01-01 6:00:04"
         ],
         "y": [
          1,
          1,
          0,
          0
         ]
        },
        {
         "legendgroup": "rgb(197, 215, 20)",
         "marker": {
          "color": "rgb(197, 215, 20)",
          "opacity": 0,
          "size": 1
         },
         "mode": "markers",
         "name": "",
         "showlegend": false,
         "text": [
          null,
          null,
          null,
          null
         ],
         "type": "scatter",
         "x": [
          "2016-01-01 6:00:04",
          "2016-01-01 6:00:06",
          "2016-01-01 6:00:06",
          "2016-01-01 6:00:07"
         ],
         "y": [
          1,
          1,
          0,
          0
         ]
        }
       ],
       "layout": {
        "height": 600,
        "hovermode": "closest",
        "showlegend": false,
        "template": {
         "data": {
          "bar": [
           {
            "error_x": {
             "color": "#2a3f5f"
            },
            "error_y": {
             "color": "#2a3f5f"
            },
            "marker": {
             "line": {
              "color": "#E5ECF6",
              "width": 0.5
             },
             "pattern": {
              "fillmode": "overlay",
              "size": 10,
              "solidity": 0.2
             }
            },
            "type": "bar"
           }
          ],
          "barpolar": [
           {
            "marker": {
             "line": {
              "color": "#E5ECF6",
              "width": 0.5
             },
             "pattern": {
              "fillmode": "overlay",
              "size": 10,
              "solidity": 0.2
             }
            },
            "type": "barpolar"
           }
          ],
          "carpet": [
           {
            "aaxis": {
             "endlinecolor": "#2a3f5f",
             "gridcolor": "white",
             "linecolor": "white",
             "minorgridcolor": "white",
             "startlinecolor": "#2a3f5f"
            },
            "baxis": {
             "endlinecolor": "#2a3f5f",
             "gridcolor": "white",
             "linecolor": "white",
             "minorgridcolor": "white",
             "startlinecolor": "#2a3f5f"
            },
            "type": "carpet"
           }
          ],
          "choropleth": [
           {
            "colorbar": {
             "outlinewidth": 0,
             "ticks": ""
            },
            "type": "choropleth"
           }
          ],
          "contour": [
           {
            "colorbar": {
             "outlinewidth": 0,
             "ticks": ""
            },
            "colorscale": [
             [
              0,
              "#0d0887"
             ],
             [
              0.1111111111111111,
              "#46039f"
             ],
             [
              0.2222222222222222,
              "#7201a8"
             ],
             [
              0.3333333333333333,
              "#9c179e"
             ],
             [
              0.4444444444444444,
              "#bd3786"
             ],
             [
              0.5555555555555556,
              "#d8576b"
             ],
             [
              0.6666666666666666,
              "#ed7953"
             ],
             [
              0.7777777777777778,
              "#fb9f3a"
             ],
             [
              0.8888888888888888,
              "#fdca26"
             ],
             [
              1,
              "#f0f921"
             ]
            ],
            "type": "contour"
           }
          ],
          "contourcarpet": [
           {
            "colorbar": {
             "outlinewidth": 0,
             "ticks": ""
            },
            "type": "contourcarpet"
           }
          ],
          "heatmap": [
           {
            "colorbar": {
             "outlinewidth": 0,
             "ticks": ""
            },
            "colorscale": [
             [
              0,
              "#0d0887"
             ],
             [
              0.1111111111111111,
              "#46039f"
             ],
             [
              0.2222222222222222,
              "#7201a8"
             ],
             [
              0.3333333333333333,
              "#9c179e"
             ],
             [
              0.4444444444444444,
              "#bd3786"
             ],
             [
              0.5555555555555556,
              "#d8576b"
             ],
             [
              0.6666666666666666,
              "#ed7953"
             ],
             [
              0.7777777777777778,
              "#fb9f3a"
             ],
             [
              0.8888888888888888,
              "#fdca26"
             ],
             [
              1,
              "#f0f921"
             ]
            ],
            "type": "heatmap"
           }
          ],
          "heatmapgl": [
           {
            "colorbar": {
             "outlinewidth": 0,
             "ticks": ""
            },
            "colorscale": [
             [
              0,
              "#0d0887"
             ],
             [
              0.1111111111111111,
              "#46039f"
             ],
             [
              0.2222222222222222,
              "#7201a8"
             ],
             [
              0.3333333333333333,
              "#9c179e"
             ],
             [
              0.4444444444444444,
              "#bd3786"
             ],
             [
              0.5555555555555556,
              "#d8576b"
             ],
             [
              0.6666666666666666,
              "#ed7953"
             ],
             [
              0.7777777777777778,
              "#fb9f3a"
             ],
             [
              0.8888888888888888,
              "#fdca26"
             ],
             [
              1,
              "#f0f921"
             ]
            ],
            "type": "heatmapgl"
           }
          ],
          "histogram": [
           {
            "marker": {
             "pattern": {
              "fillmode": "overlay",
              "size": 10,
              "solidity": 0.2
             }
            },
            "type": "histogram"
           }
          ],
          "histogram2d": [
           {
            "colorbar": {
             "outlinewidth": 0,
             "ticks": ""
            },
            "colorscale": [
             [
              0,
              "#0d0887"
             ],
             [
              0.1111111111111111,
              "#46039f"
             ],
             [
              0.2222222222222222,
              "#7201a8"
             ],
             [
              0.3333333333333333,
              "#9c179e"
             ],
             [
              0.4444444444444444,
              "#bd3786"
             ],
             [
              0.5555555555555556,
              "#d8576b"
             ],
             [
              0.6666666666666666,
              "#ed7953"
             ],
             [
              0.7777777777777778,
              "#fb9f3a"
             ],
             [
              0.8888888888888888,
              "#fdca26"
             ],
             [
              1,
              "#f0f921"
             ]
            ],
            "type": "histogram2d"
           }
          ],
          "histogram2dcontour": [
           {
            "colorbar": {
             "outlinewidth": 0,
             "ticks": ""
            },
            "colorscale": [
             [
              0,
              "#0d0887"
             ],
             [
              0.1111111111111111,
              "#46039f"
             ],
             [
              0.2222222222222222,
              "#7201a8"
             ],
             [
              0.3333333333333333,
              "#9c179e"
             ],
             [
              0.4444444444444444,
              "#bd3786"
             ],
             [
              0.5555555555555556,
              "#d8576b"
             ],
             [
              0.6666666666666666,
              "#ed7953"
             ],
             [
              0.7777777777777778,
              "#fb9f3a"
             ],
             [
              0.8888888888888888,
              "#fdca26"
             ],
             [
              1,
              "#f0f921"
             ]
            ],
            "type": "histogram2dcontour"
           }
          ],
          "mesh3d": [
           {
            "colorbar": {
             "outlinewidth": 0,
             "ticks": ""
            },
            "type": "mesh3d"
           }
          ],
          "parcoords": [
           {
            "line": {
             "colorbar": {
              "outlinewidth": 0,
              "ticks": ""
             }
            },
            "type": "parcoords"
           }
          ],
          "pie": [
           {
            "automargin": true,
            "type": "pie"
           }
          ],
          "scatter": [
           {
            "fillpattern": {
             "fillmode": "overlay",
             "size": 10,
             "solidity": 0.2
            },
            "type": "scatter"
           }
          ],
          "scatter3d": [
           {
            "line": {
             "colorbar": {
              "outlinewidth": 0,
              "ticks": ""
             }
            },
            "marker": {
             "colorbar": {
              "outlinewidth": 0,
              "ticks": ""
             }
            },
            "type": "scatter3d"
           }
          ],
          "scattercarpet": [
           {
            "marker": {
             "colorbar": {
              "outlinewidth": 0,
              "ticks": ""
             }
            },
            "type": "scattercarpet"
           }
          ],
          "scattergeo": [
           {
            "marker": {
             "colorbar": {
              "outlinewidth": 0,
              "ticks": ""
             }
            },
            "type": "scattergeo"
           }
          ],
          "scattergl": [
           {
            "marker": {
             "colorbar": {
              "outlinewidth": 0,
              "ticks": ""
             }
            },
            "type": "scattergl"
           }
          ],
          "scattermapbox": [
           {
            "marker": {
             "colorbar": {
              "outlinewidth": 0,
              "ticks": ""
             }
            },
            "type": "scattermapbox"
           }
          ],
          "scatterpolar": [
           {
            "marker": {
             "colorbar": {
              "outlinewidth": 0,
              "ticks": ""
             }
            },
            "type": "scatterpolar"
           }
          ],
          "scatterpolargl": [
           {
            "marker": {
             "colorbar": {
              "outlinewidth": 0,
              "ticks": ""
             }
            },
            "type": "scatterpolargl"
           }
          ],
          "scatterternary": [
           {
            "marker": {
             "colorbar": {
              "outlinewidth": 0,
              "ticks": ""
             }
            },
            "type": "scatterternary"
           }
          ],
          "surface": [
           {
            "colorbar": {
             "outlinewidth": 0,
             "ticks": ""
            },
            "colorscale": [
             [
              0,
              "#0d0887"
             ],
             [
              0.1111111111111111,
              "#46039f"
             ],
             [
              0.2222222222222222,
              "#7201a8"
             ],
             [
              0.3333333333333333,
              "#9c179e"
             ],
             [
              0.4444444444444444,
              "#bd3786"
             ],
             [
              0.5555555555555556,
              "#d8576b"
             ],
             [
              0.6666666666666666,
              "#ed7953"
             ],
             [
              0.7777777777777778,
              "#fb9f3a"
             ],
             [
              0.8888888888888888,
              "#fdca26"
             ],
             [
              1,
              "#f0f921"
             ]
            ],
            "type": "surface"
           }
          ],
          "table": [
           {
            "cells": {
             "fill": {
              "color": "#EBF0F8"
             },
             "line": {
              "color": "white"
             }
            },
            "header": {
             "fill": {
              "color": "#C8D4E3"
             },
             "line": {
              "color": "white"
             }
            },
            "type": "table"
           }
          ]
         },
         "layout": {
          "annotationdefaults": {
           "arrowcolor": "#2a3f5f",
           "arrowhead": 0,
           "arrowwidth": 1
          },
          "autotypenumbers": "strict",
          "coloraxis": {
           "colorbar": {
            "outlinewidth": 0,
            "ticks": ""
           }
          },
          "colorscale": {
           "diverging": [
            [
             0,
             "#8e0152"
            ],
            [
             0.1,
             "#c51b7d"
            ],
            [
             0.2,
             "#de77ae"
            ],
            [
             0.3,
             "#f1b6da"
            ],
            [
             0.4,
             "#fde0ef"
            ],
            [
             0.5,
             "#f7f7f7"
            ],
            [
             0.6,
             "#e6f5d0"
            ],
            [
             0.7,
             "#b8e186"
            ],
            [
             0.8,
             "#7fbc41"
            ],
            [
             0.9,
             "#4d9221"
            ],
            [
             1,
             "#276419"
            ]
           ],
           "sequential": [
            [
             0,
             "#0d0887"
            ],
            [
             0.1111111111111111,
             "#46039f"
            ],
            [
             0.2222222222222222,
             "#7201a8"
            ],
            [
             0.3333333333333333,
             "#9c179e"
            ],
            [
             0.4444444444444444,
             "#bd3786"
            ],
            [
             0.5555555555555556,
             "#d8576b"
            ],
            [
             0.6666666666666666,
             "#ed7953"
            ],
            [
             0.7777777777777778,
             "#fb9f3a"
            ],
            [
             0.8888888888888888,
             "#fdca26"
            ],
            [
             1,
             "#f0f921"
            ]
           ],
           "sequentialminus": [
            [
             0,
             "#0d0887"
            ],
            [
             0.1111111111111111,
             "#46039f"
            ],
            [
             0.2222222222222222,
             "#7201a8"
            ],
            [
             0.3333333333333333,
             "#9c179e"
            ],
            [
             0.4444444444444444,
             "#bd3786"
            ],
            [
             0.5555555555555556,
             "#d8576b"
            ],
            [
             0.6666666666666666,
             "#ed7953"
            ],
            [
             0.7777777777777778,
             "#fb9f3a"
            ],
            [
             0.8888888888888888,
             "#fdca26"
            ],
            [
             1,
             "#f0f921"
            ]
           ]
          },
          "colorway": [
           "#636efa",
           "#EF553B",
           "#00cc96",
           "#ab63fa",
           "#FFA15A",
           "#19d3f3",
           "#FF6692",
           "#B6E880",
           "#FF97FF",
           "#FECB52"
          ],
          "font": {
           "color": "#2a3f5f"
          },
          "geo": {
           "bgcolor": "white",
           "lakecolor": "white",
           "landcolor": "#E5ECF6",
           "showlakes": true,
           "showland": true,
           "subunitcolor": "white"
          },
          "hoverlabel": {
           "align": "left"
          },
          "hovermode": "closest",
          "mapbox": {
           "style": "light"
          },
          "paper_bgcolor": "white",
          "plot_bgcolor": "#E5ECF6",
          "polar": {
           "angularaxis": {
            "gridcolor": "white",
            "linecolor": "white",
            "ticks": ""
           },
           "bgcolor": "#E5ECF6",
           "radialaxis": {
            "gridcolor": "white",
            "linecolor": "white",
            "ticks": ""
           }
          },
          "scene": {
           "xaxis": {
            "backgroundcolor": "#E5ECF6",
            "gridcolor": "white",
            "gridwidth": 2,
            "linecolor": "white",
            "showbackground": true,
            "ticks": "",
            "zerolinecolor": "white"
           },
           "yaxis": {
            "backgroundcolor": "#E5ECF6",
            "gridcolor": "white",
            "gridwidth": 2,
            "linecolor": "white",
            "showbackground": true,
            "ticks": "",
            "zerolinecolor": "white"
           },
           "zaxis": {
            "backgroundcolor": "#E5ECF6",
            "gridcolor": "white",
            "gridwidth": 2,
            "linecolor": "white",
            "showbackground": true,
            "ticks": "",
            "zerolinecolor": "white"
           }
          },
          "shapedefaults": {
           "line": {
            "color": "#2a3f5f"
           }
          },
          "ternary": {
           "aaxis": {
            "gridcolor": "white",
            "linecolor": "white",
            "ticks": ""
           },
           "baxis": {
            "gridcolor": "white",
            "linecolor": "white",
            "ticks": ""
           },
           "bgcolor": "#E5ECF6",
           "caxis": {
            "gridcolor": "white",
            "linecolor": "white",
            "ticks": ""
           }
          },
          "title": {
           "x": 0.05
          },
          "xaxis": {
           "automargin": true,
           "gridcolor": "white",
           "linecolor": "white",
           "ticks": "",
           "title": {
            "standoff": 15
           },
           "zerolinecolor": "white",
           "zerolinewidth": 2
          },
          "yaxis": {
           "automargin": true,
           "gridcolor": "white",
           "linecolor": "white",
           "ticks": "",
           "title": {
            "standoff": 15
           },
           "zerolinecolor": "white",
           "zerolinewidth": 2
          }
         }
        },
        "title": {
         "text": "FT06"
        },
        "xaxis": {
         "rangeselector": {
          "buttons": [
           {
            "count": 7,
            "label": "1w",
            "step": "day",
            "stepmode": "backward"
           },
           {
            "count": 1,
            "label": "1m",
            "step": "month",
            "stepmode": "backward"
           },
           {
            "count": 6,
            "label": "6m",
            "step": "month",
            "stepmode": "backward"
           },
           {
            "count": 1,
            "label": "YTD",
            "step": "year",
            "stepmode": "todate"
           },
           {
            "count": 1,
            "label": "1y",
            "step": "year",
            "stepmode": "backward"
           },
           {
            "step": "all"
           }
          ]
         },
         "showgrid": true,
         "type": "date",
         "zeroline": false
        },
        "yaxis": {
         "autorange": false,
         "range": [
          -1,
          3
         ],
         "showgrid": true,
         "ticktext": [
          "Resource1",
          "Resource0"
         ],
         "tickvals": [
          0,
          1
         ],
         "zeroline": false
        }
       }
      }
     },
     "metadata": {},
     "output_type": "display_data"
    },
    {
     "name": "stdout",
     "output_type": "stream",
     "text": [
      "[[4, 6], [1, 4], [0, 1]]\n",
      "Optimal makespan: 7\n",
      "{0: [interval_0_0(start = start_0_0, size = 2, end = end_0_0), interval_1_0(start = start_1_0, size = 3, end = end_1_0), interval_2_0(start = start_2_0, size = 1, end = end_2_0)], 1: [interval_0_1(start = start_0_1, size = 1, end = end_0_1), interval_1_1(start = start_1_1, size = 2, end = end_1_1), interval_2_1(start = start_2_1, size = 3, end = end_2_1)]} {(0, 0): task_type(start=start_0_0(0..12), end=end_0_0(0..12), interval=interval_0_0(start = start_0_0, size = 2, end = end_0_0)), (0, 1): task_type(start=start_0_1(0..12), end=end_0_1(0..12), interval=interval_0_1(start = start_0_1, size = 1, end = end_0_1)), (1, 0): task_type(start=start_1_0(0..12), end=end_1_0(0..12), interval=interval_1_0(start = start_1_0, size = 3, end = end_1_0)), (1, 1): task_type(start=start_1_1(0..12), end=end_1_1(0..12), interval=interval_1_1(start = start_1_1, size = 2, end = end_1_1)), (2, 0): task_type(start=start_2_0(0..12), end=end_2_0(0..12), interval=interval_2_0(start = start_2_0, size = 1, end = end_2_0)), (2, 1): task_type(start=start_2_1(0..12), end=end_2_1(0..12), interval=interval_2_1(start = start_2_1, size = 3, end = end_2_1))}\n"
     ]
    }
   ],
   "source": [
    "#!/usr/bin/env python3\n",
    "# Copyright 2010-2022 Google LLC\n",
    "# Licensed under the Apache License, Version 2.0 (the \"License\");\n",
    "# you may not use this file except in compliance with the License.\n",
    "# You may obtain a copy of the License at\n",
    "#\n",
    "#     http://www.apache.org/licenses/LICENSE-2.0\n",
    "#\n",
    "# Unless required by applicable law or agreed to in writing, software\n",
    "# distributed under the License is distributed on an \"AS IS\" BASIS,\n",
    "# WITHOUT WARRANTIES OR CONDITIONS OF ANY KIND, either express or implied.\n",
    "# See the License for the specific language governing permissions and\n",
    "# limitations under the License.\n",
    "\n",
    "\"\"\"This model implements a simple jobshop named ft06.\n",
    "\n",
    "A jobshop is a standard scheduling problem when you must sequence a\n",
    "series of task_types on a set of machines. Each job contains one task_type per\n",
    "machine. The order of execution and the length of each job on each\n",
    "machine is task_type dependent.\n",
    "\n",
    "The objective is to minimize the maximum completion time of all\n",
    "jobs. This is called the makespan.\n",
    "\"\"\"\n",
    "\n",
    "import collections\n",
    "\n",
    "from ortools.sat.colab import visualization\n",
    "from ortools.sat.python import cp_model\n",
    "\n",
    "\n",
    "def jobshop_ft06():\n",
    "    \"\"\"Solves the ft06 jobshop.\"\"\"\n",
    "    # Creates the solver.\n",
    "    model = cp_model.CpModel()\n",
    "\n",
    "    machines_count = 2\n",
    "    jobs_count = 3\n",
    "    all_machines = range(0, machines_count)\n",
    "    all_jobs = range(0, jobs_count)\n",
    "\n",
    "    # durations = [\n",
    "    #     [1, 3, 6, 7, 3, 6],\n",
    "    #     [8, 5, 10, 10, 10, 4],\n",
    "    #     [5, 4, 8, 9, 1, 7],\n",
    "    #     [5, 5, 5, 3, 8, 9],\n",
    "    #     [9, 3, 5, 4, 3, 1],\n",
    "    #     [3, 3, 9, 10, 4, 1],\n",
    "    # ]\n",
    "\n",
    "    # machines = [\n",
    "    #     [2, 0, 1, 3, 5, 4],\n",
    "    #     [1, 2, 4, 5, 0, 3],\n",
    "    #     [2, 3, 5, 0, 1, 4],\n",
    "    #     [1, 0, 2, 3, 4, 5],\n",
    "    #     [2, 1, 4, 5, 0, 3],\n",
    "    #     [1, 3, 5, 0, 4, 2],\n",
    "    # ]\n",
    "    durations = [[2, 1], [3, 2], [1, 3]]\n",
    "    machines = [[0, 1], [0, 1], [0, 1]]\n",
    "\n",
    "    # Tổng thời gian hoàn thành của tất cả các task\n",
    "    horizon = sum([sum(durations[i]) for i in all_jobs])\n",
    "\n",
    "    # Tạo một kiểu dữ liệu mới có tên là task_type, dùng để lưu trữ thông tin của mỗi task\n",
    "    task_type = collections.namedtuple(\"task_type\", \"start end interval\")\n",
    "\n",
    "    \"\"\"\n",
    "    Ràng buộc thời gian bắt đầu và kết thúc của mỗi task.\n",
    "    Điều kiện : \n",
    "        - Thời gian bắt đầu và kết thúc của mỗi task phải thỏa mãn điều kiện : 0 <= start <= end <= horizon\n",
    "        -  start + duration = end\n",
    "    \"\"\"\n",
    "    all_tasks = {}\n",
    "    for i in all_jobs:\n",
    "        for j in all_machines:\n",
    "            start_var = model.NewIntVar(0, horizon, \"start_%i_%i\" % (i, j))\n",
    "            duration = durations[i][j]\n",
    "            end_var = model.NewIntVar(0, horizon, \"end_%i_%i\" % (i, j))\n",
    "            interval_var = model.NewIntervalVar(\n",
    "                start_var, duration, end_var, \"interval_%i_%i\" % (i, j)\n",
    "            )\n",
    "            all_tasks[(i, j)] = task_type(\n",
    "                start=start_var, end=end_var, interval=interval_var\n",
    "            )\n",
    "\n",
    "    \"\"\"\n",
    "    Ràng buộc mỗi máy chỉ được thực hiện một task tại một thời điểm.\n",
    "    \"\"\"\n",
    "    machine_to_jobs = {}\n",
    "    for i in all_machines:\n",
    "        machines_jobs = []\n",
    "        for j in all_jobs:\n",
    "            for k in all_machines:\n",
    "                if machines[j][k] == i:  # Tìm tất cả các task cần thực hiện trên máy i\n",
    "                    machines_jobs.append(all_tasks[(j, k)].interval)\n",
    "        machine_to_jobs[i] = machines_jobs\n",
    "        # Mỗi máy chỉ được thực hiện một task tại một thời điểm (các khoảng thời gian không được chồng lấn lên nhau)\n",
    "        model.AddNoOverlap(machines_jobs)\n",
    "\n",
    "    \"\"\"\n",
    "    Ràng buộc tuần tự công nghệ: \n",
    "        Với mỗi task của job, thời gian bắt đầu của task tiếp theo phải >= thời gian kết thúc của task trước đó.\n",
    "    \"\"\"\n",
    "    for i in all_jobs:\n",
    "        for j in range(0, machines_count - 1):\n",
    "            model.Add(all_tasks[(i, j + 1)].start >= all_tasks[(i, j)].end)\n",
    "\n",
    "    \"\"\"\n",
    "    Mục tiêu cần tối ưu:\n",
    "        Tìm thời gian hoàn thành của job cuối cùng (makespan) là nhỏ nhất.\n",
    "    \"\"\"\n",
    "    obj_var = model.NewIntVar(0, horizon, \"makespan\")\n",
    "    model.AddMaxEquality(\n",
    "        obj_var, [all_tasks[(i, machines_count - 1)].end for i in all_jobs]\n",
    "    ) # Thời gian lớn nhất để hoàn thành task cuối cùng của tất cả các job chính là thời gian hoàn thành tất cả các jobs (makespan)\n",
    "    model.Minimize(obj_var)\n",
    "\n",
    "    # Solve model.\n",
    "    solver = cp_model.CpSolver()\n",
    "    solver.parameters.log_search_progress = True\n",
    "    status = solver.Solve(model)\n",
    "\n",
    "    # Output solution.\n",
    "    if status == cp_model.OPTIMAL:\n",
    "        starts = [\n",
    "            [solver.Value(all_tasks[(i, j)][0]) for j in all_machines] for i in all_jobs\n",
    "        ]\n",
    "        visualization.DisplayJobshop(starts, durations, machines, \"FT06\")\n",
    "        print(starts)\n",
    "        print(\"Optimal makespan: %i\" % solver.ObjectiveValue())\n",
    "        print(machine_to_jobs, all_tasks)\n",
    "\n",
    "\n",
    "jobshop_ft06()"
   ]
  }
 ],
 "metadata": {
  "kernelspec": {
   "display_name": ".venv",
   "language": "python",
   "name": "python3"
  },
  "language_info": {
   "codemirror_mode": {
    "name": "ipython",
    "version": 3
   },
   "file_extension": ".py",
   "mimetype": "text/x-python",
   "name": "python",
   "nbconvert_exporter": "python",
   "pygments_lexer": "ipython3",
   "version": "3.11.0"
  }
 },
 "nbformat": 4,
 "nbformat_minor": 2
}
