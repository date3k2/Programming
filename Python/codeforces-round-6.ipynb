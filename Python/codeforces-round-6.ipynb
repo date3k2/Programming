{
 "cells": [
  {
   "cell_type": "code",
   "execution_count": 13,
   "metadata": {},
   "outputs": [],
   "source": [
    "import sys\n",
    "\n",
    "sys.stdin = open(r\"C:\\Users\\nguye\\Documents\\Code\\Programming\\C++\\test.inp\", \"r\")\n",
    "sys.stdout = open(r\"C:\\Users\\nguye\\Documents\\Code\\Programming\\C++\\test.out\", \"w\")\n",
    "input = sys.stdin.readline\n",
    "t = int(input())\n",
    "for _ in range(t):\n",
    "    n, k, x = map(int, input().split())\n",
    "    if n < k:\n",
    "        print(-1)\n",
    "    else:\n",
    "        if k > x + 1:\n",
    "            print(-1)\n",
    "        else:\n",
    "            if k == x:\n",
    "                print(k * (k - 1) // 2 + (x - 1) * (n - k))\n",
    "            else:\n",
    "                print(k * (k - 1) // 2 + x * (n - k))"
   ]
  },
  {
   "cell_type": "code",
   "execution_count": 172,
   "metadata": {},
   "outputs": [
    {
     "data": {
      "text/plain": [
       "2540"
      ]
     },
     "execution_count": 172,
     "metadata": {},
     "output_type": "execute_result"
    }
   ],
   "source": [
    "(211|2412|8) ^ (23|2412|8) ^ (8 | 2412|8)"
   ]
  },
  {
   "cell_type": "code",
   "execution_count": 171,
   "metadata": {},
   "outputs": [
    {
     "data": {
      "text/plain": [
       "2540"
      ]
     },
     "execution_count": 171,
     "metadata": {},
     "output_type": "execute_result"
    }
   ],
   "source": [
    "(211 ^ 23 ^ 8) | 2412"
   ]
  },
  {
   "cell_type": "code",
   "execution_count": 54,
   "metadata": {},
   "outputs": [
    {
     "data": {
      "text/plain": [
       "128"
      ]
     },
     "execution_count": 54,
     "metadata": {},
     "output_type": "execute_result"
    }
   ],
   "source": [
    "(211|2412) ^ (23|2412)"
   ]
  },
  {
   "cell_type": "code",
   "execution_count": 57,
   "metadata": {},
   "outputs": [
    {
     "data": {
      "text/plain": [
       "196"
      ]
     },
     "execution_count": 57,
     "metadata": {},
     "output_type": "execute_result"
    }
   ],
   "source": [
    "(211 ^ 23) "
   ]
  },
  {
   "cell_type": "code",
   "execution_count": 55,
   "metadata": {},
   "outputs": [
    {
     "data": {
      "text/plain": [
       "2540"
      ]
     },
     "execution_count": 55,
     "metadata": {},
     "output_type": "execute_result"
    }
   ],
   "source": [
    "(211 ^ 23 ^ 8) | 2412"
   ]
  },
  {
   "cell_type": "code",
   "execution_count": null,
   "metadata": {},
   "outputs": [],
   "source": [
    "# (a | b) ^ (a | c) = a | (b ^ c)"
   ]
  },
  {
   "cell_type": "code",
   "execution_count": 139,
   "metadata": {},
   "outputs": [
    {
     "data": {
      "text/plain": [
       "2369"
      ]
     },
     "execution_count": 139,
     "metadata": {},
     "output_type": "execute_result"
    }
   ],
   "source": [
    "(62|23) ^ (62|8) ^ (62|42) ^ (62|2412)"
   ]
  },
  {
   "cell_type": "code",
   "execution_count": 138,
   "metadata": {},
   "outputs": [
    {
     "data": {
      "text/plain": [
       "2369"
      ]
     },
     "execution_count": 138,
     "metadata": {},
     "output_type": "execute_result"
    }
   ],
   "source": [
    "((23 ^ 8 ^ 42) | 62 ) ^ (2412|62)"
   ]
  },
  {
   "cell_type": "code",
   "execution_count": 167,
   "metadata": {},
   "outputs": [
    {
     "data": {
      "text/plain": [
       "16"
      ]
     },
     "execution_count": 167,
     "metadata": {},
     "output_type": "execute_result"
    }
   ],
   "source": [
    "(23|12|3) ^ (8|3|12)"
   ]
  },
  {
   "cell_type": "code",
   "execution_count": 154,
   "metadata": {},
   "outputs": [
    {
     "data": {
      "text/plain": [
       "31"
      ]
     },
     "execution_count": 154,
     "metadata": {},
     "output_type": "execute_result"
    }
   ],
   "source": [
    "23 ^ 8"
   ]
  },
  {
   "cell_type": "code",
   "execution_count": 137,
   "metadata": {},
   "outputs": [
    {
     "data": {
      "text/plain": [
       "31"
      ]
     },
     "execution_count": 137,
     "metadata": {},
     "output_type": "execute_result"
    }
   ],
   "source": [
    "(23 ^ 8)"
   ]
  },
  {
   "cell_type": "code",
   "execution_count": 100,
   "metadata": {},
   "outputs": [
    {
     "data": {
      "text/plain": [
       "63"
      ]
     },
     "execution_count": 100,
     "metadata": {},
     "output_type": "execute_result"
    }
   ],
   "source": [
    "(23 ^ 8 ^ 42) | 62"
   ]
  },
  {
   "cell_type": "code",
   "execution_count": 189,
   "metadata": {},
   "outputs": [],
   "source": [
    "import sys\n",
    "\n",
    "sys.stdin = open(r\"C:\\Users\\nguye\\Documents\\Code\\Programming\\C++\\test.inp\", \"r\")\n",
    "sys.stdout = open(r\"C:\\Users\\nguye\\Documents\\Code\\Programming\\C++\\test.out\", \"w\")\n",
    "input = sys.stdin.readline\n",
    "t = int(input())\n",
    "for _ in range(t):\n",
    "    n, m = map(int, input().split())\n",
    "    a = list(map(int, input().split()))\n",
    "    b = list(map(int, input().split()))\n",
    "    if n % 2:\n",
    "        ans = 0\n",
    "        for i in range(n):\n",
    "            ans ^= a[i]\n",
    "        mins = maxs = ans\n",
    "        for i in range(m):\n",
    "            ans |= b[i]\n",
    "            mins = min(mins, ans)\n",
    "            maxs = max(maxs, ans)\n",
    "        print(mins, maxs)\n",
    "    else:\n",
    "        b.append(0)\n",
    "        ans = 0\n",
    "        for i in range(n - 1):\n",
    "            ans ^= a[i]\n",
    "        mins = maxs = ans\n",
    "        # for num in b:\n",
    "        #     mins = min(mins, (ans | num) ^ (a[-1] | num))\n",
    "        #     maxs = max(maxs, (ans | num) ^ (a[-1] | num))\n",
    "        # binary ans and a[-1] with padding\n",
    "        ans_bin = bin(ans)[2:].zfill(32)\n",
    "        a_bin = bin(a[-1])[2:].zfill(32)\n",
    "        ones = [0] * 32\n",
    "        zeros = [0] * 32\n",
    "        for i in b:\n",
    "            for idx, s in enumerate(bin(i)[2:].zfill(32)):\n",
    "                if s == '1':\n",
    "                    ones[idx] = 1\n",
    "                else:\n",
    "                    zeros[idx] = 1\n",
    "        for i in range(32):\n",
    "            if ans_bin[i] == '0':\n",
    "                if a_bin[i] == '0':\n",
    "                    if ones[i]:\n",
    "                        mins |= (1 << (31 - i))\n",
    "\n",
    "        # print(ans,a[-1])"
   ]
  },
  {
   "cell_type": "code",
   "execution_count": null,
   "metadata": {},
   "outputs": [],
   "source": [
    "# (a|c) ^ (b|c) = "
   ]
  },
  {
   "cell_type": "code",
   "execution_count": 177,
   "metadata": {},
   "outputs": [
    {
     "data": {
      "text/plain": [
       "9"
      ]
     },
     "execution_count": 177,
     "metadata": {},
     "output_type": "execute_result"
    }
   ],
   "source": [
    "(5|822) ^ (42|822)"
   ]
  },
  {
   "cell_type": "code",
   "execution_count": 52,
   "metadata": {},
   "outputs": [
    {
     "name": "stdout",
     "output_type": "stream",
     "text": [
      "0 5\n",
      "1 3\n",
      "4\n"
     ]
    }
   ],
   "source": [
    "from typing import List\n",
    "from bisect import bisect_left\n",
    "\n",
    "\n",
    "class Solution:\n",
    "    def minOperations(self, nums: List[int], x: int) -> int:\n",
    "        pre = [0]\n",
    "        for num in nums:\n",
    "            if pre[-1] >= x:\n",
    "                break\n",
    "            pre.append(pre[-1] + num)\n",
    "        suff = [0]\n",
    "        for num in nums[::-1]:\n",
    "            if suff[-1] >= x:\n",
    "                break\n",
    "            suff.append(suff[-1] + num)\n",
    "        ans = float(\"inf\")\n",
    "        n = len(suff)\n",
    "        m = len(nums)\n",
    "        for i, p in enumerate(pre):\n",
    "            pos = bisect_left(suff, x - p)\n",
    "            if pos < n and p + suff[pos] == x and i + pos <= m:\n",
    "                ans = min(ans, i + pos)\n",
    "                print(i, pos)\n",
    "        return ans if ans != float(\"inf\") else -1\n",
    "\n",
    "\n",
    "nums = [1, 1, 4, 2, 3]\n",
    "x = 5\n",
    "# nums = [5, 6, 7, 8, 9]\n",
    "# x = 4\n",
    "nums = [8, 2, 5, 8, 7, 4, 5, 1, 5, 7, 7, 6, 2, 3, 9, 6, 4, 1, 8, 7, 4, 4, 3, 2, 3, 6, 9, 9, 7, 9, 5, 3, 4, 4, 4, 8, 9, 9, 8, 7, 1, 9, 4, 2, 3, 7, 5, 6, 9, 8, 5, 8, 2, 1, 3, 6, 4, 5, 3, 1, 6, 1, 1, 9, 6, 1, 6, 5, 4, 7, 1, 4, 7, 5, 1, 5, 9, 2, 9, 3, 9, 2, 1, 7, 2, 3, 6, 2, 9, 4, 3, 8, 9, 7, 7, 2, 6, 9, 4, 4]\n",
    "x = 25\n",
    "print(Solution().minOperations(nums, x))"
   ]
  },
  {
   "cell_type": "code",
   "execution_count": 44,
   "metadata": {},
   "outputs": [],
   "source": [
    "import pyperclip\n",
    "import numpy as np\n",
    "x = np.random.randint(1, 10, 100)\n",
    "list(x)\n",
    "pyperclip.copy(str(list(x)))"
   ]
  },
  {
   "cell_type": "code",
   "execution_count": null,
   "metadata": {},
   "outputs": [],
   "source": [
    "[1, 7, 6, 9, 3, 5, 8, 3, 7, 9, 4, 9, 2, 4, 3, 5, 7, 3, 7, 1, 1, 7, 8, 1, 9, 6, 4, 2, 2, 2, 4, 1, 1, 9, 8, 8, 2, 8, 3, 8, 8, 6, 6, 7, 6, 2, 7, 9, 6, 2, 4, 7, 7, 9, 9, 1, 9, 6, 8, 2, 9, 7, 1, 6, 3, 2, 3, 5, 7, 8, 8, 9, 8, 8, 5, 2, 1, 1, 4, 2, 4, 3, 6, 3, 9, 9, 7, 8, 4, 9, 3, 4, 3, 3, 3, 3, 4, 8, 2, 7]"
   ]
  }
 ],
 "metadata": {
  "kernelspec": {
   "display_name": ".venv",
   "language": "python",
   "name": "python3"
  },
  "language_info": {
   "codemirror_mode": {
    "name": "ipython",
    "version": 3
   },
   "file_extension": ".py",
   "mimetype": "text/x-python",
   "name": "python",
   "nbconvert_exporter": "python",
   "pygments_lexer": "ipython3",
   "version": "3.11.0"
  },
  "orig_nbformat": 4
 },
 "nbformat": 4,
 "nbformat_minor": 2
}
