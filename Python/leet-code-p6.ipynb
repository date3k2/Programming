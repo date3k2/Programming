{
 "cells": [
  {
   "cell_type": "code",
   "execution_count": 2,
   "metadata": {},
   "outputs": [
    {
     "name": "stdout",
     "output_type": "stream",
     "text": [
      "False\n"
     ]
    }
   ],
   "source": [
    "class Solution:\n",
    "    def isFascinating(self, n: int) -> bool:\n",
    "        s = str(n)+str(2*n)+str(3*n)\n",
    "        num = {}\n",
    "        for i in s:\n",
    "            if i == '0':\n",
    "                return False\n",
    "            num[i] = num.get(i, 0)+1\n",
    "            if num[i] > 1:\n",
    "                return False\n",
    "        return True\n",
    "\n",
    "\n",
    "s = Solution()\n",
    "print(s.isFascinating(100))\n"
   ]
  },
  {
   "cell_type": "code",
   "execution_count": 3,
   "metadata": {},
   "outputs": [
    {
     "name": "stdout",
     "output_type": "stream",
     "text": [
      "1\n"
     ]
    }
   ],
   "source": [
    "class Solution:\n",
    "    def longestSemiRepetitiveSubstring(self, s: str) -> int:\n",
    "        l = 1\n",
    "        max_len = 1\n",
    "        x = 0\n",
    "        for i in range(len(s)-1):\n",
    "            if s[i] == s[i+1]:\n",
    "                l = i-x+1\n",
    "                x = i+1\n",
    "            l += 1\n",
    "            max_len = max(max_len, l)\n",
    "        return max_len\n",
    "\n",
    "\n",
    "s = Solution()\n",
    "# st = \"6123145666\"\n",
    "# st =\"1111111\"\n",
    "st = \"0\"\n",
    "print(s.longestSemiRepetitiveSubstring(st))\n"
   ]
  },
  {
   "cell_type": "code",
   "execution_count": 4,
   "metadata": {},
   "outputs": [
    {
     "name": "stdout",
     "output_type": "stream",
     "text": [
      "5\n"
     ]
    }
   ],
   "source": [
    "l2 = [(0,1),(0,3),(0,-1),(0,2),(0,10),(1,4),(1,2),(1,3),(2,3),(2,4),(3,4)]\n",
    "import bisect\n",
    "x = bisect.bisect_right(l2,(0,10**9))\n",
    "print(x)"
   ]
  },
  {
   "cell_type": "code",
   "execution_count": 5,
   "metadata": {},
   "outputs": [
    {
     "name": "stdout",
     "output_type": "stream",
     "text": [
      "24\n",
      "24\n",
      "4\n",
      "14\n",
      "14\n",
      "4\n",
      "14\n"
     ]
    },
    {
     "ename": "ValueError",
     "evalue": "invalid literal for int() with base 10: ''",
     "output_type": "error",
     "traceback": [
      "\u001b[1;31m---------------------------------------------------------------------------\u001b[0m",
      "\u001b[1;31mValueError\u001b[0m                                Traceback (most recent call last)",
      "Cell \u001b[1;32mIn[5], line 3\u001b[0m\n\u001b[0;32m      1\u001b[0m t\u001b[39m=\u001b[39m \u001b[39mint\u001b[39m(\u001b[39minput\u001b[39m())\n\u001b[0;32m      2\u001b[0m \u001b[39mfor\u001b[39;00m _ \u001b[39min\u001b[39;00m \u001b[39mrange\u001b[39m(t):\n\u001b[1;32m----> 3\u001b[0m     n \u001b[39m=\u001b[39m \u001b[39mint\u001b[39;49m(\u001b[39minput\u001b[39;49m())\n\u001b[0;32m      4\u001b[0m     x \u001b[39m=\u001b[39m \u001b[39mint\u001b[39m(n\u001b[39m*\u001b[39m\u001b[39m*\u001b[39m\u001b[39m0.5\u001b[39m)\n\u001b[0;32m      5\u001b[0m     \u001b[39mprint\u001b[39m(\u001b[39m2\u001b[39m\u001b[39m*\u001b[39m(x\u001b[39m+\u001b[39mn\u001b[39m/\u001b[39m\u001b[39m/\u001b[39mx)) \u001b[39mif\u001b[39;00m n\u001b[39m%\u001b[39mx \u001b[39m==\u001b[39m \u001b[39m0\u001b[39m \u001b[39melse\u001b[39;00m \u001b[39mprint\u001b[39m(\u001b[39m2\u001b[39m\u001b[39m*\u001b[39m(x\u001b[39m+\u001b[39mn\u001b[39m/\u001b[39m\u001b[39m/\u001b[39mx)\u001b[39m+\u001b[39m\u001b[39m2\u001b[39m)\n",
      "\u001b[1;31mValueError\u001b[0m: invalid literal for int() with base 10: ''"
     ]
    }
   ],
   "source": [
    "t= int(input())\n",
    "for _ in range(t):\n",
    "    n = int(input())\n",
    "    x = int(n**0.5)\n",
    "    print(2*(x+n//x)) if n%x == 0 else print(2*(x+n//x)+2)\n"
   ]
  },
  {
   "cell_type": "code",
   "execution_count": null,
   "metadata": {},
   "outputs": [
    {
     "name": "stdout",
     "output_type": "stream",
     "text": [
      "6 4\n",
      "1011100000\n",
      "10111000\n"
     ]
    }
   ],
   "source": [
    "import math\n",
    "n = 10\n",
    "k = -2\n",
    "y = \"1011010111\"\n",
    "\n",
    "# n = 1\n",
    "# k = -1\n",
    "# y = \"0\"\n",
    "\n",
    "# n = 6\n",
    "# k = -4\n",
    "# y = \"110100\"\n",
    "c0_y = y.count('0')\n",
    "c1_y = len(y)-c0_y\n",
    "c1_x = math.ceil((n-k)/2)\n",
    "c0_x = c1_x+k\n",
    "x =\"\"\n",
    "x_len = c0_x+c1_x\n",
    "print(c1_x, c0_x)\n",
    "st = '1'*c1_x+'0'*c0_x\n",
    "\n",
    "# # change s[5] to '0'\n",
    "i=0 \n",
    "if x_len==len(y):\n",
    "    while c1_x>0 and c0_x>0:\n",
    "        # print(st)\n",
    "        k = st[:i]+'0'+st[i+1:]\n",
    "        if k>=y:\n",
    "            st = k\n",
    "            c0_x-=1\n",
    "        else:\n",
    "            c1_x-=1\n",
    "        x+=st[i]\n",
    "        i+=1\n",
    "    # x+= '0'*c0_x+'1'*c1_x \n",
    "#     for i in range(len(y)-1):\n",
    "#         if y[i+1:]>st or c0_x==0:\n",
    "#             x+='1'\n",
    "#             c1_x-=1\n",
    "#             break\n",
    "#         else:\n",
    "#             if y[i]=='0':\n",
    "#                 c0_x-=1\n",
    "#             else:\n",
    "#                 c1_x-=1\n",
    "#             x+=y[i]\n",
    "    # x+='0'*c0_x+'1'*c1_x\n",
    "# else:\n",
    "#     x='1'+'0'*c0_x+'1'*(c1_x-1)\n",
    "print(st)\n",
    "print(x)\n",
    "\n"
   ]
  },
  {
   "cell_type": "code",
   "execution_count": null,
   "metadata": {},
   "outputs": [
    {
     "name": "stdout",
     "output_type": "stream",
     "text": [
      "3\n",
      "4\n"
     ]
    }
   ],
   "source": [
    "t = int(input())\n",
    "for _ in range(t):\n",
    "    n = int(input())\n",
    "    row1 = list(map(int, input().split()))\n",
    "    row2 = list(map(int, input().split()))\n",
    "    if n % 2 == 1:\n",
    "        d = {i: 1 for i in row1+row2}\n",
    "        for i in range(2*n+1):\n",
    "            if i not in d:\n",
    "                print(i)\n",
    "                break\n",
    "    else:\n",
    "        d1 = {}\n",
    "        for i in range(n):\n",
    "            d1[row1[i]] = d1.get(row1[i], 0)+1\n",
    "            d1[row2[i]] = d1.get(row2[i], 0)+1\n",
    "        max_r1 = 0\n",
    "        check = True\n",
    "        for i in range(n):\n",
    "            if i % 2 == 1:\n",
    "                if d1[row1[i]] > 1:\n",
    "                    check = False\n",
    "                    break\n",
    "                else:\n",
    "                    if row1[i] > max_r1:\n",
    "                        max_r1 = row1[i]\n",
    "        if check:\n",
    "            d1.pop(max_r1)\n",
    "\n",
    "        d2 = {}\n",
    "        for i in range(n):\n",
    "            d2[row1[i]] = d2.get(row1[i], 0)+1\n",
    "            d2[row2[i]] = d2.get(row2[i], 0)+1\n",
    "        max_r2 = 0\n",
    "        check = True\n",
    "        for i in range(n):\n",
    "            if i % 2 == 0:\n",
    "                if d2[row2[i]] > 1:\n",
    "                    check = False\n",
    "                    break\n",
    "                else:\n",
    "                    if row2[i] > max_r2:\n",
    "                        max_r2 = row2[i]\n",
    "        if check:\n",
    "            d2.pop(max_r2)\n",
    "\n",
    "        max_x = 0\n",
    "        for i in range(2*n+1):\n",
    "            if i not in d1:\n",
    "                max_x = max(max_x, i)\n",
    "                break\n",
    "        for i in range(2*n+1):\n",
    "            if i not in d2:\n",
    "                max_x = max(max_x, i)\n",
    "                break\n",
    "        print(max_x)\n"
   ]
  },
  {
   "cell_type": "code",
   "execution_count": null,
   "metadata": {},
   "outputs": [],
   "source": [
    "import sys\n",
    "sys.stdin = open('test.inp', 'r')\n",
    "sys.stdout = open('test.out', 'w')\n",
    "input = sys.stdin.readline\n",
    "out = sys.stdout.write\n",
    "t = int(input())\n",
    "for _ in range(t):\n",
    "    n = int(input())\n",
    "    a = list(map(int, input().split()))\n",
    "    val = a[0]\n",
    "    check = False\n",
    "    for i in range(n):\n",
    "        if a[i] >= val and not check:\n",
    "            val = a[i]\n",
    "            out('1')\n",
    "        elif a[i] < val and a[i] <= a[0] and not check:\n",
    "            val = a[i]\n",
    "            out('1')\n",
    "            check = True\n",
    "        elif a[i] >= val and check and a[i] <= a[0]:\n",
    "            val = a[i]\n",
    "            out('1')\n",
    "        else:\n",
    "            out('0')\n",
    "    out('\\n')\n"
   ]
  },
  {
   "cell_type": "code",
   "execution_count": null,
   "metadata": {},
   "outputs": [
    {
     "data": {
      "text/html": [
       "<div>\n",
       "<style scoped>\n",
       "    .dataframe tbody tr th:only-of-type {\n",
       "        vertical-align: middle;\n",
       "    }\n",
       "\n",
       "    .dataframe tbody tr th {\n",
       "        vertical-align: top;\n",
       "    }\n",
       "\n",
       "    .dataframe thead th {\n",
       "        text-align: right;\n",
       "    }\n",
       "</style>\n",
       "<table border=\"1\" class=\"dataframe\">\n",
       "  <thead>\n",
       "    <tr style=\"text-align: right;\">\n",
       "      <th></th>\n",
       "      <th>a</th>\n",
       "      <th>b</th>\n",
       "      <th>c</th>\n",
       "    </tr>\n",
       "  </thead>\n",
       "  <tbody>\n",
       "    <tr>\n",
       "      <th>0</th>\n",
       "      <td>1</td>\n",
       "      <td>4</td>\n",
       "      <td>5</td>\n",
       "    </tr>\n",
       "    <tr>\n",
       "      <th>1</th>\n",
       "      <td>2</td>\n",
       "      <td>5</td>\n",
       "      <td>7</td>\n",
       "    </tr>\n",
       "    <tr>\n",
       "      <th>2</th>\n",
       "      <td>3</td>\n",
       "      <td>6</td>\n",
       "      <td>9</td>\n",
       "    </tr>\n",
       "  </tbody>\n",
       "</table>\n",
       "</div>"
      ],
      "text/plain": [
       "   a  b  c\n",
       "0  1  4  5\n",
       "1  2  5  7\n",
       "2  3  6  9"
      ]
     },
     "execution_count": 5,
     "metadata": {},
     "output_type": "execute_result"
    }
   ],
   "source": [
    "import pandas as pd\n",
    "# save as csv\n",
    "df = pd.DataFrame({'a': [1, 2, 3], 'b': [4, 5, 6]})\n",
    "df[\"c\"]=df[\"a\"]+df[\"b\"]\n",
    "df"
   ]
  },
  {
   "cell_type": "code",
   "execution_count": null,
   "metadata": {},
   "outputs": [],
   "source": [
    "import re\n",
    "s1 = input()\n",
    "s2 = input()\n",
    "print(len(re.sub(s2,' ',s1,flags=re.IGNORECASE).split()))\n",
    "\n"
   ]
  },
  {
   "cell_type": "code",
   "execution_count": 6,
   "metadata": {},
   "outputs": [
    {
     "name": "stdout",
     "output_type": "stream",
     "text": [
      "worker\n",
      "worker\n",
      "worker\n",
      "worker\n",
      "worker\n",
      "all done\n"
     ]
    }
   ],
   "source": [
    "# multi thread in python\n",
    "import threading\n",
    "import time\n",
    "import random\n",
    "def worker():\n",
    "    print(\"worker\")\n",
    "    time.sleep(random.randint(1, 10))\n",
    "    return\n",
    "threads = []\n",
    "for i in range(5):\n",
    "    t = threading.Thread(target=worker)\n",
    "    threads.append(t)\n",
    "    t.start()\n",
    "for t in threads:\n",
    "    if type(t) is threading.Thread:\n",
    "        t.join()\n",
    "print(\"all done\")\n"
   ]
  },
  {
   "cell_type": "code",
   "execution_count": 3,
   "metadata": {},
   "outputs": [
    {
     "data": {
      "text/plain": [
       "[1, 2, 3]"
      ]
     },
     "execution_count": 3,
     "metadata": {},
     "output_type": "execute_result"
    }
   ],
   "source": [
    "l1 = [1,2,3,\"ga\",\"vjp\"]\n",
    "list(filter(lambda x: type(x) is not str, l1))"
   ]
  },
  {
   "cell_type": "code",
   "execution_count": null,
   "metadata": {},
   "outputs": [],
   "source": [
    "from typing import List\n",
    "class Solution:\n",
    "    def makeArrayIncreasing(self, arr1: List[int], arr2: List[int]) -> int:\n",
    "        arr2.sort()\n",
    "        dp = {-1:0}\n",
    "        n = len(arr2)\n",
    "        for i in arr1:\n",
    "            tmp = {}\n",
    "            for key in dp:\n",
    "                if i>key:\n",
    "                    tmp[i] = min(tmp.get(i, float('inf')), dp[key])\n",
    "                loc = bisect.bisect_right(arr2, key)\n",
    "                if loc<n:\n",
    "                    tmp[arr2[loc]] = min(tmp.get(arr2[loc], float('inf')), dp[key]+1)\n",
    "            dp = tmp\n",
    "        if dp:\n",
    "            return min(dp.values())\n",
    "        return -1\n"
   ]
  },
  {
   "cell_type": "code",
   "execution_count": 8,
   "metadata": {},
   "outputs": [],
   "source": [
    "import sys\n",
    "from math import gcd\n",
    "input = sys.stdin.readline\n",
    "output = sys.stdout.write\n",
    "t = int(input())\n",
    "for _ in range(t):\n",
    "    n = int(input())\n",
    "    a = list(map(int, input().split()))\n",
    "    x = gcd(*a)\n",
    "    if x == 1:\n",
    "        output('0\\n')\n",
    "    else:\n",
    "        i = 2\n",
    "        while gcd(x, i) != 1:\n",
    "            i += 1\n",
    "        output(f'{i}\\n')"
   ]
  },
  {
   "cell_type": "code",
   "execution_count": 14,
   "metadata": {},
   "outputs": [],
   "source": [
    "import sys\n",
    "input = sys.stdin.readline\n",
    "output = sys.stdout.write\n",
    "n,m = map(int,input().split())\n",
    "a = list(map(int,input().split()))\n",
    "freq = {}\n",
    "for i in a:\n",
    "    freq[i] = freq.get(i,0)+1\n",
    "if max(freq.values())*2>n:\n",
    "    output(\"NO\")\n",
    "else:\n",
    "    output(\"YES\")"
   ]
  },
  {
   "cell_type": "code",
   "execution_count": null,
   "metadata": {},
   "outputs": [],
   "source": [
    "class Solution:\n",
    "    def countPaths(self, grid: List[List[int]]) -> int:\n",
    "        m, n = len(grid), len(grid[0])\n",
    "        dp = [[0]*n for _ in range(m)]\n",
    "        directions = [(0, 1), (0, -1), (1, 0), (-1, 0)]\n",
    "        mod = 10**9+7\n",
    "\n",
    "        def dfs(i, j):\n",
    "            if dp[i][j]:\n",
    "                return dp[i][j]\n",
    "            ans = 1\n",
    "            for x, y in directions:\n",
    "                if 0 <= i+x < m and 0 <= j+y < n and grid[i+x][j+y] < grid[i][j]:\n",
    "                    ans += dfs(i+x, j+y) % mod\n",
    "            dp[i][j] = ans\n",
    "            return ans\n",
    "        return sum(dfs(i, j) for i in range(m) for j in range(n)) % mod\n"
   ]
  },
  {
   "cell_type": "code",
   "execution_count": 4,
   "metadata": {},
   "outputs": [
    {
     "name": "stdout",
     "output_type": "stream",
     "text": [
      "40\n"
     ]
    }
   ],
   "source": [
    "class Solution:\n",
    "    def distanceTraveled(self, mainTank: int, additionalTank: int) -> int:\n",
    "        ans = 0\n",
    "        while mainTank >=5 and additionalTank > 0:\n",
    "            mainTank -= 4\n",
    "            ans += 5*10\n",
    "            additionalTank -=1\n",
    "        if mainTank > 0:\n",
    "            ans += mainTank*10\n",
    "        return ans\n",
    "s = Solution()\n",
    "print(s.distanceTraveled(4,30))\n"
   ]
  },
  {
   "cell_type": "code",
   "execution_count": 11,
   "metadata": {},
   "outputs": [
    {
     "name": "stdout",
     "output_type": "stream",
     "text": [
      "0\n"
     ]
    }
   ],
   "source": [
    "class Solution:\n",
    "    def findValueOfPartition(self, nums: list[int]) -> int:\n",
    "        nums.sort()\n",
    "        ans = float('inf')\n",
    "        for i in range(1, len(nums)):\n",
    "            ans = min(ans, nums[i]-nums[i-1])\n",
    "        return ans\n",
    "s = Solution()\n",
    "print(s.findValueOfPartition([1,5,8,300,100,400,100,23,12412412]))"
   ]
  },
  {
   "cell_type": "code",
   "execution_count": 28,
   "metadata": {},
   "outputs": [
    {
     "name": "stdout",
     "output_type": "stream",
     "text": [
      "[3, 1, 5]\n",
      "[3, 3, 1]\n",
      "[3, 1, 3]\n",
      "[3, 1, 5]\n",
      "None\n"
     ]
    }
   ],
   "source": [
    "class Solution:\n",
    "    chosen = [False]*100\n",
    "    ans = []\n",
    "\n",
    "    def printP(self, ans):\n",
    "        print(ans)\n",
    "\n",
    "    def permutation(self, nums: list[int]) -> list[list[int]]:\n",
    "        n = len(nums)\n",
    "        if len(self.ans) == n:\n",
    "            self.printP(self.ans)\n",
    "            return\n",
    "        for i in range(n):\n",
    "            if self.chosen[i]:\n",
    "                continue\n",
    "            if len(self.ans) == 0:\n",
    "                self.chosen[i] = True\n",
    "                self.ans.append(nums[i])\n",
    "                self.permutation(nums)\n",
    "            \n",
    "            if self.ans[-1] % nums[i] == 0 or nums[i] % self.ans[-1] == 0:\n",
    "                self.chosen[i] = True\n",
    "                self.ans.append(nums[i])\n",
    "                self.permutation(nums)\n",
    "            else:\n",
    "                continue\n",
    "            self.chosen[i] = False\n",
    "            if len(self.ans) > 0:\n",
    "                self.ans.pop()\n",
    "\n",
    "\n",
    "s = Solution()\n",
    "print(s.permutation([3, 5, 1]))\n"
   ]
  },
  {
   "cell_type": "code",
   "execution_count": null,
   "metadata": {},
   "outputs": [],
   "source": []
  }
 ],
 "metadata": {
  "kernelspec": {
   "display_name": "date3k2",
   "language": "python",
   "name": "python3"
  },
  "language_info": {
   "codemirror_mode": {
    "name": "ipython",
    "version": 3
   },
   "file_extension": ".py",
   "mimetype": "text/x-python",
   "name": "python",
   "nbconvert_exporter": "python",
   "pygments_lexer": "ipython3",
   "version": "3.11.0"
  },
  "orig_nbformat": 4
 },
 "nbformat": 4,
 "nbformat_minor": 2
}
