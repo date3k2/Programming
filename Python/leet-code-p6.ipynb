{
 "cells": [
  {
   "cell_type": "code",
   "execution_count": 4,
   "metadata": {},
   "outputs": [
    {
     "name": "stdout",
     "output_type": "stream",
     "text": [
      "False\n"
     ]
    }
   ],
   "source": [
    "class Solution:\n",
    "    def isFascinating(self, n: int) -> bool:\n",
    "        s = str(n)+str(2*n)+str(3*n)\n",
    "        num = {}\n",
    "        for i in s:\n",
    "            if i == '0':\n",
    "                return False\n",
    "            num[i] = num.get(i, 0)+1\n",
    "            if num[i] > 1:\n",
    "                return False\n",
    "        return True\n",
    "\n",
    "\n",
    "s = Solution()\n",
    "print(s.isFascinating(100))\n"
   ]
  },
  {
   "cell_type": "code",
   "execution_count": 37,
   "metadata": {},
   "outputs": [
    {
     "name": "stdout",
     "output_type": "stream",
     "text": [
      "1\n"
     ]
    }
   ],
   "source": [
    "class Solution:\n",
    "    def longestSemiRepetitiveSubstring(self, s: str) -> int:\n",
    "        l = 1\n",
    "        max_len = 1\n",
    "        x = 0\n",
    "        for i in range(len(s)-1):\n",
    "            if s[i] == s[i+1]:\n",
    "                l = i-x+1\n",
    "                x = i+1\n",
    "            l += 1\n",
    "            max_len = max(max_len, l)\n",
    "        return max_len\n",
    "\n",
    "\n",
    "s = Solution()\n",
    "# st = \"6123145666\"\n",
    "# st =\"1111111\"\n",
    "st = \"0\"\n",
    "print(s.longestSemiRepetitiveSubstring(st))\n"
   ]
  },
  {
   "cell_type": "code",
   "execution_count": 44,
   "metadata": {},
   "outputs": [
    {
     "name": "stdout",
     "output_type": "stream",
     "text": [
      "0\n"
     ]
    }
   ],
   "source": [
    "from typing import List\n",
    "\n",
    "class Solution:\n",
    "    def sumDistance(self, nums: List[int], s: str, d: int) -> int:\n",
    "        n = len(nums)\n",
    "        positions = nums.copy()\n",
    "        directions = [1 if c == 'R' else -1 for c in s]\n",
    "        collisions = set()\n",
    "        \n",
    "        for _ in range(d):\n",
    "            for i in range(n):\n",
    "                positions[i] += directions[i]\n",
    "                if positions[i] in positions[:i] + positions[i+1:]:\n",
    "                    collisions.add(positions[i])\n",
    "        \n",
    "        robot_positions = {}\n",
    "        for i in range(n):\n",
    "            if positions[i] not in collisions:\n",
    "                if positions[i] not in robot_positions:\n",
    "                    robot_positions[positions[i]] = []\n",
    "                robot_positions[positions[i]].append(i)\n",
    "        \n",
    "        total_distance = 0\n",
    "        for positions in robot_positions.values():\n",
    "            for i in range(len(positions)):\n",
    "                for j in range(i+1, len(positions)):\n",
    "                    distance = abs(nums[positions[i]] - nums[positions[j]])\n",
    "                    total_distance = (total_distance + distance) % (10**9 + 7)\n",
    "        \n",
    "        return total_distance\n",
    "nums = [-2,0,2]\n",
    "s = \"RLL\"\n",
    "d = 3\n",
    "x = Solution()\n",
    "print(x.sumDistance(nums, s, d))"
   ]
  }
 ],
 "metadata": {
  "kernelspec": {
   "display_name": "date3k2",
   "language": "python",
   "name": "python3"
  },
  "language_info": {
   "codemirror_mode": {
    "name": "ipython",
    "version": 3
   },
   "file_extension": ".py",
   "mimetype": "text/x-python",
   "name": "python",
   "nbconvert_exporter": "python",
   "pygments_lexer": "ipython3",
   "version": "3.11.0"
  },
  "orig_nbformat": 4
 },
 "nbformat": 4,
 "nbformat_minor": 2
}
