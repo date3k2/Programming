{
 "cells": [
  {
   "cell_type": "code",
   "execution_count": 4,
   "metadata": {},
   "outputs": [
    {
     "name": "stdout",
     "output_type": "stream",
     "text": [
      "False\n"
     ]
    }
   ],
   "source": [
    "class Solution:\n",
    "    def isFascinating(self, n: int) -> bool:\n",
    "        s = str(n)+str(2*n)+str(3*n)\n",
    "        num = {}\n",
    "        for i in s:\n",
    "            if i == '0':\n",
    "                return False\n",
    "            num[i] = num.get(i, 0)+1\n",
    "            if num[i] > 1:\n",
    "                return False\n",
    "        return True\n",
    "\n",
    "\n",
    "s = Solution()\n",
    "print(s.isFascinating(100))\n"
   ]
  },
  {
   "cell_type": "code",
   "execution_count": 37,
   "metadata": {},
   "outputs": [
    {
     "name": "stdout",
     "output_type": "stream",
     "text": [
      "1\n"
     ]
    }
   ],
   "source": [
    "class Solution:\n",
    "    def longestSemiRepetitiveSubstring(self, s: str) -> int:\n",
    "        l = 1\n",
    "        max_len = 1\n",
    "        x = 0\n",
    "        for i in range(len(s)-1):\n",
    "            if s[i] == s[i+1]:\n",
    "                l = i-x+1\n",
    "                x = i+1\n",
    "            l += 1\n",
    "            max_len = max(max_len, l)\n",
    "        return max_len\n",
    "\n",
    "\n",
    "s = Solution()\n",
    "# st = \"6123145666\"\n",
    "# st =\"1111111\"\n",
    "st = \"0\"\n",
    "print(s.longestSemiRepetitiveSubstring(st))\n"
   ]
  },
  {
   "cell_type": "code",
   "execution_count": 9,
   "metadata": {},
   "outputs": [
    {
     "name": "stdout",
     "output_type": "stream",
     "text": [
      "5\n"
     ]
    }
   ],
   "source": [
    "l = [(0,1),(0,3),(0,-1),(0,2),(0,10),(1,4),(1,2),(1,3),(2,3),(2,4),(3,4)]\n",
    "import bisect\n",
    "x = bisect.bisect_right(l,(0,10**9))\n",
    "print(x)"
   ]
  },
  {
   "cell_type": "code",
   "execution_count": 12,
   "metadata": {},
   "outputs": [
    {
     "name": "stdout",
     "output_type": "stream",
     "text": [
      "32\n"
     ]
    }
   ],
   "source": [
    "t= int(input())\n",
    "for _ in range(t):\n",
    "    n = int(input())\n",
    "    x = int(n**0.5)\n",
    "    print(2*(x+n//x)) if n%x == 0 else print(2*(x+n//x)+2)\n"
   ]
  },
  {
   "cell_type": "code",
   "execution_count": 82,
   "metadata": {},
   "outputs": [
    {
     "name": "stdout",
     "output_type": "stream",
     "text": [
      "6 4\n",
      "1011100000\n",
      "10111000\n"
     ]
    }
   ],
   "source": [
    "import math\n",
    "n = 10\n",
    "k = -2\n",
    "y = \"1011010111\"\n",
    "\n",
    "# n = 1\n",
    "# k = -1\n",
    "# y = \"0\"\n",
    "\n",
    "# n = 6\n",
    "# k = -4\n",
    "# y = \"110100\"\n",
    "c0_y = y.count('0')\n",
    "c1_y = len(y)-c0_y\n",
    "c1_x = math.ceil((n-k)/2)\n",
    "c0_x = c1_x+k\n",
    "x =\"\"\n",
    "x_len = c0_x+c1_x\n",
    "print(c1_x, c0_x)\n",
    "st = '1'*c1_x+'0'*c0_x\n",
    "\n",
    "# # change s[5] to '0'\n",
    "i=0 \n",
    "if x_len==len(y):\n",
    "    while c1_x>0 and c0_x>0:\n",
    "        # print(st)\n",
    "        k = st[:i]+'0'+st[i+1:]\n",
    "        if k>=y:\n",
    "            st = k\n",
    "            c0_x-=1\n",
    "        else:\n",
    "            c1_x-=1\n",
    "        x+=st[i]\n",
    "        i+=1\n",
    "    # x+= '0'*c0_x+'1'*c1_x \n",
    "#     for i in range(len(y)-1):\n",
    "#         if y[i+1:]>st or c0_x==0:\n",
    "#             x+='1'\n",
    "#             c1_x-=1\n",
    "#             break\n",
    "#         else:\n",
    "#             if y[i]=='0':\n",
    "#                 c0_x-=1\n",
    "#             else:\n",
    "#                 c1_x-=1\n",
    "#             x+=y[i]\n",
    "    # x+='0'*c0_x+'1'*c1_x\n",
    "# else:\n",
    "#     x='1'+'0'*c0_x+'1'*(c1_x-1)\n",
    "print(st)\n",
    "print(x)\n",
    "\n"
   ]
  },
  {
   "cell_type": "code",
   "execution_count": 14,
   "metadata": {},
   "outputs": [
    {
     "name": "stdout",
     "output_type": "stream",
     "text": [
      "3\n",
      "4\n"
     ]
    }
   ],
   "source": [
    "t = int(input())\n",
    "for _ in range(t):\n",
    "    n = int(input())\n",
    "    row1 = list(map(int, input().split()))\n",
    "    row2 = list(map(int, input().split()))\n",
    "    if n % 2 == 1:\n",
    "        d = {i: 1 for i in row1+row2}\n",
    "        for i in range(2*n+1):\n",
    "            if i not in d:\n",
    "                print(i)\n",
    "                break\n",
    "    else:\n",
    "        d1 = {}\n",
    "        for i in range(n):\n",
    "            d1[row1[i]] = d1.get(row1[i], 0)+1\n",
    "            d1[row2[i]] = d1.get(row2[i], 0)+1\n",
    "        max_r1 = 0\n",
    "        check = True\n",
    "        for i in range(n):\n",
    "            if i % 2 == 1:\n",
    "                if d1[row1[i]] > 1:\n",
    "                    check = False\n",
    "                    break\n",
    "                else:\n",
    "                    if row1[i] > max_r1:\n",
    "                        max_r1 = row1[i]\n",
    "        if check:\n",
    "            d1.pop(max_r1)\n",
    "\n",
    "        d2 = {}\n",
    "        for i in range(n):\n",
    "            d2[row1[i]] = d2.get(row1[i], 0)+1\n",
    "            d2[row2[i]] = d2.get(row2[i], 0)+1\n",
    "        max_r2 = 0\n",
    "        check = True\n",
    "        for i in range(n):\n",
    "            if i % 2 == 0:\n",
    "                if d2[row2[i]] > 1:\n",
    "                    check = False\n",
    "                    break\n",
    "                else:\n",
    "                    if row2[i] > max_r2:\n",
    "                        max_r2 = row2[i]\n",
    "        if check:\n",
    "            d2.pop(max_r2)\n",
    "\n",
    "        max_x = 0\n",
    "        for i in range(2*n+1):\n",
    "            if i not in d1:\n",
    "                max_x = max(max_x, i)\n",
    "                break\n",
    "        for i in range(2*n+1):\n",
    "            if i not in d2:\n",
    "                max_x = max(max_x, i)\n",
    "                break\n",
    "        print(max_x)\n"
   ]
  },
  {
   "cell_type": "code",
   "execution_count": 9,
   "metadata": {},
   "outputs": [],
   "source": [
    "import sys\n",
    "sys.stdin = open('test.inp', 'r')\n",
    "sys.stdout = open('test.out', 'w')\n",
    "input = sys.stdin.readline\n",
    "out = sys.stdout.write\n",
    "t = int(input())\n",
    "for _ in range(t):\n",
    "    n = int(input())\n",
    "    a = list(map(int, input().split()))\n",
    "    val = a[0]\n",
    "    check = False\n",
    "    for i in range(n):\n",
    "        if a[i] >= val and not check:\n",
    "            val = a[i]\n",
    "            out('1')\n",
    "        elif a[i] < val and a[i] <= a[0] and not check:\n",
    "            val = a[i]\n",
    "            out('1')\n",
    "            check = True\n",
    "        elif a[i] >= val and check and a[i] <= a[0]:\n",
    "            val = a[i]\n",
    "            out('1')\n",
    "        else:\n",
    "            out('0')\n",
    "    out('\\n')\n"
   ]
  }
 ],
 "metadata": {
  "kernelspec": {
   "display_name": "date3k2",
   "language": "python",
   "name": "python3"
  },
  "language_info": {
   "codemirror_mode": {
    "name": "ipython",
    "version": 3
   },
   "file_extension": ".py",
   "mimetype": "text/x-python",
   "name": "python",
   "nbconvert_exporter": "python",
   "pygments_lexer": "ipython3",
   "version": "3.11.0"
  },
  "orig_nbformat": 4
 },
 "nbformat": 4,
 "nbformat_minor": 2
}
