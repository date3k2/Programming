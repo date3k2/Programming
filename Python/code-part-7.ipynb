{
 "cells": [
  {
   "cell_type": "code",
   "execution_count": null,
   "metadata": {},
   "outputs": [],
   "source": [
    "import sys\n",
    "sys.stdin = open('test.inp', 'r')\n",
    "sys.stdout = open('test.out', 'w')\n",
    "input = sys.stdin.readline\n",
    "t = int(input())\n",
    "for _ in range(t):\n",
    "    n = int(input())\n",
    "    a = list(map(int, input().split()))\n",
    "    count_1 = s = 0\n",
    "    for i in a:\n",
    "        if i == 1:\n",
    "            count_1 += 1\n",
    "        s += i\n",
    "    if s >= 0:\n",
    "        print(1 - ((n-count_1) % 2 == 0))\n",
    "    else:\n",
    "        x = count_1\n",
    "        count_1 -= s//2\n",
    "        if (n-count_1) % 2 == 0:\n",
    "            print(count_1 - x)\n",
    "        else:\n",
    "            print(count_1 - x + 1)\n"
   ]
  },
  {
   "cell_type": "code",
   "execution_count": null,
   "metadata": {},
   "outputs": [],
   "source": [
    "import sys\n",
    "sys.stdin = open('test.inp', 'r')\n",
    "sys.stdout = open('test.out', 'w')\n",
    "input = sys.stdin.readline\n",
    "t = int(input())\n",
    "for _ in range(t):\n",
    "    l, r = input().split()\n",
    "    n = len(r)\n",
    "    diff = n - len(l)\n",
    "    ans = 0\n",
    "    if diff == 0:\n",
    "        pos = -1\n",
    "        for i in range(n):\n",
    "            if l[i] < r[i]:\n",
    "                ans += int(r[i]) - int(l[i])\n",
    "                pos = i\n",
    "                break\n",
    "        if pos != -1:\n",
    "            ans += 9*(n-pos-1)\n",
    "    else:\n",
    "        ans += int(r[0])\n",
    "        ans += 9*(n - 1)\n",
    "    print(ans)\n"
   ]
  },
  {
   "cell_type": "code",
   "execution_count": null,
   "metadata": {},
   "outputs": [],
   "source": [
    "l ='1911'\n",
    "r = \"88\"\n",
    "l = l.zfill(len(r))\n",
    "r = r.zfill(len(l))\n",
    "print(l,r)"
   ]
  },
  {
   "cell_type": "code",
   "execution_count": null,
   "metadata": {},
   "outputs": [],
   "source": [
    "import sys\n",
    "input = sys.stdin.readline\n",
    "t = int(input())\n",
    "for _ in range(t):\n",
    "    n = int(input())\n",
    "    s = input()\n",
    "    t = input()\n",
    "    count = count_reverse = 0\n",
    "    for i in range(n):\n",
    "        if s[i] != t[i]:\n",
    "            count += 1\n",
    "        if s[i] != t[n-i-1]:\n",
    "            count_reverse += 1\n",
    "    if count == 0 or count == 1:\n",
    "        print(count)\n",
    "    elif count_reverse == 0 or count_reverse == 1:\n",
    "        print(2)\n",
    "    else:\n",
    "        x = min(count, count_reverse)\n",
    "        if count == count_reverse:\n",
    "            print(2*x-1)\n",
    "        else:\n",
    "            if x % 2 == 0:\n",
    "                print(2*x-1)\n",
    "            else:\n",
    "                print(2*x)\n"
   ]
  },
  {
   "cell_type": "code",
   "execution_count": 2,
   "metadata": {},
   "outputs": [
    {
     "name": "stdout",
     "output_type": "stream",
     "text": [
      "[]\n",
      "[1]\n",
      "[2]\n",
      "[1, 2]\n",
      "[3]\n",
      "[1, 3]\n",
      "[2, 3]\n",
      "[1, 2, 3]\n"
     ]
    }
   ],
   "source": [
    "def print_permutations(nums):\n",
    "    n = len(nums)\n",
    "    for bitmask in range(1 << n):\n",
    "        permutation = []\n",
    "        for i in range(n):\n",
    "            if bitmask & (1 << i):\n",
    "                permutation.append(nums[i])\n",
    "        print(permutation)\n",
    "\n",
    "# Test\n",
    "nums = [1, 2, 3]\n",
    "print_permutations(nums)\n"
   ]
  },
  {
   "cell_type": "code",
   "execution_count": null,
   "metadata": {},
   "outputs": [],
   "source": [
    "x = 7\n",
    "i = 5\n",
    "print(bin(x), bin(1 << i))\n",
    "print(x & (1 << i))"
   ]
  },
  {
   "cell_type": "code",
   "execution_count": 3,
   "metadata": {},
   "outputs": [
    {
     "name": "stdout",
     "output_type": "stream",
     "text": [
      "[[], [1], [1, 2], [1, 2, 3], [1, 3], [2], [2, 3], [3]]\n"
     ]
    }
   ],
   "source": [
    "def print_subsets(nums):\n",
    "    n = len(nums)\n",
    "    subsets = []\n",
    "    def backtrack(start, subset):\n",
    "        subsets.append(subset[:])\n",
    "        for i in range(start, n):\n",
    "            subset.append(nums[i])\n",
    "            backtrack(i + 1, subset)\n",
    "            subset.pop()\n",
    "    backtrack(0, [])\n",
    "    return subsets\n",
    "\n",
    "# Test\n",
    "nums = [1, 2, 3]\n",
    "subsets = print_subsets(nums)\n",
    "print(subsets)"
   ]
  },
  {
   "cell_type": "code",
   "execution_count": 4,
   "metadata": {},
   "outputs": [],
   "source": [
    "def specialPerm(self, nums: list[int]) -> int:\n",
    "    n,mod = len(nums),10**9+7\n",
    "    def dfs(prev,mask):\n",
    "        if mask == (1<<n)-1:\n",
    "            return 1\n",
    "        ans = 0\n",
    "        for i in range(n):\n",
    "            if mask & (1<<i) == 0 and (prev == -1 or abs(nums[i]-prev) <= 1):\n",
    "                ans += dfs(nums[i],mask|(1<<i))\n",
    "        return ans\n",
    "\n"
   ]
  },
  {
   "cell_type": "code",
   "execution_count": 57,
   "metadata": {},
   "outputs": [
    {
     "name": "stdout",
     "output_type": "stream",
     "text": [
      "178290591\n",
      "0.7939155101776123\n"
     ]
    }
   ],
   "source": [
    "from time import time\n",
    "from functools import lru_cache\n",
    "start = time()\n",
    "class Solution:\n",
    "    def specialPerm(self, nums: list[int]) -> int:\n",
    "        n, MOD = len(nums), 10**9 + 7\n",
    "        @lru_cache(maxsize=None)\n",
    "        def dfs(prev, mask):\n",
    "            if mask == (1 << n) - 1: return 1\n",
    "            count = 0\n",
    "            for i in range(n):\n",
    "                if not (mask & (1 << i)) and (nums[i] % nums[prev] == 0 or nums[prev] % nums[i] == 0):\n",
    "                    count += dfs(i, mask | (1 << i)) % MOD\n",
    "            return count % MOD\n",
    "        return dfs(0, 0)\n",
    "nums = [1,2,4,8,16,32,64,128,256,512,1024,2048,4096,8192]\n",
    "s = Solution()\n",
    "print(s.specialPerm(nums))\n",
    "print(time()-start)"
   ]
  },
  {
   "cell_type": "code",
   "execution_count": 52,
   "metadata": {},
   "outputs": [
    {
     "name": "stdout",
     "output_type": "stream",
     "text": [
      "43466557686937456435688527675040625802564660517371780402481729089536555417949051890403879840079255169295922593080322634775209689623239873322471161642996440906533187938298969649928516003704476137795166849228875\n",
      "0.0009965896606445312\n"
     ]
    }
   ],
   "source": [
    "@lru_cache(maxsize=None)\n",
    "def fibo(n):\n",
    "    if n == 0:\n",
    "        return 0\n",
    "    if n == 1:\n",
    "        return 1\n",
    "    return fibo(n-1) + fibo(n-2)\n",
    "start = time()\n",
    "print(fibo(1000))\n",
    "print(time()-start)"
   ]
  },
  {
   "cell_type": "code",
   "execution_count": 61,
   "metadata": {},
   "outputs": [
    {
     "name": "stdout",
     "output_type": "stream",
     "text": [
      "2\n"
     ]
    }
   ],
   "source": [
    "print(bin(33).count('1'))"
   ]
  },
  {
   "attachments": {},
   "cell_type": "markdown",
   "metadata": {},
   "source": [
    "![Alt text](geek4geek_problem.png)"
   ]
  },
  {
   "cell_type": "code",
   "execution_count": 98,
   "metadata": {},
   "outputs": [
    {
     "data": {
      "text/plain": [
       "9"
      ]
     },
     "execution_count": 98,
     "metadata": {},
     "output_type": "execute_result"
    }
   ],
   "source": [
    "class Solution:\n",
    "    def gatheringCost(self, N: int, weightsArr: list[int]) -> int:\n",
    "        sum_vip = [0]*N\n",
    "        s = [0]*N\n",
    "        ans = 0\n",
    "        for i in range(N):\n",
    "            sum_vip[i] = sum_vip[i-1] + weightsArr[i]*i\n",
    "            s[i] = s[i-1] + weightsArr[i]\n",
    "            ans += i*weightsArr[i]\n",
    "        for i in range(1, N):\n",
    "            ans = min(ans, i * s[i-1] - sum_vip[i-1] +\n",
    "                      sum_vip[N-1] - sum_vip[i] - i * (s[N-1]-s[i]))\n",
    "        return ans\n",
    "\n",
    "\n",
    "s = Solution()\n",
    "# s.gatheringCost(4, [1, 3, 1, 6])\n",
    "s.gatheringCost(6,[1,1,1,1,1,1])\n",
    "\n"
   ]
  }
 ],
 "metadata": {
  "kernelspec": {
   "display_name": "date3k2",
   "language": "python",
   "name": "python3"
  },
  "language_info": {
   "codemirror_mode": {
    "name": "ipython",
    "version": 3
   },
   "file_extension": ".py",
   "mimetype": "text/x-python",
   "name": "python",
   "nbconvert_exporter": "python",
   "pygments_lexer": "ipython3",
   "version": "3.11.0"
  },
  "orig_nbformat": 4
 },
 "nbformat": 4,
 "nbformat_minor": 2
}
