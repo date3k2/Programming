{
 "cells": [
  {
   "cell_type": "code",
   "execution_count": 25,
   "metadata": {},
   "outputs": [
    {
     "data": {
      "text/plain": [
       "'Xin chào tôi là đạt'"
      ]
     },
     "execution_count": 25,
     "metadata": {},
     "output_type": "execute_result"
    }
   ],
   "source": [
    "d = \"\"\"Xin chào tôi là \\\n",
    "đạt\"\"\"\n",
    "d"
   ]
  },
  {
   "cell_type": "code",
   "execution_count": 46,
   "metadata": {},
   "outputs": [
    {
     "data": {
      "text/plain": [
       "9223372036854775807"
      ]
     },
     "execution_count": 46,
     "metadata": {},
     "output_type": "execute_result"
    }
   ],
   "source": [
    "import sys\n",
    "l = [4, 2, 5, 1, 2]\n",
    "\n",
    "# for i in l:\n",
    "#     print(id(i), end=\" \")\n",
    "tuple(l)\n",
    "# check how many memories are allocated to each element of the list\n",
    "s = (i*i for i in l)\n",
    "sum(s)\n",
    "sys.getsizeof(s)\n",
    "sys"
   ]
  },
  {
   "cell_type": "code",
   "execution_count": 79,
   "metadata": {},
   "outputs": [
    {
     "data": {
      "text/plain": [
       "5"
      ]
     },
     "execution_count": 79,
     "metadata": {},
     "output_type": "execute_result"
    }
   ],
   "source": [
    "# abstract class in python\n",
    "\n",
    "from abc import ABC, abstractmethod, ABCMeta\n",
    "\n",
    "\n",
    "class Shape(ABC):\n",
    "    @abstractmethod\n",
    "    def area(self):\n",
    "        pass\n",
    "\n",
    "    @abstractmethod\n",
    "    def perimeter(self):\n",
    "        pass\n",
    "\n",
    "\n",
    "class Square(Shape):\n",
    "    def __init__(self, side):\n",
    "        self._side = side\n",
    "\n",
    "    def area(self):\n",
    "        return self._side ** 2\n",
    "\n",
    "    def perimeter(self):\n",
    "        return 4 * self._side\n",
    "\n",
    "\n",
    "s = Square(5)\n",
    "s.area()\n",
    "s._side\n",
    "# interface in python"
   ]
  },
  {
   "cell_type": "code",
   "execution_count": 3,
   "metadata": {},
   "outputs": [
    {
     "name": "stdout",
     "output_type": "stream",
     "text": [
      "1732\n"
     ]
    }
   ],
   "source": [
    "def minimizeMax(nums, p):\n",
    "    n = len(nums)\n",
    "    nums.sort()\n",
    "    diff = sorted([(abs(nums[i] - nums[i + 1]), i) for i in range(n - 1)])\n",
    "    curr = ans = 0\n",
    "    s = set()\n",
    "    for _ in range(p):\n",
    "        ans = max(ans, diff[curr][0])\n",
    "        s.add(diff[curr][1])\n",
    "        i = curr + 1\n",
    "        while i < n - 1 and ((diff[i][1] + 1) in s or (diff[i][1] - 1) in s):\n",
    "            i += 1\n",
    "        curr = i\n",
    "    return ans\n",
    "\n",
    "\n",
    "nums = [6355, 4345, 2992, 7303, 1119, 4089, 4623, 6786, 6724, 3454]\n",
    "p = 4\n",
    "print(minimizeMax(nums, p))"
   ]
  },
  {
   "cell_type": "code",
   "execution_count": 2,
   "metadata": {},
   "outputs": [],
   "source": [
    "import numpy as np\n",
    "import pyperclip\n",
    "\n",
    "x = str(list(np.random.randint(0, 10000, 1000)))\n",
    "pyperclip.copy(x)"
   ]
  },
  {
   "cell_type": "code",
   "execution_count": 5,
   "metadata": {},
   "outputs": [
    {
     "data": {
      "text/plain": [
       "(517, [1119, 2992, 3454, 4089, 4345, 4623, 6355, 6724, 6786, 7303])"
      ]
     },
     "execution_count": 5,
     "metadata": {},
     "output_type": "execute_result"
    }
   ],
   "source": [
    "class Solution:\n",
    "    def minimizeMax(self, nums, p):\n",
    "        def solve(d):\n",
    "            n = len(nums)\n",
    "            c = 0\n",
    "            i = 0\n",
    "            while i < n - 1:\n",
    "                if nums[i + 1] - nums[i] <= d:\n",
    "                    c += 1\n",
    "                    i += 1\n",
    "                if c >= p:\n",
    "                    return True\n",
    "                i += 1\n",
    "            return False\n",
    "\n",
    "        nums.sort()\n",
    "        n = len(nums)\n",
    "        lo, hi = 0, nums[n - 1] - nums[0]\n",
    "\n",
    "        while lo < hi:\n",
    "            mid = lo + (hi - lo) // 2\n",
    "\n",
    "            if solve(mid):\n",
    "                hi = mid\n",
    "            else:\n",
    "                lo = mid + 1\n",
    "        return lo, nums\n",
    "\n",
    "\n",
    "nums = [6355, 4345, 2992, 7303, 1119, 4089, 4623, 6786, 6724, 3454]\n",
    "p = 4\n",
    "Solution().minimizeMax(nums, p)"
   ]
  },
  {
   "cell_type": "code",
   "execution_count": 32,
   "metadata": {},
   "outputs": [
    {
     "data": {
      "text/plain": [
       "2"
      ]
     },
     "execution_count": 32,
     "metadata": {},
     "output_type": "execute_result"
    }
   ],
   "source": [
    "from typing import List\n",
    "\n",
    "\n",
    "class Solution:\n",
    "    def change(self, amount: int, coins: List[int]) -> int:\n",
    "        dp = [1] + [0] * amount\n",
    "        for coin in coins:\n",
    "            for a in range(coin, amount + 1):\n",
    "                dp[a] += dp[a - coin]\n",
    "        return dp[amount]\n",
    "\n",
    "\n",
    "amount = 3\n",
    "coins = [1, 2]\n",
    "Solution().change(amount, coins)"
   ]
  },
  {
   "cell_type": "code",
   "execution_count": 2,
   "metadata": {},
   "outputs": [],
   "source": [
    "from collections import defaultdict\n",
    "from typing import List\n",
    "\n",
    "\n",
    "class Solution:\n",
    "    def twoSum(self, nums: List[int], target: int) -> List[int]:\n",
    "        d = defaultdict(int)\n",
    "        for i, num in enumerate(nums):\n",
    "            if d[target - num]:\n",
    "                return [i, d[target - num] - 1]\n",
    "            else:\n",
    "                d[num] = i + 1"
   ]
  },
  {
   "cell_type": "markdown",
   "metadata": {},
   "source": [
    "# Thể tích bể lớn nhất"
   ]
  },
  {
   "cell_type": "code",
   "execution_count": null,
   "metadata": {},
   "outputs": [],
   "source": [
    "class Solution:\n",
    "    def maxArea(self, height: List[int]) -> int:\n",
    "        x = sorted([(x, i) for i, x in enumerate(height)])\n",
    "        n, m, s = len(height) - 1, 0, 0\n",
    "        check = [False for _ in range(n + 2)]\n",
    "        for i in x:\n",
    "            s = max(s, max(n - i[1], i[1] - m) * i[0])\n",
    "            check[i[1]] = True\n",
    "            if i[1] == n:\n",
    "                while check[n]:\n",
    "                    n -= 1\n",
    "            if i[1] == m:\n",
    "                while check[m]:\n",
    "                    m += 1\n",
    "        return s"
   ]
  }
 ],
 "metadata": {
  "kernelspec": {
   "display_name": ".venv",
   "language": "python",
   "name": "python3"
  },
  "language_info": {
   "codemirror_mode": {
    "name": "ipython",
    "version": 3
   },
   "file_extension": ".py",
   "mimetype": "text/x-python",
   "name": "python",
   "nbconvert_exporter": "python",
   "pygments_lexer": "ipython3",
   "version": "3.11.0"
  },
  "orig_nbformat": 4
 },
 "nbformat": 4,
 "nbformat_minor": 2
}
