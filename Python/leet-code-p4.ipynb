{
 "cells": [
  {
   "cell_type": "code",
   "execution_count": 4,
   "metadata": {},
   "outputs": [
    {
     "name": "stdout",
     "output_type": "stream",
     "text": [
      "{(1, 2): 1, (2, 1): 1}\n",
      "2\n"
     ]
    }
   ],
   "source": [
    "grid = [[3,2,1],[1,7,6],[2,7,7]]\n",
    "# grid = [[3,1,2,2],[1,4,4,5],[2,4,2,2],[2,4,2,2]]\n",
    "grid = [[1,2],[2,1]]\n",
    "freq = {}\n",
    "for i in zip(*grid):\n",
    "    freq[i] = freq.get(i,0) + 1\n",
    "ans =0\n",
    "for i in grid:\n",
    "    if freq.get(tuple(i),0)>0:\n",
    "        ans +=freq[tuple(i)]\n",
    "print(freq)\n",
    "print(ans)"
   ]
  },
  {
   "cell_type": "code",
   "execution_count": 5,
   "metadata": {},
   "outputs": [
    {
     "name": "stdout",
     "output_type": "stream",
     "text": [
      "509\n",
      "-97 9 -51 -41 -36 -97 55 -6 -13 39 83 74 -27 34 -6 -69 -42 -77 89 -27 -95 29 -17 53 -56 66 35 -37 7 70 81 -58 -98 -8 -51 -74 74 82 -30 -96 -41 45 -39 -18 49 2 -73 21 -98 92 92 43 3 -22 -47 -51 -66 -59 -99 1 58 -18 -48 34 74 84 -78 -57 -81 23 92 -92 90 48 -89 -14 58 -24 -56 -70 86 -68 -35 -69 8 88 71 4 47 59 65 -11 49 -4 -69 71 -23 60 -42 17 35 99 14 24 57 92 -88 -47 -30 43 91 71 -72 -87 7 66 -81 49 -78 54 -37 -59 -29 -41 5 15 92 -9 -36 64 88 -92 17 99 -89 -87 36 -5 -37 -74 -56 -68 -80 -13 -12 5 -6 -58 70 -48 -42 -57 -69 66 -41 -80 -35 90 -50 56 -81 24 4 35 -73 96 -18 1 46 -83 -31 -68 21 0 -60 -59 96 97 -87 96 -33 39 -35 23 75 97 -8 48 55 -3 -45 -56 -19 -8 -71 94 72 43 29 -24 95 65 -9 -99 -51 -96 79 -55 56 21 -9 -60 -92 60 -20 -26 -2 -35 85 6 -32 -99 -42 17 55 39 -64 40 -49 87 -60 -37 -25 -62 34 95 -39 -95 35 -1 27 18 11 15 -67 70 7 34 18 -64 94 98 18 8 53 90 44 76 -31 8 -60 -99 89 -47 90 43 73 -94 -28 -67 97 71 68 -63 84 -50 -81 94 22 -20 -95 51 9 -85 -7 -43 38 -3 39 56 36 -80 21 -59 -73 -61 91 9 -49 -10 58 -8 86 74 92 48 -4 -93 67 -86 50 31 1 -27 50 -31 -53 -49 -57 -46 83 93 -51 -8 92 67 84 -67 7 1 39 34 -73 48 -78 98 -33 31 97 -28 86 41 -38 -23 70 54 55 -99 82 46 -77 96 -66 68 -96 97 -33 -53 -72 92 -9 -3 -28 -32 68 67 36 -31 92 56 19 69 34 -40 -46 87 35 -27 20 -74 -43 -68 92 41 -6 -97 16 50 10 -54 75 -40 -24 -73 57 -34 -96 70 -45 -84 50 12 -95 -37 94 19 -24 -19 7 0 44 -78 -58 -17 9 71 -77 34 24 -52 4 -83 -71 -50 -57 -28 96 62 -40 65 45 -1 -95 9 36 45 38 75 -23 -96 44 77 -55 -42 -8 -3 -56 -47 -49 65 -53 -5 56 40 12 -90 79 -64 72 -71 94 -63 -63 8 -97 -24 9 8 37 3 70 70 96 -81 72 40 93 -68 74 -96 40 12 13 71 27 94 2 76 -4 -76 4 -58 -68 -94 28 -41 -79 -7 -95 -15 -70 -67 87 -70 56 83 -18 -94 -100\n"
     ]
    }
   ],
   "source": [
    "# gain = [-5,1,5,0,-7]\n",
    "# gain = [-4,-3,-2,-1,4,3,2]\n",
    "# n = int(input())\n",
    "# gain = list(map(int,input().split()))\n",
    "# maxAlt=s=0\n",
    "# for i in gain:\n",
    "#     s +=i\n",
    "#     maxAlt = max(s,maxAlt)\n",
    "# print(maxAlt)\n",
    "\n",
    "# generate a list of random numbers for this problem\n",
    "import random\n",
    "import pyperclip\n",
    "n = random.randint(500, 1000)\n",
    "print(n)\n",
    "# for i in range(n):\n",
    "nums = [random.randint(-100, 100) for _ in range(n)]\n",
    "s = ' '.join(map(str, nums))\n",
    "print(s)\n",
    "pyperclip.copy(s)\n",
    "\n",
    "# s =\"-6 -64 83 42 64 74 -53 58 68 -32 -3 33 -72 4 99 99 53 -22 -6 47 -34 -76 -85 -36 86 86 -13 -61 7 48 17 -25 4 -69 75 30 -74 33 81 68 -76 6 -69 59 43 74 95 -89 57\"\n",
    "# print(list(map(int,s.split())))\n",
    "\n",
    "# copy in clipboard in windows\n",
    "# pyperclip.copy(' '.join(map(str,nums)))\n"
   ]
  },
  {
   "attachments": {},
   "cell_type": "markdown",
   "metadata": {},
   "source": [
    "# Codeforce : https://codeforces.com/contest/1831/problem/C\n"
   ]
  },
  {
   "cell_type": "code",
   "execution_count": 6,
   "metadata": {},
   "outputs": [],
   "source": [
    "# import sys\n",
    "# from collections import deque, defaultdict\n",
    "# sys.stdin = open('test.inp', 'r')\n",
    "# sys.stdout = open('test.out', 'w')\n",
    "# input = sys.stdin.readline\n",
    "# t = int(input())\n",
    "# while t:\n",
    "#     t -= 1\n",
    "#     n = int(input())\n",
    "#     adj = defaultdict(list)\n",
    "#     pos = {}\n",
    "#     q = deque()\n",
    "#     check = [False] * (n+1)\n",
    "#     for i in range(n-1):\n",
    "#         u, v = list(map(int, input().split()))\n",
    "#         adj[u].append(v)\n",
    "#         adj[v].append(u)\n",
    "#         pos[(u, v)] = i\n",
    "#         pos[(v, u)] = i\n",
    "#         if u == 1:\n",
    "#             q.append((v, i))\n",
    "#             check[i] = True\n",
    "#         elif v == 1:\n",
    "#             q.append((u, i))\n",
    "#             check[i] = True\n",
    "#     count = 0\n",
    "#     while q:\n",
    "#         count += 1\n",
    "#         q_new = deque()\n",
    "#         while q:\n",
    "#             u, i = q.popleft()\n",
    "#             for v in adj[u]:\n",
    "#                 if check[pos[(u, v)]]:\n",
    "#                     continue\n",
    "#                 if pos[(u, v)] < i:\n",
    "#                     q_new.append((v, pos[(u, v)]))\n",
    "#                 else:\n",
    "#                     q.append((v, pos[(u, v)]))\n",
    "#                 check[pos[(u, v)]] = True\n",
    "#         q = q_new\n",
    "#     sys.stdout.write(str(count) + '\\n')\n"
   ]
  },
  {
   "cell_type": "code",
   "execution_count": 7,
   "metadata": {},
   "outputs": [],
   "source": [
    "import sys\n",
    "input = sys.stdin.readline\n",
    "t = int(input())\n",
    "list_num = input().split()\n",
    "print('\\n'.join(max(i) for i in list_num))"
   ]
  },
  {
   "cell_type": "code",
   "execution_count": 1,
   "metadata": {},
   "outputs": [
    {
     "name": "stdout",
     "output_type": "stream",
     "text": [
      "1\n"
     ]
    }
   ],
   "source": [
    "from collections import deque\n",
    "q =deque()\n",
    "q.append(1)\n",
    "q.append(2)\n",
    "q.append(3)\n",
    "x = q.popleft()\n",
    "print(x)\n"
   ]
  }
 ],
 "metadata": {
  "kernelspec": {
   "display_name": "date3k2",
   "language": "python",
   "name": "python3"
  },
  "language_info": {
   "codemirror_mode": {
    "name": "ipython",
    "version": 3
   },
   "file_extension": ".py",
   "mimetype": "text/x-python",
   "name": "python",
   "nbconvert_exporter": "python",
   "pygments_lexer": "ipython3",
   "version": "3.11.0"
  },
  "orig_nbformat": 4
 },
 "nbformat": 4,
 "nbformat_minor": 2
}
