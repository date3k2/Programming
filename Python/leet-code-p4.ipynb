{
 "cells": [
  {
   "cell_type": "code",
   "execution_count": 6,
   "metadata": {},
   "outputs": [
    {
     "name": "stdout",
     "output_type": "stream",
     "text": [
      "{(1, 2): 1, (2, 1): 1}\n",
      "2\n"
     ]
    }
   ],
   "source": [
    "grid = [[3,2,1],[1,7,6],[2,7,7]]\n",
    "# grid = [[3,1,2,2],[1,4,4,5],[2,4,2,2],[2,4,2,2]]\n",
    "grid = [[1,2],[2,1]]\n",
    "freq = {}\n",
    "for i in zip(*grid):\n",
    "    freq[i] = freq.get(i,0) + 1\n",
    "ans =0\n",
    "for i in grid:\n",
    "    if freq.get(tuple(i),0)>0:\n",
    "        ans +=freq[tuple(i)]\n",
    "print(freq)\n",
    "print(ans)"
   ]
  },
  {
   "cell_type": "code",
   "execution_count": 7,
   "metadata": {},
   "outputs": [
    {
     "name": "stdout",
     "output_type": "stream",
     "text": [
      "608\n",
      "0 87 -49 -77 -37 -15 -98 -92 -53 2 -86 28 67 -23 42 54 -37 23 -1 -80 38 71 -83 8 81 52 1 -36 64 85 -72 72 62 -24 -83 97 4 -35 71 -18 -26 -28 95 25 -28 44 42 -41 -60 -21 -46 61 56 -32 92 98 31 39 -75 -88 -17 -89 89 -70 -84 59 3 92 -64 -63 -30 17 -49 15 65 -11 -89 -16 36 79 36 -71 -40 15 -83 64 92 26 -52 -49 -32 -49 -98 -57 44 -52 55 -71 13 59 -47 80 -92 38 -63 -51 35 -28 -5 -94 -33 5 -6 69 -21 -62 -1 26 -92 -66 -1 4 50 45 35 1 79 -76 86 51 13 76 9 25 -22 -74 -94 31 99 -83 -35 -5 25 15 -61 95 -50 -5 75 -13 13 15 -82 -42 53 -23 12 -90 97 -4 32 -52 -90 56 -95 38 -21 -32 -55 -66 -18 -12 55 56 49 -80 -90 -83 -76 -4 60 -75 -47 -41 -22 -37 -47 9 85 38 50 -54 70 66 54 -38 5 69 -12 -86 39 36 -48 -16 96 -52 -42 -21 -78 -50 31 19 67 -60 -80 -53 -61 -23 69 27 52 -43 73 -66 -58 25 4 -97 -4 -22 90 9 -78 -31 -10 -85 -75 63 16 -32 64 29 21 0 90 33 73 -15 56 37 53 -67 28 54 60 21 -15 -42 89 38 19 80 13 -54 -32 -45 76 -49 -96 38 86 -83 -36 90 28 84 95 -21 21 59 -24 22 -56 74 37 -85 14 27 21 -12 55 -100 -47 -20 99 -82 71 98 -15 -4 52 81 21 -73 -25 54 -92 11 -73 -77 36 -12 43 -97 18 55 -37 -88 -86 3 -40 -1 86 -7 54 -19 41 52 -97 -37 78 4 99 5 6 81 1 11 -26 -29 71 47 88 -34 -95 91 -82 2 -41 25 25 19 -59 -35 -52 -75 70 -92 79 6 16 16 -39 3 -21 -51 78 4 36 -32 14 -43 -71 -38 -83 85 88 -72 40 -39 14 -23 25 -4 23 -75 72 -73 -5 -44 -73 17 -41 9 56 -80 -47 -75 77 62 4 91 75 -72 86 -64 -23 28 43 76 -41 75 -2 -12 95 29 -45 -35 40 44 33 77 29 -55 46 -8 -48 -9 100 -95 77 47 27 60 39 26 61 -33 10 -52 -2 97 47 -70 97 -34 -96 -43 -36 76 99 -19 27 58 -6 -12 -60 -65 54 38 -2 -24 66 -92 -11 40 -9 -84 -93 -4 2 57 31 -32 -6 31 -95 -4 -32 -16 -66 -79 100 87 75 73 33 29 -42 -29 52 51 59 -67 87 -32 -72 22 -100 -11 86 83 95 18 -83 13 -66 -44 -42 66 9 -93 -40 -65 68 0 -98 40 15 57 70 -22 27 -69 16 12 98 87 -77 -70 81 75 -62 -37 87 0 14 -15 -80 70 23 34 86 -30 -50 -90 -78 -51 -89 -58 30 43 66 15 -92 9 1 -11 -95 -47 62 26 -89 -47 36 -27 -92 15 -74 8 -73 -28 81 97 14 -39 -28 16 -44 -50 72 37 -66 -23 -28 52 53 100 4 -97 -3 -79 47 -49 -31 93 -72 -69 29 88 2 -7 -5 62 -84 62 88 -43\n"
     ]
    }
   ],
   "source": [
    "# gain = [-5,1,5,0,-7]\n",
    "# gain = [-4,-3,-2,-1,4,3,2]\n",
    "# n = int(input())\n",
    "# gain = list(map(int,input().split()))\n",
    "# maxAlt=s=0\n",
    "# for i in gain:\n",
    "#     s +=i\n",
    "#     maxAlt = max(s,maxAlt)\n",
    "# print(maxAlt)\n",
    "\n",
    "# generate a list of random numbers for this problem\n",
    "import random\n",
    "import pyperclip\n",
    "n = random.randint(500, 1000)\n",
    "print(n)\n",
    "# for i in range(n):\n",
    "nums = [random.randint(-100, 100) for _ in range(n)]\n",
    "s = ' '.join(map(str, nums))\n",
    "print(s)\n",
    "pyperclip.copy(s)\n",
    "\n",
    "# s =\"-6 -64 83 42 64 74 -53 58 68 -32 -3 33 -72 4 99 99 53 -22 -6 47 -34 -76 -85 -36 86 86 -13 -61 7 48 17 -25 4 -69 75 30 -74 33 81 68 -76 6 -69 59 43 74 95 -89 57\"\n",
    "# print(list(map(int,s.split())))\n",
    "\n",
    "# copy in clipboard in windows\n",
    "# pyperclip.copy(' '.join(map(str,nums)))\n"
   ]
  },
  {
   "attachments": {},
   "cell_type": "markdown",
   "metadata": {},
   "source": [
    "# Codeforce : https://codeforces.com/contest/1831/problem/C\n"
   ]
  },
  {
   "cell_type": "code",
   "execution_count": 8,
   "metadata": {},
   "outputs": [],
   "source": [
    "# import sys\n",
    "# from collections import deque, defaultdict\n",
    "# sys.stdin = open('test.inp', 'r')\n",
    "# sys.stdout = open('test.out', 'w')\n",
    "# input = sys.stdin.readline\n",
    "# t = int(input())\n",
    "# while t:\n",
    "#     t -= 1\n",
    "#     n = int(input())\n",
    "#     adj = defaultdict(list)\n",
    "#     pos = {}\n",
    "#     q = deque()\n",
    "#     check = [False] * (n+1)\n",
    "#     for i in range(n-1):\n",
    "#         u, v = list(map(int, input().split()))\n",
    "#         adj[u].append(v)\n",
    "#         adj[v].append(u)\n",
    "#         pos[(u, v)] = i\n",
    "#         pos[(v, u)] = i\n",
    "#         if u == 1:\n",
    "#             q.append((v, i))\n",
    "#             check[i] = True\n",
    "#         elif v == 1:\n",
    "#             q.append((u, i))\n",
    "#             check[i] = True\n",
    "#     count = 0\n",
    "#     while q:\n",
    "#         count += 1\n",
    "#         q_new = deque()\n",
    "#         while q:\n",
    "#             u, i = q.popleft()\n",
    "#             for v in adj[u]:\n",
    "#                 if check[pos[(u, v)]]:\n",
    "#                     continue\n",
    "#                 if pos[(u, v)] < i:\n",
    "#                     q_new.append((v, pos[(u, v)]))\n",
    "#                 else:\n",
    "#                     q.append((v, pos[(u, v)]))\n",
    "#                 check[pos[(u, v)]] = True\n",
    "#         q = q_new\n",
    "#     sys.stdout.write(str(count) + '\\n')\n"
   ]
  },
  {
   "cell_type": "code",
   "execution_count": 13,
   "metadata": {},
   "outputs": [
    {
     "name": "stdout",
     "output_type": "stream",
     "text": [
      "2\n",
      "5\n",
      "1\n",
      "1\n"
     ]
    }
   ],
   "source": [
    "import sys\n",
    "input = sys.stdin.readline\n",
    "t = int(input())\n",
    "list_num = input().split()\n",
    "print('\\n'.join(max(i) for i in list_num))"
   ]
  }
 ],
 "metadata": {
  "kernelspec": {
   "display_name": "date3k2",
   "language": "python",
   "name": "python3"
  },
  "language_info": {
   "codemirror_mode": {
    "name": "ipython",
    "version": 3
   },
   "file_extension": ".py",
   "mimetype": "text/x-python",
   "name": "python",
   "nbconvert_exporter": "python",
   "pygments_lexer": "ipython3",
   "version": "3.11.0"
  },
  "orig_nbformat": 4
 },
 "nbformat": 4,
 "nbformat_minor": 2
}
