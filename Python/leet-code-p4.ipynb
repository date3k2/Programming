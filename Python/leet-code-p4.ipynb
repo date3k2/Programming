{
 "cells": [
  {
   "cell_type": "code",
   "execution_count": 1,
   "metadata": {},
   "outputs": [
    {
     "name": "stdout",
     "output_type": "stream",
     "text": [
      "{(1, 2): 1, (2, 1): 1}\n",
      "2\n"
     ]
    }
   ],
   "source": [
    "grid = [[3, 2, 1], [1, 7, 6], [2, 7, 7]]\n",
    "# grid = [[3,1,2,2],[1,4,4,5],[2,4,2,2],[2,4,2,2]]\n",
    "grid = [[1, 2], [2, 1]]\n",
    "freq = {}\n",
    "for i in zip(*grid):\n",
    "    freq[i] = freq.get(i, 0) + 1\n",
    "ans = 0\n",
    "for i in grid:\n",
    "    if freq.get(tuple(i), 0) > 0:\n",
    "        ans += freq[tuple(i)]\n",
    "print(freq)\n",
    "print(ans)\n"
   ]
  },
  {
   "cell_type": "code",
   "execution_count": null,
   "metadata": {},
   "outputs": [
    {
     "name": "stdout",
     "output_type": "stream",
     "text": [
      "658\n",
      "-51 -15 -57 -56 -5 -66 -92 88 -63 -20 73 -57 -26 12 75 -41 24 86 99 -39 -20 -51 -53 58 21 81 -83 46 31 -92 -42 96 4 -59 44 -94 12 -28 -22 46 -2 -33 -19 19 34 15 100 -10 -74 36 -50 63 54 -60 -57 49 7 13 -39 79 -91 38 39 47 4 1 -73 -96 -24 -57 74 75 56 4 65 -33 -56 7 12 -44 2 -29 -3 37 4 -23 -82 -80 -63 15 -17 86 80 76 -37 -60 -12 -38 77 -19 -75 61 -99 -20 51 21 27 -12 85 41 23 50 7 -84 -89 46 -7 46 -15 66 -11 32 -58 -71 -60 51 87 -50 -94 -100 46 35 90 -45 -54 52 81 48 82 72 47 9 -34 44 -49 6 -28 -57 -87 34 -54 -96 69 0 -5 23 -91 51 -43 36 54 10 -21 94 57 55 -71 84 -50 98 55 55 -1 -26 84 -45 47 -50 -92 -94 88 80 -4 78 -20 65 72 -9 53 46 -15 34 -50 -48 -88 79 0 37 -72 71 75 1 13 6 91 -55 -43 -74 81 -29 40 0 -49 79 -77 -18 4 -84 54 92 -83 41 -53 -29 -49 42 55 -54 -52 -93 -96 -45 -18 -92 -38 -24 78 84 66 -88 74 83 22 23 -28 -29 56 -65 -35 48 -26 -60 98 78 -15 91 -41 37 88 -58 -77 56 13 -52 -17 -8 -11 27 61 9 89 35 96 9 -55 -11 29 32 -29 -21 72 -3 -54 -97 -62 83 -27 11 -24 62 -18 62 57 47 6 -19 -3 -62 -94 -50 47 12 93 1 50 -93 -9 95 90 -10 86 2 22 48 43 -48 16 90 100 82 -94 39 -18 -21 -54 90 -26 -67 51 5 84 -41 -60 90 -50 39 -45 -89 -15 -57 24 -63 -30 -42 29 55 -38 96 19 89 -55 46 -69 -73 46 69 -77 93 65 13 -92 13 62 -46 -57 -60 -65 -26 -73 -8 -87 -72 -78 -69 98 -54 24 28 18 -84 26 86 7 3 31 13 84 69 -6 -59 -3 96 -52 -46 -57 -17 88 53 -67 57 -67 61 51 92 -29 -78 23 -31 -70 -84 -37 85 -32 -66 -95 -42 -14 -45 -48 -51 -63 -88 -79 -67 -18 -50 4 78 -94 100 -6 -81 -51 54 -3 -61 12 -55 1 99 19 21 52 -5 63 91 79 -40 1 10 -9 26 -27 -33 -9 11 -83 -87 -71 -47 53 -80 -16 -24 47 85 -86 -8 -60 -1 -75 48 88 93 73 -24 19 36 76 -82 21 62 94 -91 71 93 41 72 85 33 -31 36 -97 -17 50 47 -17 -78 44 -68 -55 -27 -88 71 9 58 89 94 4 96 65 -1 87 -82 -64 -51 86 -64 -64 -63 85 -35 -95 -49 24 -59 30 -36 -3 97 84 34 87 -100 17 -19 1 42 -68 -32 15 28 9 -68 76 86 16 -95 66 -16 -32 -92 -30 46 37 -31 -10 47 66 -14 16 -41 0 16 -69 -79 -67 4 8 -82 -95 85 -2 97 -64 68 45 -55 97 -77 -11 -57 -16 78 -29 -44 -11 -72 25 -9 -60 -77 36 13 -80 15 75 -18 -34 56 98 7 99 61 -98 22 -72 2 -36 -42 -26 4 66 -43 -67 -19 24 -4 -43 35 18 43 -38 85 50 -87 65 -24 -67 95 87 -24 47 -49 20 95 64 -56 57 -27 -38 -99 -37 -19 -14 1 85 -37 -28 16 82 -26 -98 0 84 96 -20 -53\n"
     ]
    }
   ],
   "source": [
    "# gain = [-5,1,5,0,-7]\n",
    "# gain = [-4,-3,-2,-1,4,3,2]\n",
    "# n = int(input())\n",
    "# gain = list(map(int,input().split()))\n",
    "# maxAlt=s=0\n",
    "# for i in gain:\n",
    "#     s +=i\n",
    "#     maxAlt = max(s,maxAlt)\n",
    "# print(maxAlt)\n",
    "\n",
    "# generate a list of random numbers for this problem\n",
    "import random\n",
    "import pyperclip\n",
    "n = random.randint(500, 1000)\n",
    "print(n)\n",
    "# for i in range(n):\n",
    "nums = [random.randint(-100, 100) for _ in range(n)]\n",
    "s = ' '.join(map(str, nums))\n",
    "print(s)\n",
    "pyperclip.copy(s)\n",
    "\n",
    "# s =\"-6 -64 83 42 64 74 -53 58 68 -32 -3 33 -72 4 99 99 53 -22 -6 47 -34 -76 -85 -36 86 86 -13 -61 7 48 17 -25 4 -69 75 30 -74 33 81 68 -76 6 -69 59 43 74 95 -89 57\"\n",
    "# print(list(map(int,s.split())))\n",
    "\n",
    "# copy in clipboard in windows\n",
    "# pyperclip.copy(' '.join(map(str,nums)))\n"
   ]
  },
  {
   "attachments": {},
   "cell_type": "markdown",
   "metadata": {},
   "source": [
    "# Codeforce : https://codeforces.com/contest/1831/problem/C"
   ]
  },
  {
   "cell_type": "code",
   "execution_count": 3,
   "metadata": {},
   "outputs": [],
   "source": [
    "import sys\n",
    "from collections import deque,defaultdict\n",
    "# sys.stdin = open('test.inp', 'r')\n",
    "# sys.stdout = open('test.out', 'w')\n",
    "input = sys.stdin.readline\n",
    "t = int(input())\n",
    "while t:\n",
    "    t -= 1\n",
    "    n = int(input())\n",
    "    adj = defaultdict(list)\n",
    "    pos = {}\n",
    "    q = deque()\n",
    "    check = [False] * (n+1)\n",
    "    for i in range(n-1):\n",
    "        u, v = list(map(int, input().split()))\n",
    "        adj[u].append(v)\n",
    "        adj[v].append(u)\n",
    "        pos[(u, v)] = i\n",
    "        pos[(v, u)] = i\n",
    "        if u == 1:\n",
    "            q.append((v, i))\n",
    "            check[i] = True\n",
    "        elif v == 1:\n",
    "            q.append((u, i))\n",
    "            check[i] = True\n",
    "    count = 0\n",
    "    while q:\n",
    "        count += 1\n",
    "        q_new = deque()\n",
    "        while q:\n",
    "            u, i = q.popleft()\n",
    "            for v in adj[u]:\n",
    "                if check[pos[(u, v)]]:\n",
    "                    continue\n",
    "                if pos[(u, v)] < i:\n",
    "                    q_new.append((v, pos[(u, v)]))\n",
    "                else:\n",
    "                    q.append((v, pos[(u, v)]))\n",
    "                check[pos[(u, v)]] = True\n",
    "        q = q_new\n",
    "    sys.stdout.write(str(count) + '\\n')\n"
   ]
  }
 ],
 "metadata": {
  "kernelspec": {
   "display_name": "date3k2",
   "language": "python",
   "name": "python3"
  },
  "language_info": {
   "codemirror_mode": {
    "name": "ipython",
    "version": 3
   },
   "file_extension": ".py",
   "mimetype": "text/x-python",
   "name": "python",
   "nbconvert_exporter": "python",
   "pygments_lexer": "ipython3",
   "version": "3.11.0"
  },
  "orig_nbformat": 4
 },
 "nbformat": 4,
 "nbformat_minor": 2
}
