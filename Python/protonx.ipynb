{
 "cells": [
  {
   "cell_type": "code",
   "execution_count": 1,
   "metadata": {},
   "outputs": [],
   "source": [
    "import numpy as np"
   ]
  },
  {
   "cell_type": "code",
   "execution_count": 2,
   "metadata": {},
   "outputs": [],
   "source": [
    "class Solution:\n",
    "    def knightProbability(self, n: int, k: int, row: int, column: int) -> float:\n",
    "        directions = [\n",
    "            (1, 2),\n",
    "            (1, -2),\n",
    "            (-1, 2),\n",
    "            (-1, -2),\n",
    "            (2, 1),\n",
    "            (2, -1),\n",
    "            (-2, 1),\n",
    "            (-2, -1),\n",
    "        ]\n",
    "        dp = [[[0] * n for _ in range(n)] for _ in range(k + 1)]\n",
    "        dp[0][row][column] = 1\n",
    "        for moves in range(1, k + 1):\n",
    "            for i in range(n):\n",
    "                for j in range(n):\n",
    "                    for direction in directions:\n",
    "                        prev_i, prev_j = i - direction[0], j - direction[1]\n",
    "                        if 0 <= prev_i < n and 0 <= prev_j < n:\n",
    "                            dp[moves][i][j] += dp[moves - 1][prev_i][prev_j]\n",
    "                    dp[moves][i][j] /= 8\n",
    "        total_probability = sum(dp[k][i][j] for i in range(n) for j in range(n))\n",
    "        return total_probability"
   ]
  },
  {
   "cell_type": "code",
   "execution_count": 51,
   "metadata": {},
   "outputs": [],
   "source": [
    "from collections import Counter\n",
    "import sys\n",
    "\n",
    "input = sys.stdin.readline\n",
    "output = sys.stdout.write\n",
    "sys.stdin = open(\"test.inp\", \"r\")\n",
    "sys.stdout = open(\"test.out\", \"w\")\n",
    "n = int(input())\n",
    "count = Counter()\n",
    "pic_1 = []\n",
    "for _ in range(n):\n",
    "    hex = input().strip()\n",
    "    pic_1.append([int(hex[i : i + 2], 16) for i in range(1, len(hex), 2)])\n",
    "pic_2 = []\n",
    "for _ in range(n):\n",
    "    hex = input().strip()\n",
    "    pic_2.append([int(hex[i : i + 2], 16) for i in range(1, len(hex), 2)])\n",
    "for hex1, hex2 in zip(pic_1, pic_2):\n",
    "    diff = []\n",
    "    for i in range(3):\n",
    "        diff.append((hex2[i] - hex1[i]) % 256)\n",
    "    count[tuple(diff)] += 1\n",
    "print(\"{:.2f}\".format(count.most_common(1)[0][1] / n))"
   ]
  },
  {
   "cell_type": "code",
   "execution_count": 1,
   "metadata": {},
   "outputs": [],
   "source": [
    "import sys"
   ]
  },
  {
   "cell_type": "code",
   "execution_count": 4,
   "metadata": {},
   "outputs": [
    {
     "name": "stdout",
     "output_type": "stream",
     "text": [
      "9\n"
     ]
    }
   ],
   "source": [
    "import sys\n",
    "\n",
    "input = sys.stdin.readline\n",
    "sys.stdin = open(\"test.inp\", \"r\")\n",
    "n, w1, w2 = map(int, input().split())\n",
    "a = list(map(int, input().split()))\n",
    "if w1 == w2 == 0:\n",
    "    print(max(a))"
   ]
  }
 ],
 "metadata": {
  "kernelspec": {
   "display_name": ".venv",
   "language": "python",
   "name": "python3"
  },
  "language_info": {
   "codemirror_mode": {
    "name": "ipython",
    "version": 3
   },
   "file_extension": ".py",
   "mimetype": "text/x-python",
   "name": "python",
   "nbconvert_exporter": "python",
   "pygments_lexer": "ipython3",
   "version": "3.11.0"
  },
  "orig_nbformat": 4
 },
 "nbformat": 4,
 "nbformat_minor": 2
}
