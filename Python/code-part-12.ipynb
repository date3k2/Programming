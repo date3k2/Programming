{
 "cells": [
  {
   "cell_type": "code",
   "execution_count": 1,
   "metadata": {},
   "outputs": [],
   "source": [
    "class Solution:\n",
    "    def finalString(self, s: str) -> str:\n",
    "        ans = ''\n",
    "        for i in s:\n",
    "            if i == 'i':\n",
    "                ans = ans[::-1]\n",
    "            else:\n",
    "                ans += i\n",
    "        return ans"
   ]
  },
  {
   "cell_type": "code",
   "execution_count": 2,
   "metadata": {},
   "outputs": [
    {
     "data": {
      "text/plain": [
       "True"
      ]
     },
     "execution_count": 2,
     "metadata": {},
     "output_type": "execute_result"
    }
   ],
   "source": [
    "from typing import List\n",
    "\n",
    "\n",
    "class Solution:\n",
    "    def canSplitArray(self, nums: List[int], m: int) -> bool:\n",
    "        n = len(nums)\n",
    "        for _ in range(n - 2):\n",
    "            idx = s = 0\n",
    "            for i in range(len(nums) - 1):\n",
    "                if s < nums[i] + nums[i + 1]:\n",
    "                    s = nums[i] + nums[i + 1]\n",
    "                    idx = i\n",
    "            if s < m:\n",
    "                return False\n",
    "            nums[idx] = s\n",
    "            del nums[idx + 1]\n",
    "        return True\n",
    "\n",
    "\n",
    "nums = [2, 2, 1]\n",
    "m = 4\n",
    "nums = [2, 1, 3]\n",
    "m = 5\n",
    "nums = [9, 1, 3, 5, 7]\n",
    "m = 10\n",
    "Solution().canSplitArray(nums, m)"
   ]
  },
  {
   "cell_type": "code",
   "execution_count": 3,
   "metadata": {},
   "outputs": [
    {
     "name": "stdout",
     "output_type": "stream",
     "text": [
      "([[4, 3], [3, 3], [3, 1], [2, 2], [2, 2], [1, 4]], defaultdict(<class 'int'>, {3: 2, 1: 1}), 14, [[4, 3], [3, 3], [3, 1]])\n"
     ]
    }
   ],
   "source": [
    "from collections import defaultdict\n",
    "\n",
    "\n",
    "class Solution:\n",
    "    def findMaximumElegance(self, items: List[List[int]], k: int) -> int:\n",
    "        d_cat = defaultdict(int)\n",
    "        total_profit = 0\n",
    "        items.sort(reverse=True)\n",
    "        pros = items[:k]\n",
    "        for pro, cat in items[:k]:\n",
    "            total_profit += pro\n",
    "            d_cat[cat] += 1\n",
    "        total_profit += len(d_cat) ** 2\n",
    "        ans = total_profit\n",
    "        for pro, cat in items[k:]:\n",
    "            if cat not in d_cat:\n",
    "                pass\n",
    "\n",
    "        return items, d_cat, total_profit, pros\n",
    "\n",
    "\n",
    "items = [[3, 1], [3, 3], [2, 2], [4, 3], [1, 4], [2, 2]]\n",
    "k = 3\n",
    "print(Solution().findMaximumElegance(items, k), sep=\"\\n\")"
   ]
  }
 ],
 "metadata": {
  "kernelspec": {
   "display_name": ".venv",
   "language": "python",
   "name": "python3"
  },
  "language_info": {
   "codemirror_mode": {
    "name": "ipython",
    "version": 3
   },
   "file_extension": ".py",
   "mimetype": "text/x-python",
   "name": "python",
   "nbconvert_exporter": "python",
   "pygments_lexer": "ipython3",
   "version": "3.11.0"
  },
  "orig_nbformat": 4
 },
 "nbformat": 4,
 "nbformat_minor": 2
}
