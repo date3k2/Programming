{
 "cells": [
  {
   "attachments": {},
   "cell_type": "markdown",
   "metadata": {},
   "source": [
    "## K Nearest Neighbors\n"
   ]
  },
  {
   "cell_type": "code",
   "execution_count": 71,
   "metadata": {},
   "outputs": [],
   "source": [
    "import numpy as np\n",
    "from matplotlib import pyplot as plt\n",
    "from sklearn import neighbors, datasets\n",
    "from sklearn.model_selection import train_test_split\n",
    "from sklearn.metrics import accuracy_score\n"
   ]
  },
  {
   "cell_type": "code",
   "execution_count": 72,
   "metadata": {},
   "outputs": [
    {
     "name": "stdout",
     "output_type": "stream",
     "text": [
      "Accuracy: 0.9461538461538461\n"
     ]
    }
   ],
   "source": [
    "iris_X, iris_Y = datasets.load_iris(return_X_y=True)\n",
    "train_X, test_X, train_Y, test_Y = train_test_split(\n",
    "iris_X, iris_Y, test_size=130, random_state=7)\n",
    "x = neighbors.KNeighborsClassifier(7, p=2, weights='distance')\n",
    "x.fit(train_X, train_Y)\n",
    "y_pre = x.predict(test_X)\n",
    "print(f\"Accuracy: {accuracy_score(y_pred=y_pre,y_true=test_Y)}\")\n",
    "# print(train_X,train_Y)\n"
   ]
  }
 ],
 "metadata": {
  "kernelspec": {
   "display_name": "Python 3",
   "language": "python",
   "name": "python3"
  },
  "language_info": {
   "codemirror_mode": {
    "name": "ipython",
    "version": 3
   },
   "file_extension": ".py",
   "mimetype": "text/x-python",
   "name": "python",
   "nbconvert_exporter": "python",
   "pygments_lexer": "ipython3",
   "version": "3.11.0"
  },
  "orig_nbformat": 4
 },
 "nbformat": 4,
 "nbformat_minor": 2
}
