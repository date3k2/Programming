{
 "cells": [
  {
   "cell_type": "code",
   "execution_count": 4,
   "metadata": {},
   "outputs": [
    {
     "name": "stdout",
     "output_type": "stream",
     "text": [
      "7\n",
      "12\n"
     ]
    }
   ],
   "source": [
    "# import numpy as np\n",
    "# import pandas as pd\n",
    "\n",
    "\n",
    "# class Solution:\n",
    "\n",
    "#     def minPathsumi(self, grid: list[list[int]]) -> int:\n",
    "#         m, n = len(grid), len(grid[0])\n",
    "#         s = grid.copy()\n",
    "#         for i in range(1, n):\n",
    "#             s[0][i] += s[0][i-1]\n",
    "#         for i in range(1, m):\n",
    "#             s[i][0] += s[i-1][0]\n",
    "#         for i in range(1, m):\n",
    "#             for j in range(1, n):\n",
    "#                 s[i][j] += min(s[i-1][j], s[i][j-1])\n",
    "#         return s[m-1][n-1]\n",
    "\n",
    "\n",
    "# x = Solution()\n",
    "# print(x.minPathsumiiiiiiiiiiiiiiiii([[1, 3, 1], [1, 5, 1], [4, 2, 1]]))\n",
    "# print(x.minPathsumi([[1, 2, 3], [4, 5, 6]]))\n",
    "# s = 112"
   ]
  },
  {
   "cell_type": "code",
   "execution_count": 75,
   "metadata": {},
   "outputs": [],
   "source": [
    "# from math import factorial\n",
    "# n = input()\n",
    "# s = sum(map(int,n))\n",
    "# s = s*factorial(len(n)-1)*int('1'*len(n))\n",
    "    \n",
    "    "
   ]
  },
  {
   "cell_type": "code",
   "execution_count": 80,
   "metadata": {},
   "outputs": [
    {
     "name": "stdout",
     "output_type": "stream",
     "text": [
      "{2, 3, 4, 6, 7}\n",
      "2\n"
     ]
    },
    {
     "ename": "TypeError",
     "evalue": "'int' object is not callable",
     "output_type": "error",
     "traceback": [
      "\u001b[1;31m---------------------------------------------------------------------------\u001b[0m",
      "\u001b[1;31mTypeError\u001b[0m                                 Traceback (most recent call last)",
      "Cell \u001b[1;32mIn[80], line 27\u001b[0m\n\u001b[0;32m     24\u001b[0m         \u001b[39mpass\u001b[39;00m\n\u001b[0;32m     25\u001b[0m     \u001b[39m# print(list(map(list,combinations(s,i))))\u001b[39;00m\n\u001b[0;32m     26\u001b[0m \u001b[39m# print(list(map(list,combinations_with_replacement(l,3))))\u001b[39;00m\n\u001b[1;32m---> 27\u001b[0m \u001b[39mprint\u001b[39m(\u001b[39msum\u001b[39;49m(l))\n",
      "\u001b[1;31mTypeError\u001b[0m: 'int' object is not callable"
     ]
    }
   ],
   "source": [
    "from itertools import combinations\n",
    "from collections import defaultdict\n",
    "l = [2,6,3,7]\n",
    "l.sort()\n",
    "sumi=7\n",
    "idx=-1\n",
    "s = set(l)\n",
    "d = defaultdict(list)\n",
    "for i in l:\n",
    "    for j in range(2,sumi//i+1):\n",
    "        s.add(i*j)\n",
    "        d[i*j].append(i)\n",
    "print(s)\n",
    "max_num =0\n",
    "for i,id in enumerate(s):\n",
    "    max_num+=l[i]\n",
    "    if max_num>=sumi:\n",
    "        idx=i\n",
    "        break\n",
    "print(idx)\n",
    "for i in range(1,idx+1):\n",
    "    com = combinations(s,i)\n",
    "    for x in com:\n",
    "        pass\n",
    "    # print(list(map(list,combinations(s,i))))\n",
    "# print(list(map(list,combinations_with_replacement(l,3))))\n",
    "print(sum(l))\n",
    "\n"
   ]
  }
 ],
 "metadata": {
  "kernelspec": {
   "display_name": "date3k2",
   "language": "python",
   "name": "python3"
  },
  "language_info": {
   "codemirror_mode": {
    "name": "ipython",
    "version": 3
   },
   "file_extension": ".py",
   "mimetype": "text/x-python",
   "name": "python",
   "nbconvert_exporter": "python",
   "pygments_lexer": "ipython3",
   "version": "3.11.0"
  },
  "orig_nbformat": 4,
  "vscode": {
   "interpreter": {
    "hash": "92974d13da816c3f2c385f4537bf8bee92befb26563378eaa76f33f4c8792b61"
   }
  }
 },
 "nbformat": 4,
 "nbformat_minor": 2
}
