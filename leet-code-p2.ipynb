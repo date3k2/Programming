{
 "cells": [
  {
   "cell_type": "code",
   "execution_count": 12,
   "metadata": {},
   "outputs": [
    {
     "name": "stdout",
     "output_type": "stream",
     "text": [
      "7\n",
      "12\n"
     ]
    }
   ],
   "source": [
    "import numpy as np\n",
    "import pandas as pd\n",
    "\n",
    "class Solution:\n",
    "    def minPathSum(self, grid: list[list[int]]) -> int:\n",
    "        m, n = len(grid), len(grid[0])\n",
    "        s = grid.copy()\n",
    "        for i in range(1, n):\n",
    "            s[0][i] += s[0][i-1]\n",
    "        for i in range(1, m):\n",
    "            s[i][0] += s[i-1][0]\n",
    "        for i in range(1, m):\n",
    "            for j in range(1, n):\n",
    "                s[i][j] += min(s[i-1][j], s[i][j-1])\n",
    "        return s[m-1][n-1]\n",
    "\n",
    "\n",
    "x = Solution()\n",
    "print(x.minPathSum([[1, 3, 1], [1, 5, 1], [4, 2, 1]]))\n",
    "print(x.minPathSum([[1, 2, 3], [4, 5, 6]]))\n",
    "s = 112\n"
   ]
  }
 ],
 "metadata": {
  "kernelspec": {
   "display_name": "Python 3",
   "language": "python",
   "name": "python3"
  },
  "language_info": {
   "codemirror_mode": {
    "name": "ipython",
    "version": 3
   },
   "file_extension": ".py",
   "mimetype": "text/x-python",
   "name": "python",
   "nbconvert_exporter": "python",
   "pygments_lexer": "ipython3",
   "version": "3.11.0"
  },
  "orig_nbformat": 4
 },
 "nbformat": 4,
 "nbformat_minor": 2
}
