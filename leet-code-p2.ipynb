{
 "cells": [
  {
   "cell_type": "code",
   "execution_count": 3,
   "metadata": {},
   "outputs": [
    {
     "name": "stdout",
     "output_type": "stream",
     "text": [
      "[[1, 4, 5], [2, 9, 10], [6, 11, 12]]\n"
     ]
    }
   ],
   "source": [
    "class Solution:\n",
    "    def minPathSum(self, grid: list[list[int]]) -> int:\n",
    "        m,n = len(grid),len(grid[0])\n",
    "        s=grid.copy()\n",
    "        for i in range(m):\n",
    "            for j in range(n):\n",
    "                # s[i][j]=grid[i][j]\n",
    "                a =b = 0\n",
    "                if i>0:\n",
    "                    a = s[i-1][j]\n",
    "                if j>0:\n",
    "                    b = s[i][j-1]\n",
    "                s[i][j]+=max(a,b)\n",
    "        return s\n",
    "x = Solution()\n",
    "print(x.minPathSum([[1,3,1],[1,5,1],[4,2,1]]))\n",
    "s = [4,1,2,4]\n",
    "x:str = \"124q1\"\n",
    "\n",
    "s[2]=112"
   ]
  }
 ],
 "metadata": {
  "kernelspec": {
   "display_name": "Python 3",
   "language": "python",
   "name": "python3"
  },
  "language_info": {
   "codemirror_mode": {
    "name": "ipython",
    "version": 3
   },
   "file_extension": ".py",
   "mimetype": "text/x-python",
   "name": "python",
   "nbconvert_exporter": "python",
   "pygments_lexer": "ipython3",
   "version": "3.11.0"
  },
  "orig_nbformat": 4
 },
 "