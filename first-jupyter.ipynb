{
 "cells": [
  {
   "attachments": {},
   "cell_type": "markdown",
   "metadata": {},
   "source": [
    "# **First Jupyter**\n"
   ]
  },
  {
   "cell_type": "code",
   "execution_count": null,
   "metadata": {},
   "outputs": [],
   "source": [
    "import numpy as np\n",
    "from matplotlib import pyplot as plt\n",
    "import pandas as pd\n",
    "import math\n"
   ]
  },
  {
   "cell_type": "code",
   "execution_count": null,
   "metadata": {},
   "outputs": [],
   "source": [
    "x = np.linspace(-20, 20, 50)\n",
    "y1 = 2*x + 4\n",
    "y2 = 4*x + 1\n",
    "y3 = -x + 9\n",
    "plt.plot(x, y1, color=\"green\", marker=\"s\", label=\"f1\")\n",
    "plt.plot(x, y2, color=\"blue\", marker=\"o\", label=\"f2\")\n",
    "plt.plot(x, y3, color=\"orange\", marker=\"*\", label=\"f3\")\n",
    "plt.title(\"Đồ thị bậc nhất\")\n",
    "plt.legend()\n",
    "plt.show()\n"
   ]
  },
  {
   "attachments": {},
   "cell_type": "markdown",
   "metadata": {},
   "source": [
    "_**Data**_\n"
   ]
  },
  {
   "cell_type": "code",
   "execution_count": null,
   "metadata": {},
   "outputs": [],
   "source": [
    "data = {\"Name\": ['Dat', 'Son', 'Yasuo'],\n",
    "        \"Age\": [19, 19, 999]}\n",
    "df = pd.DataFrame(data)\n",
    "print(df)\n",
    "df.to_csv(\"test.csv\", index=False)\n",
    "df.to_excel(\"output.xlsx\", sheet_name=\"Mock data\")\n",
    "dt = pd.read_csv(\"test.csv\")\n",
    "print(dt)\n"
   ]
  },
  {
   "cell_type": "code",
   "execution_count": null,
   "metadata": {},
   "outputs": [],
   "source": [
    "for i in range(999, 100, -1):\n",
    "    if i % 9 == 0 and i % 5 == 3:\n",
    "        print(i)\n",
    "        break\n",
    "else:\n",
    "    print(\"LOL\")\n"
   ]
  },
  {
   "cell_type": "code",
   "execution_count": null,
   "metadata": {},
   "outputs": [],
   "source": [
    "x = 12128471283297892125114123\n",
    "y = 129319847192838197415818121239128312241235123123**55\n",
    "print(y % x)\n"
   ]
  },
  {
   "attachments": {},
   "cell_type": "markdown",
   "metadata": {},
   "source": [
    "# String Compression\n"
   ]
  },
  {
   "cell_type": "code",
   "execution_count": null,
   "metadata": {},
   "outputs": [],
   "source": [
    "from collections import Counter, defaultdict\n",
    "\n",
    "\n",
    "def count(chars: list[str]) -> int:\n",
    "    counter = Counter(chars)\n",
    "    s = 0\n",
    "    for x, y in counter.items():\n",
    "        s += len(x)\n",
    "        if y != 1:\n",
    "            s += len(str(y))\n",
    "    return s\n",
    "\n",
    "\n",
    "print(count([\"a\", \"a\", \"b\", \"b\", \"c\", \"c\", \"c\"]))\n"
   ]
  },
  {
   "cell_type": "code",
   "execution_count": null,
   "metadata": {},
   "outputs": [],
   "source": [
    "from queue import PriorityQueue\n",
    "\n",
    "\n",
    "class ListNode:\n",
    "    def __init__(self, val=0, next=None):\n",
    "        self.val = val\n",
    "        self.next = next\n",
    "\n",
    "\n",
    "def makeNode(k: PriorityQueue) -> ListNode:\n",
    "    while not k.empty():\n",
    "        head = ListNode(k.get(), makeNode(k))\n",
    "        return head\n",
    "\n",
    "\n",
    "k = PriorityQueue()\n",
    "k.put(5)\n",
    "k.put(1)\n",
    "k.put(12)\n",
    "x = makeNode(k)\n",
    "while x:\n",
    "    print(x.val, end=\" \")\n",
    "    x = x.next\n"
   ]
  },
  {
   "cell_type": "code",
   "execution_count": null,
   "metadata": {},
   "outputs": [],
   "source": [
    "l = []\n",
    "n = int(input())\n",
    "check = [False]*(n+1)\n",
    "def search():\n",
    "    if len(l) == n:\n",
    "        print(l)\n",
    "    for i in range(1,n+1):\n",
    "        if check[i]:\n",
    "            continue\n",
    "        check[i]=True\n",
    "        l.append(i)\n",
    "        search()\n",
    "        check[i]=False\n",
    "        l.pop()\n",
    "search()"
   ]
  },
  {
   "cell_type": "code",
   "execution_count": null,
   "metadata": {},
   "outputs": [],
   "source": [
    "def gray_code(n):\n",
    "    if n == 1:\n",
    "        return ['0', '1']\n",
    "    else:\n",
    "        gray = gray_code(n-1)\n",
    "        reflected_gray = gray[::-1]\n",
    "        return ['0' + x for x in gray] + ['1' + x for x in reflected_gray]\n",
    "\n",
    "\n",
    "for i in gray_code(int(input())):\n",
    "    print(i)\n"
   ]
  },
  {
   "attachments": {},
   "cell_type": "markdown",
   "metadata": {},
   "source": [
    " **Permutation with recursive formula**"
   ]
  },
  {
   "cell_type": "code",
   "execution_count": null,
   "metadata": {},
   "outputs": [],
   "source": [
    "def permutations(lst):\n",
    "    if len(lst) == 0:\n",
    "        return []\n",
    "    elif len(lst) == 1:\n",
    "        return [lst]\n",
    "    else:\n",
    "        result = []\n",
    "        for i in range(len(lst)):\n",
    "            rest = lst[:i] + lst[i+1:]\n",
    "            for p in permutations(rest):\n",
    "                result.append([lst[i]] + p)\n",
    "        return result\n",
    "\n",
    "\n",
    "lst = list(range(1, 4))\n",
    "perms = permutations(lst)\n",
    "# Output: [[1, 2, 3], [1, 3, 2], [2, 1, 3], [2, 3, 1], [3, 1, 2], [3, 2, 1]]\n",
    "print(perms)\n"
   ]
  },
  {
   "attachments": {},
   "cell_type": "markdown",
   "metadata": {},
   "source": [
    "**Combinations**"
   ]
  },
  {
   "cell_type": "code",
   "execution_count": null,
   "metadata": {
    "tags": []
   },
   "outputs": [],
   "source": [
    "def combinations(lst, k):\n",
    "    if k == 0:\n",
    "        return [[]]\n",
    "    elif k == len(lst):\n",
    "        return [lst]\n",
    "    else:\n",
    "        result = []\n",
    "        for i in range(len(lst)):\n",
    "            current = lst[i]\n",
    "            rest = lst[i+1:]\n",
    "            for c in combinations(rest, k-1):\n",
    "                result.append([current] + c)\n",
    "        return result\n",
    "\n",
    "\n",
    "lst = [1, 2, 3, 4, 7]\n",
    "k = 3\n",
    "combs = combinations(lst, k)\n",
    "print('\\n'.join([str(x) for x in combs]))\n"
   ]
  },
  {
   "cell_type": "code",
   "execution_count": 134,
   "metadata": {},
   "outputs": [
    {
     "name": "stdout",
     "output_type": "stream",
     "text": [
      "<re.Match object; span=(0, 2), match='aa'>\n"
     ]
    }
   ],
   "source": [
    "# s= input()\n",
    "# def palindrome(s:str):\n",
    "#     for i in range(len(s)//2+1):\n",
    "#         if s[i]!=s[len(s)-i-1]:\n",
    "#             return False\n",
    "#     return True\n",
    "# print(palindrome(s))\n",
    "import re\n",
    "print(re.fullmatch(\"a*\",'aa'))"
   ]
  },
  {
   "cell_type": "code",
   "execution_count": 124,
   "metadata": {},
   "outputs": [
    {
     "name": "stdout",
     "output_type": "stream",
     "text": [
      "['L', 'LRL', 'LR', '', 'R', 'RRL', 'RR']\n"
     ]
    }
   ],
   "source": [
    "class TreeNode:\n",
    "    def __init__(self, val=0, left=None, right=None):\n",
    "        self.val = val\n",
    "        self.left = left\n",
    "        self.right = right\n",
    "def binary_tree_paths(root):\n",
    " def mid_order_traversal(root, path,paths):\n",
    "    if not root:\n",
    "        return\n",
    "    if root.left:\n",
    "        path.append('L')\n",
    "        mid_order_traversal(root.left, path,paths)\n",
    "        path.pop()\n",
    "    paths.append(''.join(path))\n",
    "    path.append('R')\n",
    "    mid_order_traversal(root.right, path,paths)\n",
    "    path.pop()\n",
    " paths = []\n",
    " mid_order_traversal(root, [], paths)\n",
    " return paths\n",
    "\n",
    "root = TreeNode(5,TreeNode(4,None,TreeNode(1,TreeNode(2),None)),TreeNode(1,None,TreeNode(4,TreeNode(2),None)))\n",
    "# root = TreeNode(1,TreeNode(2,None,TreeNode(2)),TreeNode(2,TreeNode(2),None))\n",
    "# x = Solution()\n",
    "print(binary_tree_paths(root))\n"
   ]
  }
 ],
 "metadata": {
  "kernelspec": {
   "display_name": "Python 3",
   "language": "python",
   "name": "python3"
  },
  "language_info": {
   "codemirror_mode": {
    "name": "ipython",
    "version": 3
   },
   "file_extension": ".py",
   "mimetype": "text/x-python",
   "name": "python",
   "nbconvert_exporter": "python",
   "pygments_lexer": "ipython3",
   "version": "3.11.0"
  },
  "orig_nbformat": 4
 },
 "nbformat": 4,
 "nbformat_minor": 2
}
